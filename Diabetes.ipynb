{
 "metadata": {
  "language_info": {
   "codemirror_mode": {
    "name": "ipython",
    "version": 3
   },
   "file_extension": ".py",
   "mimetype": "text/x-python",
   "name": "python",
   "nbconvert_exporter": "python",
   "pygments_lexer": "ipython3",
   "version": "3.7.6"
  },
  "orig_nbformat": 4,
  "kernelspec": {
   "name": "python3",
   "display_name": "Python 3.7.6 64-bit ('base': conda)"
  },
  "interpreter": {
   "hash": "bfe330a1663cffbb25ea462cfa24b2cf724478f0fc8d158d8d536bd81b025399"
  }
 },
 "nbformat": 4,
 "nbformat_minor": 2,
 "cells": [
  {
   "cell_type": "code",
   "execution_count": 1,
   "metadata": {},
   "outputs": [],
   "source": [
    "from bitarray import bitarray\n",
    "import random\n",
    "import numpy as np\n",
    "import math"
   ]
  },
  {
   "cell_type": "code",
   "execution_count": 2,
   "metadata": {},
   "outputs": [],
   "source": [
    "import tensorflow as tf\n",
    "from tensorflow.keras.layers import Dense\n",
    "from tensorflow.keras.losses import BinaryCrossentropy\n",
    "from tensorflow.keras.models import Sequential\n",
    "from tensorflow.keras.optimizers import Adam\n",
    "import tensorflow.keras.backend as K"
   ]
  },
  {
   "cell_type": "code",
   "execution_count": 26,
   "metadata": {},
   "outputs": [],
   "source": [
    "import matplotlib.pyplot as plt\n",
    "import seaborn as sns\n",
    "from sklearn.preprocessing import StandardScaler\n",
    "from sklearn.metrics import confusion_matrix"
   ]
  },
  {
   "cell_type": "code",
   "execution_count": 3,
   "metadata": {},
   "outputs": [],
   "source": [
    "import pandas as pd\n",
    "import sklearn.datasets as skds\n",
    "from sklearn.datasets import fetch_openml"
   ]
  },
  {
   "cell_type": "code",
   "execution_count": 4,
   "metadata": {},
   "outputs": [
    {
     "output_type": "stream",
     "name": "stderr",
     "text": [
      "C:\\Users\\Manish\\anaconda3\\lib\\site-packages\\sklearn\\datasets\\_openml.py:372: UserWarning: Multiple active versions of the dataset matching the name diabetes exist. Versions may be fundamentally different, returning version 1.\n  \" {version}.\".format(name=name, version=res[0]['version']))\n"
     ]
    }
   ],
   "source": [
    "x, y = skds.fetch_openml(\"diabetes\", return_X_y=True)"
   ]
  },
  {
   "cell_type": "code",
   "execution_count": 6,
   "metadata": {},
   "outputs": [
    {
     "output_type": "stream",
     "name": "stdout",
     "text": [
      "(768, 8)\n(768,)\n"
     ]
    }
   ],
   "source": [
    "print(x.shape)\n",
    "print(y.shape)"
   ]
  },
  {
   "cell_type": "code",
   "execution_count": 14,
   "metadata": {},
   "outputs": [
    {
     "output_type": "stream",
     "name": "stdout",
     "text": [
      "tested_positive\ntested_negative\n"
     ]
    }
   ],
   "source": [
    "print(y[0])\n",
    "print(y[3])"
   ]
  },
  {
   "cell_type": "code",
   "execution_count": 15,
   "metadata": {},
   "outputs": [],
   "source": [
    "y[y==['tested_positive']] = 1\n",
    "y[y==['tested_negative']] = 0"
   ]
  },
  {
   "cell_type": "code",
   "execution_count": 19,
   "metadata": {},
   "outputs": [
    {
     "output_type": "stream",
     "name": "stdout",
     "text": [
      "1\n0\n"
     ]
    }
   ],
   "source": [
    "print(y[0])\n",
    "print(y[3])"
   ]
  },
  {
   "cell_type": "code",
   "execution_count": 27,
   "metadata": {},
   "outputs": [
    {
     "output_type": "stream",
     "name": "stdout",
     "text": [
      "[[ 0.63994726  0.84832379  0.14964075 ...  0.20401277  0.46849198\n   1.4259954 ]\n [-0.84488505 -1.12339636 -0.16054575 ... -0.68442195 -0.36506078\n  -0.19067191]\n [ 1.23388019  1.94372388 -0.26394125 ... -1.10325546  0.60439732\n  -0.10558415]\n ...\n [ 0.3429808   0.00330087  0.14964075 ... -0.73518964 -0.68519336\n  -0.27575966]\n [-0.84488505  0.1597866  -0.47073225 ... -0.24020459 -0.37110101\n   1.17073215]\n [-0.84488505 -0.8730192   0.04624525 ... -0.20212881 -0.47378505\n  -0.87137393]]\n"
     ]
    }
   ],
   "source": [
    "X = StandardScaler().fit_transform(x)\n",
    "print(X)"
   ]
  },
  {
   "cell_type": "code",
   "execution_count": 30,
   "metadata": {},
   "outputs": [
    {
     "output_type": "stream",
     "name": "stdout",
     "text": [
      "768\n268\n500\n"
     ]
    }
   ],
   "source": [
    "print(len(y))\n",
    "print(sum(y))\n",
    "print(len(y)-sum(y))\n",
    "# 268 positives and 250 negatives for train, 250 negatives for test"
   ]
  },
  {
   "cell_type": "code",
   "execution_count": 31,
   "metadata": {},
   "outputs": [],
   "source": [
    "x_neg=X[y==0]\n",
    "x_pos=X[y==1]"
   ]
  },
  {
   "cell_type": "code",
   "execution_count": 32,
   "metadata": {},
   "outputs": [
    {
     "output_type": "stream",
     "name": "stdout",
     "text": [
      "(500, 8)\n(268, 8)\n"
     ]
    }
   ],
   "source": [
    "print(x_neg.shape)\n",
    "print(x_pos.shape)"
   ]
  },
  {
   "cell_type": "code",
   "execution_count": 33,
   "metadata": {},
   "outputs": [],
   "source": [
    "np.random.shuffle(x_neg)\n",
    "x_test=x_neg[0:250]\n",
    "x_train=x_neg[250:500]\n",
    "x_train=np.concatenate((x_train,x_pos))"
   ]
  },
  {
   "cell_type": "code",
   "execution_count": 34,
   "metadata": {},
   "outputs": [],
   "source": [
    "y_train=np.concatenate((np.zeros(250),np.ones(268)))\n",
    "y_test=np.zeros(500)"
   ]
  },
  {
   "cell_type": "code",
   "execution_count": null,
   "metadata": {},
   "outputs": [],
   "source": []
  }
 ]
}