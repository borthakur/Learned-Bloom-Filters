{
 "cells": [
  {
   "cell_type": "code",
   "execution_count": 75,
   "metadata": {},
   "outputs": [],
   "source": [
    "from bitarray import bitarray\n",
    "import mmh3\n",
    "import random\n",
    "import numpy as np\n",
    "import math"
   ]
  },
  {
   "cell_type": "code",
   "execution_count": 76,
   "metadata": {},
   "outputs": [],
   "source": [
    "import tensorflow as tf\n",
    "from tensorflow.keras.layers import Dense\n",
    "from tensorflow.keras.losses import BinaryCrossentropy\n",
    "from tensorflow.keras.models import Sequential\n",
    "from tensorflow.keras.optimizers import Adam"
   ]
  },
  {
   "cell_type": "code",
   "execution_count": 77,
   "metadata": {},
   "outputs": [],
   "source": [
    "additional_metrics = ['accuracy']\n",
    "loss_function = BinaryCrossentropy()\n",
    "number_of_epochs = 10\n",
    "optimizer = Adam()\n",
    "verbosity_mode = 1\n",
    "layer_size = 10"
   ]
  },
  {
   "cell_type": "code",
   "execution_count": 78,
   "metadata": {},
   "outputs": [],
   "source": [
    "model = Sequential()\n",
    "model.add(Dense(layer_size,input_dim=1,activation='relu'))\n",
    "model.add(Dense(1,activation='sigmoid'))"
   ]
  },
  {
   "cell_type": "code",
   "execution_count": 79,
   "metadata": {},
   "outputs": [],
   "source": [
    "model.compile(optimizer=optimizer, loss=loss_function, metrics=additional_metrics)"
   ]
  },
  {
   "cell_type": "code",
   "execution_count": 80,
   "metadata": {},
   "outputs": [
    {
     "name": "stdout",
     "output_type": "stream",
     "text": [
      "Model: \"sequential_5\"\n",
      "_________________________________________________________________\n",
      "Layer (type)                 Output Shape              Param #   \n",
      "=================================================================\n",
      "dense_10 (Dense)             (None, 10)                20        \n",
      "_________________________________________________________________\n",
      "dense_11 (Dense)             (None, 1)                 11        \n",
      "=================================================================\n",
      "Total params: 31\n",
      "Trainable params: 31\n",
      "Non-trainable params: 0\n",
      "_________________________________________________________________\n"
     ]
    }
   ],
   "source": [
    "model.summary()"
   ]
  },
  {
   "cell_type": "code",
   "execution_count": 81,
   "metadata": {},
   "outputs": [],
   "source": [
    "m=75000\n",
    "n=25000\n",
    "r=0.5"
   ]
  },
  {
   "cell_type": "code",
   "execution_count": 82,
   "metadata": {},
   "outputs": [],
   "source": [
    "data=np.empty(n,dtype=int)\n",
    "for i in range(0,n):\n",
    "    data[i]=random.randint(0, 100000000)"
   ]
  },
  {
   "cell_type": "code",
   "execution_count": 83,
   "metadata": {},
   "outputs": [
    {
     "name": "stdout",
     "output_type": "stream",
     "text": [
      "50468367.41428\n",
      "28773028.37045487\n"
     ]
    }
   ],
   "source": [
    "mean = sum(data)/len(data)\n",
    "std = np.std(data)\n",
    "print(mean)\n",
    "print(std)"
   ]
  },
  {
   "cell_type": "code",
   "execution_count": 84,
   "metadata": {},
   "outputs": [],
   "source": [
    "new_data = []\n",
    "for x in data:\n",
    "    new_data+=[(x-mean)/std]"
   ]
  },
  {
   "cell_type": "code",
   "execution_count": 85,
   "metadata": {},
   "outputs": [
    {
     "name": "stdout",
     "output_type": "stream",
     "text": [
      "[[-0.56101138]\n",
      " [ 0.43711703]\n",
      " [-0.13468928]\n",
      " ...\n",
      " [-1.00992419]\n",
      " [-0.88474703]\n",
      " [ 0.68941977]]\n",
      "[[1]\n",
      " [1]\n",
      " [1]\n",
      " ...\n",
      " [0]\n",
      " [0]\n",
      " [0]]\n"
     ]
    }
   ],
   "source": [
    "x = []\n",
    "for i in new_data:\n",
    "    x+=[[i]]\n",
    "x_train = np.array(x)\n",
    "y = []\n",
    "for i in range(0,n):\n",
    "    if(i<int(n*r)):\n",
    "        y+=[[1]]\n",
    "    else:\n",
    "        y+=[[0]]\n",
    "y_train = np.array(y)\n",
    "print(x_train)\n",
    "print(y_train)"
   ]
  },
  {
   "cell_type": "code",
   "execution_count": 86,
   "metadata": {},
   "outputs": [
    {
     "name": "stdout",
     "output_type": "stream",
     "text": [
      "Epoch 1/10\n",
      "25000/25000 [==============================] - 1s 58us/sample - loss: 0.7027 - acc: 0.4993\n",
      "Epoch 2/10\n",
      "25000/25000 [==============================] - 1s 56us/sample - loss: 0.6940 - acc: 0.4999\n",
      "Epoch 3/10\n",
      "25000/25000 [==============================] - 1s 57us/sample - loss: 0.6935 - acc: 0.5034\n",
      "Epoch 4/10\n",
      "25000/25000 [==============================] - 1s 58us/sample - loss: 0.6933 - acc: 0.5043\n",
      "Epoch 5/10\n",
      "25000/25000 [==============================] - 1s 53us/sample - loss: 0.6933 - acc: 0.4980\n",
      "Epoch 6/10\n",
      "25000/25000 [==============================] - 1s 55us/sample - loss: 0.6933 - acc: 0.5057\n",
      "Epoch 7/10\n",
      "25000/25000 [==============================] - 1s 55us/sample - loss: 0.6933 - acc: 0.5032\n",
      "Epoch 8/10\n",
      "25000/25000 [==============================] - 1s 52us/sample - loss: 0.6932 - acc: 0.5016\n",
      "Epoch 9/10\n",
      "25000/25000 [==============================] - 1s 55us/sample - loss: 0.6932 - acc: 0.5047\n",
      "Epoch 10/10\n",
      "25000/25000 [==============================] - 1s 58us/sample - loss: 0.6932 - acc: 0.5039\n"
     ]
    }
   ],
   "source": [
    "history = model.fit(x_train, y_train, epochs=number_of_epochs, verbose=verbosity_mode)"
   ]
  },
  {
   "cell_type": "code",
   "execution_count": 87,
   "metadata": {},
   "outputs": [],
   "source": [
    "import matplotlib.pyplot as plt"
   ]
  },
  {
   "cell_type": "code",
   "execution_count": 88,
   "metadata": {},
   "outputs": [
    {
     "data": {
      "text/plain": [
       "['loss', 'acc']"
      ]
     },
     "execution_count": 88,
     "metadata": {},
     "output_type": "execute_result"
    }
   ],
   "source": [
    "model.metrics_names\n"
   ]
  },
  {
   "cell_type": "code",
   "execution_count": 89,
   "metadata": {},
   "outputs": [],
   "source": [
    "acc = history.history['acc']\n"
   ]
  },
  {
   "cell_type": "code",
   "execution_count": 90,
   "metadata": {},
   "outputs": [
    {
     "data": {
      "image/png": "[encoded data removed]",
      "text/plain": [
       "<Figure size 432x288 with 1 Axes>"
      ]
     },
     "metadata": {
      "needs_background": "light"
     },
     "output_type": "display_data"
    },
    {
     "data": {
      "image/png": "[encoded data removed]",
      "text/plain": [
       "<Figure size 432x288 with 1 Axes>"
      ]
     },
     "metadata": {
      "needs_background": "light"
     },
     "output_type": "display_data"
    }
   ],
   "source": [
    "plt.plot(history.history['acc'])\n",
    "plt.title('model accuracy')\n",
    "plt.ylabel('accuracy')\n",
    "plt.xlabel('epoch')\n",
    "plt.show()\n",
    "\n",
    "plt.plot(history.history['loss'])\n",
    "plt.title('model loss')\n",
    "plt.ylabel('loss')\n",
    "plt.xlabel('epoch')\n",
    "plt.show()\n",
    "\n",
    "#Hidden Layer Size=10"
   ]
  },
  {
   "cell_type": "code",
   "execution_count": 91,
   "metadata": {},
   "outputs": [],
   "source": [
    "number_of_epochs = 10\n",
    "layer_size = 50"
   ]
  },
  {
   "cell_type": "code",
   "execution_count": 92,
   "metadata": {},
   "outputs": [],
   "source": [
    "model = Sequential()\n",
    "model.add(Dense(layer_size,input_dim=1,activation='relu'))\n",
    "model.add(Dense(1,activation='sigmoid'))"
   ]
  },
  {
   "cell_type": "code",
   "execution_count": 93,
   "metadata": {},
   "outputs": [],
   "source": [
    "model.compile(optimizer=optimizer, loss=loss_function, metrics=additional_metrics)"
   ]
  },
  {
   "cell_type": "code",
   "execution_count": 94,
   "metadata": {},
   "outputs": [
    {
     "name": "stdout",
     "output_type": "stream",
     "text": [
      "Model: \"sequential_6\"\n",
      "_________________________________________________________________\n",
      "Layer (type)                 Output Shape              Param #   \n",
      "=================================================================\n",
      "dense_12 (Dense)             (None, 50)                100       \n",
      "_________________________________________________________________\n",
      "dense_13 (Dense)             (None, 1)                 51        \n",
      "=================================================================\n",
      "Total params: 151\n",
      "Trainable params: 151\n",
      "Non-trainable params: 0\n",
      "_________________________________________________________________\n"
     ]
    }
   ],
   "source": [
    "model.summary()"
   ]
  },
  {
   "cell_type": "code",
   "execution_count": 95,
   "metadata": {},
   "outputs": [
    {
     "name": "stdout",
     "output_type": "stream",
     "text": [
      "Epoch 1/10\n",
      "25000/25000 [==============================] - 1s 57us/sample - loss: 0.6940 - acc: 0.4988\n",
      "Epoch 2/10\n",
      "25000/25000 [==============================] - 2s 65us/sample - loss: 0.6935 - acc: 0.4991\n",
      "Epoch 3/10\n",
      "25000/25000 [==============================] - 1s 55us/sample - loss: 0.6933 - acc: 0.5016\n",
      "Epoch 4/10\n",
      "25000/25000 [==============================] - 1s 55us/sample - loss: 0.6934 - acc: 0.5017\n",
      "Epoch 5/10\n",
      "25000/25000 [==============================] - 1s 55us/sample - loss: 0.6933 - acc: 0.5049\n",
      "Epoch 6/10\n",
      "25000/25000 [==============================] - 1s 56us/sample - loss: 0.6933 - acc: 0.5006\n",
      "Epoch 7/10\n",
      "25000/25000 [==============================] - 2s 76us/sample - loss: 0.6932 - acc: 0.5031\n",
      "Epoch 8/10\n",
      "25000/25000 [==============================] - 2s 76us/sample - loss: 0.6934 - acc: 0.4997\n",
      "Epoch 9/10\n",
      "25000/25000 [==============================] - 1s 60us/sample - loss: 0.6933 - acc: 0.5017\n",
      "Epoch 10/10\n",
      "25000/25000 [==============================] - 2s 80us/sample - loss: 0.6932 - acc: 0.5042\n"
     ]
    }
   ],
   "source": [
    "history = model.fit(x_train, y_train, epochs=number_of_epochs, verbose=verbosity_mode)"
   ]
  },
  {
   "cell_type": "code",
   "execution_count": 96,
   "metadata": {},
   "outputs": [
    {
     "data": {
      "image/png": "[encoded data removed]",
      "text/plain": [
       "<Figure size 432x288 with 1 Axes>"
      ]
     },
     "metadata": {
      "needs_background": "light"
     },
     "output_type": "display_data"
    },
    {
     "data": {
      "image/png": "[encoded data removed]",
      "text/plain": [
       "<Figure size 432x288 with 1 Axes>"
      ]
     },
     "metadata": {
      "needs_background": "light"
     },
     "output_type": "display_data"
    }
   ],
   "source": [
    "plt.plot(history.history['acc'])\n",
    "plt.title('model accuracy')\n",
    "plt.ylabel('accuracy')\n",
    "plt.xlabel('epoch')\n",
    "plt.show()\n",
    "\n",
    "plt.plot(history.history['loss'])\n",
    "plt.title('model loss')\n",
    "plt.ylabel('loss')\n",
    "plt.xlabel('epoch')\n",
    "plt.show()\n",
    "\n",
    "#Hidden Layer Size=50"
   ]
  },
  {
   "cell_type": "code",
   "execution_count": 97,
   "metadata": {},
   "outputs": [
    {
     "name": "stdout",
     "output_type": "stream",
     "text": [
      "Model: \"sequential_7\"\n",
      "_________________________________________________________________\n",
      "Layer (type)                 Output Shape              Param #   \n",
      "=================================================================\n",
      "dense_14 (Dense)             (None, 200)               400       \n",
      "_________________________________________________________________\n",
      "dense_15 (Dense)             (None, 1)                 201       \n",
      "=================================================================\n",
      "Total params: 601\n",
      "Trainable params: 601\n",
      "Non-trainable params: 0\n",
      "_________________________________________________________________\n",
      "Epoch 1/10\n",
      "25000/25000 [==============================] - 2s 80us/sample - loss: 0.6946 - acc: 0.4954\n",
      "Epoch 2/10\n",
      "25000/25000 [==============================] - 2s 79us/sample - loss: 0.6935 - acc: 0.5034\n",
      "Epoch 3/10\n",
      "25000/25000 [==============================] - 2s 67us/sample - loss: 0.6933 - acc: 0.5030\n",
      "Epoch 4/10\n",
      "25000/25000 [==============================] - 1s 56us/sample - loss: 0.6934 - acc: 0.5023\n",
      "Epoch 5/10\n",
      "25000/25000 [==============================] - 1s 54us/sample - loss: 0.6933 - acc: 0.5016\n",
      "Epoch 6/10\n",
      "25000/25000 [==============================] - 1s 55us/sample - loss: 0.6932 - acc: 0.5059\n",
      "Epoch 7/10\n",
      "25000/25000 [==============================] - 1s 57us/sample - loss: 0.6931 - acc: 0.5067\n",
      "Epoch 8/10\n",
      "25000/25000 [==============================] - 1s 53us/sample - loss: 0.6932 - acc: 0.5041\n",
      "Epoch 9/10\n",
      "25000/25000 [==============================] - 1s 54us/sample - loss: 0.6932 - acc: 0.5052\n",
      "Epoch 10/10\n",
      "25000/25000 [==============================] - 1s 53us/sample - loss: 0.6932 - acc: 0.5046\n"
     ]
    }
   ],
   "source": [
    "layer_size = 200\n",
    "model = Sequential()\n",
    "model.add(Dense(layer_size,input_dim=1,activation='relu'))\n",
    "model.add(Dense(1,activation='sigmoid'))\n",
    "model.compile(optimizer=optimizer, loss=loss_function, metrics=additional_metrics)\n",
    "model.summary()\n",
    "history = model.fit(x_train, y_train, epochs=number_of_epochs, verbose=verbosity_mode)"
   ]
  },
  {
   "cell_type": "code",
   "execution_count": 98,
   "metadata": {},
   "outputs": [
    {
     "data": {
      "image/png": "[encoded data removed]",
      "text/plain": [
       "<Figure size 432x288 with 1 Axes>"
      ]
     },
     "metadata": {
      "needs_background": "light"
     },
     "output_type": "display_data"
    },
    {
     "data": {
      "image/png": "[encoded data removed]",
      "text/plain": [
       "<Figure size 432x288 with 1 Axes>"
      ]
     },
     "metadata": {
      "needs_background": "light"
     },
     "output_type": "display_data"
    }
   ],
   "source": [
    "plt.plot(history.history['acc'])\n",
    "plt.title('model accuracy')\n",
    "plt.ylabel('accuracy')\n",
    "plt.xlabel('epoch')\n",
    "plt.show()\n",
    "\n",
    "plt.plot(history.history['loss'])\n",
    "plt.title('model loss')\n",
    "plt.ylabel('loss')\n",
    "plt.xlabel('epoch')\n",
    "plt.show()\n",
    "\n",
    "#Hidden Layer Size=200"
   ]
  },
  {
   "cell_type": "code",
   "execution_count": 99,
   "metadata": {},
   "outputs": [
    {
     "name": "stdout",
     "output_type": "stream",
     "text": [
      "Model: \"sequential_8\"\n",
      "_________________________________________________________________\n",
      "Layer (type)                 Output Shape              Param #   \n",
      "=================================================================\n",
      "dense_16 (Dense)             (None, 1000)              2000      \n",
      "_________________________________________________________________\n",
      "dense_17 (Dense)             (None, 1)                 1001      \n",
      "=================================================================\n",
      "Total params: 3,001\n",
      "Trainable params: 3,001\n",
      "Non-trainable params: 0\n",
      "_________________________________________________________________\n",
      "Epoch 1/30\n",
      "25000/25000 [==============================] - 2s 65us/sample - loss: 0.6940 - acc: 0.4969\n",
      "Epoch 2/30\n",
      "25000/25000 [==============================] - 2s 62us/sample - loss: 0.6932 - acc: 0.5023\n",
      "Epoch 3/30\n",
      "25000/25000 [==============================] - 2s 60us/sample - loss: 0.6931 - acc: 0.5037\n",
      "Epoch 4/30\n",
      "25000/25000 [==============================] - 1s 60us/sample - loss: 0.6931 - acc: 0.5047\n",
      "Epoch 5/30\n",
      "25000/25000 [==============================] - 1s 59us/sample - loss: 0.6931 - acc: 0.5022\n",
      "Epoch 6/30\n",
      "25000/25000 [==============================] - 2s 60us/sample - loss: 0.6931 - acc: 0.5036\n",
      "Epoch 7/30\n",
      "25000/25000 [==============================] - 2s 73us/sample - loss: 0.6931 - acc: 0.5040\n",
      "Epoch 8/30\n",
      "25000/25000 [==============================] - 2s 65us/sample - loss: 0.6932 - acc: 0.4986\n",
      "Epoch 9/30\n",
      "25000/25000 [==============================] - 2s 74us/sample - loss: 0.6931 - acc: 0.5036\n",
      "Epoch 10/30\n",
      "25000/25000 [==============================] - 2s 92us/sample - loss: 0.6931 - acc: 0.5065\n",
      "Epoch 11/30\n",
      "25000/25000 [==============================] - 2s 78us/sample - loss: 0.6931 - acc: 0.5049\n",
      "Epoch 12/30\n",
      "25000/25000 [==============================] - 2s 96us/sample - loss: 0.6931 - acc: 0.5055\n",
      "Epoch 13/30\n",
      "25000/25000 [==============================] - 2s 65us/sample - loss: 0.6931 - acc: 0.5041\n",
      "Epoch 14/30\n",
      "25000/25000 [==============================] - 2s 82us/sample - loss: 0.6931 - acc: 0.5053\n",
      "Epoch 15/30\n",
      "25000/25000 [==============================] - 2s 93us/sample - loss: 0.6932 - acc: 0.50721s - loss: 0.693\n",
      "Epoch 16/30\n",
      "25000/25000 [==============================] - 2s 69us/sample - loss: 0.6931 - acc: 0.5044\n",
      "Epoch 17/30\n",
      "25000/25000 [==============================] - 2s 76us/sample - loss: 0.6931 - acc: 0.5050\n",
      "Epoch 18/30\n",
      "25000/25000 [==============================] - 2s 70us/sample - loss: 0.6931 - acc: 0.5060\n",
      "Epoch 19/30\n",
      "25000/25000 [==============================] - 2s 65us/sample - loss: 0.6932 - acc: 0.5054\n",
      "Epoch 20/30\n",
      "25000/25000 [==============================] - 2s 60us/sample - loss: 0.6931 - acc: 0.50680s - loss: 0.6931 - acc: 0\n",
      "Epoch 21/30\n",
      "25000/25000 [==============================] - 1s 60us/sample - loss: 0.6931 - acc: 0.5039\n",
      "Epoch 22/30\n",
      "25000/25000 [==============================] - 2s 76us/sample - loss: 0.6931 - acc: 0.5052\n",
      "Epoch 23/30\n",
      "25000/25000 [==============================] - 3s 140us/sample - loss: 0.6931 - acc: 0.5027s - loss\n",
      "Epoch 24/30\n",
      "25000/25000 [==============================] - 2s 76us/sample - loss: 0.6931 - acc: 0.5055\n",
      "Epoch 25/30\n",
      "25000/25000 [==============================] - 2s 72us/sample - loss: 0.6931 - acc: 0.5038\n",
      "Epoch 26/30\n",
      "25000/25000 [==============================] - 2s 79us/sample - loss: 0.6931 - acc: 0.5044\n",
      "Epoch 27/30\n",
      "25000/25000 [==============================] - 2s 70us/sample - loss: 0.6931 - acc: 0.5049\n",
      "Epoch 28/30\n",
      "25000/25000 [==============================] - 2s 80us/sample - loss: 0.6931 - acc: 0.5048\n",
      "Epoch 29/30\n",
      "25000/25000 [==============================] - 2s 75us/sample - loss: 0.6931 - acc: 0.5058\n",
      "Epoch 30/30\n",
      "25000/25000 [==============================] - 2s 93us/sample - loss: 0.6931 - acc: 0.5009\n"
     ]
    }
   ],
   "source": [
    "number_of_epochs = 30\n",
    "layer_size = 1000\n",
    "model = Sequential()\n",
    "model.add(Dense(layer_size,input_dim=1,activation='relu'))\n",
    "model.add(Dense(1,activation='sigmoid'))\n",
    "model.compile(optimizer=optimizer, loss=loss_function, metrics=additional_metrics)\n",
    "model.summary()\n",
    "history = model.fit(x_train, y_train, epochs=number_of_epochs, verbose=verbosity_mode)"
   ]
  },
  {
   "cell_type": "code",
   "execution_count": 100,
   "metadata": {},
   "outputs": [
    {
     "data": {
      "image/png": "[encoded data removed]",
      "text/plain": [
       "<Figure size 432x288 with 1 Axes>"
      ]
     },
     "metadata": {
      "needs_background": "light"
     },
     "output_type": "display_data"
    },
    {
     "data": {
      "image/png": "[encoded data removed]",
      "text/plain": [
       "<Figure size 432x288 with 1 Axes>"
      ]
     },
     "metadata": {
      "needs_background": "light"
     },
     "output_type": "display_data"
    }
   ],
   "source": [
    "plt.plot(history.history['acc'])\n",
    "plt.title('model accuracy')\n",
    "plt.ylabel('accuracy')\n",
    "plt.xlabel('epoch')\n",
    "plt.show()\n",
    "\n",
    "plt.plot(history.history['loss'])\n",
    "plt.title('model loss')\n",
    "plt.ylabel('loss')\n",
    "plt.xlabel('epoch')\n",
    "plt.show()\n",
    "\n",
    "#Hidden Layer Size=1000"
   ]
  },
  {
   "cell_type": "code",
   "execution_count": null,
   "metadata": {},
   "outputs": [
    {
     "name": "stdout",
     "output_type": "stream",
     "text": [
      "Model: \"sequential_9\"\n",
      "_________________________________________________________________\n",
      "Layer (type)                 Output Shape              Param #   \n",
      "=================================================================\n",
      "dense_18 (Dense)             (None, 10000)             20000     \n",
      "_________________________________________________________________\n",
      "dense_19 (Dense)             (None, 1)                 10001     \n",
      "=================================================================\n",
      "Total params: 30,001\n",
      "Trainable params: 30,001\n",
      "Non-trainable params: 0\n",
      "_________________________________________________________________\n",
      "Epoch 1/30\n",
      "25000/25000 [==============================] - 4s 146us/sample - loss: 0.6939 - acc: 0.4988s - loss: 0.6941 - ac\n",
      "Epoch 2/30\n",
      "25000/25000 [==============================] - 4s 176us/sample - loss: 0.6931 - acc: 0.5045\n",
      "Epoch 3/30\n",
      "25000/25000 [==============================] - 3s 124us/sample - loss: 0.6932 - acc: 0.5056\n",
      "Epoch 4/30\n",
      "25000/25000 [==============================] - 3s 129us/sample - loss: 0.6931 - acc: 0.5054\n",
      "Epoch 5/30\n",
      "25000/25000 [==============================] - 3s 105us/sample - loss: 0.6932 - acc: 0.5043\n",
      "Epoch 6/30\n",
      "25000/25000 [==============================] - 3s 104us/sample - loss: 0.6931 - acc: 0.5052\n",
      "Epoch 7/30\n",
      "25000/25000 [==============================] - 4s 142us/sample - loss: 0.6931 - acc: 0.5056\n",
      "Epoch 8/30\n",
      "25000/25000 [==============================] - 3s 120us/sample - loss: 0.6931 - acc: 0.5050\n",
      "Epoch 9/30\n",
      "25000/25000 [==============================] - 3s 114us/sample - loss: 0.6931 - acc: 0.5038\n",
      "Epoch 10/30\n",
      "25000/25000 [==============================] - 3s 118us/sample - loss: 0.6931 - acc: 0.5062\n",
      "Epoch 11/30\n",
      "25000/25000 [==============================] - 3s 109us/sample - loss: 0.6931 - acc: 0.5082\n",
      "Epoch 12/30\n",
      "25000/25000 [==============================] - 3s 117us/sample - loss: 0.6931 - acc: 0.5075\n",
      "Epoch 13/30\n",
      "25000/25000 [==============================] - 4s 155us/sample - loss: 0.6931 - acc: 0.5027\n",
      "Epoch 14/30\n",
      "25000/25000 [==============================] - 3s 109us/sample - loss: 0.6931 - acc: 0.5039\n",
      "Epoch 15/30\n",
      "25000/25000 [==============================] - 2s 98us/sample - loss: 0.6931 - acc: 0.5057\n",
      "Epoch 16/30\n",
      "25000/25000 [==============================] - 3s 118us/sample - loss: 0.6931 - acc: 0.5062\n",
      "Epoch 17/30\n",
      "25000/25000 [==============================] - 3s 105us/sample - loss: 0.6931 - acc: 0.5063\n",
      "Epoch 18/30\n",
      "25000/25000 [==============================] - 3s 130us/sample - loss: 0.6931 - acc: 0.5054\n",
      "Epoch 19/30\n",
      "25000/25000 [==============================] - 3s 108us/sample - loss: 0.6931 - acc: 0.5057\n",
      "Epoch 20/30\n",
      "25000/25000 [==============================] - 3s 116us/sample - loss: 0.6931 - acc: 0.5064\n",
      "Epoch 21/30\n",
      "25000/25000 [==============================] - 2s 93us/sample - loss: 0.6931 - acc: 0.50481s - loss\n",
      "Epoch 22/30\n",
      "25000/25000 [==============================] - 4s 148us/sample - loss: 0.6931 - acc: 0.5053\n",
      "Epoch 23/30\n",
      "25000/25000 [==============================] - 3s 138us/sample - loss: 0.6931 - acc: 0.5060\n",
      "Epoch 24/30\n",
      " 4736/25000 [====>.........................] - ETA: 4s - loss: 0.6933 - acc: 0.5019"
     ]
    }
   ],
   "source": [
    "number_of_epochs = 30\n",
    "layer_size = 10000\n",
    "model = Sequential()\n",
    "model.add(Dense(layer_size,input_dim=1,activation='relu'))\n",
    "model.add(Dense(1,activation='sigmoid'))\n",
    "model.compile(optimizer=optimizer, loss=loss_function, metrics=additional_metrics)\n",
    "model.summary()\n",
    "history = model.fit(x_train, y_train, epochs=number_of_epochs, verbose=verbosity_mode)"
   ]
  },
  {
   "cell_type": "code",
   "execution_count": null,
   "metadata": {},
   "outputs": [],
   "source": [
    "plt.plot(history.history['acc'])\n",
    "plt.title('model accuracy')\n",
    "plt.ylabel('accuracy')\n",
    "plt.xlabel('epoch')\n",
    "plt.show()\n",
    "\n",
    "plt.plot(history.history['loss'])\n",
    "plt.title('model loss')\n",
    "plt.ylabel('loss')\n",
    "plt.xlabel('epoch')\n",
    "plt.show()\n",
    "\n",
    "#Hidden Layer Size= 10000"
   ]
  },
  {
   "cell_type": "code",
   "execution_count": null,
   "metadata": {},
   "outputs": [],
   "source": [
    "#x=model.predict([235])[0]"
   ]
  },
  {
   "cell_type": "code",
   "execution_count": null,
   "metadata": {},
   "outputs": [],
   "source": [
    "#if x>0.5:\n",
    "   # print(\"in\")"
   ]
  },
  {
   "cell_type": "code",
   "execution_count": null,
   "metadata": {},
   "outputs": [],
   "source": [
    "bit_array = bitarray(10)\n",
    "bit_array.setall(0)\n",
    "\n",
    "# In[8]:\n",
    "\n",
    "\n",
    "class BloomFilter:\n",
    "    \n",
    "    def __init__(self, size, hash_count):\n",
    "        self.size = size\n",
    "        self.hash_count = hash_count\n",
    "        self.bit_array = bitarray(size)\n",
    "        self.bit_array.setall(0)\n",
    "        \n",
    "    def add(self, num):\n",
    "        for seed in range(1,self.hash_count+1):\n",
    "            result = mmh3.hash(str(num), seed) % self.size\n",
    "            self.bit_array[result] = 1\n",
    "            \n",
    "    def lookup(self, num):\n",
    "        for seed in range(1,self.hash_count+1):\n",
    "            result = mmh3.hash(str(num), seed) % self.size\n",
    "            if self.bit_array[result] == 0:\n",
    "                return False\n",
    "        return True\n",
    "\n",
    "# In[13]:\n",
    "\n",
    "\n",
    "#adds ratio r of an array of random integers of size n to bloom filter bf(input : bf,size,ratio; output: data array)\n",
    "def addrandom(bf,n,r):\n",
    "    data=np.empty(n,dtype=int)\n",
    "    for i in range(0,n):\n",
    "        data[i]=random.randint(0, 100000000)\n",
    "    for j in range(0,int(n*r)):\n",
    "        bf.add(data[j]);\n",
    "    return data\n",
    "\n",
    "\n",
    "# In[ ]\n",
    "\n",
    "\n",
    "#(Input:bloom filter,number array,ratio of positives; Output:(-1) for false negative, otherwise fpr)\n",
    "def fpr(bf,nums,r):\n",
    "    for i in range(int(len(nums)*r)):\n",
    "        if(bf.lookup(nums[i])==False):\n",
    "            print(nums[i])\n",
    "            return -1\n",
    "    count = 0\n",
    "    for i in range(int(len(nums)*r),len(nums)):\n",
    "        if(bf.lookup(nums[i])==True):\n",
    "            count+=1\n",
    "    return count/(len(nums)-int(len(nums)*r))\n",
    "\n",
    "#(Input:bloom filter size, total random numbers, ratio of number inserted; Output:efficient number of hash functions)\n",
    "def eff_k(m,n,r):\n",
    "    k=int(m/(int(n*r))*math.log(2))\n",
    "    if(k==0):\n",
    "        return 1\n",
    "    return k\n",
    "\n",
    "\n",
    "#(Input:size of bloom filter, number of hash functions, total numbers, ratio of numbers inserted; Output: fpr)\n",
    "def find_fpr(m,k,n,r):\n",
    "    bf=BloomFilter(m,k)\n",
    "    data=addrandom(bf,n,r)\n",
    "    return fpr(bf,data,r)\n",
    "\n",
    "#(Input:size of bloom filter, total numbers, ratio of numbers inserted; Output: prints inputs and fpr)\n",
    "def outputs(m,n,r):\n",
    "    k=eff_k(m,n,r)\n",
    "    find_fpr(m,k,n,r)\n",
    "    #print(\"For m=%d, k=%d, n=%d, r=%.3f: fpr=%.3f\"%(m,k,n,r,find_fpr(m,k,n,r)))\n"
   ]
  },
  {
   "cell_type": "code",
   "execution_count": null,
   "metadata": {},
   "outputs": [],
   "source": [
    "def lookup_model(data,bf,m,n,r,k):\n",
    "        if(model.predict(data)[0]<0.5):\n",
    "            if(bf.lookup(data)==False):\n",
    "                return False\n",
    "            else: return True\n"
   ]
  },
  {
   "cell_type": "code",
   "execution_count": null,
   "metadata": {},
   "outputs": [],
   "source": [
    "#m=75000\n",
    "#n=25000\n",
    "#r=0.5\n",
    "k=eff_k(m,n,r)\n",
    "bf=BloomFilter(m,k)"
   ]
  },
  {
   "cell_type": "code",
   "execution_count": null,
   "metadata": {},
   "outputs": [],
   "source": [
    "lookup_model(3,bf,m,n,r,k)"
   ]
  },
  {
   "cell_type": "code",
   "execution_count": null,
   "metadata": {},
   "outputs": [],
   "source": []
  },
  {
   "cell_type": "code",
   "execution_count": null,
   "metadata": {},
   "outputs": [],
   "source": []
  }
 ],
 "metadata": {
  "kernelspec": {
   "display_name": "Python 3",
   "language": "python",
   "name": "python3"
  },
  "language_info": {
   "codemirror_mode": {
    "name": "ipython",
    "version": 3
   },
   "file_extension": ".py",
   "mimetype": "text/x-python",
   "name": "python",
   "nbconvert_exporter": "python",
   "pygments_lexer": "ipython3",
   "version": "3.7.6"
  }
 },
 "nbformat": 4,
 "nbformat_minor": 2
}
