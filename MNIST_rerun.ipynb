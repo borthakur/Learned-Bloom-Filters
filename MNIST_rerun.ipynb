{
 "cells": [
  {
   "cell_type": "code",
   "execution_count": 1,
   "metadata": {},
   "outputs": [],
   "source": [
    "from bitarray import bitarray\n",
    "import random\n",
    "import numpy as np\n",
    "import math\n",
    "import timeit"
   ]
  },
  {
   "cell_type": "code",
   "execution_count": 2,
   "metadata": {},
   "outputs": [
    {
     "name": "stderr",
     "output_type": "stream",
     "text": [
      "/Users/aditijain/opt/anaconda3/lib/python3.7/site-packages/tensorflow/python/framework/dtypes.py:516: FutureWarning: Passing (type, 1) or '1type' as a synonym of type is deprecated; in a future version of numpy, it will be understood as (type, (1,)) / '(1,)type'.\n",
      "  _np_qint8 = np.dtype([(\"qint8\", np.int8, 1)])\n",
      "/Users/aditijain/opt/anaconda3/lib/python3.7/site-packages/tensorflow/python/framework/dtypes.py:517: FutureWarning: Passing (type, 1) or '1type' as a synonym of type is deprecated; in a future version of numpy, it will be understood as (type, (1,)) / '(1,)type'.\n",
      "  _np_quint8 = np.dtype([(\"quint8\", np.uint8, 1)])\n",
      "/Users/aditijain/opt/anaconda3/lib/python3.7/site-packages/tensorflow/python/framework/dtypes.py:518: FutureWarning: Passing (type, 1) or '1type' as a synonym of type is deprecated; in a future version of numpy, it will be understood as (type, (1,)) / '(1,)type'.\n",
      "  _np_qint16 = np.dtype([(\"qint16\", np.int16, 1)])\n",
      "/Users/aditijain/opt/anaconda3/lib/python3.7/site-packages/tensorflow/python/framework/dtypes.py:519: FutureWarning: Passing (type, 1) or '1type' as a synonym of type is deprecated; in a future version of numpy, it will be understood as (type, (1,)) / '(1,)type'.\n",
      "  _np_quint16 = np.dtype([(\"quint16\", np.uint16, 1)])\n",
      "/Users/aditijain/opt/anaconda3/lib/python3.7/site-packages/tensorflow/python/framework/dtypes.py:520: FutureWarning: Passing (type, 1) or '1type' as a synonym of type is deprecated; in a future version of numpy, it will be understood as (type, (1,)) / '(1,)type'.\n",
      "  _np_qint32 = np.dtype([(\"qint32\", np.int32, 1)])\n",
      "/Users/aditijain/opt/anaconda3/lib/python3.7/site-packages/tensorflow/python/framework/dtypes.py:525: FutureWarning: Passing (type, 1) or '1type' as a synonym of type is deprecated; in a future version of numpy, it will be understood as (type, (1,)) / '(1,)type'.\n",
      "  np_resource = np.dtype([(\"resource\", np.ubyte, 1)])\n",
      "/Users/aditijain/opt/anaconda3/lib/python3.7/site-packages/tensorboard/compat/tensorflow_stub/dtypes.py:541: FutureWarning: Passing (type, 1) or '1type' as a synonym of type is deprecated; in a future version of numpy, it will be understood as (type, (1,)) / '(1,)type'.\n",
      "  _np_qint8 = np.dtype([(\"qint8\", np.int8, 1)])\n",
      "/Users/aditijain/opt/anaconda3/lib/python3.7/site-packages/tensorboard/compat/tensorflow_stub/dtypes.py:542: FutureWarning: Passing (type, 1) or '1type' as a synonym of type is deprecated; in a future version of numpy, it will be understood as (type, (1,)) / '(1,)type'.\n",
      "  _np_quint8 = np.dtype([(\"quint8\", np.uint8, 1)])\n",
      "/Users/aditijain/opt/anaconda3/lib/python3.7/site-packages/tensorboard/compat/tensorflow_stub/dtypes.py:543: FutureWarning: Passing (type, 1) or '1type' as a synonym of type is deprecated; in a future version of numpy, it will be understood as (type, (1,)) / '(1,)type'.\n",
      "  _np_qint16 = np.dtype([(\"qint16\", np.int16, 1)])\n",
      "/Users/aditijain/opt/anaconda3/lib/python3.7/site-packages/tensorboard/compat/tensorflow_stub/dtypes.py:544: FutureWarning: Passing (type, 1) or '1type' as a synonym of type is deprecated; in a future version of numpy, it will be understood as (type, (1,)) / '(1,)type'.\n",
      "  _np_quint16 = np.dtype([(\"quint16\", np.uint16, 1)])\n",
      "/Users/aditijain/opt/anaconda3/lib/python3.7/site-packages/tensorboard/compat/tensorflow_stub/dtypes.py:545: FutureWarning: Passing (type, 1) or '1type' as a synonym of type is deprecated; in a future version of numpy, it will be understood as (type, (1,)) / '(1,)type'.\n",
      "  _np_qint32 = np.dtype([(\"qint32\", np.int32, 1)])\n",
      "/Users/aditijain/opt/anaconda3/lib/python3.7/site-packages/tensorboard/compat/tensorflow_stub/dtypes.py:550: FutureWarning: Passing (type, 1) or '1type' as a synonym of type is deprecated; in a future version of numpy, it will be understood as (type, (1,)) / '(1,)type'.\n",
      "  np_resource = np.dtype([(\"resource\", np.ubyte, 1)])\n"
     ]
    }
   ],
   "source": [
    "import tensorflow as tf\n",
    "from tensorflow.keras.layers import Dense\n",
    "from tensorflow.keras.losses import BinaryCrossentropy\n",
    "from tensorflow.keras.models import Sequential\n",
    "from tensorflow.keras.optimizers import Adam\n",
    "import tensorflow.keras.backend as K"
   ]
  },
  {
   "cell_type": "code",
   "execution_count": 3,
   "metadata": {},
   "outputs": [],
   "source": [
    "import matplotlib.pyplot as plt\n",
    "import seaborn as sns\n",
    "from sklearn.preprocessing import StandardScaler\n",
    "from sklearn.metrics import confusion_matrix"
   ]
  },
  {
   "cell_type": "code",
   "execution_count": 4,
   "metadata": {},
   "outputs": [],
   "source": [
    "import pandas as pd\n",
    "import os"
   ]
  },
  {
   "cell_type": "code",
   "execution_count": 5,
   "metadata": {},
   "outputs": [],
   "source": [
    "import sklearn.datasets as skds\n",
    "from sklearn.datasets import fetch_openml"
   ]
  },
  {
   "cell_type": "code",
   "execution_count": 6,
   "metadata": {},
   "outputs": [],
   "source": [
    "images, labels = skds.fetch_openml(\"mnist_784\", return_X_y=True)\n",
    "X=images\n",
    "X = StandardScaler().fit_transform(X)\n",
    "labels[labels=='4']=0\n",
    "labels[labels=='6']=0\n",
    "labels[labels=='8']=0\n",
    "labels[labels=='9']=0\n",
    "labels[labels=='0']=0\n",
    "labels[labels=='2']=1\n",
    "labels[labels=='3']=1\n",
    "labels[labels=='5']=1\n",
    "labels[labels=='7']=1\n",
    "labels[labels=='1']=1"
   ]
  },
  {
   "cell_type": "code",
   "execution_count": 7,
   "metadata": {},
   "outputs": [],
   "source": [
    "x_neg=X[labels==0]\n",
    "x_pos=X[labels==1]"
   ]
  },
  {
   "cell_type": "code",
   "execution_count": 8,
   "metadata": {},
   "outputs": [],
   "source": [
    "np.random.shuffle(x_neg)\n",
    "x_test=x_neg[0:17193]\n",
    "x_train=x_neg[17193:34386]\n",
    "x_train=np.concatenate((x_train,x_pos))\n",
    "y_train=np.concatenate((np.zeros(17193),np.ones(35614)))\n",
    "y_test=np.zeros(17193)"
   ]
  },
  {
   "cell_type": "markdown",
   "metadata": {},
   "source": [
    "# Standard Bloom Filter"
   ]
  },
  {
   "cell_type": "code",
   "execution_count": 9,
   "metadata": {},
   "outputs": [],
   "source": [
    "from bitarray import bitarray\n",
    "import mmh3\n",
    "import random\n",
    "import numpy as np\n",
    "import math"
   ]
  },
  {
   "cell_type": "code",
   "execution_count": 10,
   "metadata": {},
   "outputs": [],
   "source": [
    "class BloomFilter:\n",
    "    \n",
    "    def __init__(self, size, hash_count):\n",
    "        self.size = size\n",
    "        self.hash_count = hash_count\n",
    "        self.bit_array = bitarray(size)\n",
    "        self.bit_array.setall(0)\n",
    "        \n",
    "    def add(self, num):\n",
    "        for seed in range(1,self.hash_count+1):\n",
    "            result = mmh3.hash(str(num), seed) % self.size\n",
    "            self.bit_array[result] = 1\n",
    "            \n",
    "    def lookup(self, num):\n",
    "        for seed in range(1,self.hash_count+1):\n",
    "            result = mmh3.hash(str(num), seed) % self.size\n",
    "            if self.bit_array[result] == 0:\n",
    "                return False\n",
    "        return True"
   ]
  },
  {
   "cell_type": "markdown",
   "metadata": {},
   "source": [
    "# Projection model"
   ]
  },
  {
   "cell_type": "code",
   "execution_count": 11,
   "metadata": {},
   "outputs": [],
   "source": [
    "class Projection_BloomFilter:\n",
    "    def __init__(self, size, hash_count, dim):\n",
    "        vectors = np.random.normal(0,1,size=(hash_count,dim)) #random vectors(each row) from normal distribution, not unit vectors\n",
    "        i=0\n",
    "        while(i<hash_count):\n",
    "            if(vectors[i][0]<0):\n",
    "                vectors[i][0] *= -1\n",
    "               # print(\"initial v\", vectors[i])\n",
    "                #vectors[i]=np.random.normal(0,1,size=(1,dim))\n",
    "                #print(\"changed v\", vectors[i])\n",
    "            i = i+1\n",
    "       # print(vectors)        \n",
    "        self.unit_vectors = np.transpose(vectors/np.sqrt(np.transpose([np.sum(np.multiply(vectors,vectors),1)]))) #Matrix where each column is a unit vector, used as hash\n",
    "        self.size = size\n",
    "        self.hash_count = hash_count\n",
    "        self.bit_array = bitarray(size)\n",
    "        self.bit_array.setall(0)\n",
    "\n",
    "    def give_hash_values(self,X):\n",
    "        projections = np.dot(X,self.unit_vectors) #Projections of datapoints on unit vectors\n",
    "        norm_proj = 1/(1+np.exp(-projections)) #Sigmoid on each value so that they are in the range (0,1)\n",
    "        hash_values = (norm_proj*(self.size-1)).astype(int) #All values are integers in the range [0,size-1]\n",
    "        return hash_values                        #Each row contains hash values of that datapoint\n",
    "\n",
    "    def add(self,x):\n",
    "        hash_values = self.give_hash_values(x)\n",
    "        for i in hash_values:\n",
    "            self.bit_array[i] = 1\n",
    "        \n",
    "    def bulk_add(self, X):\n",
    "        hash_values = self.give_hash_values(X)\n",
    "        for i in hash_values:\n",
    "            for j in i:\n",
    "                self.bit_array[j] = 1\n",
    "            \n",
    "    def lookup(self, x):\n",
    "        hash_values = self.give_hash_values(x)\n",
    "        for i in hash_values:\n",
    "            if(self.bit_array[i]==0):\n",
    "                return False\n",
    "        return True\n",
    "\n",
    "    \n",
    "#(Input:bloom filter,normalized positive data,normalized negative data; Output:(-1) for false negative, otherwise fpr)\n",
    "def find_fpr(bf,x_pos,x_neg):\n",
    "    fp = 0\n",
    "    tn = 0\n",
    "    pos_hash_values = bf.give_hash_values(x_pos)\n",
    "    neg_hash_values = bf.give_hash_values(x_neg)\n",
    "    for i in pos_hash_values:\n",
    "        for j in i:\n",
    "            if(bf.bit_array[j]==0):\n",
    "                return -1\n",
    "    for i in neg_hash_values:\n",
    "        flag = 0\n",
    "        for j in i:\n",
    "            if(bf.bit_array[j]==0):\n",
    "                tn += 1 \n",
    "                flag = 1           \n",
    "                break\n",
    "        if(flag==0):\n",
    "            fp += 1\n",
    "    return fp/(fp+tn)\n",
    "\n",
    "def find_fpr2(bf,x_neg):\n",
    "    fp = 0\n",
    "    tn = 0\n",
    "    neg_hash_values = bf.give_hash_values(x_neg)\n",
    "    for i in neg_hash_values:\n",
    "        flag = 0\n",
    "        for j in i:\n",
    "            if(bf.bit_array[j]==0):\n",
    "                tn += 1 \n",
    "                flag = 1           \n",
    "                break\n",
    "        if(flag==0):\n",
    "            fp += 1\n",
    "    return fp/(fp+tn)\n",
    "\n",
    "#(Input:bloom filter size, total random numbers, ratio of number inserted; Output:efficient number of hash functions)\n",
    "def eff_k(m,n,r):\n",
    "    k=int(m/(int(n*r))*math.log(2))\n",
    "    if(k==0):\n",
    "        return 1\n",
    "    return k"
   ]
  },
  {
   "cell_type": "code",
   "execution_count": 12,
   "metadata": {},
   "outputs": [],
   "source": [
    "def get_data_points_Projection(x_train,x_test,y_train,init_size,diff,num,epochs,fpr_values,size_values,times,standard_times):\n",
    "    input_dim = x_train.shape[1]\n",
    "    n = sum(y_train)\n",
    "    x_pos = x_train[(y_train==1).reshape(-1)]\n",
    "    print(x_pos.shape)\n",
    "    x_neg = x_train[(y_train==0).reshape(-1)]\n",
    "    for i in range(0,num):\n",
    "        m = init_size + i*diff\n",
    "        k = eff_k(m,n,1)\n",
    "        fpr = 1\n",
    "        start1 = timeit.default_timer()\n",
    "        \n",
    "        stanbf = BloomFilter(m,k)\n",
    "        for x_pos_i in x_pos:\n",
    "            stanbf.add(sum(x_pos_i))\n",
    "        \n",
    "        stop1 = timeit.default_timer()\n",
    "        \n",
    "        start = timeit.default_timer()\n",
    "        tempbf = Projection_BloomFilter(m,k,input_dim)\n",
    "        for j in range(0,epochs):\n",
    "            bf = Projection_BloomFilter(m,k,input_dim)\n",
    "            bf.bulk_add(x_pos)\n",
    "            temp = find_fpr(bf,x_pos,x_neg)\n",
    "            if(fpr>=temp):\n",
    "                fpr = temp\n",
    "                tempbf=bf\n",
    "        stop = timeit.default_timer()\n",
    "        fpr_test=find_fpr2(tempbf,x_test)\n",
    "        print(\"Size: %d Bits - FPR: %f - Time Taken to create Standard: %f - Time Taken to create Projecion: %f \\n\\n\\n\" % (m,fpr_test,stop1-start1,stop-start))\n",
    "        fpr_values += [fpr_test]\n",
    "        size_values += [m]\n",
    "        times += [stop-start]\n",
    "        standard_times += [stop1-start1]"
   ]
  },
  {
   "cell_type": "code",
   "execution_count": 13,
   "metadata": {},
   "outputs": [
    {
     "name": "stdout",
     "output_type": "stream",
     "text": [
      "~~~~~~~~ Iteration 1 ~~~~~~~~ \n",
      "\n",
      "(35614, 784)\n",
      "Size: 5350 Bits - FPR: 0.948758 - Time Taken to create Standard: 3.714319 - Time Taken to create Projecion: 36.980987 \n",
      "\n",
      "\n",
      "\n",
      "Size: 10700 Bits - FPR: 0.892689 - Time Taken to create Standard: 7.289946 - Time Taken to create Projecion: 22.489391 \n",
      "\n",
      "\n",
      "\n",
      "Size: 16050 Bits - FPR: 0.846100 - Time Taken to create Standard: 3.346391 - Time Taken to create Projecion: 28.401670 \n",
      "\n",
      "\n",
      "\n",
      "Size: 21400 Bits - FPR: 0.776304 - Time Taken to create Standard: 4.016492 - Time Taken to create Projecion: 20.458116 \n",
      "\n",
      "\n",
      "\n",
      "Size: 26750 Bits - FPR: 0.714186 - Time Taken to create Standard: 3.771056 - Time Taken to create Projecion: 21.176461 \n",
      "\n",
      "\n",
      "\n",
      "Size: 32100 Bits - FPR: 0.683708 - Time Taken to create Standard: 3.777785 - Time Taken to create Projecion: 27.669856 \n",
      "\n",
      "\n",
      "\n",
      "Size: 37450 Bits - FPR: 0.569476 - Time Taken to create Standard: 3.728012 - Time Taken to create Projecion: 16.695316 \n",
      "\n",
      "\n",
      "\n",
      "Size: 42800 Bits - FPR: 0.573664 - Time Taken to create Standard: 3.820788 - Time Taken to create Projecion: 17.865929 \n",
      "\n",
      "\n",
      "\n",
      "Size: 48150 Bits - FPR: 0.566859 - Time Taken to create Standard: 3.174486 - Time Taken to create Projecion: 16.104745 \n",
      "\n",
      "\n",
      "\n",
      "Size: 53500 Bits - FPR: 0.517885 - Time Taken to create Standard: 3.346025 - Time Taken to create Projecion: 18.007532 \n",
      "\n",
      "\n",
      "\n",
      "Size: 58850 Bits - FPR: 0.500436 - Time Taken to create Standard: 3.256416 - Time Taken to create Projecion: 21.397227 \n",
      "\n",
      "\n",
      "\n",
      "Size: 64200 Bits - FPR: 0.454662 - Time Taken to create Standard: 13.871473 - Time Taken to create Projecion: 35.394475 \n",
      "\n",
      "\n",
      "\n",
      "Size: 69550 Bits - FPR: 0.445007 - Time Taken to create Standard: 5.296204 - Time Taken to create Projecion: 19.735301 \n",
      "\n",
      "\n",
      "\n",
      "Size: 74900 Bits - FPR: 0.422439 - Time Taken to create Standard: 3.978534 - Time Taken to create Projecion: 14.692161 \n",
      "\n",
      "\n",
      "\n",
      "Size: 80250 Bits - FPR: 0.391322 - Time Taken to create Standard: 3.201774 - Time Taken to create Projecion: 15.342637 \n",
      "\n",
      "\n",
      "\n",
      "Size: 85600 Bits - FPR: 0.373291 - Time Taken to create Standard: 3.061103 - Time Taken to create Projecion: 18.144576 \n",
      "\n",
      "\n",
      "\n",
      "Size: 90950 Bits - FPR: 0.381202 - Time Taken to create Standard: 5.379988 - Time Taken to create Projecion: 16.486189 \n",
      "\n",
      "\n",
      "\n",
      "Size: 96300 Bits - FPR: 0.302100 - Time Taken to create Standard: 3.773956 - Time Taken to create Projecion: 20.605560 \n",
      "\n",
      "\n",
      "\n",
      "Size: 101650 Bits - FPR: 0.335078 - Time Taken to create Standard: 3.012494 - Time Taken to create Projecion: 15.363224 \n",
      "\n",
      "\n",
      "\n",
      "Size: 107000 Bits - FPR: 0.282673 - Time Taken to create Standard: 4.046168 - Time Taken to create Projecion: 49.933366 \n",
      "\n",
      "\n",
      "\n",
      "~~~~~~~~ Iteration 2 ~~~~~~~~ \n",
      "\n",
      "(35614, 784)\n",
      "Size: 5350 Bits - FPR: 0.950212 - Time Taken to create Standard: 3.832063 - Time Taken to create Projecion: 20.777582 \n",
      "\n",
      "\n",
      "\n",
      "Size: 10700 Bits - FPR: 0.881522 - Time Taken to create Standard: 5.549239 - Time Taken to create Projecion: 19.766514 \n",
      "\n",
      "\n",
      "\n",
      "Size: 16050 Bits - FPR: 0.844588 - Time Taken to create Standard: 4.832689 - Time Taken to create Projecion: 24.655051 \n",
      "\n",
      "\n",
      "\n",
      "Size: 21400 Bits - FPR: 0.780201 - Time Taken to create Standard: 6.035544 - Time Taken to create Projecion: 28.554523 \n",
      "\n",
      "\n",
      "\n",
      "Size: 26750 Bits - FPR: 0.719304 - Time Taken to create Standard: 3.375807 - Time Taken to create Projecion: 17.397039 \n",
      "\n",
      "\n",
      "\n",
      "Size: 32100 Bits - FPR: 0.688594 - Time Taken to create Standard: 4.297853 - Time Taken to create Projecion: 35.983137 \n",
      "\n",
      "\n",
      "\n",
      "Size: 37450 Bits - FPR: 0.605828 - Time Taken to create Standard: 3.948117 - Time Taken to create Projecion: 26.940921 \n",
      "\n",
      "\n",
      "\n",
      "Size: 42800 Bits - FPR: 0.605944 - Time Taken to create Standard: 5.396094 - Time Taken to create Projecion: 24.685165 \n",
      "\n",
      "\n",
      "\n",
      "Size: 48150 Bits - FPR: 0.555168 - Time Taken to create Standard: 5.204291 - Time Taken to create Projecion: 23.599037 \n",
      "\n",
      "\n",
      "\n",
      "Size: 53500 Bits - FPR: 0.530739 - Time Taken to create Standard: 5.471268 - Time Taken to create Projecion: 31.397001 \n",
      "\n",
      "\n",
      "\n",
      "Size: 58850 Bits - FPR: 0.471820 - Time Taken to create Standard: 5.445441 - Time Taken to create Projecion: 25.291985 \n",
      "\n",
      "\n",
      "\n",
      "Size: 64200 Bits - FPR: 0.458733 - Time Taken to create Standard: 5.233637 - Time Taken to create Projecion: 37.868067 \n",
      "\n",
      "\n",
      "\n",
      "Size: 69550 Bits - FPR: 0.432211 - Time Taken to create Standard: 3.489109 - Time Taken to create Projecion: 27.784139 \n",
      "\n",
      "\n",
      "\n",
      "Size: 74900 Bits - FPR: 0.403246 - Time Taken to create Standard: 8.465398 - Time Taken to create Projecion: 19.811028 \n",
      "\n",
      "\n",
      "\n",
      "Size: 80250 Bits - FPR: 0.387251 - Time Taken to create Standard: 4.961047 - Time Taken to create Projecion: 20.548683 \n",
      "\n",
      "\n",
      "\n",
      "Size: 85600 Bits - FPR: 0.354330 - Time Taken to create Standard: 3.256740 - Time Taken to create Projecion: 17.490128 \n",
      "\n",
      "\n",
      "\n",
      "Size: 90950 Bits - FPR: 0.365963 - Time Taken to create Standard: 3.428601 - Time Taken to create Projecion: 19.802173 \n",
      "\n",
      "\n",
      "\n",
      "Size: 96300 Bits - FPR: 0.349910 - Time Taken to create Standard: 7.822780 - Time Taken to create Projecion: 29.760474 \n",
      "\n",
      "\n",
      "\n",
      "Size: 101650 Bits - FPR: 0.337696 - Time Taken to create Standard: 6.004908 - Time Taken to create Projecion: 21.180966 \n",
      "\n",
      "\n",
      "\n",
      "Size: 107000 Bits - FPR: 0.328680 - Time Taken to create Standard: 3.766562 - Time Taken to create Projecion: 48.088157 \n",
      "\n",
      "\n",
      "\n",
      "~~~~~~~~ Iteration 3 ~~~~~~~~ \n",
      "\n",
      "(35614, 784)\n",
      "Size: 5350 Bits - FPR: 0.955912 - Time Taken to create Standard: 5.233973 - Time Taken to create Projecion: 23.720173 \n",
      "\n",
      "\n",
      "\n",
      "Size: 10700 Bits - FPR: 0.906415 - Time Taken to create Standard: 6.043757 - Time Taken to create Projecion: 19.014698 \n",
      "\n",
      "\n",
      "\n",
      "Size: 16050 Bits - FPR: 0.841971 - Time Taken to create Standard: 2.953705 - Time Taken to create Projecion: 15.461713 \n",
      "\n",
      "\n",
      "\n",
      "Size: 21400 Bits - FPR: 0.750247 - Time Taken to create Standard: 2.706122 - Time Taken to create Projecion: 13.220603 \n",
      "\n",
      "\n",
      "\n",
      "Size: 26750 Bits - FPR: 0.738498 - Time Taken to create Standard: 2.716949 - Time Taken to create Projecion: 13.060328 \n",
      "\n",
      "\n",
      "\n",
      "Size: 32100 Bits - FPR: 0.660792 - Time Taken to create Standard: 2.757997 - Time Taken to create Projecion: 14.485365 \n",
      "\n",
      "\n",
      "\n",
      "Size: 37450 Bits - FPR: 0.630722 - Time Taken to create Standard: 2.672812 - Time Taken to create Projecion: 13.012097 \n",
      "\n",
      "\n",
      "\n",
      "Size: 42800 Bits - FPR: 0.574478 - Time Taken to create Standard: 2.646639 - Time Taken to create Projecion: 13.263178 \n",
      "\n",
      "\n",
      "\n",
      "Size: 48150 Bits - FPR: 0.505380 - Time Taken to create Standard: 2.816282 - Time Taken to create Projecion: 13.059846 \n",
      "\n",
      "\n",
      "\n",
      "Size: 53500 Bits - FPR: 0.529867 - Time Taken to create Standard: 2.667114 - Time Taken to create Projecion: 12.983303 \n",
      "\n",
      "\n",
      "\n",
      "Size: 58850 Bits - FPR: 0.498459 - Time Taken to create Standard: 2.582530 - Time Taken to create Projecion: 12.747870 \n",
      "\n",
      "\n",
      "\n",
      "Size: 64200 Bits - FPR: 0.480893 - Time Taken to create Standard: 2.606285 - Time Taken to create Projecion: 12.683050 \n",
      "\n",
      "\n",
      "\n",
      "Size: 69550 Bits - FPR: 0.438667 - Time Taken to create Standard: 2.582836 - Time Taken to create Projecion: 12.614880 \n",
      "\n",
      "\n",
      "\n",
      "Size: 74900 Bits - FPR: 0.408946 - Time Taken to create Standard: 2.667749 - Time Taken to create Projecion: 12.667623 \n",
      "\n",
      "\n",
      "\n",
      "Size: 80250 Bits - FPR: 0.386669 - Time Taken to create Standard: 2.588543 - Time Taken to create Projecion: 12.607595 \n",
      "\n",
      "\n",
      "\n",
      "Size: 85600 Bits - FPR: 0.382190 - Time Taken to create Standard: 2.589929 - Time Taken to create Projecion: 12.535573 \n",
      "\n",
      "\n",
      "\n",
      "Size: 90950 Bits - FPR: 0.347990 - Time Taken to create Standard: 2.584352 - Time Taken to create Projecion: 12.737036 \n",
      "\n",
      "\n",
      "\n",
      "Size: 96300 Bits - FPR: 0.339150 - Time Taken to create Standard: 2.606924 - Time Taken to create Projecion: 12.490446 \n",
      "\n",
      "\n",
      "\n",
      "Size: 101650 Bits - FPR: 0.295585 - Time Taken to create Standard: 2.605146 - Time Taken to create Projecion: 12.522159 \n",
      "\n",
      "\n",
      "\n",
      "Size: 107000 Bits - FPR: 0.272669 - Time Taken to create Standard: 2.657273 - Time Taken to create Projecion: 25.767121 \n",
      "\n",
      "\n",
      "\n"
     ]
    }
   ],
   "source": [
    "num_of_iterations = 3#Increase to make graph smoother\n",
    "\n",
    "fpr_values = []\n",
    "size_values = []\n",
    "times = []\n",
    "standard_times = []\n",
    "\n",
    "for i in range(0,num_of_iterations):\n",
    "    print(\"~~~~~~~~ Iteration %d ~~~~~~~~ \\n\" %(i+1))\n",
    "    get_data_points_Projection(x_train,x_test,y_train,5350,5350,20,100,fpr_values,size_values,times,standard_times)"
   ]
  },
  {
   "cell_type": "code",
   "execution_count": 14,
   "metadata": {},
   "outputs": [
    {
     "name": "stdout",
     "output_type": "stream",
     "text": [
      "20\n"
     ]
    }
   ],
   "source": [
    "total_fprs = len(fpr_values)\n",
    "average_fprs = []\n",
    "for i in range(0,total_fprs//num_of_iterations):\n",
    "    temp = 0\n",
    "    for j in range(0,num_of_iterations):\n",
    "        temp += fpr_values[i+j*(total_fprs//num_of_iterations)]\n",
    "    temp /= num_of_iterations\n",
    "    average_fprs += [temp]\n",
    "print(len(average_fprs))"
   ]
  },
  {
   "cell_type": "code",
   "execution_count": 15,
   "metadata": {},
   "outputs": [
    {
     "name": "stdout",
     "output_type": "stream",
     "text": [
      "20\n"
     ]
    }
   ],
   "source": [
    "total_times = len(times)\n",
    "average_times = []\n",
    "for i in range(0,total_fprs//num_of_iterations):\n",
    "    temp = 0\n",
    "    for j in range(0,num_of_iterations):\n",
    "        temp += times[i+j*(total_fprs//num_of_iterations)]\n",
    "    temp /= num_of_iterations\n",
    "    average_times += [temp]\n",
    "print(len(average_times))"
   ]
  },
  {
   "cell_type": "code",
   "execution_count": 16,
   "metadata": {},
   "outputs": [
    {
     "name": "stdout",
     "output_type": "stream",
     "text": [
      "20\n"
     ]
    }
   ],
   "source": [
    "total_standard_times = len(standard_times)\n",
    "average_standard_times = []\n",
    "for i in range(0,total_fprs//num_of_iterations):\n",
    "    temp = 0\n",
    "    for j in range(0,num_of_iterations):\n",
    "        temp += standard_times[i+j*(total_fprs//num_of_iterations)]\n",
    "    temp /= num_of_iterations\n",
    "    average_standard_times += [temp]\n",
    "print(len(average_standard_times))"
   ]
  },
  {
   "cell_type": "markdown",
   "metadata": {},
   "source": [
    "# Normal Bloom Filter Values"
   ]
  },
  {
   "cell_type": "code",
   "execution_count": 17,
   "metadata": {},
   "outputs": [],
   "source": [
    "def ideal_fpr(m,n):\n",
    "    k = eff_k(m,n,1)\n",
    "    return (1-(1-(1/m))**(n*k))**k"
   ]
  },
  {
   "cell_type": "code",
   "execution_count": 18,
   "metadata": {},
   "outputs": [
    {
     "name": "stdout",
     "output_type": "stream",
     "text": [
      "60\n",
      "35614.0\n"
     ]
    }
   ],
   "source": [
    "n = sum(y_train)\n",
    "y_ideal=[]\n",
    "for x in size_values:\n",
    "    y_ideal+=[float(ideal_fpr(x,n))]\n",
    "print(len(y_ideal))\n",
    "print(n)"
   ]
  },
  {
   "cell_type": "markdown",
   "metadata": {},
   "source": [
    "# FPR Comparison between Projection Model and Normal Bloom Filter"
   ]
  },
  {
   "cell_type": "code",
   "execution_count": 16,
   "metadata": {},
   "outputs": [
    {
     "data": {
      "image/png": "[encoded data removed]",
      "text/plain": [
       "<Figure size 842.4x595.44 with 1 Axes>"
      ]
     },
     "metadata": {},
     "output_type": "display_data"
    }
   ],
   "source": [
    "sns.set(rc={'figure.figsize':(11.7,8.27)},style=\"whitegrid\")\n",
    "sns.lineplot(x=size_values, y=fpr_values, err_style=\"band\",label = \"Projection\",linewidth = 1.5,color=\"g\")\n",
    "sns.lineplot(x=size_values, y=y_ideal, err_style=\"band\",label = \"Ideal\",linewidth = 1.5,color=\"r\")\n",
    "plt.title('FPRs')\n",
    "plt.xlabel(\"Size\", fontsize = 15)\n",
    "plt.ylabel(\"FPR\", fontsize = 15)\n",
    "#plt.figure(figsize = (5000,5000))\n",
    "plt.show()"
   ]
  },
  {
   "cell_type": "code",
   "execution_count": 17,
   "metadata": {},
   "outputs": [
    {
     "name": "stdout",
     "output_type": "stream",
     "text": [
      "150\n"
     ]
    }
   ],
   "source": [
    "average_fprs = num_of_iterations*average_fprs\n",
    "print(len(average_fprs))"
   ]
  },
  {
   "cell_type": "code",
   "execution_count": 18,
   "metadata": {},
   "outputs": [
    {
     "name": "stdout",
     "output_type": "stream",
     "text": [
      "150\n"
     ]
    }
   ],
   "source": [
    "average_times = num_of_iterations*average_times\n",
    "print(len(average_times))"
   ]
  },
  {
   "cell_type": "code",
   "execution_count": 19,
   "metadata": {},
   "outputs": [
    {
     "name": "stdout",
     "output_type": "stream",
     "text": [
      "[0.948506174993699, 0.8691133988638787, 0.8213032435681189, 0.7452257701777856, 0.655790147152911, 0.6214738556389229, 0.5740126795788983, 0.5414025087729503, 0.5000096938676593, 0.4634056495860719, 0.4516179065123403, 0.4352546579034103, 0.3896159289633378, 0.3861455243413017, 0.3672230946703115, 0.3435506698462552, 0.3228251807906319, 0.3129955989840827, 0.2803660404428159, 0.2642742201283468, 0.24911301110917236, 0.24073750945152095, 0.21908140910060295, 0.2182283487465829, 0.2039783632873844, 0.19602939180674306, 0.18290389499602552, 0.17074778495123985, 0.16002636732003336, 0.1516702533977006, 0.1395916942941895, 0.12881211345702706, 0.12210395703677852, 0.11811008356113924, 0.12386824095077453, 0.11326314973147987, 0.10926927625584056, 0.09734581903487853, 0.086197871226662, 0.08646929952112294, 0.08323154772291048, 0.0828244052812191, 0.07648461583202466, 0.07408053665251363, 0.07086217258961981, 0.06297136431493437, 0.062564221873243, 0.05446014851005254, 0.052734640066693816, 0.04974892882762364, 0.948506174993699, 0.8691133988638787, 0.8213032435681189, 0.7452257701777856, 0.655790147152911, 0.6214738556389229, 0.5740126795788983, 0.5414025087729503, 0.5000096938676593, 0.4634056495860719, 0.4516179065123403, 0.4352546579034103, 0.3896159289633378, 0.3861455243413017, 0.3672230946703115, 0.3435506698462552, 0.3228251807906319, 0.3129955989840827, 0.2803660404428159, 0.2642742201283468, 0.24911301110917236, 0.24073750945152095, 0.21908140910060295, 0.2182283487465829, 0.2039783632873844, 0.19602939180674306, 0.18290389499602552, 0.17074778495123985, 0.16002636732003336, 0.1516702533977006, 0.1395916942941895, 0.12881211345702706, 0.12210395703677852, 0.11811008356113924, 0.12386824095077453, 0.11326314973147987, 0.10926927625584056, 0.09734581903487853, 0.086197871226662, 0.08646929952112294, 0.08323154772291048, 0.0828244052812191, 0.07648461583202466, 0.07408053665251363, 0.07086217258961981, 0.06297136431493437, 0.062564221873243, 0.05446014851005254, 0.052734640066693816, 0.04974892882762364, 0.948506174993699, 0.8691133988638787, 0.8213032435681189, 0.7452257701777856, 0.655790147152911, 0.6214738556389229, 0.5740126795788983, 0.5414025087729503, 0.5000096938676593, 0.4634056495860719, 0.4516179065123403, 0.4352546579034103, 0.3896159289633378, 0.3861455243413017, 0.3672230946703115, 0.3435506698462552, 0.3228251807906319, 0.3129955989840827, 0.2803660404428159, 0.2642742201283468, 0.24911301110917236, 0.24073750945152095, 0.21908140910060295, 0.2182283487465829, 0.2039783632873844, 0.19602939180674306, 0.18290389499602552, 0.17074778495123985, 0.16002636732003336, 0.1516702533977006, 0.1395916942941895, 0.12881211345702706, 0.12210395703677852, 0.11811008356113924, 0.12386824095077453, 0.11326314973147987, 0.10926927625584056, 0.09734581903487853, 0.086197871226662, 0.08646929952112294, 0.08323154772291048, 0.0828244052812191, 0.07648461583202466, 0.07408053665251363, 0.07086217258961981, 0.06297136431493437, 0.062564221873243, 0.05446014851005254, 0.052734640066693816, 0.04974892882762364]\n"
     ]
    }
   ],
   "source": [
    "print(average_fprs)"
   ]
  },
  {
   "cell_type": "code",
   "execution_count": 19,
   "metadata": {},
   "outputs": [
    {
     "data": {
      "text/html": [
       "<div>\n",
       "<style scoped>\n",
       "    .dataframe tbody tr th:only-of-type {\n",
       "        vertical-align: middle;\n",
       "    }\n",
       "\n",
       "    .dataframe tbody tr th {\n",
       "        vertical-align: top;\n",
       "    }\n",
       "\n",
       "    .dataframe thead th {\n",
       "        text-align: right;\n",
       "    }\n",
       "</style>\n",
       "<table border=\"1\" class=\"dataframe\">\n",
       "  <thead>\n",
       "    <tr style=\"text-align: right;\">\n",
       "      <th></th>\n",
       "      <th>Size of filter(bits)</th>\n",
       "      <th>Ideal FPR</th>\n",
       "      <th>Standard Filter Total Creation Time(sec)</th>\n",
       "      <th>Average Standard Filter Total Creation Time(sec)</th>\n",
       "      <th>Projection FPR for iteration</th>\n",
       "      <th>Average Projection FPR</th>\n",
       "      <th>Projection Filter Total Creation Time(sec)</th>\n",
       "      <th>Average Projection Filter Total Creation Time(sec)</th>\n",
       "    </tr>\n",
       "  </thead>\n",
       "  <tbody>\n",
       "    <tr>\n",
       "      <th>0</th>\n",
       "      <td>5350</td>\n",
       "      <td>0.998716</td>\n",
       "      <td>3.714319</td>\n",
       "      <td>4.260118</td>\n",
       "      <td>0.948758</td>\n",
       "      <td>0.951628</td>\n",
       "      <td>36.980987</td>\n",
       "      <td>27.159581</td>\n",
       "    </tr>\n",
       "    <tr>\n",
       "      <th>1</th>\n",
       "      <td>10700</td>\n",
       "      <td>0.964156</td>\n",
       "      <td>7.289946</td>\n",
       "      <td>6.294314</td>\n",
       "      <td>0.892689</td>\n",
       "      <td>0.893542</td>\n",
       "      <td>22.489391</td>\n",
       "      <td>20.423535</td>\n",
       "    </tr>\n",
       "    <tr>\n",
       "      <th>2</th>\n",
       "      <td>16050</td>\n",
       "      <td>0.891283</td>\n",
       "      <td>3.346391</td>\n",
       "      <td>3.710928</td>\n",
       "      <td>0.846100</td>\n",
       "      <td>0.844220</td>\n",
       "      <td>28.401670</td>\n",
       "      <td>22.839478</td>\n",
       "    </tr>\n",
       "    <tr>\n",
       "      <th>3</th>\n",
       "      <td>21400</td>\n",
       "      <td>0.810666</td>\n",
       "      <td>4.016492</td>\n",
       "      <td>4.252719</td>\n",
       "      <td>0.776304</td>\n",
       "      <td>0.768918</td>\n",
       "      <td>20.458116</td>\n",
       "      <td>20.744414</td>\n",
       "    </tr>\n",
       "    <tr>\n",
       "      <th>4</th>\n",
       "      <td>26750</td>\n",
       "      <td>0.735890</td>\n",
       "      <td>3.771056</td>\n",
       "      <td>3.287937</td>\n",
       "      <td>0.714186</td>\n",
       "      <td>0.723996</td>\n",
       "      <td>21.176461</td>\n",
       "      <td>17.211276</td>\n",
       "    </tr>\n",
       "  </tbody>\n",
       "</table>\n",
       "</div>"
      ],
      "text/plain": [
       "   Size of filter(bits)  Ideal FPR  Standard Filter Total Creation Time(sec)  \\\n",
       "0                  5350   0.998716                                  3.714319   \n",
       "1                 10700   0.964156                                  7.289946   \n",
       "2                 16050   0.891283                                  3.346391   \n",
       "3                 21400   0.810666                                  4.016492   \n",
       "4                 26750   0.735890                                  3.771056   \n",
       "\n",
       "   Average Standard Filter Total Creation Time(sec)  \\\n",
       "0                                          4.260118   \n",
       "1                                          6.294314   \n",
       "2                                          3.710928   \n",
       "3                                          4.252719   \n",
       "4                                          3.287937   \n",
       "\n",
       "   Projection FPR for iteration  Average Projection FPR  \\\n",
       "0                      0.948758                0.951628   \n",
       "1                      0.892689                0.893542   \n",
       "2                      0.846100                0.844220   \n",
       "3                      0.776304                0.768918   \n",
       "4                      0.714186                0.723996   \n",
       "\n",
       "   Projection Filter Total Creation Time(sec)  \\\n",
       "0                                   36.980987   \n",
       "1                                   22.489391   \n",
       "2                                   28.401670   \n",
       "3                                   20.458116   \n",
       "4                                   21.176461   \n",
       "\n",
       "   Average Projection Filter Total Creation Time(sec)  \n",
       "0                                          27.159581   \n",
       "1                                          20.423535   \n",
       "2                                          22.839478   \n",
       "3                                          20.744414   \n",
       "4                                          17.211276   "
      ]
     },
     "execution_count": 19,
     "metadata": {},
     "output_type": "execute_result"
    }
   ],
   "source": [
    "saved_data = list(zip(size_values, y_ideal, standard_times, average_standard_times, fpr_values, average_fprs, times, average_times))\n",
    "df = pd.DataFrame(saved_data,columns = ['Size of filter(bits)','Ideal FPR','Standard Filter Total Creation Time(sec)', 'Average Standard Filter Total Creation Time(sec)', 'Projection FPR for iteration', 'Average Projection FPR', 'Projection Filter Total Creation Time(sec)', 'Average Projection Filter Total Creation Time(sec)'])\n",
    "df.head()"
   ]
  },
  {
   "cell_type": "code",
   "execution_count": 20,
   "metadata": {},
   "outputs": [],
   "source": [
    "df.to_csv('/Users/aditijain/Desktop/NewFolderWithItems/SURA/MNIST_rerun_epochs_100.csv')"
   ]
  },
  {
   "cell_type": "code",
   "execution_count": null,
   "metadata": {},
   "outputs": [],
   "source": []
  }
 ],
 "metadata": {
  "kernelspec": {
   "display_name": "Python 3",
   "language": "python",
   "name": "python3"
  },
  "language_info": {
   "codemirror_mode": {
    "name": "ipython",
    "version": 3
   },
   "file_extension": ".py",
   "mimetype": "text/x-python",
   "name": "python",
   "nbconvert_exporter": "python",
   "pygments_lexer": "ipython3",
   "version": "3.7.6"
  }
 },
 "nbformat": 4,
 "nbformat_minor": 5
}
