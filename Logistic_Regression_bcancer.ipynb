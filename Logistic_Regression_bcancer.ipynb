{
 "cells": [
  {
   "cell_type": "code",
   "execution_count": 1,
   "metadata": {},
   "outputs": [],
   "source": [
    "from bitarray import bitarray\n",
    "import mmh3\n",
    "import random\n",
    "import numpy as np\n",
    "import math\n",
    "import sklearn.preprocessing"
   ]
  },
  {
   "cell_type": "code",
   "execution_count": 2,
   "metadata": {},
   "outputs": [],
   "source": [
    "import matplotlib.pyplot as plt\n",
    "import seaborn as sns\n",
    "from sklearn import datasets\n",
    "from sklearn.metrics import confusion_matrix\n",
    "from sklearn.preprocessing import StandardScaler \n",
    "import pandas as pd\n"
   ]
  },
  {
   "cell_type": "code",
   "execution_count": 3,
   "metadata": {},
   "outputs": [
    {
     "name": "stdout",
     "output_type": "stream",
     "text": [
      "(569, 30)\n"
     ]
    }
   ],
   "source": [
    "b = datasets.load_breast_cancer()\n",
    "X = b.data  \n",
    "y = b.target\n",
    "print(X.shape)"
   ]
  },
  {
   "cell_type": "code",
   "execution_count": 4,
   "metadata": {},
   "outputs": [],
   "source": [
    "x_neg_0=np.zeros(212)\n",
    "x_pos_0=np.ones(357)"
   ]
  },
  {
   "cell_type": "code",
   "execution_count": 5,
   "metadata": {},
   "outputs": [
    {
     "name": "stdout",
     "output_type": "stream",
     "text": [
      "(212, 30)\n",
      "(357, 30)\n"
     ]
    }
   ],
   "source": [
    "#first two classes positive, rest negative\n",
    "x_neg=X[y==0]\n",
    "x_pos=X[y==1]\n",
    "print(x_neg.shape)\n",
    "print(x_pos.shape)"
   ]
  },
  {
   "cell_type": "code",
   "execution_count": 6,
   "metadata": {},
   "outputs": [],
   "source": [
    "x_negt = np.insert(x_neg, 30, x_neg_0, axis=1)\n",
    "x_post = np.insert(x_pos, 30, x_pos_0, axis=1)"
   ]
  },
  {
   "cell_type": "code",
   "execution_count": 7,
   "metadata": {},
   "outputs": [
    {
     "name": "stdout",
     "output_type": "stream",
     "text": [
      "(569, 31)\n"
     ]
    }
   ],
   "source": [
    "x_train = np.concatenate((x_post, x_negt)).reshape(-1, 31)\n",
    "y_train = y.reshape(-1, 1).astype(int)\n",
    "print(x_train.shape)"
   ]
  },
  {
   "cell_type": "code",
   "execution_count": 10,
   "metadata": {},
   "outputs": [
    {
     "data": {
      "text/plain": [
       "array([[-0.16679919, -1.1471623 , -0.18572799, ...,  0.12334653,\n",
       "        -0.62929189,  0.77060855],\n",
       "       [-0.29744572, -0.83300824, -0.26110605, ...,  0.45822712,\n",
       "        -0.11724974,  0.77060855],\n",
       "       [-1.31308049, -1.59395919, -1.30280622, ..., -0.72922385,\n",
       "        -0.34445459,  0.77060855],\n",
       "       ...,\n",
       "       [ 1.70485436,  2.08513394,  1.61593137, ..., -0.53185462,\n",
       "        -0.97397828, -1.29767572],\n",
       "       [ 0.70228425,  2.0455738 ,  0.67267578, ..., -1.10454895,\n",
       "        -0.31840916, -1.29767572],\n",
       "       [ 1.83834103,  2.33645719,  1.98252415, ...,  1.91908301,\n",
       "         2.21963528, -1.29767572]])"
      ]
     },
     "execution_count": 10,
     "metadata": {},
     "output_type": "execute_result"
    }
   ],
   "source": [
    "scaler = StandardScaler()\n",
    "x_train = scaler.fit_transform(x_train)\n",
    "\n",
    "x_train\n"
   ]
  },
  {
   "cell_type": "markdown",
   "metadata": {},
   "source": [
    "# Bloom Filter"
   ]
  },
  {
   "cell_type": "code",
   "execution_count": 12,
   "metadata": {},
   "outputs": [],
   "source": [
    "class BloomFilter:\n",
    "    \n",
    "    def __init__(self, size, model): #hash count is 1\n",
    "        self.size = size\n",
    "      #  self.hash_count = hash_count\n",
    "        self.bit_array = bitarray(size)\n",
    "        self.bit_array.setall(0)\n",
    "        self.model=model #classifier model associated as hash function\n",
    "        \n",
    "    def add(self, num):\n",
    "        result=math.floor(model.predict(num)[0]*(self.size-1))    \n",
    "        self.bit_array[result] = 1\n",
    "            \n",
    "    def lookup(self, num):\n",
    "        #for seed in range(1,self.hash_count+1):\n",
    "            #result = mmh3.hash(str(num), seed) % self.size\n",
    "        result=math.floor(self.model.predict(num)[0]*(self.size-1))    \n",
    "        if self.bit_array[result] == 0:\n",
    "                return False\n",
    "        return True\n",
    "\n",
    "    def add_init(self,x_train,y_train):\n",
    "        pred = self.model.predict_proba(x_train)\n",
    "        pred=pred[:,1]\n",
    "        pred=pred.reshape(-1,1)\n",
    "        for i in range(len(pred)):\n",
    "            if(y_train[i]==1):\n",
    "                result = math.floor(pred[i][0]*(self.size-1))\n",
    "                self.bit_array[result] = 1\n",
    "    \n",
    "    def predict(self,x):\n",
    "        initpred = self.model.predict_proba(x)\n",
    "        initpred=initpred[:,1]\n",
    "        initpred=initpred.reshape(-1,1)\n",
    "        indexes = []\n",
    "        for i in range(len(initpred)):\n",
    "            indexes += [math.floor(initpred[i][0]*(bf.size-1))]\n",
    "        pred = []\n",
    "        for i in indexes:\n",
    "            pred += [self.bit_array[i]]\n",
    "        return np.array(pred)\n",
    "\n",
    "#(Input:bloom filter,number array,ratio; Output:(-1) for false negative, otherwise fpr)\n",
    "def fpr_kraska_hash(bf,x,y):\n",
    "    pred = bf.predict(x)\n",
    "    pred=pred.reshape(-1,1)\n",
    "    tn, fp, fn, tp = confusion_matrix(y, pred,labels=[False,True]).ravel() \n",
    "    return fp/(fp+tn)\n",
    "\n",
    "#(Input:bloom filter size, total random numbers, ratio of number inserted; Output:efficient number of hash functions)\n",
    "def eff_k(m,n,r):\n",
    "    k=int(m/(int(n*r))*math.log(2))\n",
    "    if(k==0):\n",
    "        return 1\n",
    "    return k\n",
    "\n",
    "\n",
    "def fpr_test(x,bf,y):\n",
    "    pred=bf.predict(x)\n",
    "    fp=0\n",
    "    tn=0\n",
    "    for i in range(len(pred)):\n",
    "        if((pred[i]==1)and(y[i]==0)):\n",
    "            fp+=1\n",
    "        if((pred[i]==0) and (y[i]==0)):\n",
    "            tn+=1\n",
    "        if((pred[i]==0) and (y[i]==1)):\n",
    "            return -1\n",
    "    print(fp)\n",
    "    print(tn)\n",
    "    return fp/(fp+tn)\n",
    "def outputs(m,n,r):\n",
    "    find_fpr(m,model,n,r)\n",
    "    #print(\"For m=%d, k=%d, n=%d, r=%.3f: fpr=%.3f\"%(m,k,n,r,find_fpr(m,k,n,r)))"
   ]
  },
  {
   "cell_type": "markdown",
   "metadata": {},
   "source": [
    "# Logistic Regression Model"
   ]
  },
  {
   "cell_type": "code",
   "execution_count": 13,
   "metadata": {},
   "outputs": [
    {
     "name": "stderr",
     "output_type": "stream",
     "text": [
      "/Users/aditijain/opt/anaconda3/lib/python3.7/site-packages/sklearn/utils/validation.py:760: DataConversionWarning: A column-vector y was passed when a 1d array was expected. Please change the shape of y to (n_samples, ), for example using ravel().\n",
      "  y = column_or_1d(y, warn=True)\n",
      "/Users/aditijain/opt/anaconda3/lib/python3.7/site-packages/sklearn/linear_model/_logistic.py:940: ConvergenceWarning: lbfgs failed to converge (status=1):\n",
      "STOP: TOTAL NO. of ITERATIONS REACHED LIMIT.\n",
      "\n",
      "Increase the number of iterations (max_iter) or scale the data as shown in:\n",
      "    https://scikit-learn.org/stable/modules/preprocessing.html\n",
      "Please also refer to the documentation for alternative solver options:\n",
      "    https://scikit-learn.org/stable/modules/linear_model.html#logistic-regression\n",
      "  extra_warning_msg=_LOGISTIC_SOLVER_CONVERGENCE_MSG)\n"
     ]
    },
    {
     "data": {
      "text/plain": [
       "LogisticRegression(C=10.0, class_weight=None, dual=False, fit_intercept=True,\n",
       "                   intercept_scaling=1, l1_ratio=None, max_iter=100,\n",
       "                   multi_class='auto', n_jobs=None, penalty='l2',\n",
       "                   random_state=10, solver='lbfgs', tol=0.0001, verbose=0,\n",
       "                   warm_start=False)"
      ]
     },
     "execution_count": 13,
     "metadata": {},
     "output_type": "execute_result"
    }
   ],
   "source": [
    "from sklearn.linear_model import LogisticRegression\n",
    "classifier = LogisticRegression(C=10.0,random_state = 10,max_iter=100)\n",
    "classifier.fit(x_train, y_train)"
   ]
  },
  {
   "cell_type": "code",
   "execution_count": 14,
   "metadata": {},
   "outputs": [
    {
     "name": "stdout",
     "output_type": "stream",
     "text": [
      "[1 1 1 0 1 1 1 1 1 1 1 1 1 1 1 1 1 1 1 1 1 1 0 1 1 0 1 1 0 1 0 1 0 0 1 1 1\n",
      " 1 1 0 1 1 1 0 1 1 1 1 1 1 0 1 1 1 1 1 0 1 0 1 1 1 1 1 0 0 1 1 1 1 1 0 1 0\n",
      " 1 1 1 1 1 1 1 1 0 1 1 0 1 1 1 1 1 1 1 0 0 1 1 1 1 0 0 1 1 1 1 1 1 1 1 1 1\n",
      " 0 1 1 1 1 0 1 1 0 1 0 1 0 1 1 1 1 1 0 1 1 1 1 0 1 1 1 0 1 1 0 1 1 1 0 1 0\n",
      " 1 1 1 1 1 1 1 1 1 1 1 1 1 0 1 1 1 1 1 1 1 1 0 1 1 1 1 1 1 0 1 1 1 1 1 1 1\n",
      " 1 1 0 1 0 1 1 1 1 0 1 1 1 1 1 1 1 0 1 1 1 1 1 1 1 0 1 1 0 1 1 0 1 1 1 1 1\n",
      " 1 1 1 1 1 1 1 1 1 0 0 0 1 1 1 1 0 1 0 1 0 1 1 1 1 1 1 1 1 1 1 1 1 1 1 0 1\n",
      " 0 1 0 1 1 0 1 1 0 1 0 1 1 1 1 1 1 1 0 1 1 1 1 0 0 0 1 1 1 1 1 1 0 1 1 1 0\n",
      " 0 1 1 0 1 1 0 1 1 1 1 1 1 1 1 1 1 1 0 1 1 1 1 1 1 1 1 1 1 0 1 0 1 1 1 1 1\n",
      " 1 1 0 1 1 1 1 1 1 1 1 1 1 1 1 1 1 1 0 1 0 0 0 1 1 1 1 1 1 1 1 1 1 1 1 1 1\n",
      " 1 1 1 1 1 1 1 1 1 1 1 1 1 1 1 1 1 1 1 1 1 0 1 1 1 1 1 1 1 1 1 1 1 1 1 1 1\n",
      " 1 1 1 1 1 1 1 0 1 1 1 1 1 1 1 1 1 1 1 1 1 1 1 1 1 1 1 1 1 1 1 1 1 1 1 1 1\n",
      " 1 1 1 1 1 1 1 1 1 1 1 1 1 1 1 1 1 1 1 1 1 1 1 1 1 1 1 1 1 1 1 1 1 1 1 1 1\n",
      " 1 1 1 1 1 1 1 1 1 1 1 1 1 1 1 1 1 1 1 1 1 1 1 1 1 1 1 1 1 1 1 1 1 1 1 1 1\n",
      " 1 1 1 1 1 1 1 1 1 1 1 1 1 1 1 1 1 1 1 1 1 1 1 1 1 1 1 1 1 1 1 1 1 1 1 1 1\n",
      " 1 1 1 1 1 1 1 1 0 1 1 1 1 1]\n"
     ]
    }
   ],
   "source": [
    "y_pred = classifier.predict(x_train)\n",
    "print(y_pred)"
   ]
  },
  {
   "cell_type": "code",
   "execution_count": 15,
   "metadata": {},
   "outputs": [
    {
     "name": "stdout",
     "output_type": "stream",
     "text": [
      "[0.53203962 0.62494032 0.5714533  0.41179128 0.70748957 0.52173282\n",
      " 0.50585006 0.50058937 0.55968037 0.60274624 0.52211725 0.52115357\n",
      " 0.73207947 0.6395875  0.5648611  0.62242292 0.60204802 0.60164857\n",
      " 0.61692114 0.53492985 0.51996189 0.51000983 0.47331036 0.57239873\n",
      " 0.55144783 0.45095305 0.52979598 0.53054779 0.42730154 0.55544301\n",
      " 0.49208285 0.52660511 0.45532732 0.42343542 0.63000293 0.72148551\n",
      " 0.54151784 0.67387314 0.66399143 0.4976828  0.57291434 0.61018429\n",
      " 0.57186577 0.43052254 0.60189134 0.59302734 0.63013743 0.60374885\n",
      " 0.63764548 0.61230494 0.49436321 0.53614962 0.58992784 0.57321386\n",
      " 0.54178805 0.52371845 0.34858715 0.53244452 0.47440714 0.63818835\n",
      " 0.58283904 0.58961193 0.5555968  0.61634502 0.46406846 0.4662321\n",
      " 0.52853867 0.57337457 0.63414305 0.79180473 0.60170167 0.47056005\n",
      " 0.56698112 0.43120701 0.56310749 0.5771749  0.54120485 0.55556427\n",
      " 0.50097871 0.64710825 0.54076966 0.56262859 0.4655196  0.60119203\n",
      " 0.65687897 0.49437651 0.54355159 0.50482872 0.52874574 0.58082336\n",
      " 0.52519546 0.54575621 0.62621633 0.37759089 0.47129495 0.53181078\n",
      " 0.58370407 0.53370176 0.57771679 0.48879291 0.46457375 0.61931878\n",
      " 0.63035783 0.50285052 0.56612082 0.56914669 0.6235842  0.51616882\n",
      " 0.50331193 0.63013426 0.53598789 0.44621407 0.57346594 0.5092224\n",
      " 0.66237359 0.54852335 0.42538962 0.54807822 0.53963077 0.34240875\n",
      " 0.51953902 0.40936701 0.51978332 0.33961557 0.61113627 0.60336534\n",
      " 0.54716149 0.60423531 0.52617698 0.49660078 0.59996771 0.56890588\n",
      " 0.62726498 0.61169155 0.24165953 0.5987987  0.53365472 0.53290034\n",
      " 0.4355412  0.54719276 0.57599392 0.4041752  0.5519333  0.50696789\n",
      " 0.50173906 0.47128556 0.5800055  0.490071   0.6200171  0.66634079\n",
      " 0.56841704 0.56634121 0.55742185 0.5833844  0.60344619 0.584437\n",
      " 0.53687683 0.55372273 0.59087366 0.64883112 0.54175883 0.49132893\n",
      " 0.55652872 0.52573166 0.53477404 0.58376829 0.64056699 0.57072128\n",
      " 0.62837231 0.69074976 0.45123397 0.55131488 0.53887352 0.57528018\n",
      " 0.61052194 0.5157436  0.5695156  0.48616936 0.60351055 0.60821186\n",
      " 0.56714631 0.64070954 0.59209995 0.51084186 0.60181627 0.56695945\n",
      " 0.50346111 0.48672971 0.60404742 0.43983291 0.63952362 0.68494042\n",
      " 0.53032515 0.54302554 0.49777083 0.50568281 0.50417125 0.54044059\n",
      " 0.5091395  0.52414166 0.53415596 0.60519933 0.46809939 0.62180044\n",
      " 0.52194766 0.64574592 0.51822651 0.63087044 0.62507646 0.52370745\n",
      " 0.49847369 0.5013802  0.61626365 0.47762144 0.56853636 0.54020454\n",
      " 0.46670454 0.5386476  0.54318431 0.65041618 0.57373862 0.58076465\n",
      " 0.50815706 0.52639994 0.52538131 0.5191615  0.53145735 0.57899461\n",
      " 0.53465344 0.51122121 0.53609251 0.45154287 0.48979449 0.47614013\n",
      " 0.52488427 0.56922645 0.52047093 0.56232082 0.45628572 0.61836926\n",
      " 0.49850461 0.54442936 0.49361161 0.59865574 0.57734582 0.6138498\n",
      " 0.50599153 0.55528689 0.61132521 0.55721792 0.53005458 0.56560284\n",
      " 0.55373974 0.66807254 0.53612349 0.5461448  0.50513867 0.49377412\n",
      " 0.56753009 0.47234072 0.56488415 0.49415437 0.5196085  0.55832163\n",
      " 0.37949488 0.53274927 0.51269675 0.45243245 0.52343451 0.44360748\n",
      " 0.52644462 0.54995615 0.60024037 0.60136894 0.57880371 0.54065303\n",
      " 0.64401444 0.27881143 0.51191444 0.64150182 0.6034771  0.57717124\n",
      " 0.34112944 0.48864079 0.42684275 0.57776275 0.53296164 0.51887609\n",
      " 0.5850087  0.52676585 0.56564916 0.49255541 0.58371325 0.53338103\n",
      " 0.61915685 0.44291891 0.45147943 0.55700794 0.51070548 0.49564629\n",
      " 0.52406019 0.56464867 0.46968593 0.52143637 0.55234145 0.57523015\n",
      " 0.62911065 0.64264609 0.82926209 0.60253566 0.58321347 0.56859946\n",
      " 0.51516996 0.53189671 0.47660825 0.64259    0.63187573 0.60807293\n",
      " 0.645481   0.58848334 0.57544279 0.60837804 0.670487   0.61529048\n",
      " 0.57308122 0.20936834 0.60453376 0.4462079  0.61158622 0.58827024\n",
      " 0.64840248 0.63035519 0.61831294 0.82513785 0.64456584 0.42866545\n",
      " 0.5021722  0.50901577 0.62469429 0.5256325  0.620274   0.66317576\n",
      " 0.55509126 0.54290854 0.63461346 0.52661593 0.53096513 0.56574835\n",
      " 0.52868478 0.54544361 0.58701777 0.48314663 0.51796636 0.43341561\n",
      " 0.46567843 0.39442814 0.68155644 0.86893414 0.8457755  0.72153373\n",
      " 0.75178651 0.74339443 0.73752266 0.81666218 0.83824403 0.76870691\n",
      " 0.52788495 0.78371826 0.72190251 0.64812114 0.80497229 0.80666812\n",
      " 0.59942236 0.71254766 0.85590711 0.7890914  0.81428784 0.89387764\n",
      " 0.87377919 0.82759868 0.78365098 0.71153494 0.69347878 0.75671818\n",
      " 0.75394762 0.57787578 0.69193489 0.81134417 0.70137859 0.68741599\n",
      " 0.66109116 0.43645683 0.84168326 0.8199285  0.82762228 0.64683772\n",
      " 0.80926571 0.75984744 0.70332951 0.74544326 0.75839658 0.82922984\n",
      " 0.86325205 0.68640845 0.72803406 0.79419817 0.81681553 0.78924134\n",
      " 0.7540749  0.84235481 0.78039414 0.89083587 0.91930458 0.82040869\n",
      " 0.49989969 0.70477108 0.73862254 0.60792223 0.82427415 0.77345644\n",
      " 0.7308334  0.79202806 0.73576659 0.66487872 0.65915073 0.85155939\n",
      " 0.75629637 0.7309873  0.7735677  0.85609891 0.76586906 0.71069564\n",
      " 0.74224375 0.79050274 0.8294086  0.75986973 0.80577182 0.5954727\n",
      " 0.80290357 0.81114906 0.76948801 0.78276951 0.68079251 0.78439074\n",
      " 0.75952861 0.65912597 0.76188016 0.63856989 0.70525895 0.83993274\n",
      " 0.87368609 0.75846693 0.81793435 0.77032804 0.77982878 0.82175929\n",
      " 0.77973964 0.64198453 0.75533425 0.80060119 0.71656676 0.76693896\n",
      " 0.65162133 0.82687634 0.79016848 0.74740358 0.71733836 0.91286916\n",
      " 0.54435737 0.74891295 0.81777011 0.82019957 0.8990732  0.71376826\n",
      " 0.83298903 0.84034457 0.71454477 0.910631   0.70449038 0.76914984\n",
      " 0.7816794  0.78635302 0.75471385 0.74388942 0.7543049  0.82793403\n",
      " 0.82579765 0.79438673 0.84071616 0.83160889 0.79254756 0.82261172\n",
      " 0.71334033 0.78119673 0.80981447 0.95613927 0.79455803 0.77048906\n",
      " 0.73347444 0.77981695 0.79622954 0.7671097  0.66928593 0.6792346\n",
      " 0.75341314 0.82481011 0.80289379 0.68033536 0.73333815 0.78833031\n",
      " 0.7911525  0.58279001 0.85333338 0.85114405 0.56220183 0.82321374\n",
      " 0.83948231 0.7189492  0.81915889 0.68906068 0.95829272 0.75700517\n",
      " 0.62797923 0.71666442 0.83050447 0.89961523 0.72314659 0.52853088\n",
      " 0.73343864 0.72190399 0.77259792 0.79890089 0.7589932  0.80592813\n",
      " 0.70085777 0.72552593 0.79879599 0.75831945 0.75788022 0.82740522\n",
      " 0.64998781 0.76771076 0.7410961  0.84231247 0.97751581 0.70607205\n",
      " 0.7825352  0.67156021 0.64130433 0.81801502 0.81833282 0.75956263\n",
      " 0.82852169 0.75255436 0.75247716 0.75860158 0.81009957 0.76485373\n",
      " 0.71652839 0.85841089 0.76994328 0.81628535 0.74294039 0.38402703\n",
      " 0.69313819 0.60196728 0.64003999 0.76500161 0.6369843 ]\n"
     ]
    }
   ],
   "source": [
    "prob=classifier.predict_proba(x_train)\n",
    "print(prob[:,1])"
   ]
  },
  {
   "cell_type": "code",
   "execution_count": 16,
   "metadata": {},
   "outputs": [
    {
     "name": "stdout",
     "output_type": "stream",
     "text": [
      "Accuracy :  0.6502636203866432\n"
     ]
    }
   ],
   "source": [
    "from sklearn.metrics import accuracy_score\n",
    "print (\"Accuracy : \", accuracy_score(y_train, y_pred))"
   ]
  },
  {
   "cell_type": "code",
   "execution_count": 17,
   "metadata": {},
   "outputs": [
    {
     "data": {
      "text/plain": [
       "<matplotlib.collections.PathCollection at 0x7ff134f98fd0>"
      ]
     },
     "execution_count": 17,
     "metadata": {},
     "output_type": "execute_result"
    },
    {
     "data": {
      "image/png": "[encoded data removed]",
      "text/plain": [
       "<Figure size 432x288 with 1 Axes>"
      ]
     },
     "metadata": {
      "needs_background": "light"
     },
     "output_type": "display_data"
    }
   ],
   "source": [
    "preds =prob[:,1]\n",
    "plt.scatter(np.arange(len(preds)), preds, s=5)"
   ]
  },
  {
   "cell_type": "code",
   "execution_count": 26,
   "metadata": {},
   "outputs": [],
   "source": [
    "m=5000"
   ]
  },
  {
   "cell_type": "code",
   "execution_count": 27,
   "metadata": {},
   "outputs": [],
   "source": [
    "bf=BloomFilter(m,classifier)"
   ]
  },
  {
   "cell_type": "code",
   "execution_count": 28,
   "metadata": {},
   "outputs": [],
   "source": [
    "bf.add_init(x_train,y_train)"
   ]
  },
  {
   "cell_type": "code",
   "execution_count": 29,
   "metadata": {},
   "outputs": [
    {
     "name": "stdout",
     "output_type": "stream",
     "text": [
      "33\n",
      "179\n",
      "0.15566037735849056\n"
     ]
    }
   ],
   "source": [
    "print(fpr_test(x_train,bf,y_train))"
   ]
  },
  {
   "cell_type": "code",
   "execution_count": 30,
   "metadata": {},
   "outputs": [],
   "source": [
    "import pickle\n",
    "import os"
   ]
  },
  {
   "cell_type": "code",
   "execution_count": 54,
   "metadata": {},
   "outputs": [],
   "source": [
    "filename1='logreg_bcancer.sav'\n",
    "pickle.dump(classifier,open(filename1,'wb'))"
   ]
  },
  {
   "cell_type": "code",
   "execution_count": 55,
   "metadata": {},
   "outputs": [],
   "source": [
    "model_size1=os.stat('logreg_bcancer.sav').st_size"
   ]
  },
  {
   "cell_type": "code",
   "execution_count": 56,
   "metadata": {},
   "outputs": [
    {
     "name": "stdout",
     "output_type": "stream",
     "text": [
      "1072\n"
     ]
    }
   ],
   "source": [
    "print(model_size1)"
   ]
  },
  {
   "cell_type": "markdown",
   "metadata": {},
   "source": [
    "# SVM Model"
   ]
  },
  {
   "cell_type": "code",
   "execution_count": 34,
   "metadata": {},
   "outputs": [],
   "source": [
    "from sklearn import svm\n",
    "from sklearn.metrics import accuracy_score \n"
   ]
  },
  {
   "cell_type": "code",
   "execution_count": 35,
   "metadata": {},
   "outputs": [
    {
     "name": "stderr",
     "output_type": "stream",
     "text": [
      "/Users/aditijain/opt/anaconda3/lib/python3.7/site-packages/sklearn/utils/validation.py:760: DataConversionWarning: A column-vector y was passed when a 1d array was expected. Please change the shape of y to (n_samples, ), for example using ravel().\n",
      "  y = column_or_1d(y, warn=True)\n"
     ]
    },
    {
     "data": {
      "text/plain": [
       "SVC(C=1.0, break_ties=False, cache_size=200, class_weight=None, coef0=0.0,\n",
       "    decision_function_shape='ovr', degree=3, gamma='scale', kernel='rbf',\n",
       "    max_iter=-1, probability=True, random_state=None, shrinking=True, tol=0.001,\n",
       "    verbose=False)"
      ]
     },
     "execution_count": 35,
     "metadata": {},
     "output_type": "execute_result"
    }
   ],
   "source": [
    "clf2 = svm.SVC(kernel='rbf',probability=True)\n",
    "clf2.fit(x_train, y_train)"
   ]
  },
  {
   "cell_type": "code",
   "execution_count": 60,
   "metadata": {},
   "outputs": [],
   "source": [
    "predic=clf2.predict(x_train)"
   ]
  },
  {
   "cell_type": "code",
   "execution_count": 38,
   "metadata": {},
   "outputs": [
    {
     "name": "stdout",
     "output_type": "stream",
     "text": [
      "[0.6286927  0.63024519 0.62898029 0.62158683 0.63594442 0.6320865\n",
      " 0.6314184  0.6274402  0.63210253 0.63037091 0.6296355  0.6213835\n",
      " 0.63336883 0.62445232 0.63105732 0.61963141 0.63041798 0.62863979\n",
      " 0.61314312 0.62713485 0.63332634 0.63299678 0.61756898 0.63146428\n",
      " 0.62534517 0.62493682 0.63081157 0.62851265 0.62390636 0.63022957\n",
      " 0.62837908 0.62804607 0.62788729 0.62204845 0.63385874 0.6300527\n",
      " 0.63029409 0.63331896 0.63112879 0.62659048 0.63277724 0.62837475\n",
      " 0.62552868 0.61767182 0.61351267 0.62234983 0.63332721 0.62975019\n",
      " 0.63101572 0.63457954 0.63344733 0.63195069 0.63111585 0.62219923\n",
      " 0.6297172  0.63165161 0.62070316 0.63264868 0.62809231 0.63332004\n",
      " 0.62663159 0.63079802 0.62784063 0.62457202 0.60797137 0.63311457\n",
      " 0.63332015 0.6293734  0.63306522 0.63333141 0.62795131 0.6279382\n",
      " 0.6331089  0.62975529 0.63347809 0.62913207 0.62683022 0.61987144\n",
      " 0.62693079 0.63310314 0.62928356 0.62884172 0.62132204 0.62164066\n",
      " 0.6333277  0.61952522 0.62271494 0.6243477  0.62961374 0.63102442\n",
      " 0.63148855 0.62844501 0.62981256 0.6240105  0.61320176 0.63134601\n",
      " 0.6310699  0.6287506  0.6322733  0.62130711 0.63627769 0.63333155\n",
      " 0.6288422  0.62822735 0.6359014  0.62943732 0.63333003 0.63111169\n",
      " 0.62323267 0.63363291 0.63332903 0.62973693 0.63426006 0.63650722\n",
      " 0.63331903 0.62879383 0.62791067 0.6290559  0.63043221 0.61459101\n",
      " 0.63067488 0.62806424 0.62958274 0.62289207 0.63526568 0.63232566\n",
      " 0.62757924 0.62814724 0.62827835 0.62949072 0.62203964 0.6242523\n",
      " 0.6343226  0.63268535 0.61865236 0.62515697 0.62731478 0.63128256\n",
      " 0.61745011 0.6312169  0.62505556 0.61058371 0.6304987  0.63333183\n",
      " 0.62912627 0.63231641 0.63084327 0.63044435 0.63098709 0.63169128\n",
      " 0.6297137  0.63010013 0.63377021 0.63191914 0.62763922 0.62857664\n",
      " 0.62830831 0.63369865 0.63338666 0.63072067 0.62523839 0.624747\n",
      " 0.63112926 0.62342115 0.63083562 0.63269999 0.63341372 0.62543846\n",
      " 0.62456057 0.63332439 0.61682034 0.62224275 0.63136102 0.63237057\n",
      " 0.6295543  0.62806103 0.62742302 0.62623526 0.63332406 0.63060683\n",
      " 0.62888413 0.6308572  0.62935105 0.62895005 0.62913058 0.63294201\n",
      " 0.62892732 0.62282048 0.63167606 0.63188313 0.6331056  0.62723493\n",
      " 0.62501675 0.62569173 0.62278083 0.6259729  0.62715625 0.61973044\n",
      " 0.62705376 0.61842568 0.63017389 0.6309265  0.62620905 0.63340522\n",
      " 0.63099452 0.63205106 0.63238202 0.62937951 0.63066677 0.63256683\n",
      " 0.63148938 0.63161862 0.63164737 0.61075472 0.62234141 0.6360067\n",
      " 0.63326922 0.62980609 0.61429046 0.63355596 0.63168176 0.62768698\n",
      " 0.62685536 0.6304131  0.62985566 0.63573906 0.63197947 0.63124876\n",
      " 0.63058871 0.63352779 0.62043671 0.62267345 0.63318127 0.61682904\n",
      " 0.62960925 0.63097066 0.63133616 0.62955606 0.62805901 0.6311366\n",
      " 0.63295692 0.63333033 0.6307753  0.63173272 0.61481431 0.63382394\n",
      " 0.63136606 0.63087062 0.63332333 0.62720715 0.63401101 0.62967355\n",
      " 0.62291703 0.62118149 0.63008525 0.62968216 0.62503731 0.62611961\n",
      " 0.62985562 0.61859376 0.62694783 0.62250959 0.63098175 0.62898077\n",
      " 0.63192234 0.6029361  0.6324071  0.63022103 0.63240194 0.63332683\n",
      " 0.63333392 0.63155203 0.6297209  0.63583991 0.63111418 0.63332381\n",
      " 0.63246054 0.60897205 0.62829508 0.63301265 0.62513283 0.63318645\n",
      " 0.62859929 0.63722356 0.633326   0.63203445 0.63486119 0.63000408\n",
      " 0.63343528 0.63262703 0.63152881 0.63291086 0.63332011 0.63333181\n",
      " 0.63333164 0.62599087 0.63234934 0.62852091 0.63312514 0.63171096\n",
      " 0.61687732 0.62888076 0.62769108 0.62801277 0.63333043 0.63332341\n",
      " 0.62916339 0.63332527 0.63375313 0.631606   0.63332115 0.63250228\n",
      " 0.62533711 0.62746489 0.63266997 0.63143713 0.62829852 0.62864225\n",
      " 0.63332668 0.63297815 0.62630564 0.62761949 0.63446099 0.62746048\n",
      " 0.63469859 0.62649065 0.63187201 0.62508102 0.62970179 0.63299955\n",
      " 0.62720696 0.6321694  0.63927051 0.63333017 0.6223787  0.61607118\n",
      " 0.63090838 0.63229259 0.62868325 0.62972376 0.63235638 0.63065247\n",
      " 0.63148001 0.63230995 0.6291535  0.63332549 0.63332443 0.63068557\n",
      " 0.63362458 0.62936248 0.62777993 0.63296872 0.62444568 0.61678169\n",
      " 0.6251209  0.63332526 0.63332796 0.63332913 0.6372327  0.63333176\n",
      " 0.63333057 0.63332831 0.63350879 0.63502109 0.63377418 0.63223704\n",
      " 0.61368874 0.63351517 0.63073383 0.61453852 0.63156055 0.62961215\n",
      " 0.62240027 0.63207604 0.63441258 0.63457716 0.63459749 0.63629938\n",
      " 0.63345537 0.62072502 0.63332423 0.63361968 0.63176642 0.63340351\n",
      " 0.63336178 0.62497599 0.6333186  0.63333137 0.63314248 0.62981104\n",
      " 0.63163994 0.6333294  0.63499315 0.63383213 0.63331974 0.63332756\n",
      " 0.6333215  0.63213799 0.63460458 0.63529262 0.62754856 0.6333224\n",
      " 0.63443353 0.63332175 0.63338776 0.6339319  0.63333254 0.63626843\n",
      " 0.62772674 0.63672651 0.63333208 0.63294366 0.6333242  0.63331878\n",
      " 0.61647508 0.63401467 0.63395333 0.6325527  0.63286711 0.63572564\n",
      " 0.63324205 0.63179703 0.63333027 0.63332814 0.63332441 0.63469777\n",
      " 0.63281923 0.63332022 0.63331302 0.63333403 0.63008889 0.6358426\n",
      " 0.63250242 0.63415178 0.63331952 0.6341809  0.63376108 0.63332629\n",
      " 0.63363533 0.633319   0.63279082 0.62798151 0.63332875 0.63526822\n",
      " 0.63295775 0.6333285  0.6319676  0.63333168 0.63332087 0.62163801\n",
      " 0.6335622  0.63080017 0.63356289 0.63381447 0.63332526 0.63098889\n",
      " 0.63185758 0.63333424 0.6326901  0.63332414 0.62961733 0.63228493\n",
      " 0.63332741 0.63333415 0.63332534 0.63300494 0.63332804 0.63332818\n",
      " 0.61164673 0.63487427 0.63332548 0.63569232 0.63331807 0.63154606\n",
      " 0.63384072 0.63515226 0.63339829 0.6337422  0.63569743 0.62253616\n",
      " 0.63333339 0.63332425 0.63446916 0.63428371 0.63473713 0.63371145\n",
      " 0.63373569 0.62684737 0.6333285  0.62049586 0.63223691 0.63225563\n",
      " 0.62901075 0.63332299 0.63270046 0.63332625 0.63440497 0.63333052\n",
      " 0.62981576 0.63350103 0.634006   0.63374595 0.62892138 0.63126694\n",
      " 0.63333098 0.63541499 0.63558028 0.63332526 0.63404335 0.62247968\n",
      " 0.63515297 0.63325912 0.63182265 0.63233065 0.62829954 0.63394857\n",
      " 0.62075144 0.63092735 0.63568566 0.63331873 0.63502407 0.62980683\n",
      " 0.63332753 0.63333084 0.63481247 0.63332125 0.63294722 0.63331891\n",
      " 0.63448482 0.63419292 0.63331748 0.63466216 0.63344809 0.62614489\n",
      " 0.6336851  0.63071563 0.63305596 0.63333111 0.63125768 0.63645295\n",
      " 0.63022778 0.6346307  0.63331994 0.633318   0.63332131 0.63072496\n",
      " 0.63386764 0.63340016 0.63333299 0.63306165 0.63412518 0.63498049\n",
      " 0.63427599 0.63331802 0.6333234  0.63524231 0.63555012 0.63418994\n",
      " 0.63664706 0.63146152 0.63332216 0.63413677 0.63234489 0.61549002\n",
      " 0.63026231 0.62877259 0.63010472 0.6317848  0.63331875]\n",
      "(569, 2)\n"
     ]
    }
   ],
   "source": [
    "probability=clf2.predict_proba(x_train)\n",
    "print(probability[:,1])\n",
    "print(probability.shape)"
   ]
  },
  {
   "cell_type": "code",
   "execution_count": 39,
   "metadata": {},
   "outputs": [
    {
     "data": {
      "text/plain": [
       "<matplotlib.collections.PathCollection at 0x7ff1351bb6d0>"
      ]
     },
     "execution_count": 39,
     "metadata": {},
     "output_type": "execute_result"
    },
    {
     "data": {
      "image/png": "[encoded data removed]",
      "text/plain": [
       "<Figure size 432x288 with 1 Axes>"
      ]
     },
     "metadata": {
      "needs_background": "light"
     },
     "output_type": "display_data"
    }
   ],
   "source": [
    "prob=probability[:,1]\n",
    "plt.scatter(np.arange(len(prob)), prob, s=5)"
   ]
  },
  {
   "cell_type": "code",
   "execution_count": 61,
   "metadata": {},
   "outputs": [
    {
     "name": "stdout",
     "output_type": "stream",
     "text": [
      "0.6537785588752196\n"
     ]
    }
   ],
   "source": [
    "accuracy = accuracy_score(y_train.flatten(),predic)\n",
    "print(accuracy)"
   ]
  },
  {
   "cell_type": "code",
   "execution_count": 62,
   "metadata": {},
   "outputs": [],
   "source": [
    "m=5000\n",
    "bf=BloomFilter(m,clf2)\n",
    "bf.add_init(x_train,y_train)"
   ]
  },
  {
   "cell_type": "code",
   "execution_count": 63,
   "metadata": {},
   "outputs": [
    {
     "name": "stdout",
     "output_type": "stream",
     "text": [
      "152\n",
      "60\n",
      "0.7169811320754716\n"
     ]
    }
   ],
   "source": [
    "print(fpr_test(x_train,bf,y_train))"
   ]
  },
  {
   "cell_type": "code",
   "execution_count": 64,
   "metadata": {},
   "outputs": [
    {
     "data": {
      "text/plain": [
       "array([1, 1, 1, 1, 1, 1, 1, 1, 1, 1, 1, 1, 1, 1, 1, 1, 1, 1, 0, 1, 1, 1,\n",
       "       1, 1, 1, 1, 1, 1, 1, 1, 1, 1, 1, 1, 1, 1, 1, 1, 1, 1, 1, 1, 1, 1,\n",
       "       0, 1, 1, 1, 1, 1, 1, 1, 1, 1, 1, 1, 1, 1, 1, 1, 1, 1, 1, 1, 0, 1,\n",
       "       1, 1, 1, 1, 1, 1, 1, 1, 1, 1, 1, 1, 1, 1, 1, 1, 1, 1, 1, 1, 1, 1,\n",
       "       1, 1, 1, 1, 1, 1, 0, 1, 1, 1, 1, 1, 1, 1, 1, 1, 1, 1, 1, 1, 1, 1,\n",
       "       1, 1, 1, 1, 1, 1, 1, 1, 1, 0, 1, 1, 1, 1, 1, 1, 1, 1, 1, 1, 1, 1,\n",
       "       1, 1, 1, 1, 1, 1, 1, 1, 1, 0, 1, 1, 1, 1, 1, 1, 1, 1, 1, 1, 1, 1,\n",
       "       1, 1, 1, 1, 1, 1, 1, 1, 1, 1, 1, 1, 1, 1, 1, 1, 1, 1, 1, 1, 1, 1,\n",
       "       1, 1, 1, 1, 1, 1, 1, 1, 1, 1, 1, 1, 1, 1, 1, 1, 1, 1, 1, 1, 1, 1,\n",
       "       1, 1, 1, 1, 1, 1, 1, 1, 1, 1, 1, 1, 1, 1, 1, 0, 1, 1, 1, 1, 0, 1,\n",
       "       1, 1, 1, 1, 1, 1, 1, 1, 1, 1, 1, 1, 1, 1, 1, 1, 1, 1, 1, 1, 1, 1,\n",
       "       1, 1, 0, 1, 1, 1, 1, 1, 1, 1, 1, 1, 1, 1, 1, 1, 1, 1, 1, 1, 1, 1,\n",
       "       1, 0, 1, 1, 1, 1, 1, 1, 1, 1, 1, 1, 1, 0, 1, 1, 1, 1, 1, 1, 1, 1,\n",
       "       1, 1, 1, 1, 1, 1, 1, 1, 1, 1, 1, 1, 1, 1, 1, 1, 1, 1, 1, 1, 1, 1,\n",
       "       1, 1, 1, 1, 1, 1, 1, 1, 1, 1, 1, 1, 1, 1, 1, 1, 1, 1, 1, 1, 1, 1,\n",
       "       1, 1, 1, 1, 1, 1, 1, 1, 1, 1, 1, 1, 1, 1, 1, 1, 1, 1, 1, 1, 1, 1,\n",
       "       1, 1, 1, 1, 1, 1, 1, 1, 1, 1, 1, 1, 1, 1, 0, 1, 1, 0, 1, 1, 1, 1,\n",
       "       1, 1, 1, 1, 1, 1, 1, 1, 1, 1, 1, 1, 1, 1, 1, 1, 1, 1, 1, 1, 1, 1,\n",
       "       1, 1, 1, 1, 1, 1, 1, 1, 1, 1, 1, 1, 1, 1, 1, 1, 1, 1, 1, 1, 1, 1,\n",
       "       1, 1, 1, 1, 1, 1, 1, 1, 1, 1, 1, 1, 1, 1, 1, 1, 1, 1, 1, 1, 1, 1,\n",
       "       1, 1, 1, 1, 1, 1, 1, 1, 1, 1, 1, 1, 1, 1, 1, 1, 1, 1, 1, 1, 1, 1,\n",
       "       1, 1, 1, 1, 1, 1, 0, 1, 1, 1, 1, 1, 1, 1, 1, 1, 1, 1, 1, 1, 1, 1,\n",
       "       1, 1, 1, 1, 1, 1, 1, 1, 1, 1, 1, 1, 1, 1, 1, 1, 1, 1, 1, 1, 1, 1,\n",
       "       1, 1, 1, 1, 1, 1, 1, 1, 1, 1, 1, 1, 1, 1, 1, 1, 1, 1, 1, 1, 1, 1,\n",
       "       1, 1, 1, 1, 1, 1, 1, 1, 1, 1, 1, 1, 1, 1, 1, 1, 1, 1, 1, 1, 1, 1,\n",
       "       1, 1, 1, 1, 1, 1, 1, 1, 1, 1, 1, 1, 1, 0, 1, 1, 1, 1, 1])"
      ]
     },
     "execution_count": 64,
     "metadata": {},
     "output_type": "execute_result"
    }
   ],
   "source": [
    "preds"
   ]
  },
  {
   "cell_type": "code",
   "execution_count": 65,
   "metadata": {},
   "outputs": [],
   "source": [
    "filename2='svm_bcancer.sav'\n",
    "pickle.dump(clf2,open(filename2,'wb'))"
   ]
  },
  {
   "cell_type": "code",
   "execution_count": 66,
   "metadata": {},
   "outputs": [],
   "source": [
    "model_size2=os.stat('svm_bcancer.sav').st_size"
   ]
  },
  {
   "cell_type": "code",
   "execution_count": 67,
   "metadata": {},
   "outputs": [
    {
     "name": "stdout",
     "output_type": "stream",
     "text": [
      "128990\n"
     ]
    }
   ],
   "source": [
    "print(model_size2)"
   ]
  },
  {
   "cell_type": "code",
   "execution_count": null,
   "metadata": {},
   "outputs": [],
   "source": []
  }
 ],
 "metadata": {
  "kernelspec": {
   "display_name": "Python 3",
   "language": "python",
   "name": "python3"
  },
  "language_info": {
   "codemirror_mode": {
    "name": "ipython",
    "version": 3
   },
   "file_extension": ".py",
   "mimetype": "text/x-python",
   "name": "python",
   "nbconvert_exporter": "python",
   "pygments_lexer": "ipython3",
   "version": "3.7.6"
  }
 },
 "nbformat": 4,
 "nbformat_minor": 4
}
