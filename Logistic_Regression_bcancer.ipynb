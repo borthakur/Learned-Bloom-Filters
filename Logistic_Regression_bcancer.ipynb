{
 "cells": [
  {
   "cell_type": "code",
   "execution_count": 1,
   "metadata": {},
   "outputs": [],
   "source": [
    "from bitarray import bitarray\n",
    "import mmh3\n",
    "import random\n",
    "import numpy as np\n",
    "import math\n",
    "import sklearn.preprocessing"
   ]
  },
  {
   "cell_type": "code",
   "execution_count": 2,
   "metadata": {},
   "outputs": [],
   "source": [
    "import matplotlib.pyplot as plt\n",
    "import seaborn as sns\n",
    "from sklearn import datasets\n",
    "from sklearn.metrics import confusion_matrix\n",
    "from sklearn.preprocessing import StandardScaler \n",
    "import pandas as pd\n"
   ]
  },
  {
   "cell_type": "code",
   "execution_count": 3,
   "metadata": {},
   "outputs": [
    {
     "name": "stdout",
     "output_type": "stream",
     "text": [
      "(569, 30)\n"
     ]
    }
   ],
   "source": [
    "b = datasets.load_breast_cancer()\n",
    "X = b.data  \n",
    "y = b.target\n",
    "print(X.shape)"
   ]
  },
  {
   "cell_type": "code",
   "execution_count": 4,
   "metadata": {},
   "outputs": [],
   "source": [
    "x_neg_0=np.zeros(212)\n",
    "x_pos_0=np.ones(357)"
   ]
  },
  {
   "cell_type": "code",
   "execution_count": 5,
   "metadata": {},
   "outputs": [
    {
     "name": "stdout",
     "output_type": "stream",
     "text": [
      "(212, 30)\n",
      "(357, 30)\n"
     ]
    }
   ],
   "source": [
    "#first two classes positive, rest negative\n",
    "x_neg=X[y==0]\n",
    "x_pos=X[y==1]\n",
    "print(x_neg.shape)\n",
    "print(x_pos.shape)"
   ]
  },
  {
   "cell_type": "code",
   "execution_count": 6,
   "metadata": {},
   "outputs": [],
   "source": [
    "x_negt = np.insert(x_neg, 30, x_neg_0, axis=1)\n",
    "x_post = np.insert(x_pos, 30, x_pos_0, axis=1)"
   ]
  },
  {
   "cell_type": "code",
   "execution_count": 7,
   "metadata": {},
   "outputs": [
    {
     "name": "stdout",
     "output_type": "stream",
     "text": [
      "(569, 31)\n"
     ]
    }
   ],
   "source": [
    "x_train = np.concatenate((x_post, x_negt)).reshape(-1, 31)\n",
    "y_train = y.reshape(-1, 1).astype(int)\n",
    "print(x_train.shape)"
   ]
  },
  {
   "cell_type": "code",
   "execution_count": 8,
   "metadata": {},
   "outputs": [
    {
     "data": {
      "text/plain": [
       "array([[-0.16679919, -1.1471623 , -0.18572799, ...,  0.12334653,\n",
       "        -0.62929189,  0.77060855],\n",
       "       [-0.29744572, -0.83300824, -0.26110605, ...,  0.45822712,\n",
       "        -0.11724974,  0.77060855],\n",
       "       [-1.31308049, -1.59395919, -1.30280622, ..., -0.72922385,\n",
       "        -0.34445459,  0.77060855],\n",
       "       ...,\n",
       "       [ 1.70485436,  2.08513394,  1.61593137, ..., -0.53185462,\n",
       "        -0.97397828, -1.29767572],\n",
       "       [ 0.70228425,  2.0455738 ,  0.67267578, ..., -1.10454895,\n",
       "        -0.31840916, -1.29767572],\n",
       "       [ 1.83834103,  2.33645719,  1.98252415, ...,  1.91908301,\n",
       "         2.21963528, -1.29767572]])"
      ]
     },
     "execution_count": 8,
     "metadata": {},
     "output_type": "execute_result"
    }
   ],
   "source": [
    "scaler = StandardScaler()\n",
    "x_train = scaler.fit_transform(x_train)\n",
    "\n",
    "x_train\n"
   ]
  },
  {
   "cell_type": "markdown",
   "metadata": {},
   "source": [
    "# Bloom Filter"
   ]
  },
  {
   "cell_type": "code",
   "execution_count": 9,
   "metadata": {},
   "outputs": [],
   "source": [
    "class BloomFilter:\n",
    "    \n",
    "    def __init__(self, size, model): #hash count is 1\n",
    "        self.size = size\n",
    "      #  self.hash_count = hash_count\n",
    "        self.bit_array = bitarray(size)\n",
    "        self.bit_array.setall(0)\n",
    "        self.model=model #classifier model associated as hash function\n",
    "        \n",
    "    def add(self, num):\n",
    "        result=math.floor(model.predict(num)[0]*(self.size-1))    \n",
    "        self.bit_array[result] = 1\n",
    "            \n",
    "    def lookup(self, num):\n",
    "        #for seed in range(1,self.hash_count+1):\n",
    "            #result = mmh3.hash(str(num), seed) % self.size\n",
    "        result=math.floor(self.model.predict(num)[0]*(self.size-1))    \n",
    "        if self.bit_array[result] == 0:\n",
    "                return False\n",
    "        return True\n",
    "\n",
    "    def add_init(self,x_train,y_train):\n",
    "        pred = self.model.predict_proba(x_train)\n",
    "        pred=pred[:,1]\n",
    "        pred=pred.reshape(-1,1)\n",
    "        for i in range(len(pred)):\n",
    "            if(y_train[i]==1):\n",
    "                result = math.floor(pred[i][0]*(self.size-1))\n",
    "                self.bit_array[result] = 1\n",
    "    \n",
    "    def predict(self,x):\n",
    "        initpred = self.model.predict_proba(x)\n",
    "        initpred=initpred[:,1]\n",
    "        initpred=initpred.reshape(-1,1)\n",
    "        indexes = []\n",
    "        for i in range(len(initpred)):\n",
    "            indexes += [math.floor(initpred[i][0]*(bf.size-1))]\n",
    "        pred = []\n",
    "        for i in indexes:\n",
    "            pred += [self.bit_array[i]]\n",
    "        return np.array(pred)\n",
    "\n",
    "#(Input:bloom filter,number array,ratio; Output:(-1) for false negative, otherwise fpr)\n",
    "def fpr_kraska_hash(bf,x,y):\n",
    "    pred = bf.predict(x)\n",
    "    pred=pred.reshape(-1,1)\n",
    "    tn, fp, fn, tp = confusion_matrix(y, pred,labels=[False,True]).ravel() \n",
    "    return fp/(fp+tn)\n",
    "\n",
    "#(Input:bloom filter size, total random numbers, ratio of number inserted; Output:efficient number of hash functions)\n",
    "def eff_k(m,n,r):\n",
    "    k=int(m/(int(n*r))*math.log(2))\n",
    "    if(k==0):\n",
    "        return 1\n",
    "    return k\n",
    "\n",
    "\n",
    "def fpr_test(x,bf,y):\n",
    "    pred=bf.predict(x)\n",
    "    fp=0\n",
    "    tn=0\n",
    "    for i in range(len(pred)):\n",
    "        if((pred[i]==1)and(y[i]==0)):\n",
    "            fp+=1\n",
    "        if((pred[i]==0) and (y[i]==0)):\n",
    "            tn+=1\n",
    "        if((pred[i]==0) and (y[i]==1)):\n",
    "            return -1\n",
    "    print(fp)\n",
    "    print(tn)\n",
    "    return fp/(fp+tn)\n",
    "def outputs(m,n,r):\n",
    "    find_fpr(m,model,n,r)\n",
    "    #print(\"For m=%d, k=%d, n=%d, r=%.3f: fpr=%.3f\"%(m,k,n,r,find_fpr(m,k,n,r)))"
   ]
  },
  {
   "cell_type": "markdown",
   "metadata": {},
   "source": [
    "# Logistic Regression Model"
   ]
  },
  {
   "cell_type": "code",
   "execution_count": 13,
   "metadata": {},
   "outputs": [
    {
     "name": "stderr",
     "output_type": "stream",
     "text": [
      "/Users/aditijain/opt/anaconda3/lib/python3.7/site-packages/sklearn/utils/validation.py:760: DataConversionWarning: A column-vector y was passed when a 1d array was expected. Please change the shape of y to (n_samples, ), for example using ravel().\n",
      "  y = column_or_1d(y, warn=True)\n",
      "/Users/aditijain/opt/anaconda3/lib/python3.7/site-packages/sklearn/linear_model/_logistic.py:940: ConvergenceWarning: lbfgs failed to converge (status=1):\n",
      "STOP: TOTAL NO. of ITERATIONS REACHED LIMIT.\n",
      "\n",
      "Increase the number of iterations (max_iter) or scale the data as shown in:\n",
      "    https://scikit-learn.org/stable/modules/preprocessing.html\n",
      "Please also refer to the documentation for alternative solver options:\n",
      "    https://scikit-learn.org/stable/modules/linear_model.html#logistic-regression\n",
      "  extra_warning_msg=_LOGISTIC_SOLVER_CONVERGENCE_MSG)\n"
     ]
    },
    {
     "data": {
      "text/plain": [
       "LogisticRegression(C=10.0, class_weight=None, dual=False, fit_intercept=True,\n",
       "                   intercept_scaling=1, l1_ratio=None, max_iter=100,\n",
       "                   multi_class='auto', n_jobs=None, penalty='l2',\n",
       "                   random_state=10, solver='lbfgs', tol=0.0001, verbose=0,\n",
       "                   warm_start=False)"
      ]
     },
     "execution_count": 13,
     "metadata": {},
     "output_type": "execute_result"
    }
   ],
   "source": [
    "from sklearn.linear_model import LogisticRegression\n",
    "classifier = LogisticRegression(C=10.0,random_state = 10,max_iter=100)\n",
    "classifier.fit(x_train, y_train)"
   ]
  },
  {
   "cell_type": "code",
   "execution_count": 14,
   "metadata": {},
   "outputs": [
    {
     "name": "stdout",
     "output_type": "stream",
     "text": [
      "[1 1 1 0 1 1 1 1 1 1 1 1 1 1 1 1 1 1 1 1 1 1 0 1 1 0 1 1 0 1 0 1 0 0 1 1 1\n",
      " 1 1 0 1 1 1 0 1 1 1 1 1 1 0 1 1 1 1 1 0 1 0 1 1 1 1 1 0 0 1 1 1 1 1 0 1 0\n",
      " 1 1 1 1 1 1 1 1 0 1 1 0 1 1 1 1 1 1 1 0 0 1 1 1 1 0 0 1 1 1 1 1 1 1 1 1 1\n",
      " 0 1 1 1 1 0 1 1 0 1 0 1 0 1 1 1 1 1 0 1 1 1 1 0 1 1 1 0 1 1 0 1 1 1 0 1 0\n",
      " 1 1 1 1 1 1 1 1 1 1 1 1 1 0 1 1 1 1 1 1 1 1 0 1 1 1 1 1 1 0 1 1 1 1 1 1 1\n",
      " 1 1 0 1 0 1 1 1 1 0 1 1 1 1 1 1 1 0 1 1 1 1 1 1 1 0 1 1 0 1 1 0 1 1 1 1 1\n",
      " 1 1 1 1 1 1 1 1 1 0 0 0 1 1 1 1 0 1 0 1 0 1 1 1 1 1 1 1 1 1 1 1 1 1 1 0 1\n",
      " 0 1 0 1 1 0 1 1 0 1 0 1 1 1 1 1 1 1 0 1 1 1 1 0 0 0 1 1 1 1 1 1 0 1 1 1 0\n",
      " 0 1 1 0 1 1 0 1 1 1 1 1 1 1 1 1 1 1 0 1 1 1 1 1 1 1 1 1 1 0 1 0 1 1 1 1 1\n",
      " 1 1 0 1 1 1 1 1 1 1 1 1 1 1 1 1 1 1 0 1 0 0 0 1 1 1 1 1 1 1 1 1 1 1 1 1 1\n",
      " 1 1 1 1 1 1 1 1 1 1 1 1 1 1 1 1 1 1 1 1 1 0 1 1 1 1 1 1 1 1 1 1 1 1 1 1 1\n",
      " 1 1 1 1 1 1 1 0 1 1 1 1 1 1 1 1 1 1 1 1 1 1 1 1 1 1 1 1 1 1 1 1 1 1 1 1 1\n",
      " 1 1 1 1 1 1 1 1 1 1 1 1 1 1 1 1 1 1 1 1 1 1 1 1 1 1 1 1 1 1 1 1 1 1 1 1 1\n",
      " 1 1 1 1 1 1 1 1 1 1 1 1 1 1 1 1 1 1 1 1 1 1 1 1 1 1 1 1 1 1 1 1 1 1 1 1 1\n",
      " 1 1 1 1 1 1 1 1 1 1 1 1 1 1 1 1 1 1 1 1 1 1 1 1 1 1 1 1 1 1 1 1 1 1 1 1 1\n",
      " 1 1 1 1 1 1 1 1 0 1 1 1 1 1]\n"
     ]
    }
   ],
   "source": [
    "y_pred = classifier.predict(x_train)\n",
    "print(y_pred)"
   ]
  },
  {
   "cell_type": "code",
   "execution_count": 15,
   "metadata": {},
   "outputs": [
    {
     "name": "stdout",
     "output_type": "stream",
     "text": [
      "[0.53203962 0.62494032 0.5714533  0.41179128 0.70748957 0.52173282\n",
      " 0.50585006 0.50058937 0.55968037 0.60274624 0.52211725 0.52115357\n",
      " 0.73207947 0.6395875  0.5648611  0.62242292 0.60204802 0.60164857\n",
      " 0.61692114 0.53492985 0.51996189 0.51000983 0.47331036 0.57239873\n",
      " 0.55144783 0.45095305 0.52979598 0.53054779 0.42730154 0.55544301\n",
      " 0.49208285 0.52660511 0.45532732 0.42343542 0.63000293 0.72148551\n",
      " 0.54151784 0.67387314 0.66399143 0.4976828  0.57291434 0.61018429\n",
      " 0.57186577 0.43052254 0.60189134 0.59302734 0.63013743 0.60374885\n",
      " 0.63764548 0.61230494 0.49436321 0.53614962 0.58992784 0.57321386\n",
      " 0.54178805 0.52371845 0.34858715 0.53244452 0.47440714 0.63818835\n",
      " 0.58283904 0.58961193 0.5555968  0.61634502 0.46406846 0.4662321\n",
      " 0.52853867 0.57337457 0.63414305 0.79180473 0.60170167 0.47056005\n",
      " 0.56698112 0.43120701 0.56310749 0.5771749  0.54120485 0.55556427\n",
      " 0.50097871 0.64710825 0.54076966 0.56262859 0.4655196  0.60119203\n",
      " 0.65687897 0.49437651 0.54355159 0.50482872 0.52874574 0.58082336\n",
      " 0.52519546 0.54575621 0.62621633 0.37759089 0.47129495 0.53181078\n",
      " 0.58370407 0.53370176 0.57771679 0.48879291 0.46457375 0.61931878\n",
      " 0.63035783 0.50285052 0.56612082 0.56914669 0.6235842  0.51616882\n",
      " 0.50331193 0.63013426 0.53598789 0.44621407 0.57346594 0.5092224\n",
      " 0.66237359 0.54852335 0.42538962 0.54807822 0.53963077 0.34240875\n",
      " 0.51953902 0.40936701 0.51978332 0.33961557 0.61113627 0.60336534\n",
      " 0.54716149 0.60423531 0.52617698 0.49660078 0.59996771 0.56890588\n",
      " 0.62726498 0.61169155 0.24165953 0.5987987  0.53365472 0.53290034\n",
      " 0.4355412  0.54719276 0.57599392 0.4041752  0.5519333  0.50696789\n",
      " 0.50173906 0.47128556 0.5800055  0.490071   0.6200171  0.66634079\n",
      " 0.56841704 0.56634121 0.55742185 0.5833844  0.60344619 0.584437\n",
      " 0.53687683 0.55372273 0.59087366 0.64883112 0.54175883 0.49132893\n",
      " 0.55652872 0.52573166 0.53477404 0.58376829 0.64056699 0.57072128\n",
      " 0.62837231 0.69074976 0.45123397 0.55131488 0.53887352 0.57528018\n",
      " 0.61052194 0.5157436  0.5695156  0.48616936 0.60351055 0.60821186\n",
      " 0.56714631 0.64070954 0.59209995 0.51084186 0.60181627 0.56695945\n",
      " 0.50346111 0.48672971 0.60404742 0.43983291 0.63952362 0.68494042\n",
      " 0.53032515 0.54302554 0.49777083 0.50568281 0.50417125 0.54044059\n",
      " 0.5091395  0.52414166 0.53415596 0.60519933 0.46809939 0.62180044\n",
      " 0.52194766 0.64574592 0.51822651 0.63087044 0.62507646 0.52370745\n",
      " 0.49847369 0.5013802  0.61626365 0.47762144 0.56853636 0.54020454\n",
      " 0.46670454 0.5386476  0.54318431 0.65041618 0.57373862 0.58076465\n",
      " 0.50815706 0.52639994 0.52538131 0.5191615  0.53145735 0.57899461\n",
      " 0.53465344 0.51122121 0.53609251 0.45154287 0.48979449 0.47614013\n",
      " 0.52488427 0.56922645 0.52047093 0.56232082 0.45628572 0.61836926\n",
      " 0.49850461 0.54442936 0.49361161 0.59865574 0.57734582 0.6138498\n",
      " 0.50599153 0.55528689 0.61132521 0.55721792 0.53005458 0.56560284\n",
      " 0.55373974 0.66807254 0.53612349 0.5461448  0.50513867 0.49377412\n",
      " 0.56753009 0.47234072 0.56488415 0.49415437 0.5196085  0.55832163\n",
      " 0.37949488 0.53274927 0.51269675 0.45243245 0.52343451 0.44360748\n",
      " 0.52644462 0.54995615 0.60024037 0.60136894 0.57880371 0.54065303\n",
      " 0.64401444 0.27881143 0.51191444 0.64150182 0.6034771  0.57717124\n",
      " 0.34112944 0.48864079 0.42684275 0.57776275 0.53296164 0.51887609\n",
      " 0.5850087  0.52676585 0.56564916 0.49255541 0.58371325 0.53338103\n",
      " 0.61915685 0.44291891 0.45147943 0.55700794 0.51070548 0.49564629\n",
      " 0.52406019 0.56464867 0.46968593 0.52143637 0.55234145 0.57523015\n",
      " 0.62911065 0.64264609 0.82926209 0.60253566 0.58321347 0.56859946\n",
      " 0.51516996 0.53189671 0.47660825 0.64259    0.63187573 0.60807293\n",
      " 0.645481   0.58848334 0.57544279 0.60837804 0.670487   0.61529048\n",
      " 0.57308122 0.20936834 0.60453376 0.4462079  0.61158622 0.58827024\n",
      " 0.64840248 0.63035519 0.61831294 0.82513785 0.64456584 0.42866545\n",
      " 0.5021722  0.50901577 0.62469429 0.5256325  0.620274   0.66317576\n",
      " 0.55509126 0.54290854 0.63461346 0.52661593 0.53096513 0.56574835\n",
      " 0.52868478 0.54544361 0.58701777 0.48314663 0.51796636 0.43341561\n",
      " 0.46567843 0.39442814 0.68155644 0.86893414 0.8457755  0.72153373\n",
      " 0.75178651 0.74339443 0.73752266 0.81666218 0.83824403 0.76870691\n",
      " 0.52788495 0.78371826 0.72190251 0.64812114 0.80497229 0.80666812\n",
      " 0.59942236 0.71254766 0.85590711 0.7890914  0.81428784 0.89387764\n",
      " 0.87377919 0.82759868 0.78365098 0.71153494 0.69347878 0.75671818\n",
      " 0.75394762 0.57787578 0.69193489 0.81134417 0.70137859 0.68741599\n",
      " 0.66109116 0.43645683 0.84168326 0.8199285  0.82762228 0.64683772\n",
      " 0.80926571 0.75984744 0.70332951 0.74544326 0.75839658 0.82922984\n",
      " 0.86325205 0.68640845 0.72803406 0.79419817 0.81681553 0.78924134\n",
      " 0.7540749  0.84235481 0.78039414 0.89083587 0.91930458 0.82040869\n",
      " 0.49989969 0.70477108 0.73862254 0.60792223 0.82427415 0.77345644\n",
      " 0.7308334  0.79202806 0.73576659 0.66487872 0.65915073 0.85155939\n",
      " 0.75629637 0.7309873  0.7735677  0.85609891 0.76586906 0.71069564\n",
      " 0.74224375 0.79050274 0.8294086  0.75986973 0.80577182 0.5954727\n",
      " 0.80290357 0.81114906 0.76948801 0.78276951 0.68079251 0.78439074\n",
      " 0.75952861 0.65912597 0.76188016 0.63856989 0.70525895 0.83993274\n",
      " 0.87368609 0.75846693 0.81793435 0.77032804 0.77982878 0.82175929\n",
      " 0.77973964 0.64198453 0.75533425 0.80060119 0.71656676 0.76693896\n",
      " 0.65162133 0.82687634 0.79016848 0.74740358 0.71733836 0.91286916\n",
      " 0.54435737 0.74891295 0.81777011 0.82019957 0.8990732  0.71376826\n",
      " 0.83298903 0.84034457 0.71454477 0.910631   0.70449038 0.76914984\n",
      " 0.7816794  0.78635302 0.75471385 0.74388942 0.7543049  0.82793403\n",
      " 0.82579765 0.79438673 0.84071616 0.83160889 0.79254756 0.82261172\n",
      " 0.71334033 0.78119673 0.80981447 0.95613927 0.79455803 0.77048906\n",
      " 0.73347444 0.77981695 0.79622954 0.7671097  0.66928593 0.6792346\n",
      " 0.75341314 0.82481011 0.80289379 0.68033536 0.73333815 0.78833031\n",
      " 0.7911525  0.58279001 0.85333338 0.85114405 0.56220183 0.82321374\n",
      " 0.83948231 0.7189492  0.81915889 0.68906068 0.95829272 0.75700517\n",
      " 0.62797923 0.71666442 0.83050447 0.89961523 0.72314659 0.52853088\n",
      " 0.73343864 0.72190399 0.77259792 0.79890089 0.7589932  0.80592813\n",
      " 0.70085777 0.72552593 0.79879599 0.75831945 0.75788022 0.82740522\n",
      " 0.64998781 0.76771076 0.7410961  0.84231247 0.97751581 0.70607205\n",
      " 0.7825352  0.67156021 0.64130433 0.81801502 0.81833282 0.75956263\n",
      " 0.82852169 0.75255436 0.75247716 0.75860158 0.81009957 0.76485373\n",
      " 0.71652839 0.85841089 0.76994328 0.81628535 0.74294039 0.38402703\n",
      " 0.69313819 0.60196728 0.64003999 0.76500161 0.6369843 ]\n"
     ]
    }
   ],
   "source": [
    "prob=classifier.predict_proba(x_train)\n",
    "print(prob[:,1])"
   ]
  },
  {
   "cell_type": "code",
   "execution_count": 16,
   "metadata": {},
   "outputs": [
    {
     "name": "stdout",
     "output_type": "stream",
     "text": [
      "Accuracy :  0.6502636203866432\n"
     ]
    }
   ],
   "source": [
    "from sklearn.metrics import accuracy_score\n",
    "print (\"Accuracy : \", accuracy_score(y_train, y_pred))"
   ]
  },
  {
   "cell_type": "code",
   "execution_count": 17,
   "metadata": {},
   "outputs": [
    {
     "data": {
      "text/plain": [
       "<matplotlib.collections.PathCollection at 0x7ff134f98fd0>"
      ]
     },
     "execution_count": 17,
     "metadata": {},
     "output_type": "execute_result"
    },
    {
     "data": {
      "image/png": "[encoded data removed]",
      "text/plain": [
       "<Figure size 432x288 with 1 Axes>"
      ]
     },
     "metadata": {
      "needs_background": "light"
     },
     "output_type": "display_data"
    }
   ],
   "source": [
    "preds =prob[:,1]\n",
    "plt.scatter(np.arange(len(preds)), preds, s=5)"
   ]
  },
  {
   "cell_type": "code",
   "execution_count": 26,
   "metadata": {},
   "outputs": [],
   "source": [
    "m=5000"
   ]
  },
  {
   "cell_type": "code",
   "execution_count": 27,
   "metadata": {},
   "outputs": [],
   "source": [
    "bf=BloomFilter(m,classifier)"
   ]
  },
  {
   "cell_type": "code",
   "execution_count": 28,
   "metadata": {},
   "outputs": [],
   "source": [
    "bf.add_init(x_train,y_train)"
   ]
  },
  {
   "cell_type": "code",
   "execution_count": 29,
   "metadata": {},
   "outputs": [
    {
     "name": "stdout",
     "output_type": "stream",
     "text": [
      "33\n",
      "179\n",
      "0.15566037735849056\n"
     ]
    }
   ],
   "source": [
    "print(fpr_test(x_train,bf,y_train))"
   ]
  },
  {
   "cell_type": "code",
   "execution_count": 30,
   "metadata": {},
   "outputs": [],
   "source": [
    "import pickle\n",
    "import os"
   ]
  },
  {
   "cell_type": "code",
   "execution_count": 54,
   "metadata": {},
   "outputs": [],
   "source": [
    "filename1='logreg_bcancer.sav'\n",
    "pickle.dump(classifier,open(filename1,'wb'))"
   ]
  },
  {
   "cell_type": "code",
   "execution_count": 55,
   "metadata": {},
   "outputs": [],
   "source": [
    "model_size1=os.stat('logreg_bcancer.sav').st_size"
   ]
  },
  {
   "cell_type": "code",
   "execution_count": 56,
   "metadata": {},
   "outputs": [
    {
     "name": "stdout",
     "output_type": "stream",
     "text": [
      "1072\n"
     ]
    }
   ],
   "source": [
    "print(model_size1)"
   ]
  },
  {
   "cell_type": "markdown",
   "metadata": {},
   "source": [
    "# SVM Model"
   ]
  },
  {
   "cell_type": "code",
   "execution_count": 10,
   "metadata": {},
   "outputs": [],
   "source": [
    "from sklearn import svm\n",
    "from sklearn.metrics import accuracy_score \n"
   ]
  },
  {
   "cell_type": "code",
   "execution_count": 11,
   "metadata": {},
   "outputs": [
    {
     "name": "stderr",
     "output_type": "stream",
     "text": [
      "/Users/aditijain/opt/anaconda3/lib/python3.7/site-packages/sklearn/utils/validation.py:760: DataConversionWarning: A column-vector y was passed when a 1d array was expected. Please change the shape of y to (n_samples, ), for example using ravel().\n",
      "  y = column_or_1d(y, warn=True)\n"
     ]
    },
    {
     "data": {
      "text/plain": [
       "SVC(C=1.0, break_ties=False, cache_size=200, class_weight=None, coef0=0.0,\n",
       "    decision_function_shape='ovr', degree=3, gamma='scale', kernel='rbf',\n",
       "    max_iter=-1, probability=True, random_state=None, shrinking=True, tol=0.001,\n",
       "    verbose=False)"
      ]
     },
     "execution_count": 11,
     "metadata": {},
     "output_type": "execute_result"
    }
   ],
   "source": [
    "clf2 = svm.SVC(kernel='rbf',probability=True)\n",
    "clf2.fit(x_train, y_train)"
   ]
  },
  {
   "cell_type": "code",
   "execution_count": 12,
   "metadata": {},
   "outputs": [],
   "source": [
    "predic=clf2.predict(x_train)"
   ]
  },
  {
   "cell_type": "code",
   "execution_count": 13,
   "metadata": {},
   "outputs": [
    {
     "name": "stdout",
     "output_type": "stream",
     "text": [
      "[0.63048782 0.62817999 0.63006003 0.64109937 0.61973903 0.62544759\n",
      " 0.62643842 0.63235243 0.62542382 0.62799326 0.62908587 0.6414042\n",
      " 0.6235477  0.63681049 0.62697421 0.64403377 0.62792336 0.63056653\n",
      " 0.64942209 0.63280737 0.62361061 0.62409868 0.64713555 0.62637035\n",
      " 0.63547683 0.63608663 0.62733897 0.63075571 0.63762662 0.62820319\n",
      " 0.63095447 0.63145016 0.63168656 0.64040754 0.6228225  0.62846592\n",
      " 0.62810736 0.62362154 0.62686813 0.63361881 0.6244239  0.63096092\n",
      " 0.63520288 0.64698072 0.64892031 0.63995607 0.62360932 0.62891542\n",
      " 0.62703593 0.62175615 0.62343148 0.62564896 0.62688734 0.64018165\n",
      " 0.62896444 0.62609248 0.64242467 0.62461436 0.63138132 0.62361995\n",
      " 0.63355752 0.62735909 0.63175603 0.63663161 0.65641452 0.62392422\n",
      " 0.62361977 0.62947547 0.62399731 0.62360311 0.63159124 0.63161076\n",
      " 0.62393261 0.62890784 0.62338594 0.6298343  0.6332614  0.64367323\n",
      " 0.63311149 0.62394114 0.62960905 0.63026613 0.64149636 0.64101868\n",
      " 0.6236086  0.64419329 0.6394093  0.63696685 0.62911821 0.62702303\n",
      " 0.62633435 0.63085637 0.62882273 0.63747092 0.64934248 0.62654582\n",
      " 0.62695553 0.63040167 0.62517067 0.64151874 0.61924691 0.6236029\n",
      " 0.63026543 0.6311803  0.61980257 0.62938045 0.62360515 0.62689351\n",
      " 0.63863436 0.62315674 0.62360663 0.62893513 0.62222869 0.61890807\n",
      " 0.62362144 0.63033737 0.63165174 0.62994757 0.62790222 0.64745462\n",
      " 0.62754189 0.63142311 0.62916428 0.63914412 0.62074178 0.62509306\n",
      " 0.63214531 0.63129955 0.63110439 0.62930107 0.64042074 0.63710943\n",
      " 0.62213619 0.62456003 0.64550533 0.63575784 0.63253928 0.62663996\n",
      " 0.64731453 0.62673738 0.63590928 0.65288953 0.62780348 0.62360248\n",
      " 0.62984292 0.62510678 0.62729191 0.62788419 0.62707844 0.62603365\n",
      " 0.62896965 0.62839547 0.62295352 0.62569573 0.63205598 0.63066049\n",
      " 0.63105981 0.62305943 0.6235213  0.6274739  0.63563625 0.63637018\n",
      " 0.62686743 0.63835234 0.62730326 0.62453834 0.62348123 0.63533755\n",
      " 0.63664873 0.62361349 0.64826319 0.64011646 0.62652355 0.6250265\n",
      " 0.62920655 0.63142788 0.63237802 0.63414856 0.62361399 0.62764293\n",
      " 0.63020305 0.62727122 0.6295087  0.630105   0.62983651 0.62417981\n",
      " 0.6301388  0.63925129 0.62605621 0.62574912 0.6239375  0.63265824\n",
      " 0.63596725 0.63495951 0.63931065 0.63453994 0.63277548 0.643885\n",
      " 0.63292821 0.64584627 0.6282859  0.62716836 0.63418765 0.62349382\n",
      " 0.62706741 0.62550013 0.62500954 0.62946639 0.62755393 0.62473564\n",
      " 0.62633312 0.62614142 0.62609876 0.65265827 0.63996868 0.61964706\n",
      " 0.62369519 0.62883235 0.64786337 0.62327066 0.62604776 0.63198484\n",
      " 0.63322393 0.62793061 0.62875869 0.62004236 0.62560628 0.62669011\n",
      " 0.62766983 0.62331235 0.64282453 0.63947143 0.62382543 0.64825009\n",
      " 0.62912489 0.62710282 0.62656042 0.62920395 0.63143089 0.62685655\n",
      " 0.62415771 0.62360471 0.62739281 0.62597217 0.64715082 0.622874\n",
      " 0.62651607 0.62725131 0.62361506 0.63269964 0.62259717 0.62902931\n",
      " 0.63910675 0.64170713 0.62841757 0.62901652 0.63593654 0.63432106\n",
      " 0.62875874 0.64559345 0.63308609 0.63971679 0.62708636 0.63005931\n",
      " 0.62569099 0.66316658 0.62497236 0.62821587 0.62498    0.62360988\n",
      " 0.62359939 0.62624019 0.62895895 0.61989339 0.62688981 0.62361436\n",
      " 0.62489317 0.65506596 0.63107949 0.62407517 0.63579388 0.62381777\n",
      " 0.63062679 0.61785106 0.62361112 0.62552476 0.6213397  0.62853816\n",
      " 0.62344932 0.62464644 0.62627462 0.62422594 0.62361983 0.62360252\n",
      " 0.62360277 0.63451313 0.62505797 0.63074342 0.62390856 0.62600445\n",
      " 0.64817733 0.63020805 0.63197874 0.63149973 0.62360456 0.62361495\n",
      " 0.62978772 0.62361219 0.62297879 0.62616013 0.62361829 0.62483131\n",
      " 0.63548887 0.63231564 0.62458282 0.62641064 0.63107438 0.63056288\n",
      " 0.62361011 0.62412627 0.63404357 0.63208537 0.62193148 0.63232221\n",
      " 0.6215801  0.63376767 0.62576562 0.63587126 0.62898735 0.62409456\n",
      " 0.63269992 0.6253247  0.61483458 0.62360495 0.63991282 0.64543902\n",
      " 0.62719525 0.62514208 0.63050188 0.6289547  0.62504753 0.62757517\n",
      " 0.62634702 0.62511635 0.62980243 0.62361188 0.62361343 0.62752602\n",
      " 0.62316907 0.6294917  0.63184642 0.62414023 0.63682041 0.64832144\n",
      " 0.63581171 0.62361221 0.62360822 0.62360647 0.61783757 0.62360259\n",
      " 0.62360434 0.62360769 0.62334048 0.62110331 0.62294764 0.62522442\n",
      " 0.64868116 0.62333103 0.62745437 0.64752602 0.62622754 0.62912058\n",
      " 0.63988051 0.6254631  0.62200308 0.62175967 0.6217296  0.61921489\n",
      " 0.62341957 0.64239187 0.62361374 0.62317632 0.6259222  0.62349635\n",
      " 0.62355814 0.63602812 0.62362208 0.62360317 0.62388288 0.628825\n",
      " 0.62610978 0.62360608 0.62114461 0.62286188 0.62362038 0.62360881\n",
      " 0.62361777 0.62537126 0.62171913 0.62070197 0.63219102 0.62361644\n",
      " 0.62197209 0.62361741 0.62351967 0.62271423 0.62360144 0.61926058\n",
      " 0.63192564 0.61858441 0.62360212 0.62417735 0.62361378 0.62362181\n",
      " 0.64488828 0.62259174 0.62268252 0.62475659 0.62429076 0.62006218\n",
      " 0.62373543 0.62587681 0.62360479 0.62360794 0.62361347 0.62158132\n",
      " 0.62436169 0.62361967 0.62363034 0.62359923 0.62841216 0.61988941\n",
      " 0.62483109 0.62238888 0.62362071 0.62234581 0.62296704 0.62361069\n",
      " 0.62315316 0.62362148 0.62440377 0.63154627 0.62360705 0.62073803\n",
      " 0.62415648 0.62360741 0.62562387 0.6236027  0.62361871 0.64102265\n",
      " 0.62326142 0.62735588 0.62326039 0.62288801 0.62361222 0.62707576\n",
      " 0.62578701 0.62359892 0.624553   0.62361387 0.62911287 0.62515344\n",
      " 0.62360903 0.62359904 0.62361209 0.62408659 0.6236081  0.62360789\n",
      " 0.65145101 0.62132035 0.62361189 0.6201114  0.62362286 0.62624904\n",
      " 0.62284916 0.62090942 0.62350408 0.62299498 0.62010386 0.639677\n",
      " 0.62360017 0.62361371 0.6219194  0.62219371 0.62152311 0.62304048\n",
      " 0.62300461 0.63323584 0.62360741 0.64273576 0.62522462 0.62519687\n",
      " 0.63001472 0.62361558 0.62453765 0.62361075 0.62201433 0.62360443\n",
      " 0.62881798 0.62335198 0.62260458 0.62298943 0.63014764 0.62666314\n",
      " 0.62360374 0.62052114 0.62027692 0.62361221 0.62254931 0.63976158\n",
      " 0.62090836 0.62371015 0.62583881 0.62508567 0.63107285 0.62268956\n",
      " 0.64235223 0.62716711 0.62012125 0.62362188 0.6210989  0.62883126\n",
      " 0.62360885 0.62360394 0.62141172 0.62361816 0.62417208 0.62362161\n",
      " 0.62189624 0.62232803 0.62362373 0.62163398 0.62343035 0.63428335\n",
      " 0.62307949 0.6274814  0.62401102 0.62360355 0.62667688 0.61898817\n",
      " 0.62820584 0.6216805  0.62362008 0.62362297 0.62361806 0.62746755\n",
      " 0.62280932 0.62350131 0.62360076 0.62400259 0.62242824 0.62116332\n",
      " 0.62220513 0.62362293 0.62361496 0.62077633 0.62032148 0.62233242\n",
      " 0.61870167 0.62637445 0.62361681 0.62241109 0.62506457 0.64623092\n",
      " 0.62815456 0.63036896 0.62838865 0.62589495 0.62362185]\n",
      "(569, 2)\n"
     ]
    }
   ],
   "source": [
    "probability=clf2.predict_proba(x_train)\n",
    "print(probability[:,1])\n",
    "print(probability.shape)"
   ]
  },
  {
   "cell_type": "code",
   "execution_count": 14,
   "metadata": {},
   "outputs": [
    {
     "data": {
      "text/plain": [
       "<matplotlib.collections.PathCollection at 0x7fd2800cbc90>"
      ]
     },
     "execution_count": 14,
     "metadata": {},
     "output_type": "execute_result"
    },
    {
     "data": {
      "image/png": "[encoded data removed]",
      "text/plain": [
       "<Figure size 432x288 with 1 Axes>"
      ]
     },
     "metadata": {
      "needs_background": "light"
     },
     "output_type": "display_data"
    }
   ],
   "source": [
    "prob=probability[:,1]\n",
    "plt.scatter(np.arange(len(prob)), prob, s=5)"
   ]
  },
  {
   "cell_type": "code",
   "execution_count": 15,
   "metadata": {},
   "outputs": [
    {
     "name": "stdout",
     "output_type": "stream",
     "text": [
      "0.6537785588752196\n"
     ]
    }
   ],
   "source": [
    "accuracy = accuracy_score(y_train.flatten(),predic)\n",
    "print(accuracy)"
   ]
  },
  {
   "cell_type": "code",
   "execution_count": 16,
   "metadata": {},
   "outputs": [],
   "source": [
    "m=50000\n",
    "bf=BloomFilter(m,clf2)\n",
    "bf.add_init(x_train,y_train)"
   ]
  },
  {
   "cell_type": "code",
   "execution_count": 17,
   "metadata": {},
   "outputs": [
    {
     "name": "stdout",
     "output_type": "stream",
     "text": [
      "46\n",
      "166\n",
      "0.2169811320754717\n"
     ]
    }
   ],
   "source": [
    "print(fpr_test(x_train,bf,y_train))"
   ]
  },
  {
   "cell_type": "code",
   "execution_count": 64,
   "metadata": {},
   "outputs": [
    {
     "data": {
      "text/plain": [
       "array([1, 1, 1, 1, 1, 1, 1, 1, 1, 1, 1, 1, 1, 1, 1, 1, 1, 1, 0, 1, 1, 1,\n",
       "       1, 1, 1, 1, 1, 1, 1, 1, 1, 1, 1, 1, 1, 1, 1, 1, 1, 1, 1, 1, 1, 1,\n",
       "       0, 1, 1, 1, 1, 1, 1, 1, 1, 1, 1, 1, 1, 1, 1, 1, 1, 1, 1, 1, 0, 1,\n",
       "       1, 1, 1, 1, 1, 1, 1, 1, 1, 1, 1, 1, 1, 1, 1, 1, 1, 1, 1, 1, 1, 1,\n",
       "       1, 1, 1, 1, 1, 1, 0, 1, 1, 1, 1, 1, 1, 1, 1, 1, 1, 1, 1, 1, 1, 1,\n",
       "       1, 1, 1, 1, 1, 1, 1, 1, 1, 0, 1, 1, 1, 1, 1, 1, 1, 1, 1, 1, 1, 1,\n",
       "       1, 1, 1, 1, 1, 1, 1, 1, 1, 0, 1, 1, 1, 1, 1, 1, 1, 1, 1, 1, 1, 1,\n",
       "       1, 1, 1, 1, 1, 1, 1, 1, 1, 1, 1, 1, 1, 1, 1, 1, 1, 1, 1, 1, 1, 1,\n",
       "       1, 1, 1, 1, 1, 1, 1, 1, 1, 1, 1, 1, 1, 1, 1, 1, 1, 1, 1, 1, 1, 1,\n",
       "       1, 1, 1, 1, 1, 1, 1, 1, 1, 1, 1, 1, 1, 1, 1, 0, 1, 1, 1, 1, 0, 1,\n",
       "       1, 1, 1, 1, 1, 1, 1, 1, 1, 1, 1, 1, 1, 1, 1, 1, 1, 1, 1, 1, 1, 1,\n",
       "       1, 1, 0, 1, 1, 1, 1, 1, 1, 1, 1, 1, 1, 1, 1, 1, 1, 1, 1, 1, 1, 1,\n",
       "       1, 0, 1, 1, 1, 1, 1, 1, 1, 1, 1, 1, 1, 0, 1, 1, 1, 1, 1, 1, 1, 1,\n",
       "       1, 1, 1, 1, 1, 1, 1, 1, 1, 1, 1, 1, 1, 1, 1, 1, 1, 1, 1, 1, 1, 1,\n",
       "       1, 1, 1, 1, 1, 1, 1, 1, 1, 1, 1, 1, 1, 1, 1, 1, 1, 1, 1, 1, 1, 1,\n",
       "       1, 1, 1, 1, 1, 1, 1, 1, 1, 1, 1, 1, 1, 1, 1, 1, 1, 1, 1, 1, 1, 1,\n",
       "       1, 1, 1, 1, 1, 1, 1, 1, 1, 1, 1, 1, 1, 1, 0, 1, 1, 0, 1, 1, 1, 1,\n",
       "       1, 1, 1, 1, 1, 1, 1, 1, 1, 1, 1, 1, 1, 1, 1, 1, 1, 1, 1, 1, 1, 1,\n",
       "       1, 1, 1, 1, 1, 1, 1, 1, 1, 1, 1, 1, 1, 1, 1, 1, 1, 1, 1, 1, 1, 1,\n",
       "       1, 1, 1, 1, 1, 1, 1, 1, 1, 1, 1, 1, 1, 1, 1, 1, 1, 1, 1, 1, 1, 1,\n",
       "       1, 1, 1, 1, 1, 1, 1, 1, 1, 1, 1, 1, 1, 1, 1, 1, 1, 1, 1, 1, 1, 1,\n",
       "       1, 1, 1, 1, 1, 1, 0, 1, 1, 1, 1, 1, 1, 1, 1, 1, 1, 1, 1, 1, 1, 1,\n",
       "       1, 1, 1, 1, 1, 1, 1, 1, 1, 1, 1, 1, 1, 1, 1, 1, 1, 1, 1, 1, 1, 1,\n",
       "       1, 1, 1, 1, 1, 1, 1, 1, 1, 1, 1, 1, 1, 1, 1, 1, 1, 1, 1, 1, 1, 1,\n",
       "       1, 1, 1, 1, 1, 1, 1, 1, 1, 1, 1, 1, 1, 1, 1, 1, 1, 1, 1, 1, 1, 1,\n",
       "       1, 1, 1, 1, 1, 1, 1, 1, 1, 1, 1, 1, 1, 0, 1, 1, 1, 1, 1])"
      ]
     },
     "execution_count": 64,
     "metadata": {},
     "output_type": "execute_result"
    }
   ],
   "source": [
    "preds"
   ]
  },
  {
   "cell_type": "code",
   "execution_count": 65,
   "metadata": {},
   "outputs": [],
   "source": [
    "filename2='svm_bcancer.sav'\n",
    "pickle.dump(clf2,open(filename2,'wb'))"
   ]
  },
  {
   "cell_type": "code",
   "execution_count": 66,
   "metadata": {},
   "outputs": [],
   "source": [
    "model_size2=os.stat('svm_bcancer.sav').st_size"
   ]
  },
  {
   "cell_type": "code",
   "execution_count": 67,
   "metadata": {},
   "outputs": [
    {
     "name": "stdout",
     "output_type": "stream",
     "text": [
      "128990\n"
     ]
    }
   ],
   "source": [
    "print(model_size2)"
   ]
  },
  {
   "cell_type": "code",
   "execution_count": null,
   "metadata": {},
   "outputs": [],
   "source": []
  }
 ],
 "metadata": {
  "kernelspec": {
   "display_name": "Python 3",
   "language": "python",
   "name": "python3"
  },
  "language_info": {
   "codemirror_mode": {
    "name": "ipython",
    "version": 3
   },
   "file_extension": ".py",
   "mimetype": "text/x-python",
   "name": "python",
   "nbconvert_exporter": "python",
   "pygments_lexer": "ipython3",
   "version": "3.7.6"
  }
 },
 "nbformat": 4,
 "nbformat_minor": 4
}
