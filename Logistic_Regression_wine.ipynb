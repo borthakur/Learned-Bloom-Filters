{
 "cells": [
  {
   "cell_type": "code",
   "execution_count": 1,
   "metadata": {},
   "outputs": [],
   "source": [
    "from bitarray import bitarray\n",
    "import mmh3\n",
    "import random\n",
    "import numpy as np\n",
    "import math\n",
    "import sklearn.preprocessing"
   ]
  },
  {
   "cell_type": "code",
   "execution_count": 2,
   "metadata": {},
   "outputs": [],
   "source": [
    "import matplotlib.pyplot as plt\n",
    "import seaborn as sns\n",
    "from sklearn import datasets\n",
    "from sklearn.metrics import confusion_matrix\n",
    "from sklearn.preprocessing import StandardScaler \n",
    "import pandas as pd\n"
   ]
  },
  {
   "cell_type": "code",
   "execution_count": 3,
   "metadata": {},
   "outputs": [],
   "source": [
    "X , y = datasets.load_wine(return_X_y=True)"
   ]
  },
  {
   "cell_type": "code",
   "execution_count": 4,
   "metadata": {},
   "outputs": [
    {
     "name": "stdout",
     "output_type": "stream",
     "text": [
      "(178, 13)\n",
      "(178,)\n",
      "13\n"
     ]
    }
   ],
   "source": [
    "print(X.shape)\n",
    "print(y.shape)\n",
    "input_dim = X.shape[1]\n",
    "print(input_dim)"
   ]
  },
  {
   "cell_type": "code",
   "execution_count": 5,
   "metadata": {},
   "outputs": [],
   "source": [
    "y[y==1] = 0\n",
    "y[y==2] = 1"
   ]
  },
  {
   "cell_type": "code",
   "execution_count": 6,
   "metadata": {},
   "outputs": [],
   "source": [
    "x_train = np.array(X)\n",
    "y_train = np.array(y.reshape(-1,1))"
   ]
  },
  {
   "cell_type": "code",
   "execution_count": 7,
   "metadata": {},
   "outputs": [
    {
     "data": {
      "text/plain": [
       "array([[ 1.51861254, -0.5622498 ,  0.23205254, ...,  0.36217728,\n",
       "         1.84791957,  1.01300893],\n",
       "       [ 0.24628963, -0.49941338, -0.82799632, ...,  0.40605066,\n",
       "         1.1134493 ,  0.96524152],\n",
       "       [ 0.19687903,  0.02123125,  1.10933436, ...,  0.31830389,\n",
       "         0.78858745,  1.39514818],\n",
       "       ...,\n",
       "       [ 0.33275817,  1.74474449, -0.38935541, ..., -1.61212515,\n",
       "        -1.48544548,  0.28057537],\n",
       "       [ 0.20923168,  0.22769377,  0.01273209, ..., -1.56825176,\n",
       "        -1.40069891,  0.29649784],\n",
       "       [ 1.39508604,  1.58316512,  1.36520822, ..., -1.52437837,\n",
       "        -1.42894777, -0.59516041]])"
      ]
     },
     "execution_count": 7,
     "metadata": {},
     "output_type": "execute_result"
    }
   ],
   "source": [
    "scaler = StandardScaler()\n",
    "x_train = scaler.fit_transform(x_train)\n",
    "\n",
    "x_train\n"
   ]
  },
  {
   "cell_type": "markdown",
   "metadata": {},
   "source": [
    "# Bloom Filter"
   ]
  },
  {
   "cell_type": "code",
   "execution_count": 8,
   "metadata": {},
   "outputs": [],
   "source": [
    "class BloomFilter:\n",
    "    \n",
    "    def __init__(self, size, model): #hash count is 1\n",
    "        self.size = size\n",
    "      #  self.hash_count = hash_count\n",
    "        self.bit_array = bitarray(size)\n",
    "        self.bit_array.setall(0)\n",
    "        self.model=model #classifier model associated as hash function\n",
    "        \n",
    "    def add(self, num):\n",
    "        result=math.floor(model.predict(num)[0]*(self.size-1))    \n",
    "        self.bit_array[result] = 1\n",
    "            \n",
    "    def lookup(self, num):\n",
    "        #for seed in range(1,self.hash_count+1):\n",
    "            #result = mmh3.hash(str(num), seed) % self.size\n",
    "        result=math.floor(self.model.predict(num)[0]*(self.size-1))    \n",
    "        if self.bit_array[result] == 0:\n",
    "                return False\n",
    "        return True\n",
    "\n",
    "    def add_init(self,x_train,y_train):\n",
    "        pred = self.model.predict_proba(x_train)\n",
    "        pred=pred[:,1]\n",
    "        pred=pred.reshape(-1,1)\n",
    "        for i in range(len(pred)):\n",
    "            if(y_train[i]==1):\n",
    "                result = math.floor(pred[i][0]*(self.size-1))\n",
    "                self.bit_array[result] = 1\n",
    "    \n",
    "    def predict(self,x):\n",
    "        initpred = self.model.predict_proba(x)\n",
    "        initpred=initpred[:,1]\n",
    "        initpred=initpred.reshape(-1,1)\n",
    "        indexes = []\n",
    "        for i in range(len(initpred)):\n",
    "            indexes += [math.floor(initpred[i][0]*(bf.size-1))]\n",
    "        pred = []\n",
    "        for i in indexes:\n",
    "            pred += [self.bit_array[i]]\n",
    "        return np.array(pred)\n",
    "\n",
    "#(Input:bloom filter,number array,ratio; Output:(-1) for false negative, otherwise fpr)\n",
    "def fpr_kraska_hash(bf,x,y):\n",
    "    pred = bf.predict(x)\n",
    "    pred=pred.reshape(-1,1)\n",
    "    tn, fp, fn, tp = confusion_matrix(y, pred,labels=[False,True]).ravel() \n",
    "    return fp/(fp+tn)\n",
    "\n",
    "#(Input:bloom filter size, total random numbers, ratio of number inserted; Output:efficient number of hash functions)\n",
    "def eff_k(m,n,r):\n",
    "    k=int(m/(int(n*r))*math.log(2))\n",
    "    if(k==0):\n",
    "        return 1\n",
    "    return k\n",
    "\n",
    "\n",
    "def fpr_test(x,bf,y):\n",
    "    pred=bf.predict(x)\n",
    "    fp=0\n",
    "    tn=0\n",
    "    for i in range(len(pred)):\n",
    "        if((pred[i]==1)and(y[i]==0)):\n",
    "            fp+=1\n",
    "        if((pred[i]==0) and (y[i]==0)):\n",
    "            tn+=1\n",
    "        if((pred[i]==0) and (y[i]==1)):\n",
    "            return -1\n",
    "    print(fp)\n",
    "    print(tn)\n",
    "    return fp/(fp+tn)\n",
    "def outputs(m,n,r):\n",
    "    find_fpr(m,model,n,r)\n",
    "    #print(\"For m=%d, k=%d, n=%d, r=%.3f: fpr=%.3f\"%(m,k,n,r,find_fpr(m,k,n,r)))"
   ]
  },
  {
   "cell_type": "markdown",
   "metadata": {},
   "source": [
    "# Logistic Regression Model"
   ]
  },
  {
   "cell_type": "code",
   "execution_count": 9,
   "metadata": {},
   "outputs": [
    {
     "name": "stderr",
     "output_type": "stream",
     "text": [
      "/Users/aditijain/opt/anaconda3/lib/python3.7/site-packages/sklearn/utils/validation.py:760: DataConversionWarning: A column-vector y was passed when a 1d array was expected. Please change the shape of y to (n_samples, ), for example using ravel().\n",
      "  y = column_or_1d(y, warn=True)\n"
     ]
    },
    {
     "data": {
      "text/plain": [
       "LogisticRegression(C=10.0, class_weight=None, dual=False, fit_intercept=True,\n",
       "                   intercept_scaling=1, l1_ratio=None, max_iter=100,\n",
       "                   multi_class='auto', n_jobs=None, penalty='l2',\n",
       "                   random_state=10, solver='lbfgs', tol=0.0001, verbose=0,\n",
       "                   warm_start=False)"
      ]
     },
     "execution_count": 9,
     "metadata": {},
     "output_type": "execute_result"
    }
   ],
   "source": [
    "from sklearn.linear_model import LogisticRegression\n",
    "classifier = LogisticRegression(C=10.0,random_state = 10,max_iter=100)\n",
    "classifier.fit(x_train, y_train)"
   ]
  },
  {
   "cell_type": "code",
   "execution_count": 10,
   "metadata": {},
   "outputs": [
    {
     "name": "stdout",
     "output_type": "stream",
     "text": [
      "[0 0 0 0 0 0 0 0 0 0 0 0 0 0 0 0 0 0 0 0 0 0 0 0 0 0 0 0 0 0 0 0 0 0 0 0 0\n",
      " 0 0 0 0 0 0 0 0 0 0 0 0 0 0 0 0 0 0 0 0 0 0 0 0 0 0 0 0 0 0 0 0 0 0 0 0 0\n",
      " 0 0 0 0 0 0 0 0 0 0 0 0 0 0 0 0 0 0 0 0 0 0 0 0 0 0 0 0 0 0 0 0 0 0 0 0 0\n",
      " 0 0 0 0 0 0 0 0 0 0 0 0 0 0 0 0 0 0 0 1 1 1 1 1 1 1 1 1 1 1 1 1 1 1 1 1 1\n",
      " 1 1 1 1 1 1 1 1 1 1 1 1 1 1 1 1 1 1 1 1 1 1 1 1 1 1 1 1 1 1]\n"
     ]
    }
   ],
   "source": [
    "y_pred = classifier.predict(x_train)\n",
    "print(y_pred)"
   ]
  },
  {
   "cell_type": "code",
   "execution_count": 11,
   "metadata": {},
   "outputs": [
    {
     "name": "stdout",
     "output_type": "stream",
     "text": [
      "[2.91520930e-06 2.47586003e-06 1.03732373e-05 5.04396936e-04\n",
      " 4.65687818e-04 1.70269290e-04 1.07099144e-04 7.31761861e-04\n",
      " 2.98771666e-05 1.73932402e-05 2.20658355e-06 2.60270935e-04\n",
      " 8.39821783e-05 3.85989846e-07 2.75660846e-06 7.48147777e-04\n",
      " 2.68585341e-03 3.31491471e-04 8.12496084e-05 1.32580607e-04\n",
      " 8.77534164e-07 8.02132243e-05 4.54500304e-07 1.00053667e-05\n",
      " 3.70866944e-06 2.12241620e-04 2.11528870e-04 2.19577400e-04\n",
      " 9.91284357e-06 1.20821483e-05 5.72795009e-05 1.40781705e-04\n",
      " 3.44729045e-06 2.08315025e-04 4.55776617e-04 8.58483436e-06\n",
      " 6.40289423e-04 4.71684166e-04 3.60791961e-06 1.20115811e-04\n",
      " 2.73145628e-06 1.90898430e-04 3.42869616e-05 3.82277185e-04\n",
      " 2.36835975e-06 7.68387488e-03 7.23836748e-06 4.62123340e-06\n",
      " 1.50892575e-04 4.07260583e-05 4.26367799e-07 6.22500792e-06\n",
      " 1.03947983e-05 9.92452252e-04 1.50098169e-04 2.14557270e-04\n",
      " 7.71149226e-05 2.34501763e-04 1.91715648e-04 2.34420508e-04\n",
      " 4.96044728e-03 7.47642181e-02 1.22540042e-04 5.37151193e-08\n",
      " 1.95138626e-05 1.28952895e-05 6.16535567e-09 1.55176376e-06\n",
      " 6.61963197e-02 1.02816290e-07 4.35705168e-02 1.24183625e-06\n",
      " 1.86757891e-03 6.78874856e-07 7.99991806e-06 1.73585319e-05\n",
      " 3.00241723e-06 1.06989382e-03 1.91134227e-06 8.30059314e-07\n",
      " 5.68447803e-09 9.22032323e-07 1.03822404e-05 1.33716041e-01\n",
      " 1.49377601e-05 7.08632450e-07 9.01492635e-06 3.49870943e-06\n",
      " 1.25029839e-04 4.50294223e-06 7.10419821e-05 3.71677613e-04\n",
      " 1.43241678e-03 1.01498777e-07 1.03149314e-06 1.86437492e-07\n",
      " 6.65660969e-02 4.16977229e-08 4.15893422e-08 5.98261192e-10\n",
      " 7.04234509e-08 2.37745772e-05 9.86686382e-05 9.28299583e-06\n",
      " 8.16097797e-07 2.59936423e-05 3.08949270e-06 1.01181124e-03\n",
      " 7.23107968e-07 2.15075767e-07 7.00392322e-08 2.25875760e-05\n",
      " 6.10544183e-04 2.16742825e-05 2.07245900e-05 1.30007562e-10\n",
      " 1.23780107e-06 1.97142029e-06 8.22440808e-02 2.75658925e-06\n",
      " 1.72883894e-06 1.84070587e-07 3.11889589e-04 5.23549923e-05\n",
      " 1.92946449e-07 1.27791929e-06 1.30716517e-05 3.28080291e-04\n",
      " 4.80792226e-06 4.16723176e-03 8.98047052e-01 9.91080705e-01\n",
      " 9.98000260e-01 9.90299173e-01 8.79243246e-01 9.90244492e-01\n",
      " 9.98443751e-01 9.96674583e-01 9.87064558e-01 9.57946980e-01\n",
      " 9.86323000e-01 9.91198126e-01 9.95210209e-01 9.04653572e-01\n",
      " 9.97325990e-01 9.89432345e-01 9.99954154e-01 9.99943635e-01\n",
      " 9.99916267e-01 9.99931812e-01 9.99956330e-01 9.99980125e-01\n",
      " 9.99606327e-01 9.99860897e-01 9.93989443e-01 9.99888421e-01\n",
      " 9.99925486e-01 9.99788736e-01 9.99948817e-01 9.99873790e-01\n",
      " 9.99247967e-01 9.95504145e-01 9.72398965e-01 9.95117841e-01\n",
      " 9.99937069e-01 9.98796330e-01 9.99951143e-01 9.99869398e-01\n",
      " 9.99855755e-01 9.99988381e-01 9.92292236e-01 9.99965192e-01\n",
      " 9.99983161e-01 9.99974301e-01 9.99761543e-01 9.99986018e-01\n",
      " 9.99892721e-01 9.99997077e-01]\n"
     ]
    }
   ],
   "source": [
    "prob=classifier.predict_proba(x_train)\n",
    "print(prob[:,1])"
   ]
  },
  {
   "cell_type": "code",
   "execution_count": 12,
   "metadata": {},
   "outputs": [
    {
     "name": "stdout",
     "output_type": "stream",
     "text": [
      "Accuracy :  1.0\n"
     ]
    }
   ],
   "source": [
    "from sklearn.metrics import accuracy_score\n",
    "print (\"Accuracy : \", accuracy_score(y_train, y_pred))"
   ]
  },
  {
   "cell_type": "code",
   "execution_count": 13,
   "metadata": {},
   "outputs": [
    {
     "data": {
      "text/plain": [
       "<matplotlib.collections.PathCollection at 0x7fa4bbf9b290>"
      ]
     },
     "execution_count": 13,
     "metadata": {},
     "output_type": "execute_result"
    },
    {
     "data": {
      "image/png": "[encoded data removed]",
      "text/plain": [
       "<Figure size 432x288 with 1 Axes>"
      ]
     },
     "metadata": {
      "needs_background": "light"
     },
     "output_type": "display_data"
    }
   ],
   "source": [
    "preds =prob[:,1]\n",
    "plt.scatter(np.arange(len(preds)), preds, s=5)"
   ]
  },
  {
   "cell_type": "code",
   "execution_count": 20,
   "metadata": {},
   "outputs": [],
   "source": [
    "m=10"
   ]
  },
  {
   "cell_type": "code",
   "execution_count": 21,
   "metadata": {},
   "outputs": [],
   "source": [
    "bf=BloomFilter(m,classifier)"
   ]
  },
  {
   "cell_type": "code",
   "execution_count": 22,
   "metadata": {},
   "outputs": [],
   "source": [
    "bf.add_init(x_train,y_train)"
   ]
  },
  {
   "cell_type": "code",
   "execution_count": 23,
   "metadata": {},
   "outputs": [
    {
     "name": "stdout",
     "output_type": "stream",
     "text": [
      "0\n",
      "130\n",
      "0.0\n"
     ]
    }
   ],
   "source": [
    "print(fpr_test(x_train,bf,y_train))"
   ]
  },
  {
   "cell_type": "code",
   "execution_count": 24,
   "metadata": {},
   "outputs": [],
   "source": [
    "import pickle\n",
    "import os"
   ]
  },
  {
   "cell_type": "code",
   "execution_count": 40,
   "metadata": {},
   "outputs": [],
   "source": [
    "filename1='logreg_wine.sav'\n",
    "pickle.dump(classifier,open(filename1,'wb'))"
   ]
  },
  {
   "cell_type": "code",
   "execution_count": 41,
   "metadata": {},
   "outputs": [],
   "source": [
    "model_size1=os.stat('logreg_wine.sav').st_size"
   ]
  },
  {
   "cell_type": "code",
   "execution_count": 42,
   "metadata": {},
   "outputs": [
    {
     "name": "stdout",
     "output_type": "stream",
     "text": [
      "928\n"
     ]
    }
   ],
   "source": [
    "print(model_size1)"
   ]
  },
  {
   "cell_type": "markdown",
   "metadata": {},
   "source": [
    "# SVM Model"
   ]
  },
  {
   "cell_type": "code",
   "execution_count": 28,
   "metadata": {},
   "outputs": [],
   "source": [
    "from sklearn import svm\n",
    "from sklearn.metrics import accuracy_score \n"
   ]
  },
  {
   "cell_type": "code",
   "execution_count": 29,
   "metadata": {},
   "outputs": [
    {
     "name": "stderr",
     "output_type": "stream",
     "text": [
      "/Users/aditijain/opt/anaconda3/lib/python3.7/site-packages/sklearn/utils/validation.py:760: DataConversionWarning: A column-vector y was passed when a 1d array was expected. Please change the shape of y to (n_samples, ), for example using ravel().\n",
      "  y = column_or_1d(y, warn=True)\n"
     ]
    },
    {
     "data": {
      "text/plain": [
       "SVC(C=1.0, break_ties=False, cache_size=200, class_weight=None, coef0=0.0,\n",
       "    decision_function_shape='ovr', degree=3, gamma='scale', kernel='rbf',\n",
       "    max_iter=-1, probability=True, random_state=None, shrinking=True, tol=0.001,\n",
       "    verbose=False)"
      ]
     },
     "execution_count": 29,
     "metadata": {},
     "output_type": "execute_result"
    }
   ],
   "source": [
    "clf2 = svm.SVC(kernel='rbf',probability=True)\n",
    "clf2.fit(x_train, y_train)"
   ]
  },
  {
   "cell_type": "code",
   "execution_count": 30,
   "metadata": {},
   "outputs": [],
   "source": [
    "predic=clf2.predict(x_train)"
   ]
  },
  {
   "cell_type": "code",
   "execution_count": 31,
   "metadata": {},
   "outputs": [
    {
     "name": "stdout",
     "output_type": "stream",
     "text": [
      "[5.90829130e-03 4.58203667e-03 5.71706065e-03 1.08771022e-02\n",
      " 6.74260766e-03 5.83885864e-03 6.20363211e-03 5.63522728e-03\n",
      " 5.69585755e-03 5.76019432e-03 5.36439286e-03 6.23759487e-03\n",
      " 4.90456865e-03 1.08718706e-02 1.08463831e-02 7.77232727e-03\n",
      " 1.08769174e-02 8.05328075e-03 1.08677720e-02 5.62547690e-03\n",
      " 5.29654628e-03 3.75572657e-03 2.13099178e-03 2.10058549e-03\n",
      " 1.88611677e-03 1.08584648e-02 4.96576988e-03 4.81125677e-03\n",
      " 3.46953435e-03 3.49017026e-03 9.44730346e-03 7.06434971e-03\n",
      " 1.44069287e-03 8.34554130e-03 3.89287319e-03 2.08590555e-03\n",
      " 5.93858444e-03 4.14852616e-03 1.54341300e-03 1.08778801e-02\n",
      " 4.80842295e-03 5.30646880e-03 6.33353081e-03 6.87685267e-03\n",
      " 2.78087795e-03 1.08632877e-02 3.82943353e-03 5.05391035e-03\n",
      " 6.33241226e-03 7.86165833e-03 1.08712657e-02 5.58881473e-03\n",
      " 6.85058023e-03 6.46822477e-03 6.14579885e-03 7.70798301e-03\n",
      " 5.74963603e-03 5.09062539e-03 8.69673034e-03 1.08471604e-02\n",
      " 6.54394202e-03 4.09419172e-02 2.73727251e-03 6.19686444e-03\n",
      " 2.03590305e-03 2.56519506e-03 9.68508764e-03 2.43541132e-03\n",
      " 1.08493514e-02 1.08590101e-02 5.07933836e-02 8.87455078e-03\n",
      " 1.08716776e-02 1.08579981e-02 5.87447961e-03 2.19463705e-03\n",
      " 3.64721438e-03 1.08673559e-02 8.41921345e-03 1.84793609e-03\n",
      " 1.80827817e-03 8.36338541e-04 2.04701513e-03 3.42380636e-01\n",
      " 5.72421921e-03 7.56202862e-04 1.02766083e-03 2.78762531e-03\n",
      " 2.06398566e-03 1.67458745e-03 1.81184275e-03 4.93007711e-03\n",
      " 1.08741317e-02 1.09362440e-03 3.46103796e-03 1.08675733e-02\n",
      " 1.08563716e-02 1.29779079e-03 5.60324139e-03 4.83209788e-03\n",
      " 1.77267104e-03 1.56578982e-03 2.59946305e-03 1.16938061e-03\n",
      " 8.50495186e-04 5.05519630e-03 7.35156522e-04 6.67708036e-03\n",
      " 1.51795531e-03 3.05760182e-03 1.08826856e-02 1.37480729e-03\n",
      " 1.08666110e-02 2.69348067e-03 2.18326185e-03 9.39833608e-03\n",
      " 9.45717866e-04 7.28534296e-04 4.67683706e-02 6.89269436e-04\n",
      " 1.76723511e-03 1.08693834e-02 1.08619686e-02 9.39462405e-03\n",
      " 7.12659349e-03 7.34822776e-04 3.82753500e-03 1.08477243e-02\n",
      " 1.03694980e-03 1.08695812e-02 7.47037699e-01 9.87294418e-01\n",
      " 9.85841737e-01 9.77424266e-01 7.60737052e-01 9.77367653e-01\n",
      " 9.78526851e-01 9.77385599e-01 9.78420345e-01 9.66847568e-01\n",
      " 9.77386883e-01 9.77433418e-01 9.83881084e-01 9.51906934e-01\n",
      " 9.77426862e-01 9.77420205e-01 9.77394098e-01 9.99984316e-01\n",
      " 9.99997740e-01 9.96494077e-01 9.82722788e-01 9.87499036e-01\n",
      " 9.77394097e-01 9.81624905e-01 9.77394881e-01 9.87190862e-01\n",
      " 9.92906664e-01 9.85698796e-01 9.51173937e-01 9.77382960e-01\n",
      " 9.91994969e-01 9.89460200e-01 9.84384153e-01 9.94995665e-01\n",
      " 9.97030754e-01 9.93548428e-01 9.93722070e-01 9.95384634e-01\n",
      " 9.95664573e-01 9.80619088e-01 9.80051349e-01 9.92504304e-01\n",
      " 9.96873966e-01 9.95146012e-01 9.99996967e-01 9.89337873e-01\n",
      " 9.93781721e-01 9.93843683e-01]\n",
      "(178, 2)\n"
     ]
    }
   ],
   "source": [
    "probability=clf2.predict_proba(x_train)\n",
    "print(probability[:,1])\n",
    "print(probability.shape)"
   ]
  },
  {
   "cell_type": "code",
   "execution_count": 32,
   "metadata": {},
   "outputs": [
    {
     "data": {
      "text/plain": [
       "<matplotlib.collections.PathCollection at 0x7fa4bb92e1d0>"
      ]
     },
     "execution_count": 32,
     "metadata": {},
     "output_type": "execute_result"
    },
    {
     "data": {
      "image/png": "[encoded data removed]",
      "text/plain": [
       "<Figure size 432x288 with 1 Axes>"
      ]
     },
     "metadata": {
      "needs_background": "light"
     },
     "output_type": "display_data"
    }
   ],
   "source": [
    "prob=probability[:,1]\n",
    "plt.scatter(np.arange(len(prob)), prob, s=5)"
   ]
  },
  {
   "cell_type": "code",
   "execution_count": 33,
   "metadata": {},
   "outputs": [
    {
     "name": "stdout",
     "output_type": "stream",
     "text": [
      "1.0\n"
     ]
    }
   ],
   "source": [
    "accuracy = accuracy_score(y_train.flatten(),predic)\n",
    "print(accuracy)"
   ]
  },
  {
   "cell_type": "code",
   "execution_count": 34,
   "metadata": {},
   "outputs": [],
   "source": [
    "m=25\n",
    "bf=BloomFilter(m,clf2)\n",
    "bf.add_init(x_train,y_train)"
   ]
  },
  {
   "cell_type": "code",
   "execution_count": 35,
   "metadata": {},
   "outputs": [
    {
     "name": "stdout",
     "output_type": "stream",
     "text": [
      "0\n",
      "130\n",
      "0.0\n"
     ]
    }
   ],
   "source": [
    "print(fpr_test(x_train,bf,y_train))"
   ]
  },
  {
   "cell_type": "code",
   "execution_count": 36,
   "metadata": {},
   "outputs": [
    {
     "data": {
      "text/plain": [
       "array([2.91520930e-06, 2.47586003e-06, 1.03732373e-05, 5.04396936e-04,\n",
       "       4.65687818e-04, 1.70269290e-04, 1.07099144e-04, 7.31761861e-04,\n",
       "       2.98771666e-05, 1.73932402e-05, 2.20658355e-06, 2.60270935e-04,\n",
       "       8.39821783e-05, 3.85989846e-07, 2.75660846e-06, 7.48147777e-04,\n",
       "       2.68585341e-03, 3.31491471e-04, 8.12496084e-05, 1.32580607e-04,\n",
       "       8.77534164e-07, 8.02132243e-05, 4.54500304e-07, 1.00053667e-05,\n",
       "       3.70866944e-06, 2.12241620e-04, 2.11528870e-04, 2.19577400e-04,\n",
       "       9.91284357e-06, 1.20821483e-05, 5.72795009e-05, 1.40781705e-04,\n",
       "       3.44729045e-06, 2.08315025e-04, 4.55776617e-04, 8.58483436e-06,\n",
       "       6.40289423e-04, 4.71684166e-04, 3.60791961e-06, 1.20115811e-04,\n",
       "       2.73145628e-06, 1.90898430e-04, 3.42869616e-05, 3.82277185e-04,\n",
       "       2.36835975e-06, 7.68387488e-03, 7.23836748e-06, 4.62123340e-06,\n",
       "       1.50892575e-04, 4.07260583e-05, 4.26367799e-07, 6.22500792e-06,\n",
       "       1.03947983e-05, 9.92452252e-04, 1.50098169e-04, 2.14557270e-04,\n",
       "       7.71149226e-05, 2.34501763e-04, 1.91715648e-04, 2.34420508e-04,\n",
       "       4.96044728e-03, 7.47642181e-02, 1.22540042e-04, 5.37151193e-08,\n",
       "       1.95138626e-05, 1.28952895e-05, 6.16535567e-09, 1.55176376e-06,\n",
       "       6.61963197e-02, 1.02816290e-07, 4.35705168e-02, 1.24183625e-06,\n",
       "       1.86757891e-03, 6.78874856e-07, 7.99991806e-06, 1.73585319e-05,\n",
       "       3.00241723e-06, 1.06989382e-03, 1.91134227e-06, 8.30059314e-07,\n",
       "       5.68447803e-09, 9.22032323e-07, 1.03822404e-05, 1.33716041e-01,\n",
       "       1.49377601e-05, 7.08632450e-07, 9.01492635e-06, 3.49870943e-06,\n",
       "       1.25029839e-04, 4.50294223e-06, 7.10419821e-05, 3.71677613e-04,\n",
       "       1.43241678e-03, 1.01498777e-07, 1.03149314e-06, 1.86437492e-07,\n",
       "       6.65660969e-02, 4.16977229e-08, 4.15893422e-08, 5.98261192e-10,\n",
       "       7.04234509e-08, 2.37745772e-05, 9.86686382e-05, 9.28299583e-06,\n",
       "       8.16097797e-07, 2.59936423e-05, 3.08949270e-06, 1.01181124e-03,\n",
       "       7.23107968e-07, 2.15075767e-07, 7.00392322e-08, 2.25875760e-05,\n",
       "       6.10544183e-04, 2.16742825e-05, 2.07245900e-05, 1.30007562e-10,\n",
       "       1.23780107e-06, 1.97142029e-06, 8.22440808e-02, 2.75658925e-06,\n",
       "       1.72883894e-06, 1.84070587e-07, 3.11889589e-04, 5.23549923e-05,\n",
       "       1.92946449e-07, 1.27791929e-06, 1.30716517e-05, 3.28080291e-04,\n",
       "       4.80792226e-06, 4.16723176e-03, 8.98047052e-01, 9.91080705e-01,\n",
       "       9.98000260e-01, 9.90299173e-01, 8.79243246e-01, 9.90244492e-01,\n",
       "       9.98443751e-01, 9.96674583e-01, 9.87064558e-01, 9.57946980e-01,\n",
       "       9.86323000e-01, 9.91198126e-01, 9.95210209e-01, 9.04653572e-01,\n",
       "       9.97325990e-01, 9.89432345e-01, 9.99954154e-01, 9.99943635e-01,\n",
       "       9.99916267e-01, 9.99931812e-01, 9.99956330e-01, 9.99980125e-01,\n",
       "       9.99606327e-01, 9.99860897e-01, 9.93989443e-01, 9.99888421e-01,\n",
       "       9.99925486e-01, 9.99788736e-01, 9.99948817e-01, 9.99873790e-01,\n",
       "       9.99247967e-01, 9.95504145e-01, 9.72398965e-01, 9.95117841e-01,\n",
       "       9.99937069e-01, 9.98796330e-01, 9.99951143e-01, 9.99869398e-01,\n",
       "       9.99855755e-01, 9.99988381e-01, 9.92292236e-01, 9.99965192e-01,\n",
       "       9.99983161e-01, 9.99974301e-01, 9.99761543e-01, 9.99986018e-01,\n",
       "       9.99892721e-01, 9.99997077e-01])"
      ]
     },
     "execution_count": 36,
     "metadata": {},
     "output_type": "execute_result"
    }
   ],
   "source": [
    "preds"
   ]
  },
  {
   "cell_type": "code",
   "execution_count": 43,
   "metadata": {},
   "outputs": [],
   "source": [
    "filename2='svm_wine.sav'\n",
    "pickle.dump(clf2,open(filename2,'wb'))"
   ]
  },
  {
   "cell_type": "code",
   "execution_count": 44,
   "metadata": {},
   "outputs": [],
   "source": [
    "model_size2=os.stat('svm_wine.sav').st_size"
   ]
  },
  {
   "cell_type": "code",
   "execution_count": 45,
   "metadata": {},
   "outputs": [
    {
     "name": "stdout",
     "output_type": "stream",
     "text": [
      "6870\n"
     ]
    }
   ],
   "source": [
    "print(model_size2)"
   ]
  },
  {
   "cell_type": "code",
   "execution_count": null,
   "metadata": {},
   "outputs": [],
   "source": []
  }
 ],
 "metadata": {
  "kernelspec": {
   "display_name": "Python 3",
   "language": "python",
   "name": "python3"
  },
  "language_info": {
   "codemirror_mode": {
    "name": "ipython",
    "version": 3
   },
   "file_extension": ".py",
   "mimetype": "text/x-python",
   "name": "python",
   "nbconvert_exporter": "python",
   "pygments_lexer": "ipython3",
   "version": "3.7.6"
  }
 },
 "nbformat": 4,
 "nbformat_minor": 4
}
