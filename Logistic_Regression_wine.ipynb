{
 "cells": [
  {
   "cell_type": "code",
   "execution_count": 1,
   "metadata": {},
   "outputs": [],
   "source": [
    "from bitarray import bitarray\n",
    "import mmh3\n",
    "import random\n",
    "import numpy as np\n",
    "import math\n",
    "import sklearn.preprocessing"
   ]
  },
  {
   "cell_type": "code",
   "execution_count": 2,
   "metadata": {},
   "outputs": [],
   "source": [
    "import matplotlib.pyplot as plt\n",
    "import seaborn as sns\n",
    "from sklearn import datasets\n",
    "from sklearn.metrics import confusion_matrix\n",
    "from sklearn.preprocessing import StandardScaler \n",
    "import pandas as pd\n"
   ]
  },
  {
   "cell_type": "code",
   "execution_count": 3,
   "metadata": {},
   "outputs": [],
   "source": [
    "X , y = datasets.load_wine(return_X_y=True)"
   ]
  },
  {
   "cell_type": "code",
   "execution_count": 4,
   "metadata": {},
   "outputs": [
    {
     "name": "stdout",
     "output_type": "stream",
     "text": [
      "(178, 13)\n",
      "(178,)\n",
      "13\n"
     ]
    }
   ],
   "source": [
    "print(X.shape)\n",
    "print(y.shape)\n",
    "input_dim = X.shape[1]\n",
    "print(input_dim)"
   ]
  },
  {
   "cell_type": "code",
   "execution_count": 5,
   "metadata": {},
   "outputs": [],
   "source": [
    "y[y==1] = 0\n",
    "y[y==2] = 1"
   ]
  },
  {
   "cell_type": "code",
   "execution_count": 6,
   "metadata": {},
   "outputs": [],
   "source": [
    "x_train = np.array(X)\n",
    "y_train = np.array(y.reshape(-1,1))"
   ]
  },
  {
   "cell_type": "code",
   "execution_count": 7,
   "metadata": {},
   "outputs": [
    {
     "data": {
      "text/plain": [
       "array([[ 1.51861254, -0.5622498 ,  0.23205254, ...,  0.36217728,\n",
       "         1.84791957,  1.01300893],\n",
       "       [ 0.24628963, -0.49941338, -0.82799632, ...,  0.40605066,\n",
       "         1.1134493 ,  0.96524152],\n",
       "       [ 0.19687903,  0.02123125,  1.10933436, ...,  0.31830389,\n",
       "         0.78858745,  1.39514818],\n",
       "       ...,\n",
       "       [ 0.33275817,  1.74474449, -0.38935541, ..., -1.61212515,\n",
       "        -1.48544548,  0.28057537],\n",
       "       [ 0.20923168,  0.22769377,  0.01273209, ..., -1.56825176,\n",
       "        -1.40069891,  0.29649784],\n",
       "       [ 1.39508604,  1.58316512,  1.36520822, ..., -1.52437837,\n",
       "        -1.42894777, -0.59516041]])"
      ]
     },
     "execution_count": 7,
     "metadata": {},
     "output_type": "execute_result"
    }
   ],
   "source": [
    "scaler = StandardScaler()\n",
    "x_train = scaler.fit_transform(x_train)\n",
    "\n",
    "x_train\n"
   ]
  },
  {
   "cell_type": "markdown",
   "metadata": {},
   "source": [
    "# Bloom Filter"
   ]
  },
  {
   "cell_type": "code",
   "execution_count": 8,
   "metadata": {},
   "outputs": [],
   "source": [
    "class BloomFilter:\n",
    "    \n",
    "    def __init__(self, size, model): #hash count is 1\n",
    "        self.size = size\n",
    "      #  self.hash_count = hash_count\n",
    "        self.bit_array = bitarray(size)\n",
    "        self.bit_array.setall(0)\n",
    "        self.model=model #classifier model associated as hash function\n",
    "        \n",
    "    def add(self, num):\n",
    "        result=math.floor(model.predict(num)[0]*(self.size-1))    \n",
    "        self.bit_array[result] = 1\n",
    "            \n",
    "    def lookup(self, num):\n",
    "        #for seed in range(1,self.hash_count+1):\n",
    "            #result = mmh3.hash(str(num), seed) % self.size\n",
    "        result=math.floor(self.model.predict(num)[0]*(self.size-1))    \n",
    "        if self.bit_array[result] == 0:\n",
    "                return False\n",
    "        return True\n",
    "\n",
    "    def add_init(self,x_train,y_train):\n",
    "        pred = self.model.predict_proba(x_train)\n",
    "        pred=pred[:,1]\n",
    "        pred=pred.reshape(-1,1)\n",
    "        for i in range(len(pred)):\n",
    "            if(y_train[i]==1):\n",
    "                result = math.floor(pred[i][0]*(self.size-1))\n",
    "                self.bit_array[result] = 1\n",
    "    \n",
    "    def predict(self,x):\n",
    "        initpred = self.model.predict_proba(x)\n",
    "        initpred=initpred[:,1]\n",
    "        initpred=initpred.reshape(-1,1)\n",
    "        indexes = []\n",
    "        for i in range(len(initpred)):\n",
    "            indexes += [math.floor(initpred[i][0]*(bf.size-1))]\n",
    "        pred = []\n",
    "        for i in indexes:\n",
    "            pred += [self.bit_array[i]]\n",
    "        return np.array(pred)\n",
    "\n",
    "#(Input:bloom filter,number array,ratio; Output:(-1) for false negative, otherwise fpr)\n",
    "def fpr_kraska_hash(bf,x,y):\n",
    "    pred = bf.predict(x)\n",
    "    pred=pred.reshape(-1,1)\n",
    "    tn, fp, fn, tp = confusion_matrix(y, pred,labels=[False,True]).ravel() \n",
    "    return fp/(fp+tn)\n",
    "\n",
    "#(Input:bloom filter size, total random numbers, ratio of number inserted; Output:efficient number of hash functions)\n",
    "def eff_k(m,n,r):\n",
    "    k=int(m/(int(n*r))*math.log(2))\n",
    "    if(k==0):\n",
    "        return 1\n",
    "    return k\n",
    "\n",
    "\n",
    "def fpr_test(x,bf,y):\n",
    "    pred=bf.predict(x)\n",
    "    fp=0\n",
    "    tn=0\n",
    "    for i in range(len(pred)):\n",
    "        if((pred[i]==1)and(y[i]==0)):\n",
    "            fp+=1\n",
    "        if((pred[i]==0) and (y[i]==0)):\n",
    "            tn+=1\n",
    "        if((pred[i]==0) and (y[i]==1)):\n",
    "            return -1\n",
    "    print(fp)\n",
    "    print(tn)\n",
    "    return fp/(fp+tn)\n",
    "def outputs(m,n,r):\n",
    "    find_fpr(m,model,n,r)\n",
    "    #print(\"For m=%d, k=%d, n=%d, r=%.3f: fpr=%.3f\"%(m,k,n,r,find_fpr(m,k,n,r)))"
   ]
  },
  {
   "cell_type": "markdown",
   "metadata": {},
   "source": [
    "# Logistic Regression Model"
   ]
  },
  {
   "cell_type": "code",
   "execution_count": 9,
   "metadata": {},
   "outputs": [
    {
     "name": "stderr",
     "output_type": "stream",
     "text": [
      "/Users/aditijain/opt/anaconda3/lib/python3.7/site-packages/sklearn/utils/validation.py:760: DataConversionWarning: A column-vector y was passed when a 1d array was expected. Please change the shape of y to (n_samples, ), for example using ravel().\n",
      "  y = column_or_1d(y, warn=True)\n"
     ]
    },
    {
     "data": {
      "text/plain": [
       "LogisticRegression(C=10.0, class_weight=None, dual=False, fit_intercept=True,\n",
       "                   intercept_scaling=1, l1_ratio=None, max_iter=100,\n",
       "                   multi_class='auto', n_jobs=None, penalty='l2',\n",
       "                   random_state=10, solver='lbfgs', tol=0.0001, verbose=0,\n",
       "                   warm_start=False)"
      ]
     },
     "execution_count": 9,
     "metadata": {},
     "output_type": "execute_result"
    }
   ],
   "source": [
    "from sklearn.linear_model import LogisticRegression\n",
    "classifier = LogisticRegression(C=10.0,random_state = 10,max_iter=100)\n",
    "classifier.fit(x_train, y_train)"
   ]
  },
  {
   "cell_type": "code",
   "execution_count": 10,
   "metadata": {},
   "outputs": [
    {
     "name": "stdout",
     "output_type": "stream",
     "text": [
      "[0 0 0 0 0 0 0 0 0 0 0 0 0 0 0 0 0 0 0 0 0 0 0 0 0 0 0 0 0 0 0 0 0 0 0 0 0\n",
      " 0 0 0 0 0 0 0 0 0 0 0 0 0 0 0 0 0 0 0 0 0 0 0 0 0 0 0 0 0 0 0 0 0 0 0 0 0\n",
      " 0 0 0 0 0 0 0 0 0 0 0 0 0 0 0 0 0 0 0 0 0 0 0 0 0 0 0 0 0 0 0 0 0 0 0 0 0\n",
      " 0 0 0 0 0 0 0 0 0 0 0 0 0 0 0 0 0 0 0 1 1 1 1 1 1 1 1 1 1 1 1 1 1 1 1 1 1\n",
      " 1 1 1 1 1 1 1 1 1 1 1 1 1 1 1 1 1 1 1 1 1 1 1 1 1 1 1 1 1 1]\n"
     ]
    }
   ],
   "source": [
    "y_pred = classifier.predict(x_train)\n",
    "print(y_pred)"
   ]
  },
  {
   "cell_type": "code",
   "execution_count": 11,
   "metadata": {},
   "outputs": [
    {
     "name": "stdout",
     "output_type": "stream",
     "text": [
      "[2.91520930e-06 2.47586003e-06 1.03732373e-05 5.04396936e-04\n",
      " 4.65687818e-04 1.70269290e-04 1.07099144e-04 7.31761861e-04\n",
      " 2.98771666e-05 1.73932402e-05 2.20658355e-06 2.60270935e-04\n",
      " 8.39821783e-05 3.85989846e-07 2.75660846e-06 7.48147777e-04\n",
      " 2.68585341e-03 3.31491471e-04 8.12496084e-05 1.32580607e-04\n",
      " 8.77534164e-07 8.02132243e-05 4.54500304e-07 1.00053667e-05\n",
      " 3.70866944e-06 2.12241620e-04 2.11528870e-04 2.19577400e-04\n",
      " 9.91284357e-06 1.20821483e-05 5.72795009e-05 1.40781705e-04\n",
      " 3.44729045e-06 2.08315025e-04 4.55776617e-04 8.58483436e-06\n",
      " 6.40289423e-04 4.71684166e-04 3.60791961e-06 1.20115811e-04\n",
      " 2.73145628e-06 1.90898430e-04 3.42869616e-05 3.82277185e-04\n",
      " 2.36835975e-06 7.68387488e-03 7.23836748e-06 4.62123340e-06\n",
      " 1.50892575e-04 4.07260583e-05 4.26367799e-07 6.22500792e-06\n",
      " 1.03947983e-05 9.92452252e-04 1.50098169e-04 2.14557270e-04\n",
      " 7.71149226e-05 2.34501763e-04 1.91715648e-04 2.34420508e-04\n",
      " 4.96044728e-03 7.47642181e-02 1.22540042e-04 5.37151193e-08\n",
      " 1.95138626e-05 1.28952895e-05 6.16535567e-09 1.55176376e-06\n",
      " 6.61963197e-02 1.02816290e-07 4.35705168e-02 1.24183625e-06\n",
      " 1.86757891e-03 6.78874856e-07 7.99991806e-06 1.73585319e-05\n",
      " 3.00241723e-06 1.06989382e-03 1.91134227e-06 8.30059314e-07\n",
      " 5.68447803e-09 9.22032323e-07 1.03822404e-05 1.33716041e-01\n",
      " 1.49377601e-05 7.08632450e-07 9.01492635e-06 3.49870943e-06\n",
      " 1.25029839e-04 4.50294223e-06 7.10419821e-05 3.71677613e-04\n",
      " 1.43241678e-03 1.01498777e-07 1.03149314e-06 1.86437492e-07\n",
      " 6.65660969e-02 4.16977229e-08 4.15893422e-08 5.98261192e-10\n",
      " 7.04234509e-08 2.37745772e-05 9.86686382e-05 9.28299583e-06\n",
      " 8.16097797e-07 2.59936423e-05 3.08949270e-06 1.01181124e-03\n",
      " 7.23107968e-07 2.15075767e-07 7.00392322e-08 2.25875760e-05\n",
      " 6.10544183e-04 2.16742825e-05 2.07245900e-05 1.30007562e-10\n",
      " 1.23780107e-06 1.97142029e-06 8.22440808e-02 2.75658925e-06\n",
      " 1.72883894e-06 1.84070587e-07 3.11889589e-04 5.23549923e-05\n",
      " 1.92946449e-07 1.27791929e-06 1.30716517e-05 3.28080291e-04\n",
      " 4.80792226e-06 4.16723176e-03 8.98047052e-01 9.91080705e-01\n",
      " 9.98000260e-01 9.90299173e-01 8.79243246e-01 9.90244492e-01\n",
      " 9.98443751e-01 9.96674583e-01 9.87064558e-01 9.57946980e-01\n",
      " 9.86323000e-01 9.91198126e-01 9.95210209e-01 9.04653572e-01\n",
      " 9.97325990e-01 9.89432345e-01 9.99954154e-01 9.99943635e-01\n",
      " 9.99916267e-01 9.99931812e-01 9.99956330e-01 9.99980125e-01\n",
      " 9.99606327e-01 9.99860897e-01 9.93989443e-01 9.99888421e-01\n",
      " 9.99925486e-01 9.99788736e-01 9.99948817e-01 9.99873790e-01\n",
      " 9.99247967e-01 9.95504145e-01 9.72398965e-01 9.95117841e-01\n",
      " 9.99937069e-01 9.98796330e-01 9.99951143e-01 9.99869398e-01\n",
      " 9.99855755e-01 9.99988381e-01 9.92292236e-01 9.99965192e-01\n",
      " 9.99983161e-01 9.99974301e-01 9.99761543e-01 9.99986018e-01\n",
      " 9.99892721e-01 9.99997077e-01]\n"
     ]
    }
   ],
   "source": [
    "prob=classifier.predict_proba(x_train)\n",
    "print(prob[:,1])"
   ]
  },
  {
   "cell_type": "code",
   "execution_count": 12,
   "metadata": {},
   "outputs": [
    {
     "name": "stdout",
     "output_type": "stream",
     "text": [
      "Accuracy :  1.0\n"
     ]
    }
   ],
   "source": [
    "from sklearn.metrics import accuracy_score\n",
    "print (\"Accuracy : \", accuracy_score(y_train, y_pred))"
   ]
  },
  {
   "cell_type": "code",
   "execution_count": 13,
   "metadata": {},
   "outputs": [
    {
     "data": {
      "text/plain": [
       "<matplotlib.collections.PathCollection at 0x7fdee4e97650>"
      ]
     },
     "execution_count": 13,
     "metadata": {},
     "output_type": "execute_result"
    },
    {
     "data": {
      "image/png": "[encoded data removed]",
      "text/plain": [
       "<Figure size 432x288 with 1 Axes>"
      ]
     },
     "metadata": {
      "needs_background": "light"
     },
     "output_type": "display_data"
    }
   ],
   "source": [
    "preds =prob[:,1]\n",
    "plt.scatter(np.arange(len(preds)), preds, s=5)"
   ]
  },
  {
   "cell_type": "code",
   "execution_count": 14,
   "metadata": {},
   "outputs": [],
   "source": [
    "m=5"
   ]
  },
  {
   "cell_type": "code",
   "execution_count": 15,
   "metadata": {},
   "outputs": [],
   "source": [
    "bf=BloomFilter(m,classifier)"
   ]
  },
  {
   "cell_type": "code",
   "execution_count": 16,
   "metadata": {},
   "outputs": [],
   "source": [
    "bf.add_init(x_train,y_train)"
   ]
  },
  {
   "cell_type": "code",
   "execution_count": 17,
   "metadata": {},
   "outputs": [
    {
     "name": "stdout",
     "output_type": "stream",
     "text": [
      "0\n",
      "130\n",
      "0.0\n"
     ]
    }
   ],
   "source": [
    "print(fpr_test(x_train,bf,y_train))"
   ]
  },
  {
   "cell_type": "code",
   "execution_count": 24,
   "metadata": {},
   "outputs": [],
   "source": [
    "import pickle\n",
    "import os"
   ]
  },
  {
   "cell_type": "code",
   "execution_count": 40,
   "metadata": {},
   "outputs": [],
   "source": [
    "filename1='logreg_wine.sav'\n",
    "pickle.dump(classifier,open(filename1,'wb'))"
   ]
  },
  {
   "cell_type": "code",
   "execution_count": 41,
   "metadata": {},
   "outputs": [],
   "source": [
    "model_size1=os.stat('logreg_wine.sav').st_size"
   ]
  },
  {
   "cell_type": "code",
   "execution_count": 42,
   "metadata": {},
   "outputs": [
    {
     "name": "stdout",
     "output_type": "stream",
     "text": [
      "928\n"
     ]
    }
   ],
   "source": [
    "print(model_size1)"
   ]
  },
  {
   "cell_type": "markdown",
   "metadata": {},
   "source": [
    "# SVM Model"
   ]
  },
  {
   "cell_type": "code",
   "execution_count": 18,
   "metadata": {},
   "outputs": [],
   "source": [
    "from sklearn import svm\n",
    "from sklearn.metrics import accuracy_score \n"
   ]
  },
  {
   "cell_type": "code",
   "execution_count": 19,
   "metadata": {},
   "outputs": [
    {
     "name": "stderr",
     "output_type": "stream",
     "text": [
      "/Users/aditijain/opt/anaconda3/lib/python3.7/site-packages/sklearn/utils/validation.py:760: DataConversionWarning: A column-vector y was passed when a 1d array was expected. Please change the shape of y to (n_samples, ), for example using ravel().\n",
      "  y = column_or_1d(y, warn=True)\n"
     ]
    },
    {
     "data": {
      "text/plain": [
       "SVC(C=1.0, break_ties=False, cache_size=200, class_weight=None, coef0=0.0,\n",
       "    decision_function_shape='ovr', degree=3, gamma='scale', kernel='rbf',\n",
       "    max_iter=-1, probability=True, random_state=None, shrinking=True, tol=0.001,\n",
       "    verbose=False)"
      ]
     },
     "execution_count": 19,
     "metadata": {},
     "output_type": "execute_result"
    }
   ],
   "source": [
    "clf2 = svm.SVC(kernel='rbf',probability=True)\n",
    "clf2.fit(x_train, y_train)"
   ]
  },
  {
   "cell_type": "code",
   "execution_count": 20,
   "metadata": {},
   "outputs": [],
   "source": [
    "predic=clf2.predict(x_train)"
   ]
  },
  {
   "cell_type": "code",
   "execution_count": 21,
   "metadata": {},
   "outputs": [
    {
     "name": "stdout",
     "output_type": "stream",
     "text": [
      "[5.49903080e-03 4.24788765e-03 5.31833451e-03 1.02200803e-02\n",
      " 6.28841808e-03 5.43341230e-03 5.77828018e-03 5.24103769e-03\n",
      " 5.29830517e-03 5.35908396e-03 4.98534332e-03 5.81040598e-03\n",
      " 4.55168940e-03 1.02150881e-02 1.01907677e-02 7.26477695e-03\n",
      " 1.02199040e-02 7.53153495e-03 1.02111771e-02 5.23182899e-03\n",
      " 4.92132053e-03 3.47113891e-03 1.95233479e-03 1.92405024e-03\n",
      " 1.72473236e-03 1.02022961e-02 4.60937221e-03 4.46376352e-03\n",
      " 3.20270355e-03 3.22204794e-03 8.85719252e-03 6.59325246e-03\n",
      " 1.31194743e-03 7.80918344e-03 3.59989026e-03 1.91039691e-03\n",
      " 5.52766361e-03 3.84007984e-03 1.40698480e-03 1.02208226e-02\n",
      " 4.46109369e-03 4.93068303e-03 5.90116766e-03 6.41558146e-03\n",
      " 2.55824139e-03 1.02068981e-02 3.54032509e-03 4.69246494e-03\n",
      " 5.90010932e-03 7.34957834e-03 1.02145110e-02 5.19720582e-03\n",
      " 6.39069185e-03 6.02863309e-03 5.72358129e-03 7.20370481e-03\n",
      " 5.34910885e-03 4.72708400e-03 8.14301550e-03 1.01915094e-02\n",
      " 6.10030511e-03 3.92898664e-02 2.51751174e-03 5.77187888e-03\n",
      " 1.86390248e-03 2.35688238e-03 9.08363600e-03 2.23584275e-03\n",
      " 1.01936000e-02 1.02028164e-02 4.89205899e-02 8.31212869e-03\n",
      " 1.02149040e-02 1.02018507e-02 5.46707499e-03 2.01155903e-03\n",
      " 3.36932069e-03 1.02107801e-02 7.87919650e-03 1.68928456e-03\n",
      " 1.65247726e-03 7.55227089e-04 1.87423346e-03 3.41784101e-01\n",
      " 5.32509705e-03 6.81801396e-04 9.30952757e-04 2.56454466e-03\n",
      " 1.89001273e-03 1.52848983e-03 1.65578511e-03 4.57573004e-03\n",
      " 1.02172457e-02 9.91661625e-04 3.19473942e-03 1.02109876e-02\n",
      " 1.02002987e-02 1.17990942e-03 5.21082971e-03 4.48339940e-03\n",
      " 1.61944019e-03 1.42770119e-03 2.38885761e-03 1.06145275e-03\n",
      " 7.68209975e-04 4.69367741e-03 6.62536763e-04 6.22636176e-03\n",
      " 1.38342180e-03 2.81693981e-03 1.02254082e-02 1.25104433e-03\n",
      " 1.02100693e-02 2.47661808e-03 2.00097202e-03 8.81057162e-03\n",
      " 8.55621750e-04 6.56476902e-04 4.49811077e-02 6.20564193e-04\n",
      " 1.61439752e-03 1.02127148e-02 1.02056394e-02 8.80703763e-03\n",
      " 6.65225065e-03 6.62231339e-04 3.53854275e-03 1.01920474e-02\n",
      " 9.39498204e-04 1.02129036e-02 7.51584024e-01 9.88198145e-01\n",
      " 9.86825345e-01 9.78828141e-01 7.65320336e-01 9.78774147e-01\n",
      " 9.79879232e-01 9.78791263e-01 9.79777742e-01 9.68702941e-01\n",
      " 9.78792488e-01 9.78836870e-01 9.84968666e-01 9.54297917e-01\n",
      " 9.78830617e-01 9.78824268e-01 9.78799369e-01 9.99987198e-01\n",
      " 9.99998210e-01 9.96810010e-01 9.83869900e-01 9.88391301e-01\n",
      " 9.78799368e-01 9.82827241e-01 9.78800116e-01 9.88100369e-01\n",
      " 9.93473169e-01 9.86690129e-01 9.53588705e-01 9.78788746e-01\n",
      " 9.92619958e-01 9.90239728e-01 9.85445453e-01 9.95420904e-01\n",
      " 9.97305387e-01 9.94072690e-01 9.94234738e-01 9.95782243e-01\n",
      " 9.96041992e-01 9.81871045e-01 9.81330921e-01 9.93096831e-01\n",
      " 9.97160802e-01 9.95560627e-01 9.99997586e-01 9.90124593e-01\n",
      " 9.94290389e-01 9.94348186e-01]\n",
      "(178, 2)\n"
     ]
    }
   ],
   "source": [
    "probability=clf2.predict_proba(x_train)\n",
    "print(probability[:,1])\n",
    "print(probability.shape)"
   ]
  },
  {
   "cell_type": "code",
   "execution_count": 22,
   "metadata": {},
   "outputs": [
    {
     "data": {
      "text/plain": [
       "<matplotlib.collections.PathCollection at 0x7fdee4f095d0>"
      ]
     },
     "execution_count": 22,
     "metadata": {},
     "output_type": "execute_result"
    },
    {
     "data": {
      "image/png": "[encoded data removed]",
      "text/plain": [
       "<Figure size 432x288 with 1 Axes>"
      ]
     },
     "metadata": {
      "needs_background": "light"
     },
     "output_type": "display_data"
    }
   ],
   "source": [
    "prob=probability[:,1]\n",
    "plt.scatter(np.arange(len(prob)), prob, s=5)"
   ]
  },
  {
   "cell_type": "code",
   "execution_count": 23,
   "metadata": {},
   "outputs": [
    {
     "name": "stdout",
     "output_type": "stream",
     "text": [
      "1.0\n"
     ]
    }
   ],
   "source": [
    "accuracy = accuracy_score(y_train.flatten(),predic)\n",
    "print(accuracy)"
   ]
  },
  {
   "cell_type": "code",
   "execution_count": 24,
   "metadata": {},
   "outputs": [],
   "source": [
    "m=5\n",
    "bf=BloomFilter(m,clf2)\n",
    "bf.add_init(x_train,y_train)"
   ]
  },
  {
   "cell_type": "code",
   "execution_count": 25,
   "metadata": {},
   "outputs": [
    {
     "name": "stdout",
     "output_type": "stream",
     "text": [
      "0\n",
      "130\n",
      "0.0\n"
     ]
    }
   ],
   "source": [
    "print(fpr_test(x_train,bf,y_train))"
   ]
  },
  {
   "cell_type": "code",
   "execution_count": 26,
   "metadata": {},
   "outputs": [
    {
     "data": {
      "text/plain": [
       "array([2.91520930e-06, 2.47586003e-06, 1.03732373e-05, 5.04396936e-04,\n",
       "       4.65687818e-04, 1.70269290e-04, 1.07099144e-04, 7.31761861e-04,\n",
       "       2.98771666e-05, 1.73932402e-05, 2.20658355e-06, 2.60270935e-04,\n",
       "       8.39821783e-05, 3.85989846e-07, 2.75660846e-06, 7.48147777e-04,\n",
       "       2.68585341e-03, 3.31491471e-04, 8.12496084e-05, 1.32580607e-04,\n",
       "       8.77534164e-07, 8.02132243e-05, 4.54500304e-07, 1.00053667e-05,\n",
       "       3.70866944e-06, 2.12241620e-04, 2.11528870e-04, 2.19577400e-04,\n",
       "       9.91284357e-06, 1.20821483e-05, 5.72795009e-05, 1.40781705e-04,\n",
       "       3.44729045e-06, 2.08315025e-04, 4.55776617e-04, 8.58483436e-06,\n",
       "       6.40289423e-04, 4.71684166e-04, 3.60791961e-06, 1.20115811e-04,\n",
       "       2.73145628e-06, 1.90898430e-04, 3.42869616e-05, 3.82277185e-04,\n",
       "       2.36835975e-06, 7.68387488e-03, 7.23836748e-06, 4.62123340e-06,\n",
       "       1.50892575e-04, 4.07260583e-05, 4.26367799e-07, 6.22500792e-06,\n",
       "       1.03947983e-05, 9.92452252e-04, 1.50098169e-04, 2.14557270e-04,\n",
       "       7.71149226e-05, 2.34501763e-04, 1.91715648e-04, 2.34420508e-04,\n",
       "       4.96044728e-03, 7.47642181e-02, 1.22540042e-04, 5.37151193e-08,\n",
       "       1.95138626e-05, 1.28952895e-05, 6.16535567e-09, 1.55176376e-06,\n",
       "       6.61963197e-02, 1.02816290e-07, 4.35705168e-02, 1.24183625e-06,\n",
       "       1.86757891e-03, 6.78874856e-07, 7.99991806e-06, 1.73585319e-05,\n",
       "       3.00241723e-06, 1.06989382e-03, 1.91134227e-06, 8.30059314e-07,\n",
       "       5.68447803e-09, 9.22032323e-07, 1.03822404e-05, 1.33716041e-01,\n",
       "       1.49377601e-05, 7.08632450e-07, 9.01492635e-06, 3.49870943e-06,\n",
       "       1.25029839e-04, 4.50294223e-06, 7.10419821e-05, 3.71677613e-04,\n",
       "       1.43241678e-03, 1.01498777e-07, 1.03149314e-06, 1.86437492e-07,\n",
       "       6.65660969e-02, 4.16977229e-08, 4.15893422e-08, 5.98261192e-10,\n",
       "       7.04234509e-08, 2.37745772e-05, 9.86686382e-05, 9.28299583e-06,\n",
       "       8.16097797e-07, 2.59936423e-05, 3.08949270e-06, 1.01181124e-03,\n",
       "       7.23107968e-07, 2.15075767e-07, 7.00392322e-08, 2.25875760e-05,\n",
       "       6.10544183e-04, 2.16742825e-05, 2.07245900e-05, 1.30007562e-10,\n",
       "       1.23780107e-06, 1.97142029e-06, 8.22440808e-02, 2.75658925e-06,\n",
       "       1.72883894e-06, 1.84070587e-07, 3.11889589e-04, 5.23549923e-05,\n",
       "       1.92946449e-07, 1.27791929e-06, 1.30716517e-05, 3.28080291e-04,\n",
       "       4.80792226e-06, 4.16723176e-03, 8.98047052e-01, 9.91080705e-01,\n",
       "       9.98000260e-01, 9.90299173e-01, 8.79243246e-01, 9.90244492e-01,\n",
       "       9.98443751e-01, 9.96674583e-01, 9.87064558e-01, 9.57946980e-01,\n",
       "       9.86323000e-01, 9.91198126e-01, 9.95210209e-01, 9.04653572e-01,\n",
       "       9.97325990e-01, 9.89432345e-01, 9.99954154e-01, 9.99943635e-01,\n",
       "       9.99916267e-01, 9.99931812e-01, 9.99956330e-01, 9.99980125e-01,\n",
       "       9.99606327e-01, 9.99860897e-01, 9.93989443e-01, 9.99888421e-01,\n",
       "       9.99925486e-01, 9.99788736e-01, 9.99948817e-01, 9.99873790e-01,\n",
       "       9.99247967e-01, 9.95504145e-01, 9.72398965e-01, 9.95117841e-01,\n",
       "       9.99937069e-01, 9.98796330e-01, 9.99951143e-01, 9.99869398e-01,\n",
       "       9.99855755e-01, 9.99988381e-01, 9.92292236e-01, 9.99965192e-01,\n",
       "       9.99983161e-01, 9.99974301e-01, 9.99761543e-01, 9.99986018e-01,\n",
       "       9.99892721e-01, 9.99997077e-01])"
      ]
     },
     "execution_count": 26,
     "metadata": {},
     "output_type": "execute_result"
    }
   ],
   "source": [
    "preds"
   ]
  },
  {
   "cell_type": "code",
   "execution_count": 43,
   "metadata": {},
   "outputs": [],
   "source": [
    "filename2='svm_wine.sav'\n",
    "pickle.dump(clf2,open(filename2,'wb'))"
   ]
  },
  {
   "cell_type": "code",
   "execution_count": 44,
   "metadata": {},
   "outputs": [],
   "source": [
    "model_size2=os.stat('svm_wine.sav').st_size"
   ]
  },
  {
   "cell_type": "code",
   "execution_count": 45,
   "metadata": {},
   "outputs": [
    {
     "name": "stdout",
     "output_type": "stream",
     "text": [
      "6870\n"
     ]
    }
   ],
   "source": [
    "print(model_size2)"
   ]
  },
  {
   "cell_type": "code",
   "execution_count": null,
   "metadata": {},
   "outputs": [],
   "source": []
  }
 ],
 "metadata": {
  "kernelspec": {
   "display_name": "Python 3",
   "language": "python",
   "name": "python3"
  },
  "language_info": {
   "codemirror_mode": {
    "name": "ipython",
    "version": 3
   },
   "file_extension": ".py",
   "mimetype": "text/x-python",
   "name": "python",
   "nbconvert_exporter": "python",
   "pygments_lexer": "ipython3",
   "version": "3.7.6"
  }
 },
 "nbformat": 4,
 "nbformat_minor": 4
}
