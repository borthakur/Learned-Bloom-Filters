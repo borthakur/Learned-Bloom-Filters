{
 "cells": [
  {
   "cell_type": "code",
   "execution_count": 151,
   "metadata": {},
   "outputs": [],
   "source": [
    "from bitarray import bitarray\n",
    "import mmh3\n",
    "import random\n",
    "import numpy as np\n",
    "import math\n",
    "import sklearn.preprocessing"
   ]
  },
  {
   "cell_type": "code",
   "execution_count": 152,
   "metadata": {},
   "outputs": [],
   "source": [
    "import matplotlib.pyplot as plt\n",
    "import seaborn as sns\n",
    "from sklearn import datasets\n",
    "from sklearn.metrics import confusion_matrix\n",
    "from sklearn.preprocessing import StandardScaler \n",
    "import pandas as pd\n"
   ]
  },
  {
   "cell_type": "code",
   "execution_count": 153,
   "metadata": {},
   "outputs": [
    {
     "data": {
      "text/html": [
       "<div>\n",
       "<style scoped>\n",
       "    .dataframe tbody tr th:only-of-type {\n",
       "        vertical-align: middle;\n",
       "    }\n",
       "\n",
       "    .dataframe tbody tr th {\n",
       "        vertical-align: top;\n",
       "    }\n",
       "\n",
       "    .dataframe thead th {\n",
       "        text-align: right;\n",
       "    }\n",
       "</style>\n",
       "<table border=\"1\" class=\"dataframe\">\n",
       "  <thead>\n",
       "    <tr style=\"text-align: right;\">\n",
       "      <th></th>\n",
       "      <th>age</th>\n",
       "      <th>sex</th>\n",
       "      <th>cp</th>\n",
       "      <th>trestbps</th>\n",
       "      <th>chol</th>\n",
       "      <th>fbs</th>\n",
       "      <th>restecg</th>\n",
       "      <th>thalach</th>\n",
       "      <th>exang</th>\n",
       "      <th>oldpeak</th>\n",
       "      <th>slope</th>\n",
       "      <th>ca</th>\n",
       "      <th>thal</th>\n",
       "      <th>target</th>\n",
       "    </tr>\n",
       "  </thead>\n",
       "  <tbody>\n",
       "    <tr>\n",
       "      <th>0</th>\n",
       "      <td>63</td>\n",
       "      <td>1</td>\n",
       "      <td>3</td>\n",
       "      <td>145</td>\n",
       "      <td>233</td>\n",
       "      <td>1</td>\n",
       "      <td>0</td>\n",
       "      <td>150</td>\n",
       "      <td>0</td>\n",
       "      <td>2.3</td>\n",
       "      <td>0</td>\n",
       "      <td>0</td>\n",
       "      <td>1</td>\n",
       "      <td>1</td>\n",
       "    </tr>\n",
       "    <tr>\n",
       "      <th>1</th>\n",
       "      <td>37</td>\n",
       "      <td>1</td>\n",
       "      <td>2</td>\n",
       "      <td>130</td>\n",
       "      <td>250</td>\n",
       "      <td>0</td>\n",
       "      <td>1</td>\n",
       "      <td>187</td>\n",
       "      <td>0</td>\n",
       "      <td>3.5</td>\n",
       "      <td>0</td>\n",
       "      <td>0</td>\n",
       "      <td>2</td>\n",
       "      <td>1</td>\n",
       "    </tr>\n",
       "    <tr>\n",
       "      <th>2</th>\n",
       "      <td>41</td>\n",
       "      <td>0</td>\n",
       "      <td>1</td>\n",
       "      <td>130</td>\n",
       "      <td>204</td>\n",
       "      <td>0</td>\n",
       "      <td>0</td>\n",
       "      <td>172</td>\n",
       "      <td>0</td>\n",
       "      <td>1.4</td>\n",
       "      <td>2</td>\n",
       "      <td>0</td>\n",
       "      <td>2</td>\n",
       "      <td>1</td>\n",
       "    </tr>\n",
       "    <tr>\n",
       "      <th>3</th>\n",
       "      <td>56</td>\n",
       "      <td>1</td>\n",
       "      <td>1</td>\n",
       "      <td>120</td>\n",
       "      <td>236</td>\n",
       "      <td>0</td>\n",
       "      <td>1</td>\n",
       "      <td>178</td>\n",
       "      <td>0</td>\n",
       "      <td>0.8</td>\n",
       "      <td>2</td>\n",
       "      <td>0</td>\n",
       "      <td>2</td>\n",
       "      <td>1</td>\n",
       "    </tr>\n",
       "    <tr>\n",
       "      <th>4</th>\n",
       "      <td>57</td>\n",
       "      <td>0</td>\n",
       "      <td>0</td>\n",
       "      <td>120</td>\n",
       "      <td>354</td>\n",
       "      <td>0</td>\n",
       "      <td>1</td>\n",
       "      <td>163</td>\n",
       "      <td>1</td>\n",
       "      <td>0.6</td>\n",
       "      <td>2</td>\n",
       "      <td>0</td>\n",
       "      <td>2</td>\n",
       "      <td>1</td>\n",
       "    </tr>\n",
       "  </tbody>\n",
       "</table>\n",
       "</div>"
      ],
      "text/plain": [
       "   age  sex  cp  trestbps  chol  fbs  restecg  thalach  exang  oldpeak  slope  \\\n",
       "0   63    1   3       145   233    1        0      150      0      2.3      0   \n",
       "1   37    1   2       130   250    0        1      187      0      3.5      0   \n",
       "2   41    0   1       130   204    0        0      172      0      1.4      2   \n",
       "3   56    1   1       120   236    0        1      178      0      0.8      2   \n",
       "4   57    0   0       120   354    0        1      163      1      0.6      2   \n",
       "\n",
       "   ca  thal  target  \n",
       "0   0     1       1  \n",
       "1   0     2       1  \n",
       "2   0     2       1  \n",
       "3   0     2       1  \n",
       "4   0     2       1  "
      ]
     },
     "execution_count": 153,
     "metadata": {},
     "output_type": "execute_result"
    }
   ],
   "source": [
    "file = pd.read_csv(\"heart.csv\")\n",
    "file.head()\n",
    "\n"
   ]
  },
  {
   "cell_type": "code",
   "execution_count": 154,
   "metadata": {},
   "outputs": [
    {
     "name": "stdout",
     "output_type": "stream",
     "text": [
      "age\n",
      "sex\n",
      "cp\n",
      "trestbps\n",
      "chol\n",
      "fbs\n",
      "restecg\n",
      "thalach\n",
      "exang\n",
      "oldpeak\n",
      "slope\n",
      "ca\n",
      "thal\n",
      "target\n"
     ]
    }
   ],
   "source": [
    "for col in file.columns:\n",
    "    print(col)\n",
    "\n"
   ]
  },
  {
   "cell_type": "code",
   "execution_count": 155,
   "metadata": {},
   "outputs": [
    {
     "name": "stdout",
     "output_type": "stream",
     "text": [
      "[[ 63.    1.    3.  145.  233.    1.    0.  150.    0.    2.3   0.    0.\n",
      "    1. ]\n",
      " [ 37.    1.    2.  130.  250.    0.    1.  187.    0.    3.5   0.    0.\n",
      "    2. ]\n",
      " [ 41.    0.    1.  130.  204.    0.    0.  172.    0.    1.4   2.    0.\n",
      "    2. ]\n",
      " [ 56.    1.    1.  120.  236.    0.    1.  178.    0.    0.8   2.    0.\n",
      "    2. ]]\n"
     ]
    }
   ],
   "source": [
    "\n",
    "x_train = np.array(file.values[:,0:-1])\n",
    "print(x_train[0:4])\n"
   ]
  },
  {
   "cell_type": "code",
   "execution_count": 156,
   "metadata": {},
   "outputs": [
    {
     "data": {
      "text/plain": [
       "(303, 13)"
      ]
     },
     "execution_count": 156,
     "metadata": {},
     "output_type": "execute_result"
    }
   ],
   "source": [
    "x_train.shape"
   ]
  },
  {
   "cell_type": "code",
   "execution_count": 157,
   "metadata": {},
   "outputs": [],
   "source": [
    "x=x_train.reshape(-13,1)"
   ]
  },
  {
   "cell_type": "code",
   "execution_count": 158,
   "metadata": {},
   "outputs": [
    {
     "name": "stdout",
     "output_type": "stream",
     "text": [
      "[1. 1. 1. 1.]\n"
     ]
    }
   ],
   "source": [
    "y_train = np.array(file.values[:,-1])\n",
    "print(y_train[0:4])\n"
   ]
  },
  {
   "cell_type": "code",
   "execution_count": 159,
   "metadata": {},
   "outputs": [
    {
     "data": {
      "text/plain": [
       "array([[ 0.9521966 ,  0.68100522,  1.97312292, ..., -2.27457861,\n",
       "        -0.71442887, -2.14887271],\n",
       "       [-1.91531289,  0.68100522,  1.00257707, ..., -2.27457861,\n",
       "        -0.71442887, -0.51292188],\n",
       "       [-1.47415758, -1.46841752,  0.03203122, ...,  0.97635214,\n",
       "        -0.71442887, -0.51292188],\n",
       "       ...,\n",
       "       [ 1.50364073,  0.68100522, -0.93851463, ..., -0.64911323,\n",
       "         1.24459328,  1.12302895],\n",
       "       [ 0.29046364,  0.68100522, -0.93851463, ..., -0.64911323,\n",
       "         0.26508221,  1.12302895],\n",
       "       [ 0.29046364, -1.46841752,  0.03203122, ..., -0.64911323,\n",
       "         0.26508221, -0.51292188]])"
      ]
     },
     "execution_count": 159,
     "metadata": {},
     "output_type": "execute_result"
    }
   ],
   "source": [
    "scaler = StandardScaler()\n",
    "x_train = scaler.fit_transform(x_train)\n",
    "\n",
    "x_train\n"
   ]
  },
  {
   "cell_type": "markdown",
   "metadata": {},
   "source": [
    "# Bloom Filter"
   ]
  },
  {
   "cell_type": "code",
   "execution_count": 165,
   "metadata": {},
   "outputs": [],
   "source": [
    "class BloomFilter:\n",
    "    \n",
    "    def __init__(self, size, model): #hash count is 1\n",
    "        self.size = size\n",
    "      #  self.hash_count = hash_count\n",
    "        self.bit_array = bitarray(size)\n",
    "        self.bit_array.setall(0)\n",
    "        self.model=model #classifier model associated as hash function\n",
    "        \n",
    "    def add(self, num):\n",
    "        result=math.floor(model.predict(num)[0]*(self.size-1))    \n",
    "        self.bit_array[result] = 1\n",
    "            \n",
    "    def lookup(self, num):\n",
    "        #for seed in range(1,self.hash_count+1):\n",
    "            #result = mmh3.hash(str(num), seed) % self.size\n",
    "        result=math.floor(self.model.predict(num)[0]*(self.size-1))    \n",
    "        if self.bit_array[result] == 0:\n",
    "                return False\n",
    "        return True\n",
    "\n",
    "    def add_init(self,x_train,y_train):\n",
    "        pred = self.model.predict_proba(x_train)\n",
    "        pred=pred[:,1]\n",
    "        pred=pred.reshape(-1,1)\n",
    "        for i in range(len(pred)):\n",
    "            if(y_train[i]==1):\n",
    "                result = math.floor(pred[i][0]*(self.size-1))\n",
    "                self.bit_array[result] = 1\n",
    "    \n",
    "    def predict(self,x):\n",
    "        initpred = self.model.predict_proba(x)\n",
    "        initpred=initpred[:,1]\n",
    "        initpred=initpred.reshape(-1,1)\n",
    "        indexes = []\n",
    "        for i in range(len(initpred)):\n",
    "            indexes += [math.floor(initpred[i][0]*(bf.size-1))]\n",
    "        pred = []\n",
    "        for i in indexes:\n",
    "            pred += [self.bit_array[i]]\n",
    "        return np.array(pred)\n",
    "\n",
    "#(Input:bloom filter,number array,ratio; Output:(-1) for false negative, otherwise fpr)\n",
    "def fpr_kraska_hash(bf,x,y):\n",
    "    pred = bf.predict(x)\n",
    "    pred=pred.reshape(-1,1)\n",
    "    tn, fp, fn, tp = confusion_matrix(y, pred,labels=[False,True]).ravel() \n",
    "    return fp/(fp+tn)\n",
    "\n",
    "#(Input:bloom filter size, total random numbers, ratio of number inserted; Output:efficient number of hash functions)\n",
    "def eff_k(m,n,r):\n",
    "    k=int(m/(int(n*r))*math.log(2))\n",
    "    if(k==0):\n",
    "        return 1\n",
    "    return k\n",
    "\n",
    "\n",
    "def fpr_test(x,bf,y):\n",
    "    pred=bf.predict(x)\n",
    "    fp=0\n",
    "    tn=0\n",
    "    for i in range(len(pred)):\n",
    "        if((pred[i]==1)and(y[i]==0)):\n",
    "            fp+=1\n",
    "        if((pred[i]==0) and (y[i]==0)):\n",
    "            tn+=1\n",
    "        if((pred[i]==0) and (y[i]==1)):\n",
    "            return -1\n",
    "    print(fp)\n",
    "    print(tn)\n",
    "    return fp/(fp+tn)\n",
    "def outputs(m,n,r):\n",
    "    find_fpr(m,model,n,r)\n",
    "    #print(\"For m=%d, k=%d, n=%d, r=%.3f: fpr=%.3f\"%(m,k,n,r,find_fpr(m,k,n,r)))"
   ]
  },
  {
   "cell_type": "markdown",
   "metadata": {},
   "source": [
    "# Logistic Regression Model"
   ]
  },
  {
   "cell_type": "code",
   "execution_count": 160,
   "metadata": {},
   "outputs": [
    {
     "data": {
      "text/plain": [
       "LogisticRegression(C=10.0, class_weight=None, dual=False, fit_intercept=True,\n",
       "                   intercept_scaling=1, l1_ratio=None, max_iter=100,\n",
       "                   multi_class='auto', n_jobs=None, penalty='l2',\n",
       "                   random_state=10, solver='lbfgs', tol=0.0001, verbose=0,\n",
       "                   warm_start=False)"
      ]
     },
     "execution_count": 160,
     "metadata": {},
     "output_type": "execute_result"
    }
   ],
   "source": [
    "from sklearn.linear_model import LogisticRegression\n",
    "classifier = LogisticRegression(C=10.0,random_state = 10,max_iter=100)\n",
    "classifier.fit(x_train, y_train)"
   ]
  },
  {
   "cell_type": "code",
   "execution_count": 161,
   "metadata": {},
   "outputs": [
    {
     "name": "stdout",
     "output_type": "stream",
     "text": [
      "[1. 1. 1. 1. 1. 1. 1. 1. 1. 1. 1. 1. 1. 1. 1. 1. 1. 1. 1. 1. 0. 1. 1. 1.\n",
      " 1. 1. 1. 1. 1. 1. 1. 1. 1. 1. 1. 1. 1. 1. 1. 1. 1. 1. 0. 1. 1. 1. 1. 1.\n",
      " 1. 1. 1. 0. 0. 1. 1. 1. 1. 1. 1. 1. 1. 1. 1. 1. 1. 1. 1. 1. 1. 1. 1. 1.\n",
      " 1. 1. 1. 1. 1. 1. 1. 1. 1. 1. 1. 1. 1. 1. 1. 1. 1. 1. 1. 0. 1. 1. 1. 0.\n",
      " 1. 0. 1. 1. 1. 0. 1. 1. 1. 1. 1. 1. 1. 1. 1. 1. 1. 1. 1. 1. 1. 1. 1. 1.\n",
      " 0. 1. 1. 1. 1. 1. 1. 1. 1. 1. 1. 1. 1. 1. 1. 1. 1. 1. 0. 0. 1. 1. 1. 1.\n",
      " 1. 1. 1. 1. 1. 1. 0. 1. 1. 1. 1. 1. 1. 1. 0. 1. 1. 1. 1. 1. 1. 0. 0. 0.\n",
      " 0. 0. 1. 1. 1. 0. 0. 0. 0. 1. 0. 0. 0. 0. 1. 0. 0. 1. 0. 0. 1. 1. 0. 0.\n",
      " 0. 0. 1. 0. 0. 0. 0. 1. 1. 0. 0. 0. 0. 0. 0. 0. 0. 0. 0. 0. 0. 0. 0. 0.\n",
      " 1. 0. 0. 0. 0. 0. 1. 0. 0. 0. 0. 0. 1. 0. 1. 0. 0. 0. 0. 0. 0. 0. 0. 0.\n",
      " 0. 1. 0. 0. 0. 0. 0. 0. 0. 0. 0. 0. 0. 0. 1. 0. 0. 0. 1. 1. 0. 1. 0. 0.\n",
      " 0. 0. 0. 0. 0. 0. 0. 0. 0. 1. 0. 0. 0. 1. 1. 0. 0. 1. 1. 1. 0. 0. 1. 1.\n",
      " 0. 0. 0. 0. 0. 1. 0. 0. 1. 0. 0. 1. 0. 0. 1.]\n"
     ]
    }
   ],
   "source": [
    "y_pred = classifier.predict(x_train)\n",
    "print(y_pred)"
   ]
  },
  {
   "cell_type": "code",
   "execution_count": 162,
   "metadata": {},
   "outputs": [
    {
     "name": "stdout",
     "output_type": "stream",
     "text": [
      "[8.06680882e-01 6.58433289e-01 9.61273715e-01 9.13827962e-01\n",
      " 8.16096264e-01 7.61056922e-01 8.27585447e-01 8.47567181e-01\n",
      " 7.91011945e-01 9.18386948e-01 6.18921901e-01 9.82937434e-01\n",
      " 8.82006049e-01 7.30770919e-01 9.83818165e-01 9.73464163e-01\n",
      " 9.91575045e-01 8.36804151e-01 5.99361762e-01 9.34189350e-01\n",
      " 3.78700817e-01 9.13538173e-01 8.40995254e-01 5.01424665e-01\n",
      " 8.50394298e-01 7.79623728e-01 8.64330567e-01 9.27755588e-01\n",
      " 8.82774599e-01 6.94091666e-01 9.83332411e-01 5.42939727e-01\n",
      " 9.24386574e-01 5.33550403e-01 5.86334778e-01 8.21232534e-01\n",
      " 9.90549956e-01 6.39671213e-01 9.67622842e-01 9.23377268e-01\n",
      " 8.61888422e-01 8.16823228e-01 1.30669982e-01 7.87917066e-01\n",
      " 9.29858316e-01 8.96376362e-01 9.48212185e-01 9.06886236e-01\n",
      " 9.94629717e-01 9.22711130e-01 9.76603414e-01 4.26622890e-01\n",
      " 1.14806790e-01 9.94246888e-01 9.87782543e-01 7.38865711e-01\n",
      " 8.48498646e-01 8.42380250e-01 9.87167297e-01 8.24087413e-01\n",
      " 9.55749261e-01 7.84852770e-01 9.92777508e-01 8.79344555e-01\n",
      " 9.33147600e-01 9.53587893e-01 7.53018053e-01 9.51502466e-01\n",
      " 9.39373557e-01 9.66195663e-01 6.65441851e-01 7.34533504e-01\n",
      " 9.51237397e-01 5.50605147e-01 9.89447576e-01 8.81100616e-01\n",
      " 7.23309256e-01 7.60864489e-01 9.51327076e-01 5.29038469e-01\n",
      " 9.78871665e-01 8.47315994e-01 9.84641114e-01 8.22758716e-01\n",
      " 7.87893561e-01 6.72101733e-01 6.47913877e-01 8.82712300e-01\n",
      " 9.78087678e-01 7.56458328e-01 8.75424059e-01 4.32022660e-01\n",
      " 5.23269911e-01 8.12063568e-01 9.73301071e-01 9.00231530e-02\n",
      " 5.91672406e-01 1.49679036e-01 7.30316433e-01 6.38916203e-01\n",
      " 8.26597687e-01 8.90440914e-02 9.42045111e-01 8.35090219e-01\n",
      " 9.65776598e-01 8.95304235e-01 6.81119846e-01 6.60095275e-01\n",
      " 9.72634025e-01 9.48900289e-01 6.32403835e-01 8.47067786e-01\n",
      " 9.28919585e-01 7.34993957e-01 8.75780770e-01 9.95505740e-01\n",
      " 7.82896148e-01 7.97454241e-01 9.92509190e-01 6.75716305e-01\n",
      " 2.07208466e-01 7.39092854e-01 9.80096154e-01 9.91638852e-01\n",
      " 9.97921950e-01 9.91449855e-01 8.05516912e-01 9.74003971e-01\n",
      " 9.81750170e-01 6.59745102e-01 9.75270960e-01 9.60673397e-01\n",
      " 9.02215844e-01 9.23280067e-01 9.78758410e-01 9.53782084e-01\n",
      " 9.77721127e-01 8.06808686e-01 4.06166590e-01 3.24114979e-02\n",
      " 9.79707065e-01 6.54307293e-01 9.92571943e-01 8.06390309e-01\n",
      " 9.50210323e-01 6.70878529e-01 9.64004713e-01 9.93203701e-01\n",
      " 9.71946720e-01 9.58280078e-01 3.59463644e-01 8.17582834e-01\n",
      " 6.78095510e-01 9.03572593e-01 9.82482647e-01 8.42047641e-01\n",
      " 9.69046013e-01 9.51094255e-01 5.76845196e-02 7.23115870e-01\n",
      " 8.03977569e-01 9.47988577e-01 9.65153294e-01 6.16770512e-01\n",
      " 6.16770512e-01 2.81249832e-03 6.24016015e-03 8.40392760e-02\n",
      " 7.24030535e-02 1.90876961e-02 5.87201156e-01 5.59106808e-01\n",
      " 5.34265540e-01 2.18246163e-01 7.05838566e-03 5.01134403e-02\n",
      " 7.27586514e-02 9.09240257e-01 3.46659865e-02 7.11368634e-02\n",
      " 2.28551556e-02 4.09718355e-02 9.13879857e-01 3.69917071e-01\n",
      " 4.16541755e-02 5.23369818e-01 7.33005846e-02 8.75555897e-03\n",
      " 5.96685586e-01 6.62844543e-01 3.25220067e-01 3.58115566e-03\n",
      " 8.86414175e-02 3.79923609e-03 5.71720177e-01 3.48318849e-03\n",
      " 4.77862825e-01 1.50637736e-01 6.57331577e-03 5.34833769e-01\n",
      " 7.52593663e-01 1.30465598e-02 4.20853956e-02 1.05747813e-01\n",
      " 3.30355583e-03 2.10468382e-01 4.47681862e-02 8.48949673e-02\n",
      " 1.35185199e-01 2.29928391e-01 4.87667918e-01 1.42985227e-02\n",
      " 2.97713380e-01 2.06988379e-01 8.29533949e-02 8.10449148e-02\n",
      " 5.71431231e-01 4.65857251e-03 2.04006862e-02 5.74872642e-02\n",
      " 9.31150380e-03 2.61151326e-03 7.82093644e-01 1.85439670e-03\n",
      " 2.18524406e-02 1.82744821e-02 6.68541663e-02 9.93660418e-02\n",
      " 6.89542331e-01 2.09259162e-01 9.64147624e-01 5.61467743e-03\n",
      " 1.88529982e-02 1.00444918e-02 7.00649823e-03 1.72955657e-01\n",
      " 1.78739076e-01 4.57234538e-02 6.31664750e-02 2.43890796e-01\n",
      " 2.52719067e-02 5.50111114e-01 9.13539913e-02 8.11601290e-03\n",
      " 5.93708760e-02 3.18929874e-01 2.92190577e-02 8.44842991e-02\n",
      " 3.67301943e-01 4.98421019e-02 8.92354838e-04 6.05724646e-03\n",
      " 7.62159531e-02 3.60615384e-02 8.64931132e-01 8.94388273e-03\n",
      " 4.03189573e-03 5.05685602e-02 5.43420596e-01 5.52932777e-01\n",
      " 9.57318888e-02 7.21844096e-01 4.96900924e-03 3.67963906e-01\n",
      " 1.06538403e-01 2.35799991e-01 9.82241539e-02 4.29747558e-01\n",
      " 6.49093955e-03 1.07554441e-02 3.43259204e-01 4.84943763e-01\n",
      " 1.53385725e-01 5.23506381e-01 6.21167014e-02 2.25361625e-01\n",
      " 2.93685128e-02 6.64221081e-01 7.80881697e-01 1.69010810e-02\n",
      " 1.80322697e-01 7.64417158e-01 7.28167306e-01 6.52416097e-01\n",
      " 3.24315380e-02 6.42305106e-03 8.83365498e-01 6.43621206e-01\n",
      " 1.84945333e-02 2.19974008e-01 3.68680978e-01 2.46396271e-02\n",
      " 1.07826058e-01 5.17123176e-01 2.27620105e-01 6.21735847e-03\n",
      " 7.72880371e-01 5.36082841e-02 3.63344244e-01 8.08655161e-01\n",
      " 1.71069335e-02 4.30395121e-02 9.19622578e-01]\n"
     ]
    }
   ],
   "source": [
    "prob=classifier.predict_proba(x_train)\n",
    "print(prob[:,1])"
   ]
  },
  {
   "cell_type": "code",
   "execution_count": 163,
   "metadata": {},
   "outputs": [
    {
     "name": "stdout",
     "output_type": "stream",
     "text": [
      "Accuracy :  0.8514851485148515\n"
     ]
    }
   ],
   "source": [
    "from sklearn.metrics import accuracy_score\n",
    "print (\"Accuracy : \", accuracy_score(y_train, y_pred))"
   ]
  },
  {
   "cell_type": "code",
   "execution_count": 164,
   "metadata": {},
   "outputs": [
    {
     "data": {
      "text/plain": [
       "<matplotlib.collections.PathCollection at 0x7f93fe84fc10>"
      ]
     },
     "execution_count": 164,
     "metadata": {},
     "output_type": "execute_result"
    },
    {
     "data": {
      "image/png": "[encoded data removed]",
      "text/plain": [
       "<Figure size 432x288 with 1 Axes>"
      ]
     },
     "metadata": {
      "needs_background": "light"
     },
     "output_type": "display_data"
    }
   ],
   "source": [
    "preds =prob[:,1]\n",
    "plt.scatter(np.arange(len(preds)), preds, s=5)"
   ]
  },
  {
   "cell_type": "code",
   "execution_count": 166,
   "metadata": {},
   "outputs": [],
   "source": [
    "m=200"
   ]
  },
  {
   "cell_type": "code",
   "execution_count": 167,
   "metadata": {},
   "outputs": [],
   "source": [
    "bf=BloomFilter(m,classifier)"
   ]
  },
  {
   "cell_type": "code",
   "execution_count": 169,
   "metadata": {},
   "outputs": [],
   "source": [
    "bf.add_init(x_train,y_train)"
   ]
  },
  {
   "cell_type": "code",
   "execution_count": 170,
   "metadata": {},
   "outputs": [
    {
     "name": "stdout",
     "output_type": "stream",
     "text": [
      "32\n",
      "106\n",
      "0.2318840579710145\n"
     ]
    }
   ],
   "source": [
    "print(fpr_test(x_train,bf,y_train))"
   ]
  },
  {
   "cell_type": "code",
   "execution_count": 189,
   "metadata": {},
   "outputs": [],
   "source": [
    "import pickle\n",
    "import os"
   ]
  },
  {
   "cell_type": "code",
   "execution_count": 190,
   "metadata": {},
   "outputs": [],
   "source": [
    "filename1='logreg_heart.sav'\n",
    "pickle.dump(classifier,open(filename1,'wb'))"
   ]
  },
  {
   "cell_type": "code",
   "execution_count": 191,
   "metadata": {},
   "outputs": [],
   "source": [
    "model_size1=os.stat('logreg_heart.sav').st_size"
   ]
  },
  {
   "cell_type": "code",
   "execution_count": 192,
   "metadata": {},
   "outputs": [
    {
     "name": "stdout",
     "output_type": "stream",
     "text": [
      "887\n"
     ]
    }
   ],
   "source": [
    "print(model_size1)"
   ]
  },
  {
   "cell_type": "markdown",
   "metadata": {},
   "source": [
    "# SVM Model"
   ]
  },
  {
   "cell_type": "code",
   "execution_count": 26,
   "metadata": {},
   "outputs": [],
   "source": [
    "from sklearn import svm\n",
    "from sklearn.metrics import accuracy_score \n"
   ]
  },
  {
   "cell_type": "code",
   "execution_count": 107,
   "metadata": {},
   "outputs": [
    {
     "data": {
      "text/plain": [
       "SVC(C=1.0, break_ties=False, cache_size=200, class_weight=None, coef0=0.0,\n",
       "    decision_function_shape='ovr', degree=3, gamma='scale', kernel='rbf',\n",
       "    max_iter=-1, probability=True, random_state=None, shrinking=True, tol=0.001,\n",
       "    verbose=False)"
      ]
     },
     "execution_count": 107,
     "metadata": {},
     "output_type": "execute_result"
    }
   ],
   "source": [
    "clf2 = svm.SVC(kernel='rbf',probability=True)\n",
    "clf2.fit(x_train, y_train)"
   ]
  },
  {
   "cell_type": "code",
   "execution_count": 108,
   "metadata": {},
   "outputs": [],
   "source": [
    "preds=clf2.predict(x_train)"
   ]
  },
  {
   "cell_type": "code",
   "execution_count": 109,
   "metadata": {},
   "outputs": [
    {
     "data": {
      "text/plain": [
       "<matplotlib.collections.PathCollection at 0x7f93fe6b62d0>"
      ]
     },
     "execution_count": 109,
     "metadata": {},
     "output_type": "execute_result"
    },
    {
     "data": {
      "image/png": "[encoded data removed]",
      "text/plain": [
       "<Figure size 432x288 with 1 Axes>"
      ]
     },
     "metadata": {
      "needs_background": "light"
     },
     "output_type": "display_data"
    }
   ],
   "source": [
    "plt.scatter(np.arange(len(preds)), preds, s=5)"
   ]
  },
  {
   "cell_type": "code",
   "execution_count": 110,
   "metadata": {},
   "outputs": [
    {
     "name": "stdout",
     "output_type": "stream",
     "text": [
      "0.9207920792079208\n"
     ]
    }
   ],
   "source": [
    "accuracy = accuracy_score(y_train.flatten(),preds)\n",
    "print(accuracy)"
   ]
  },
  {
   "cell_type": "code",
   "execution_count": 111,
   "metadata": {},
   "outputs": [
    {
     "name": "stdout",
     "output_type": "stream",
     "text": [
      "[0.83795377 0.7054494  0.94193357 0.96510545 0.87031253 0.8703918\n",
      " 0.90654886 0.80822976 0.87028628 0.90203127 0.87025151 0.97228329\n",
      " 0.96518511 0.87024747 0.93992695 0.93607994 0.97653213 0.79205582\n",
      " 0.84592717 0.87039721 0.28057601 0.97103662 0.92080149 0.57513552\n",
      " 0.87028168 0.87033969 0.91782979 0.87029611 0.87037812 0.87030899\n",
      " 0.92465935 0.67424742 0.94418714 0.72137418 0.81067721 0.8703144\n",
      " 0.96236024 0.58085224 0.95796963 0.89996476 0.88274992 0.92518004\n",
      " 0.37081981 0.90488087 0.92574193 0.95428396 0.96118994 0.92964172\n",
      " 0.87022805 0.94046581 0.97695559 0.74408183 0.14314417 0.91433841\n",
      " 0.97219324 0.81314976 0.87032787 0.86493451 0.92627296 0.87032407\n",
      " 0.87027957 0.8129524  0.92062381 0.87027666 0.95694436 0.87703941\n",
      " 0.87030854 0.9554127  0.96803519 0.96955733 0.57523914 0.86306028\n",
      " 0.8823408  0.83206425 0.96404477 0.91647522 0.87036082 0.87022937\n",
      " 0.95829811 0.81399804 0.97552878 0.91175968 0.96238059 0.87023793\n",
      " 0.85558956 0.87035609 0.68189413 0.87025747 0.93639439 0.87025612\n",
      " 0.92105948 0.38061615 0.84318144 0.83423725 0.91587329 0.15522053\n",
      " 0.87022837 0.41443277 0.83538648 0.77608548 0.87021345 0.60175644\n",
      " 0.87029749 0.87028685 0.97243052 0.89128386 0.78681192 0.82746554\n",
      " 0.98010648 0.94142785 0.60626225 0.87031646 0.87035363 0.53846354\n",
      " 0.9516362  0.97039115 0.87025906 0.64223521 0.97185203 0.83322354\n",
      " 0.39565807 0.87033999 0.97687589 0.97619562 0.93917505 0.94650562\n",
      " 0.86320892 0.94744031 0.96020756 0.83758778 0.92424736 0.95663458\n",
      " 0.94868306 0.93547563 0.97166966 0.96871234 0.8702859  0.87036243\n",
      " 0.44396203 0.07107977 0.97699904 0.87022117 0.96333026 0.85661766\n",
      " 0.87028028 0.80989228 0.9162159  0.95667038 0.97668299 0.94751356\n",
      " 0.78311867 0.8703397  0.47722925 0.87039364 0.93678952 0.87039432\n",
      " 0.97942999 0.94363805 0.32740106 0.63304659 0.8702061  0.96838385\n",
      " 0.9442636  0.87030704 0.87030704 0.03636958 0.0182196  0.09738951\n",
      " 0.03250909 0.09738761 0.36489231 0.36179954 0.71024059 0.09747838\n",
      " 0.00926909 0.09741422 0.09743283 0.86966676 0.06703411 0.09739162\n",
      " 0.02659262 0.09749635 0.9461269  0.13135347 0.03666645 0.37095486\n",
      " 0.04871251 0.01600857 0.33124705 0.20854472 0.08841536 0.0114396\n",
      " 0.05060334 0.00614391 0.48984761 0.06424513 0.30041144 0.16231788\n",
      " 0.03993661 0.17997624 0.42830101 0.01261808 0.09744905 0.1684079\n",
      " 0.09736739 0.1140954  0.04253968 0.03294789 0.09738036 0.12784993\n",
      " 0.27235066 0.01648468 0.09746533 0.10714727 0.07601883 0.09746565\n",
      " 0.35306934 0.06368367 0.02417628 0.09741888 0.09753888 0.09735789\n",
      " 0.76092145 0.09744671 0.02424128 0.09536046 0.07410597 0.07114996\n",
      " 0.37277624 0.15947727 0.9586278  0.06581234 0.01413616 0.08170436\n",
      " 0.08263824 0.11620302 0.08168372 0.02391967 0.0974191  0.17661881\n",
      " 0.07801507 0.18369287 0.0974198  0.02999566 0.09750913 0.19339611\n",
      " 0.09741891 0.09746972 0.12283661 0.080394   0.0302254  0.09746007\n",
      " 0.09738411 0.08955965 0.64812866 0.03437464 0.00794243 0.05963779\n",
      " 0.18575271 0.31732841 0.09317365 0.73412239 0.02715318 0.1423414\n",
      " 0.11388676 0.22583197 0.09744435 0.15161227 0.02419757 0.09648255\n",
      " 0.13768585 0.18757698 0.23870401 0.42240967 0.09748029 0.09743829\n",
      " 0.0338939  0.68057668 0.71542307 0.05805818 0.15657757 0.12144866\n",
      " 0.28522942 0.40231026 0.03833994 0.01212107 0.77389926 0.62742458\n",
      " 0.03364803 0.0913426  0.22957269 0.09745463 0.09747624 0.43478042\n",
      " 0.20098503 0.04094737 0.57299802 0.09745058 0.0974438  0.37376737\n",
      " 0.07793904 0.0741834  0.85066327]\n",
      "(303, 2)\n"
     ]
    }
   ],
   "source": [
    "probability=clf2.predict_proba(x_train)\n",
    "print(probability[:,1])\n",
    "print(probability.shape)"
   ]
  },
  {
   "cell_type": "code",
   "execution_count": 121,
   "metadata": {},
   "outputs": [],
   "source": [
    "m=200\n",
    "bf=BloomFilter(m,clf2)\n",
    "bf.add_init(x_train,y_train)"
   ]
  },
  {
   "cell_type": "code",
   "execution_count": 122,
   "metadata": {},
   "outputs": [
    {
     "name": "stdout",
     "output_type": "stream",
     "text": [
      "13\n",
      "125\n",
      "0.09420289855072464\n"
     ]
    }
   ],
   "source": [
    "print(fpr_test(x_train,bf,y_train))"
   ]
  },
  {
   "cell_type": "code",
   "execution_count": 115,
   "metadata": {},
   "outputs": [
    {
     "data": {
      "text/plain": [
       "array([1., 1., 1., 1., 1., 1., 1., 1., 1., 1., 1., 1., 1., 1., 1., 1., 1.,\n",
       "       1., 1., 1., 0., 1., 1., 1., 1., 1., 1., 1., 1., 1., 1., 1., 1., 1.,\n",
       "       1., 1., 1., 1., 1., 1., 1., 1., 0., 1., 1., 1., 1., 1., 1., 1., 1.,\n",
       "       1., 0., 1., 1., 1., 1., 1., 1., 1., 1., 1., 1., 1., 1., 1., 1., 1.,\n",
       "       1., 1., 1., 1., 1., 1., 1., 1., 1., 1., 1., 1., 1., 1., 1., 1., 1.,\n",
       "       1., 1., 1., 1., 1., 1., 0., 1., 1., 1., 0., 1., 0., 1., 1., 1., 1.,\n",
       "       1., 1., 1., 1., 1., 1., 1., 1., 1., 1., 1., 1., 1., 1., 1., 1., 1.,\n",
       "       1., 0., 1., 1., 1., 1., 1., 1., 1., 1., 1., 1., 1., 1., 1., 1., 1.,\n",
       "       1., 1., 0., 0., 1., 1., 1., 1., 1., 1., 1., 1., 1., 1., 1., 1., 1.,\n",
       "       1., 1., 1., 1., 1., 0., 1., 1., 1., 1., 1., 1., 0., 0., 0., 0., 0.,\n",
       "       0., 0., 1., 0., 0., 0., 0., 1., 0., 0., 0., 0., 1., 0., 0., 0., 0.,\n",
       "       0., 0., 0., 0., 0., 0., 0., 1., 0., 0., 0., 0., 0., 0., 0., 0., 0.,\n",
       "       0., 0., 0., 0., 0., 0., 0., 0., 0., 0., 0., 0., 0., 0., 0., 0., 0.,\n",
       "       0., 1., 0., 0., 0., 0., 0., 0., 0., 1., 0., 0., 0., 0., 0., 0., 0.,\n",
       "       0., 0., 0., 0., 0., 0., 0., 0., 0., 0., 0., 0., 0., 0., 0., 0., 1.,\n",
       "       0., 0., 0., 0., 0., 0., 1., 0., 0., 0., 0., 0., 0., 0., 0., 0., 0.,\n",
       "       0., 0., 0., 0., 0., 1., 1., 0., 0., 0., 0., 0., 0., 0., 1., 1., 0.,\n",
       "       0., 0., 0., 0., 0., 0., 0., 1., 0., 0., 0., 0., 0., 1.])"
      ]
     },
     "execution_count": 115,
     "metadata": {},
     "output_type": "execute_result"
    }
   ],
   "source": [
    "preds"
   ]
  },
  {
   "cell_type": "code",
   "execution_count": 193,
   "metadata": {},
   "outputs": [],
   "source": [
    "filename2='svm_heart.sav'\n",
    "pickle.dump(classifier,open(filename2,'wb'))"
   ]
  },
  {
   "cell_type": "code",
   "execution_count": 194,
   "metadata": {},
   "outputs": [],
   "source": [
    "model_size2=os.stat('svm_heart.sav').st_size"
   ]
  },
  {
   "cell_type": "code",
   "execution_count": 195,
   "metadata": {},
   "outputs": [
    {
     "name": "stdout",
     "output_type": "stream",
     "text": [
      "887\n"
     ]
    }
   ],
   "source": [
    "print(model_size)"
   ]
  },
  {
   "cell_type": "code",
   "execution_count": null,
   "metadata": {},
   "outputs": [],
   "source": []
  }
 ],
 "metadata": {
  "kernelspec": {
   "display_name": "Python 3",
   "language": "python",
   "name": "python3"
  },
  "language_info": {
   "codemirror_mode": {
    "name": "ipython",
    "version": 3
   },
   "file_extension": ".py",
   "mimetype": "text/x-python",
   "name": "python",
   "nbconvert_exporter": "python",
   "pygments_lexer": "ipython3",
   "version": "3.7.6"
  }
 },
 "nbformat": 4,
 "nbformat_minor": 4
}
