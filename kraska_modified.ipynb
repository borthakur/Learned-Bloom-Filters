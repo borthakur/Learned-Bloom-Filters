{
 "cells": [
  {
   "cell_type": "code",
   "execution_count": 303,
   "metadata": {
    "execution": {
     "iopub.execute_input": "2021-05-27T10:08:05.685703Z",
     "iopub.status.busy": "2021-05-27T10:08:05.685045Z",
     "iopub.status.idle": "2021-05-27T10:08:05.776197Z",
     "shell.execute_reply": "2021-05-27T10:08:05.775174Z",
     "shell.execute_reply.started": "2021-05-27T10:08:05.685545Z"
    }
   },
   "outputs": [],
   "source": [
    "from bitarray import bitarray\n",
    "import mmh3\n",
    "import random\n",
    "import numpy as np\n",
    "import math"
   ]
  },
  {
   "cell_type": "code",
   "execution_count": 304,
   "metadata": {
    "execution": {
     "iopub.execute_input": "2021-05-27T10:08:10.964485Z",
     "iopub.status.busy": "2021-05-27T10:08:10.963946Z",
     "iopub.status.idle": "2021-05-27T10:08:11.909755Z",
     "shell.execute_reply": "2021-05-27T10:08:11.908872Z",
     "shell.execute_reply.started": "2021-05-27T10:08:10.964428Z"
    }
   },
   "outputs": [],
   "source": [
    "import tensorflow as tf\n",
    "from tensorflow.keras.layers import Dense\n",
    "from tensorflow.keras.losses import BinaryCrossentropy\n",
    "from tensorflow.keras.models import Sequential\n",
    "from tensorflow.keras.optimizers import Adam\n",
    "import tensorflow.keras.backend as K"
   ]
  },
  {
   "cell_type": "code",
   "execution_count": 305,
   "metadata": {
    "execution": {
     "iopub.execute_input": "2021-05-27T10:19:45.530565Z",
     "iopub.status.busy": "2021-05-27T10:19:45.530025Z",
     "iopub.status.idle": "2021-05-27T10:19:45.811183Z",
     "shell.execute_reply": "2021-05-27T10:19:45.810122Z",
     "shell.execute_reply.started": "2021-05-27T10:19:45.530504Z"
    }
   },
   "outputs": [],
   "source": [
    "import matplotlib.pyplot as plt\n",
    "import seaborn as sns"
   ]
  },
  {
   "cell_type": "code",
   "execution_count": 306,
   "metadata": {
    "execution": {
     "iopub.execute_input": "2021-05-27T10:09:16.845088Z",
     "iopub.status.busy": "2021-05-27T10:09:16.844499Z",
     "iopub.status.idle": "2021-05-27T10:09:16.856273Z",
     "shell.execute_reply": "2021-05-27T10:09:16.854538Z",
     "shell.execute_reply.started": "2021-05-27T10:09:16.845027Z"
    }
   },
   "outputs": [],
   "source": [
    "def fpr(y_true,y_pred):\n",
    "    y_pred_pos = K.round(K.clip(y_pred, 0, 1))\n",
    "    y_pred_neg = 1 - y_pred_pos\n",
    "\n",
    "    y_pos = K.round(K.clip(y_true, 0, 1))\n",
    "    y_neg = 1 - y_pos\n",
    "\n",
    "    tp = K.sum(y_pos * y_pred_pos)\n",
    "    tn = K.sum(y_neg * y_pred_neg)\n",
    "\n",
    "    fp = K.sum(y_neg * y_pred_pos)\n",
    "    fn = K.sum(y_pos * y_pred_neg)\n",
    "\n",
    "    fpr=fp/(fp+tn)\n",
    "    return(fpr)"
   ]
  },
  {
   "cell_type": "code",
   "execution_count": 307,
   "metadata": {
    "execution": {
     "iopub.execute_input": "2021-05-27T10:27:22.574052Z",
     "iopub.status.busy": "2021-05-27T10:27:22.573489Z",
     "iopub.status.idle": "2021-05-27T10:27:22.582427Z",
     "shell.execute_reply": "2021-05-27T10:27:22.580722Z",
     "shell.execute_reply.started": "2021-05-27T10:27:22.573993Z"
    }
   },
   "outputs": [],
   "source": [
    "additional_metrics = ['accuracy']\n",
    "loss_function = BinaryCrossentropy()\n",
    "number_of_epochs = 500\n",
    "optimizer = Adam()\n",
    "verbosity_mode = 0\n",
    "layer_size = 10"
   ]
  },
  {
   "cell_type": "code",
   "execution_count": 308,
   "metadata": {
    "execution": {
     "iopub.execute_input": "2021-05-27T10:09:37.805700Z",
     "iopub.status.busy": "2021-05-27T10:09:37.805128Z",
     "iopub.status.idle": "2021-05-27T10:09:40.424366Z",
     "shell.execute_reply": "2021-05-27T10:09:40.423131Z",
     "shell.execute_reply.started": "2021-05-27T10:09:37.805640Z"
    }
   },
   "outputs": [],
   "source": [
    "model = Sequential()\n",
    "model.add(Dense(layer_size,input_dim=1,activation='relu'))\n",
    "model.add(Dense(1,activation='sigmoid'))"
   ]
  },
  {
   "cell_type": "code",
   "execution_count": 309,
   "metadata": {
    "execution": {
     "iopub.execute_input": "2021-05-27T10:09:40.426282Z",
     "iopub.status.busy": "2021-05-27T10:09:40.426054Z",
     "iopub.status.idle": "2021-05-27T10:09:40.438485Z",
     "shell.execute_reply": "2021-05-27T10:09:40.437831Z",
     "shell.execute_reply.started": "2021-05-27T10:09:40.426255Z"
    }
   },
   "outputs": [],
   "source": [
    "model.compile(optimizer=optimizer, loss=loss_function, metrics=additional_metrics)"
   ]
  },
  {
   "cell_type": "code",
   "execution_count": 310,
   "metadata": {
    "execution": {
     "iopub.execute_input": "2021-05-27T10:09:40.439690Z",
     "iopub.status.busy": "2021-05-27T10:09:40.439516Z",
     "iopub.status.idle": "2021-05-27T10:09:40.463647Z",
     "shell.execute_reply": "2021-05-27T10:09:40.462695Z",
     "shell.execute_reply.started": "2021-05-27T10:09:40.439669Z"
    }
   },
   "outputs": [
    {
     "name": "stdout",
     "output_type": "stream",
     "text": [
      "Model: \"sequential_30\"\n",
      "_________________________________________________________________\n",
      "Layer (type)                 Output Shape              Param #   \n",
      "=================================================================\n",
      "dense_60 (Dense)             (None, 10)                20        \n",
      "_________________________________________________________________\n",
      "dense_61 (Dense)             (None, 1)                 11        \n",
      "=================================================================\n",
      "Total params: 31\n",
      "Trainable params: 31\n",
      "Non-trainable params: 0\n",
      "_________________________________________________________________\n"
     ]
    }
   ],
   "source": [
    "model.summary()"
   ]
  },
  {
   "cell_type": "markdown",
   "metadata": {},
   "source": [
    "## Data generation"
   ]
  },
  {
   "cell_type": "code",
   "execution_count": 311,
   "metadata": {
    "execution": {
     "iopub.execute_input": "2021-05-27T10:11:38.597065Z",
     "iopub.status.busy": "2021-05-27T10:11:38.596487Z",
     "iopub.status.idle": "2021-05-27T10:11:38.603185Z",
     "shell.execute_reply": "2021-05-27T10:11:38.601600Z",
     "shell.execute_reply.started": "2021-05-27T10:11:38.597008Z"
    }
   },
   "outputs": [],
   "source": [
    "#m=75000\n",
    "#n=25000\n",
    "m=40\n",
    "n=30\n",
    "r=0.5"
   ]
  },
  {
   "cell_type": "code",
   "execution_count": 352,
   "metadata": {
    "execution": {
     "iopub.execute_input": "2021-05-27T10:26:01.772699Z",
     "iopub.status.busy": "2021-05-27T10:26:01.772239Z",
     "iopub.status.idle": "2021-05-27T10:26:01.789060Z",
     "shell.execute_reply": "2021-05-27T10:26:01.788007Z",
     "shell.execute_reply.started": "2021-05-27T10:26:01.772643Z"
    }
   },
   "outputs": [],
   "source": [
    "x_pos = np.random.normal(loc=250, scale=100, size=(m//2))\n",
    "x_neg = np.random.normal(loc=750, scale=100, size=(m//2))\n",
    "\n",
    "x_train = np.concatenate((x_pos, x_neg)).reshape(-1, 1).astype(int)\n",
    "y_t=y_train = np.concatenate((np.ones(m//2), np.zeros(m//2))).reshape(-1, 1).astype(int)"
   ]
  },
  {
   "cell_type": "code",
   "execution_count": 313,
   "metadata": {
    "execution": {
     "iopub.execute_input": "2021-05-27T10:26:02.102281Z",
     "iopub.status.busy": "2021-05-27T10:26:02.101773Z",
     "iopub.status.idle": "2021-05-27T10:26:02.114349Z",
     "shell.execute_reply": "2021-05-27T10:26:02.112985Z",
     "shell.execute_reply.started": "2021-05-27T10:26:02.102227Z"
    }
   },
   "outputs": [
    {
     "data": {
      "text/plain": [
       "(40, 1)"
      ]
     },
     "execution_count": 313,
     "metadata": {},
     "output_type": "execute_result"
    }
   ],
   "source": [
    "x_train.shape"
   ]
  },
  {
   "cell_type": "code",
   "execution_count": 314,
   "metadata": {
    "execution": {
     "iopub.execute_input": "2021-05-27T10:26:02.462027Z",
     "iopub.status.busy": "2021-05-27T10:26:02.461605Z",
     "iopub.status.idle": "2021-05-27T10:26:02.892971Z",
     "shell.execute_reply": "2021-05-27T10:26:02.891831Z",
     "shell.execute_reply.started": "2021-05-27T10:26:02.461976Z"
    }
   },
   "outputs": [
    {
     "data": {
      "text/plain": [
       "<matplotlib.axes._subplots.AxesSubplot at 0x7fa556a8a250>"
      ]
     },
     "execution_count": 314,
     "metadata": {},
     "output_type": "execute_result"
    },
    {
     "data": {
      "image/png": "[encoded data removed]",
      "text/plain": [
       "<Figure size 432x288 with 1 Axes>"
      ]
     },
     "metadata": {
      "needs_background": "light"
     },
     "output_type": "display_data"
    }
   ],
   "source": [
    "sns.histplot(x=x_train.flatten(), hue=y_train.flatten())"
   ]
  },
  {
   "cell_type": "markdown",
   "metadata": {},
   "source": [
    "## Model training"
   ]
  },
  {
   "cell_type": "code",
   "execution_count": 315,
   "metadata": {
    "execution": {
     "iopub.execute_input": "2021-05-27T10:26:17.192681Z",
     "iopub.status.busy": "2021-05-27T10:26:17.192187Z",
     "iopub.status.idle": "2021-05-27T10:26:17.198967Z",
     "shell.execute_reply": "2021-05-27T10:26:17.197667Z",
     "shell.execute_reply.started": "2021-05-27T10:26:17.192623Z"
    }
   },
   "outputs": [],
   "source": [
    "batch_size = len(x_train)"
   ]
  },
  {
   "cell_type": "code",
   "execution_count": 316,
   "metadata": {
    "execution": {
     "iopub.execute_input": "2021-05-27T10:27:26.682817Z",
     "iopub.status.busy": "2021-05-27T10:27:26.682323Z",
     "iopub.status.idle": "2021-05-27T10:27:28.684310Z",
     "shell.execute_reply": "2021-05-27T10:27:28.683404Z",
     "shell.execute_reply.started": "2021-05-27T10:27:26.682763Z"
    },
    "tags": [
     "outputPrepend"
    ]
   },
   "outputs": [],
   "source": [
    "history = model.fit(x_train, y_train, batch_size = batch_size, epochs=number_of_epochs, verbose=verbosity_mode)"
   ]
  },
  {
   "cell_type": "code",
   "execution_count": 317,
   "metadata": {},
   "outputs": [
    {
     "data": {
      "text/plain": [
       "['loss', 'acc']"
      ]
     },
     "execution_count": 317,
     "metadata": {},
     "output_type": "execute_result"
    }
   ],
   "source": [
    "model.metrics_names\n"
   ]
  },
  {
   "cell_type": "code",
   "execution_count": 318,
   "metadata": {
    "execution": {
     "iopub.execute_input": "2021-05-27T10:27:30.463033Z",
     "iopub.status.busy": "2021-05-27T10:27:30.462581Z",
     "iopub.status.idle": "2021-05-27T10:27:30.706532Z",
     "shell.execute_reply": "2021-05-27T10:27:30.705984Z",
     "shell.execute_reply.started": "2021-05-27T10:27:30.462979Z"
    }
   },
   "outputs": [
    {
     "data": {
      "image/png": "[encoded data removed]",
      "text/plain": [
       "<Figure size 432x288 with 1 Axes>"
      ]
     },
     "metadata": {
      "needs_background": "light"
     },
     "output_type": "display_data"
    },
    {
     "data": {
      "image/png": "[encoded data removed]",
      "text/plain": [
       "<Figure size 432x288 with 1 Axes>"
      ]
     },
     "metadata": {
      "needs_background": "light"
     },
     "output_type": "display_data"
    }
   ],
   "source": [
    "plt.plot(history.history['acc'])\n",
    "plt.title('model accuracy')\n",
    "plt.ylabel('accuracy')\n",
    "plt.xlabel('epoch')\n",
    "plt.show()\n",
    "\n",
    "plt.plot(history.history['loss'])\n",
    "plt.title('model loss')\n",
    "plt.ylabel('loss')\n",
    "plt.xlabel('epoch')\n",
    "plt.show()\n",
    "\n",
    "#Hidden Layer Size=10"
   ]
  },
  {
   "cell_type": "code",
   "execution_count": 319,
   "metadata": {
    "execution": {
     "iopub.execute_input": "2021-05-27T10:27:37.772860Z",
     "iopub.status.busy": "2021-05-27T10:27:37.772359Z",
     "iopub.status.idle": "2021-05-27T10:27:37.778028Z",
     "shell.execute_reply": "2021-05-27T10:27:37.776679Z",
     "shell.execute_reply.started": "2021-05-27T10:27:37.772757Z"
    }
   },
   "outputs": [],
   "source": [
    "number_of_epochs = 150\n",
    "layer_size = 50"
   ]
  },
  {
   "cell_type": "code",
   "execution_count": 320,
   "metadata": {
    "execution": {
     "iopub.execute_input": "2021-05-27T10:27:38.372221Z",
     "iopub.status.busy": "2021-05-27T10:27:38.371841Z",
     "iopub.status.idle": "2021-05-27T10:27:38.405444Z",
     "shell.execute_reply": "2021-05-27T10:27:38.404892Z",
     "shell.execute_reply.started": "2021-05-27T10:27:38.372174Z"
    }
   },
   "outputs": [],
   "source": [
    "model = Sequential()\n",
    "model.add(Dense(layer_size,input_dim=1,activation='relu'))\n",
    "model.add(Dense(1,activation='sigmoid'))"
   ]
  },
  {
   "cell_type": "code",
   "execution_count": 321,
   "metadata": {
    "execution": {
     "iopub.execute_input": "2021-05-27T10:27:42.127855Z",
     "iopub.status.busy": "2021-05-27T10:27:42.127426Z",
     "iopub.status.idle": "2021-05-27T10:27:42.146415Z",
     "shell.execute_reply": "2021-05-27T10:27:42.145336Z",
     "shell.execute_reply.started": "2021-05-27T10:27:42.127804Z"
    }
   },
   "outputs": [],
   "source": [
    "model.compile(optimizer=optimizer, loss=loss_function, metrics=additional_metrics)"
   ]
  },
  {
   "cell_type": "code",
   "execution_count": 322,
   "metadata": {
    "execution": {
     "iopub.execute_input": "2021-05-27T10:27:44.452674Z",
     "iopub.status.busy": "2021-05-27T10:27:44.452255Z",
     "iopub.status.idle": "2021-05-27T10:27:44.465385Z",
     "shell.execute_reply": "2021-05-27T10:27:44.460148Z",
     "shell.execute_reply.started": "2021-05-27T10:27:44.452625Z"
    }
   },
   "outputs": [
    {
     "name": "stdout",
     "output_type": "stream",
     "text": [
      "Model: \"sequential_31\"\n",
      "_________________________________________________________________\n",
      "Layer (type)                 Output Shape              Param #   \n",
      "=================================================================\n",
      "dense_62 (Dense)             (None, 50)                100       \n",
      "_________________________________________________________________\n",
      "dense_63 (Dense)             (None, 1)                 51        \n",
      "=================================================================\n",
      "Total params: 151\n",
      "Trainable params: 151\n",
      "Non-trainable params: 0\n",
      "_________________________________________________________________\n"
     ]
    }
   ],
   "source": [
    "model.summary()"
   ]
  },
  {
   "cell_type": "code",
   "execution_count": 323,
   "metadata": {
    "execution": {
     "iopub.execute_input": "2021-05-27T10:28:06.769300Z",
     "iopub.status.busy": "2021-05-27T10:28:06.768715Z",
     "iopub.status.idle": "2021-05-27T10:28:07.475164Z",
     "shell.execute_reply": "2021-05-27T10:28:07.474000Z",
     "shell.execute_reply.started": "2021-05-27T10:28:06.769243Z"
    }
   },
   "outputs": [],
   "source": [
    "history = model.fit(x_train, y_train, batch_size = batch_size, epochs=number_of_epochs, verbose=verbosity_mode)"
   ]
  },
  {
   "cell_type": "code",
   "execution_count": 324,
   "metadata": {
    "execution": {
     "iopub.execute_input": "2021-05-27T10:28:07.938457Z",
     "iopub.status.busy": "2021-05-27T10:28:07.937995Z",
     "iopub.status.idle": "2021-05-27T10:28:08.192398Z",
     "shell.execute_reply": "2021-05-27T10:28:08.191512Z",
     "shell.execute_reply.started": "2021-05-27T10:28:07.938401Z"
    }
   },
   "outputs": [
    {
     "data": {
      "image/png": "[encoded data removed]",
      "text/plain": [
       "<Figure size 432x288 with 1 Axes>"
      ]
     },
     "metadata": {
      "needs_background": "light"
     },
     "output_type": "display_data"
    },
    {
     "data": {
      "image/png": "[encoded data removed]",
      "text/plain": [
       "<Figure size 432x288 with 1 Axes>"
      ]
     },
     "metadata": {
      "needs_background": "light"
     },
     "output_type": "display_data"
    }
   ],
   "source": [
    "plt.plot(history.history['acc'])\n",
    "plt.title('model accuracy')\n",
    "plt.ylabel('accuracy')\n",
    "plt.xlabel('epoch')\n",
    "plt.show()\n",
    "\n",
    "plt.plot(history.history['loss'])\n",
    "plt.title('model loss')\n",
    "plt.ylabel('loss')\n",
    "plt.xlabel('epoch')\n",
    "plt.show()\n",
    "\n",
    "#Hidden Layer Size=50"
   ]
  },
  {
   "cell_type": "code",
   "execution_count": 325,
   "metadata": {
    "execution": {
     "iopub.execute_input": "2021-05-27T10:28:25.675637Z",
     "iopub.status.busy": "2021-05-27T10:28:25.675173Z",
     "iopub.status.idle": "2021-05-27T10:28:26.423008Z",
     "shell.execute_reply": "2021-05-27T10:28:26.421582Z",
     "shell.execute_reply.started": "2021-05-27T10:28:25.675585Z"
    }
   },
   "outputs": [
    {
     "name": "stdout",
     "output_type": "stream",
     "text": [
      "Model: \"sequential_32\"\n",
      "_________________________________________________________________\n",
      "Layer (type)                 Output Shape              Param #   \n",
      "=================================================================\n",
      "dense_64 (Dense)             (None, 200)               400       \n",
      "_________________________________________________________________\n",
      "dense_65 (Dense)             (None, 1)                 201       \n",
      "=================================================================\n",
      "Total params: 601\n",
      "Trainable params: 601\n",
      "Non-trainable params: 0\n",
      "_________________________________________________________________\n"
     ]
    }
   ],
   "source": [
    "layer_size = 200\n",
    "number_of_epochs = 100\n",
    "model = Sequential()\n",
    "model.add(Dense(layer_size,input_dim=1,activation='relu'))\n",
    "model.add(Dense(1,activation='sigmoid'))\n",
    "model.compile(optimizer=optimizer, loss=loss_function, metrics=additional_metrics)\n",
    "model.summary()\n",
    "history = model.fit(x_train, y_train, batch_size = batch_size, epochs=number_of_epochs, verbose=verbosity_mode)"
   ]
  },
  {
   "cell_type": "code",
   "execution_count": 326,
   "metadata": {
    "execution": {
     "iopub.execute_input": "2021-05-27T10:28:27.614510Z",
     "iopub.status.busy": "2021-05-27T10:28:27.614008Z",
     "iopub.status.idle": "2021-05-27T10:28:27.864241Z",
     "shell.execute_reply": "2021-05-27T10:28:27.863266Z",
     "shell.execute_reply.started": "2021-05-27T10:28:27.614457Z"
    }
   },
   "outputs": [
    {
     "data": {
      "image/png": "[encoded data removed]",
      "text/plain": [
       "<Figure size 432x288 with 1 Axes>"
      ]
     },
     "metadata": {
      "needs_background": "light"
     },
     "output_type": "display_data"
    },
    {
     "data": {
      "image/png": "[encoded data removed]",
      "text/plain": [
       "<Figure size 432x288 with 1 Axes>"
      ]
     },
     "metadata": {
      "needs_background": "light"
     },
     "output_type": "display_data"
    }
   ],
   "source": [
    "plt.plot(history.history['acc'])\n",
    "plt.title('model accuracy')\n",
    "plt.ylabel('accuracy')\n",
    "plt.xlabel('epoch')\n",
    "plt.show()\n",
    "\n",
    "plt.plot(history.history['loss'])\n",
    "plt.title('model loss')\n",
    "plt.ylabel('loss')\n",
    "plt.xlabel('epoch')\n",
    "plt.show()\n",
    "\n",
    "#Hidden Layer Size=200"
   ]
  },
  {
   "cell_type": "code",
   "execution_count": 327,
   "metadata": {
    "execution": {
     "iopub.execute_input": "2021-05-27T10:28:42.053410Z",
     "iopub.status.busy": "2021-05-27T10:28:42.052988Z",
     "iopub.status.idle": "2021-05-27T10:28:42.947134Z",
     "shell.execute_reply": "2021-05-27T10:28:42.946039Z",
     "shell.execute_reply.started": "2021-05-27T10:28:42.053360Z"
    }
   },
   "outputs": [
    {
     "name": "stdout",
     "output_type": "stream",
     "text": [
      "Model: \"sequential_33\"\n",
      "_________________________________________________________________\n",
      "Layer (type)                 Output Shape              Param #   \n",
      "=================================================================\n",
      "dense_66 (Dense)             (None, 1000)              2000      \n",
      "_________________________________________________________________\n",
      "dense_67 (Dense)             (None, 1)                 1001      \n",
      "=================================================================\n",
      "Total params: 3,001\n",
      "Trainable params: 3,001\n",
      "Non-trainable params: 0\n",
      "_________________________________________________________________\n"
     ]
    }
   ],
   "source": [
    "number_of_epochs = 60\n",
    "layer_size = 1000\n",
    "model = Sequential()\n",
    "model.add(Dense(layer_size,input_dim=1,activation='relu'))\n",
    "model.add(Dense(1,activation='sigmoid'))\n",
    "model.compile(optimizer=optimizer, loss=loss_function, metrics=additional_metrics)\n",
    "model.summary()\n",
    "history = model.fit(x_train, y_train, batch_size = batch_size, epochs=number_of_epochs, verbose=verbosity_mode)"
   ]
  },
  {
   "cell_type": "code",
   "execution_count": 328,
   "metadata": {
    "execution": {
     "iopub.execute_input": "2021-05-27T10:28:42.952878Z",
     "iopub.status.busy": "2021-05-27T10:28:42.952621Z",
     "iopub.status.idle": "2021-05-27T10:28:43.452901Z",
     "shell.execute_reply": "2021-05-27T10:28:43.451956Z",
     "shell.execute_reply.started": "2021-05-27T10:28:42.952850Z"
    }
   },
   "outputs": [
    {
     "data": {
      "image/png": "[encoded data removed]",
      "text/plain": [
       "<Figure size 432x288 with 1 Axes>"
      ]
     },
     "metadata": {
      "needs_background": "light"
     },
     "output_type": "display_data"
    },
    {
     "data": {
      "image/png": "[encoded data removed]",
      "text/plain": [
       "<Figure size 432x288 with 1 Axes>"
      ]
     },
     "metadata": {
      "needs_background": "light"
     },
     "output_type": "display_data"
    }
   ],
   "source": [
    "plt.plot(history.history['acc'])\n",
    "plt.title('model accuracy')\n",
    "plt.ylabel('accuracy')\n",
    "plt.xlabel('epoch')\n",
    "plt.show()\n",
    "\n",
    "plt.plot(history.history['loss'])\n",
    "plt.title('model loss')\n",
    "plt.ylabel('loss')\n",
    "plt.xlabel('epoch')\n",
    "plt.show()\n",
    "\n",
    "#Hidden Layer Size=1000"
   ]
  },
  {
   "cell_type": "code",
   "execution_count": 329,
   "metadata": {
    "execution": {
     "iopub.execute_input": "2021-05-27T10:30:16.679707Z",
     "iopub.status.busy": "2021-05-27T10:30:16.679203Z",
     "iopub.status.idle": "2021-05-27T10:30:16.698043Z",
     "shell.execute_reply": "2021-05-27T10:30:16.696947Z",
     "shell.execute_reply.started": "2021-05-27T10:30:16.679651Z"
    }
   },
   "outputs": [],
   "source": [
    "class BloomFilter:\n",
    "    \n",
    "    def __init__(self, size, hash_count):\n",
    "        self.size = size\n",
    "        self.hash_count = hash_count\n",
    "        self.bit_array = bitarray(size)\n",
    "        self.bit_array.setall(0)\n",
    "        \n",
    "    def add(self, num):\n",
    "        for seed in range(1,self.hash_count+1):\n",
    "            result = mmh3.hash(str(num), seed) % self.size\n",
    "            self.bit_array[result] = 1\n",
    "            \n",
    "    def lookup(self, num):\n",
    "        for seed in range(1,self.hash_count+1):\n",
    "            result = mmh3.hash(str(num), seed) % self.size\n",
    "            if self.bit_array[result] == 0:\n",
    "                return False\n",
    "        return True\n",
    "\n",
    "#adds ratio r of an array of random integers of size n to bloom filter bf(input : bf,size,ratio; output: data array)\n",
    "def addrandom(bf,n,r):\n",
    "    data=np.empty(n,dtype=int)\n",
    "    for i in range(0,n):\n",
    "        data[i]=random.randint(0, 100000000)\n",
    "    for j in range(0,int(n*r)):\n",
    "        bf.add(data[j]);\n",
    "    return data\n",
    "\n",
    "#(Input:bloom filter,number array,ratio of positives; Output:(-1) for false negative, otherwise fpr)\n",
    "def fpr(bf,nums,r):\n",
    "    for i in range(int(len(nums)*r)):\n",
    "        if(bf.lookup(nums[i])==False):\n",
    "            print(nums[i])\n",
    "            return -1\n",
    "    count = 0\n",
    "    for i in range(int(len(nums)*r),len(nums)):\n",
    "        if(bf.lookup(nums[i])==True):\n",
    "            count+=1\n",
    "    return count/(len(nums)-int(len(nums)*r))\n",
    "\n",
    "#(Input:bloom filter size, total random numbers, ratio of number inserted; Output:efficient number of hash functions)\n",
    "def eff_k(m,n,r):\n",
    "    k=int(m/(int(n*r))*math.log(2))\n",
    "    if(k==0):\n",
    "        return 1\n",
    "    return k\n",
    "\n",
    "#(Input:size of bloom filter, number of hash functions, total numbers, ratio of numbers inserted; Output: fpr)\n",
    "def find_fpr(m,k,n,r):\n",
    "    bf=BloomFilter(m,k)\n",
    "    data=addrandom(bf,n,r)\n",
    "    return fpr(bf,data,r)\n",
    "\n",
    "#(Input:size of bloom filter, total numbers, ratio of numbers inserted; Output: prints inputs and fpr)\n",
    "def outputs(m,n,r):\n",
    "    k=eff_k(m,n,r)\n",
    "    find_fpr(m,k,n,r)\n",
    "    #print(\"For m=%d, k=%d, n=%d, r=%.3f: fpr=%.3f\"%(m,k,n,r,find_fpr(m,k,n,r)))"
   ]
  },
  {
   "cell_type": "code",
   "execution_count": 359,
   "metadata": {
    "execution": {
     "iopub.execute_input": "2021-05-27T10:33:23.875544Z",
     "iopub.status.busy": "2021-05-27T10:33:23.875107Z",
     "iopub.status.idle": "2021-05-27T10:33:23.883838Z",
     "shell.execute_reply": "2021-05-27T10:33:23.882311Z",
     "shell.execute_reply.started": "2021-05-27T10:33:23.875492Z"
    }
   },
   "outputs": [],
   "source": [
    "def load_bloom(model,data_x,data_y,bf,n):\n",
    "    y_pred = model.predict(data_x)\n",
    "    for i in range(0,n):\n",
    "        if((y_pred[i]<=0.99)and(data_y[i]==1)):\n",
    "            print(f'{data_x[i]}{i} inserted to bf')\n",
    "            bf.add(data_x[i])"
   ]
  },
  {
   "cell_type": "code",
   "execution_count": 360,
   "metadata": {
    "execution": {
     "iopub.execute_input": "2021-05-27T10:33:24.945463Z",
     "iopub.status.busy": "2021-05-27T10:33:24.945057Z",
     "iopub.status.idle": "2021-05-27T10:33:24.950903Z",
     "shell.execute_reply": "2021-05-27T10:33:24.949702Z",
     "shell.execute_reply.started": "2021-05-27T10:33:24.945414Z"
    }
   },
   "outputs": [],
   "source": [
    "#m=75000\n",
    "#n=25000\n",
    "#r=0.5\n",
    "k=eff_k(m,n,r)\n",
    "bf=BloomFilter(m,k)"
   ]
  },
  {
   "cell_type": "code",
   "execution_count": 361,
   "metadata": {
    "execution": {
     "iopub.execute_input": "2021-05-27T10:33:26.975139Z",
     "iopub.status.busy": "2021-05-27T10:33:26.974793Z",
     "iopub.status.idle": "2021-05-27T10:33:28.720576Z",
     "shell.execute_reply": "2021-05-27T10:33:28.719670Z",
     "shell.execute_reply.started": "2021-05-27T10:33:26.975098Z"
    }
   },
   "outputs": [
    {
     "name": "stdout",
     "output_type": "stream",
     "text": [
      "[232]1 inserted to bf\n",
      "[79]3 inserted to bf\n",
      "[268]5 inserted to bf\n",
      "[221]6 inserted to bf\n",
      "[143]7 inserted to bf\n",
      "[159]9 inserted to bf\n",
      "[229]10 inserted to bf\n",
      "[171]11 inserted to bf\n",
      "[152]12 inserted to bf\n",
      "[212]17 inserted to bf\n",
      "[51]19 inserted to bf\n"
     ]
    }
   ],
   "source": [
    "load_bloom(model,x_train,y_train,bf,n)"
   ]
  },
  {
   "cell_type": "code",
   "execution_count": 362,
   "metadata": {},
   "outputs": [
    {
     "data": {
      "text/plain": [
       "array([1])"
      ]
     },
     "execution_count": 362,
     "metadata": {},
     "output_type": "execute_result"
    }
   ],
   "source": [
    "y_train[5]"
   ]
  },
  {
   "cell_type": "code",
   "execution_count": 363,
   "metadata": {
    "execution": {
     "iopub.execute_input": "2021-05-27T10:39:01.968855Z",
     "iopub.status.busy": "2021-05-27T10:39:01.968323Z",
     "iopub.status.idle": "2021-05-27T10:39:01.976122Z",
     "shell.execute_reply": "2021-05-27T10:39:01.974550Z",
     "shell.execute_reply.started": "2021-05-27T10:39:01.968762Z"
    }
   },
   "outputs": [],
   "source": [
    "def lookup_model(model,data,bf):\n",
    "    if(model.predict(data)<=0.5):\n",
    "        if(bf.lookup(data)==False):\n",
    "            return False\n",
    "    return True"
   ]
  },
  {
   "cell_type": "code",
   "execution_count": 364,
   "metadata": {
    "execution": {
     "iopub.execute_input": "2021-05-27T10:39:02.657862Z",
     "iopub.status.busy": "2021-05-27T10:39:02.657448Z",
     "iopub.status.idle": "2021-05-27T10:39:04.274003Z",
     "shell.execute_reply": "2021-05-27T10:39:04.273010Z",
     "shell.execute_reply.started": "2021-05-27T10:39:02.657812Z"
    }
   },
   "outputs": [
    {
     "data": {
      "text/plain": [
       "<matplotlib.collections.PathCollection at 0x7fa55661ca10>"
      ]
     },
     "execution_count": 364,
     "metadata": {},
     "output_type": "execute_result"
    },
    {
     "data": {
      "image/png": "[encoded data removed]",
      "text/plain": [
       "<Figure size 432x288 with 1 Axes>"
      ]
     },
     "metadata": {
      "needs_background": "light"
     },
     "output_type": "display_data"
    }
   ],
   "source": [
    "preds = model.predict(x_train)\n",
    "plt.scatter(np.arange(len(preds)), preds, s=0.1)"
   ]
  },
  {
   "cell_type": "code",
   "execution_count": 365,
   "metadata": {
    "execution": {
     "iopub.execute_input": "2021-05-27T10:39:04.275347Z",
     "iopub.status.busy": "2021-05-27T10:39:04.275155Z",
     "iopub.status.idle": "2021-05-27T10:39:04.324829Z",
     "shell.execute_reply": "2021-05-27T10:39:04.323802Z",
     "shell.execute_reply.started": "2021-05-27T10:39:04.275325Z"
    }
   },
   "outputs": [
    {
     "name": "stdout",
     "output_type": "stream",
     "text": [
      "True\n"
     ]
    }
   ],
   "source": [
    "print(lookup_model(model,x_train[-1],bf))"
   ]
  },
  {
   "cell_type": "code",
   "execution_count": 374,
   "metadata": {
    "execution": {
     "iopub.execute_input": "2021-05-27T10:39:20.700507Z",
     "iopub.status.busy": "2021-05-27T10:39:20.700019Z",
     "iopub.status.idle": "2021-05-27T10:39:20.710617Z",
     "shell.execute_reply": "2021-05-27T10:39:20.709471Z",
     "shell.execute_reply.started": "2021-05-27T10:39:20.700453Z"
    }
   },
   "outputs": [],
   "source": [
    "def calculate_fpr(model,bf,x_train,y_train):\n",
    "    np=0\n",
    "    y_pred = model.predict(x_train)\n",
    "    for i in range(len(x_train)):\n",
    "        if((y_pred[i]>0.99 or bf.lookup(x_train[i])) and y_train[i]==0):\n",
    "            np+=1\n",
    "            continue\n",
    "        if((y_pred[i]<=0.99 and bf.lookup(x_train[i])==False) and y_train[i]==1):\n",
    "            print(i)\n",
    "            return -1\n",
    "   # neg=len(y_train)-K.sum(y_train) #counting no of zeros\n",
    "    neg=0\n",
    "    for i in y_train:\n",
    "        neg+=i\n",
    "    #print(y_train.dtype)\n",
    "    return float(np/neg)"
   ]
  },
  {
   "cell_type": "code",
   "execution_count": 375,
   "metadata": {
    "execution": {
     "iopub.execute_input": "2021-05-27T10:39:21.427932Z",
     "iopub.status.busy": "2021-05-27T10:39:21.427516Z",
     "iopub.status.idle": "2021-05-27T10:39:22.869063Z",
     "shell.execute_reply": "2021-05-27T10:39:22.867918Z",
     "shell.execute_reply.started": "2021-05-27T10:39:21.427882Z"
    }
   },
   "outputs": [
    {
     "name": "stdout",
     "output_type": "stream",
     "text": [
      "1.0\n"
     ]
    }
   ],
   "source": [
    "print(calculate_fpr(model,bf,x_train,y_train))"
   ]
  },
  {
   "cell_type": "code",
   "execution_count": 376,
   "metadata": {},
   "outputs": [
    {
     "data": {
      "text/plain": [
       "array([[0.98917073]], dtype=float32)"
      ]
     },
     "execution_count": 376,
     "metadata": {},
     "output_type": "execute_result"
    }
   ],
   "source": [
    "model.predict(x_train[5])"
   ]
  },
  {
   "cell_type": "code",
   "execution_count": 377,
   "metadata": {},
   "outputs": [
    {
     "data": {
      "text/plain": [
       "True"
      ]
     },
     "execution_count": 377,
     "metadata": {},
     "output_type": "execute_result"
    }
   ],
   "source": [
    "bf.lookup(x_train[5])"
   ]
  },
  {
   "cell_type": "code",
   "execution_count": 378,
   "metadata": {},
   "outputs": [
    {
     "data": {
      "text/plain": [
       "array([1])"
      ]
     },
     "execution_count": 378,
     "metadata": {},
     "output_type": "execute_result"
    }
   ],
   "source": [
    "y_t[5]"
   ]
  },
  {
   "cell_type": "code",
   "execution_count": null,
   "metadata": {},
   "outputs": [],
   "source": []
  }
 ],
 "metadata": {
  "kernelspec": {
   "display_name": "Python 3",
   "language": "python",
   "name": "python3"
  },
  "language_info": {
   "codemirror_mode": {
    "name": "ipython",
    "version": 3
   },
   "file_extension": ".py",
   "mimetype": "text/x-python",
   "name": "python",
   "nbconvert_exporter": "python",
   "pygments_lexer": "ipython3",
   "version": "3.7.6"
  }
 },
 "nbformat": 4,
 "nbformat_minor": 4
}
