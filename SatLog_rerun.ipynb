{
 "cells": [
  {
   "cell_type": "code",
   "execution_count": 1,
   "metadata": {},
   "outputs": [],
   "source": [
    "from bitarray import bitarray\n",
    "import random\n",
    "import numpy as np\n",
    "import math\n",
    "import timeit"
   ]
  },
  {
   "cell_type": "code",
   "execution_count": 2,
   "metadata": {},
   "outputs": [
    {
     "name": "stderr",
     "output_type": "stream",
     "text": [
      "/Users/aditijain/opt/anaconda3/lib/python3.7/site-packages/tensorflow/python/framework/dtypes.py:516: FutureWarning: Passing (type, 1) or '1type' as a synonym of type is deprecated; in a future version of numpy, it will be understood as (type, (1,)) / '(1,)type'.\n",
      "  _np_qint8 = np.dtype([(\"qint8\", np.int8, 1)])\n",
      "/Users/aditijain/opt/anaconda3/lib/python3.7/site-packages/tensorflow/python/framework/dtypes.py:517: FutureWarning: Passing (type, 1) or '1type' as a synonym of type is deprecated; in a future version of numpy, it will be understood as (type, (1,)) / '(1,)type'.\n",
      "  _np_quint8 = np.dtype([(\"quint8\", np.uint8, 1)])\n",
      "/Users/aditijain/opt/anaconda3/lib/python3.7/site-packages/tensorflow/python/framework/dtypes.py:518: FutureWarning: Passing (type, 1) or '1type' as a synonym of type is deprecated; in a future version of numpy, it will be understood as (type, (1,)) / '(1,)type'.\n",
      "  _np_qint16 = np.dtype([(\"qint16\", np.int16, 1)])\n",
      "/Users/aditijain/opt/anaconda3/lib/python3.7/site-packages/tensorflow/python/framework/dtypes.py:519: FutureWarning: Passing (type, 1) or '1type' as a synonym of type is deprecated; in a future version of numpy, it will be understood as (type, (1,)) / '(1,)type'.\n",
      "  _np_quint16 = np.dtype([(\"quint16\", np.uint16, 1)])\n",
      "/Users/aditijain/opt/anaconda3/lib/python3.7/site-packages/tensorflow/python/framework/dtypes.py:520: FutureWarning: Passing (type, 1) or '1type' as a synonym of type is deprecated; in a future version of numpy, it will be understood as (type, (1,)) / '(1,)type'.\n",
      "  _np_qint32 = np.dtype([(\"qint32\", np.int32, 1)])\n",
      "/Users/aditijain/opt/anaconda3/lib/python3.7/site-packages/tensorflow/python/framework/dtypes.py:525: FutureWarning: Passing (type, 1) or '1type' as a synonym of type is deprecated; in a future version of numpy, it will be understood as (type, (1,)) / '(1,)type'.\n",
      "  np_resource = np.dtype([(\"resource\", np.ubyte, 1)])\n",
      "/Users/aditijain/opt/anaconda3/lib/python3.7/site-packages/tensorboard/compat/tensorflow_stub/dtypes.py:541: FutureWarning: Passing (type, 1) or '1type' as a synonym of type is deprecated; in a future version of numpy, it will be understood as (type, (1,)) / '(1,)type'.\n",
      "  _np_qint8 = np.dtype([(\"qint8\", np.int8, 1)])\n",
      "/Users/aditijain/opt/anaconda3/lib/python3.7/site-packages/tensorboard/compat/tensorflow_stub/dtypes.py:542: FutureWarning: Passing (type, 1) or '1type' as a synonym of type is deprecated; in a future version of numpy, it will be understood as (type, (1,)) / '(1,)type'.\n",
      "  _np_quint8 = np.dtype([(\"quint8\", np.uint8, 1)])\n",
      "/Users/aditijain/opt/anaconda3/lib/python3.7/site-packages/tensorboard/compat/tensorflow_stub/dtypes.py:543: FutureWarning: Passing (type, 1) or '1type' as a synonym of type is deprecated; in a future version of numpy, it will be understood as (type, (1,)) / '(1,)type'.\n",
      "  _np_qint16 = np.dtype([(\"qint16\", np.int16, 1)])\n",
      "/Users/aditijain/opt/anaconda3/lib/python3.7/site-packages/tensorboard/compat/tensorflow_stub/dtypes.py:544: FutureWarning: Passing (type, 1) or '1type' as a synonym of type is deprecated; in a future version of numpy, it will be understood as (type, (1,)) / '(1,)type'.\n",
      "  _np_quint16 = np.dtype([(\"quint16\", np.uint16, 1)])\n",
      "/Users/aditijain/opt/anaconda3/lib/python3.7/site-packages/tensorboard/compat/tensorflow_stub/dtypes.py:545: FutureWarning: Passing (type, 1) or '1type' as a synonym of type is deprecated; in a future version of numpy, it will be understood as (type, (1,)) / '(1,)type'.\n",
      "  _np_qint32 = np.dtype([(\"qint32\", np.int32, 1)])\n",
      "/Users/aditijain/opt/anaconda3/lib/python3.7/site-packages/tensorboard/compat/tensorflow_stub/dtypes.py:550: FutureWarning: Passing (type, 1) or '1type' as a synonym of type is deprecated; in a future version of numpy, it will be understood as (type, (1,)) / '(1,)type'.\n",
      "  np_resource = np.dtype([(\"resource\", np.ubyte, 1)])\n"
     ]
    }
   ],
   "source": [
    "import tensorflow as tf\n",
    "from tensorflow.keras.layers import Dense\n",
    "from tensorflow.keras.losses import BinaryCrossentropy\n",
    "from tensorflow.keras.models import Sequential\n",
    "from tensorflow.keras.optimizers import Adam\n",
    "import tensorflow.keras.backend as K"
   ]
  },
  {
   "cell_type": "code",
   "execution_count": 3,
   "metadata": {},
   "outputs": [],
   "source": [
    "import matplotlib.pyplot as plt\n",
    "import seaborn as sns\n",
    "from sklearn.preprocessing import StandardScaler\n",
    "from sklearn.metrics import confusion_matrix"
   ]
  },
  {
   "cell_type": "code",
   "execution_count": 4,
   "metadata": {},
   "outputs": [],
   "source": [
    "import pandas as pd\n",
    "import os"
   ]
  },
  {
   "cell_type": "code",
   "execution_count": 5,
   "metadata": {},
   "outputs": [],
   "source": [
    "import sklearn.datasets as skds\n",
    "from sklearn.datasets import fetch_openml"
   ]
  },
  {
   "cell_type": "code",
   "execution_count": null,
   "metadata": {},
   "outputs": [],
   "source": [
    "X, y = skds.fetch_openml(\"vehicleNorm\", return_X_y=True)\n",
    "y[y==['1']] = 1\n",
    "y[y==['-1']] = 0\n",
    "X = X.toarray()\n",
    "X = StandardScaler().fit_transform(X)\n"
   ]
  },
  {
   "cell_type": "code",
   "execution_count": null,
   "metadata": {},
   "outputs": [],
   "source": [
    "x_neg=X[y==0]\n",
    "x_pos=X[y==1]"
   ]
  },
  {
   "cell_type": "code",
   "execution_count": null,
   "metadata": {},
   "outputs": [],
   "source": [
    "np.random.shuffle(x_neg)\n",
    "x_test=x_neg[0:24632]\n",
    "x_train=x_neg[24632:49264]\n",
    "x_train=np.concatenate((x_train,x_pos))\n",
    "y_train=np.concatenate((np.zeros(24632),np.ones(49264)))\n",
    "y_test=np.zeros(24632)"
   ]
  },
  {
   "cell_type": "markdown",
   "metadata": {},
   "source": [
    "# Projection model"
   ]
  },
  {
   "cell_type": "code",
   "execution_count": 8,
   "metadata": {},
   "outputs": [],
   "source": [
    "class Projection_BloomFilter:\n",
    "    def __init__(self, size, hash_count, dim):\n",
    "        vectors = np.random.normal(0,1,size=(hash_count,dim)) #random vectors(each row) from normal distribution, not unit vectors\n",
    "        i=0\n",
    "        while(i<hash_count):\n",
    "            if(vectors[i][0]<0):\n",
    "                vectors[i][0] *= -1\n",
    "               # print(\"initial v\", vectors[i])\n",
    "                #vectors[i]=np.random.normal(0,1,size=(1,dim))\n",
    "                #print(\"changed v\", vectors[i])\n",
    "            i = i+1\n",
    "       # print(vectors)        \n",
    "        self.unit_vectors = np.transpose(vectors/np.sqrt(np.transpose([np.sum(np.multiply(vectors,vectors),1)]))) #Matrix where each column is a unit vector, used as hash\n",
    "        self.size = size\n",
    "        self.hash_count = hash_count\n",
    "        self.bit_array = bitarray(size)\n",
    "        self.bit_array.setall(0)\n",
    "\n",
    "    def give_hash_values(self,X):\n",
    "        projections = np.dot(X,self.unit_vectors) #Projections of datapoints on unit vectors\n",
    "        norm_proj = 1/(1+np.exp(-projections)) #Sigmoid on each value so that they are in the range (0,1)\n",
    "        hash_values = (norm_proj*(self.size-1)).astype(int) #All values are integers in the range [0,size-1]\n",
    "        return hash_values                        #Each row contains hash values of that datapoint\n",
    "\n",
    "    def add(self,x):\n",
    "        hash_values = self.give_hash_values(x)\n",
    "        for i in hash_values:\n",
    "            self.bit_array[i] = 1\n",
    "        \n",
    "    def bulk_add(self, X):\n",
    "        hash_values = self.give_hash_values(X)\n",
    "        for i in hash_values:\n",
    "            for j in i:\n",
    "                self.bit_array[j] = 1\n",
    "            \n",
    "    def lookup(self, x):\n",
    "        hash_values = self.give_hash_values(x)\n",
    "        for i in hash_values:\n",
    "            if(self.bit_array[i]==0):\n",
    "                return False\n",
    "        return True\n",
    "\n",
    "    \n",
    "#(Input:bloom filter,normalized positive data,normalized negative data; Output:(-1) for false negative, otherwise fpr)\n",
    "def find_fpr(bf,x_pos,x_neg):\n",
    "    fp = 0\n",
    "    tn = 0\n",
    "    pos_hash_values = bf.give_hash_values(x_pos)\n",
    "    neg_hash_values = bf.give_hash_values(x_neg)\n",
    "    for i in pos_hash_values:\n",
    "        for j in i:\n",
    "            if(bf.bit_array[j]==0):\n",
    "                return -1\n",
    "    for i in neg_hash_values:\n",
    "        flag = 0\n",
    "        for j in i:\n",
    "            if(bf.bit_array[j]==0):\n",
    "                tn += 1 \n",
    "                flag = 1           \n",
    "                break\n",
    "        if(flag==0):\n",
    "            fp += 1\n",
    "    return fp/(fp+tn)\n",
    "\n",
    "def find_fpr2(bf,x_neg):\n",
    "    fp = 0\n",
    "    tn = 0\n",
    "    neg_hash_values = bf.give_hash_values(x_neg)\n",
    "    for i in neg_hash_values:\n",
    "        flag = 0\n",
    "        for j in i:\n",
    "            if(bf.bit_array[j]==0):\n",
    "                tn += 1 \n",
    "                flag = 1           \n",
    "                break\n",
    "        if(flag==0):\n",
    "            fp += 1\n",
    "    return fp/(fp+tn)\n",
    "\n",
    "#(Input:bloom filter size, total random numbers, ratio of number inserted; Output:efficient number of hash functions)\n",
    "def eff_k(m,n,r):\n",
    "    k=int(m/(int(n*r))*math.log(2))\n",
    "    if(k==0):\n",
    "        return 1\n",
    "    return k"
   ]
  },
  {
   "cell_type": "code",
   "execution_count": 9,
   "metadata": {},
   "outputs": [],
   "source": [
    "def get_data_points_Projection(x_train,x_test,y_train,init_size,diff,num,epochs,fpr_values,size_values,times):\n",
    "    input_dim = x_train.shape[1]\n",
    "    n = sum(y_train)\n",
    "    x_pos = x_train[(y_train==1).reshape(-1)]\n",
    "    print(x_pos.shape)\n",
    "    x_neg = x_train[(y_train==0).reshape(-1)]\n",
    "    for i in range(0,num):\n",
    "        m = init_size + i*diff\n",
    "        k = eff_k(m,n,1)\n",
    "        fpr = 1\n",
    "        start = timeit.default_timer()\n",
    "        tempbf = Projection_BloomFilter(m,k,input_dim)\n",
    "        for j in range(0,epochs):\n",
    "            bf = Projection_BloomFilter(m,k,input_dim)\n",
    "            bf.bulk_add(x_pos)\n",
    "            temp = find_fpr(bf,x_pos,x_neg)\n",
    "            if(fpr>=temp):\n",
    "                fpr = temp\n",
    "                tempbf=bf\n",
    "        stop = timeit.default_timer()\n",
    "        fpr_test=find_fpr2(tempbf,x_test)\n",
    "        print(\"Size: %d Bits - FPR: %f - Time Taken to create filter(sec): %f \\n\\n\\n\" % (m,fpr_test,stop-start))\n",
    "        fpr_values += [fpr_test]\n",
    "        size_values += [m]\n",
    "        times += [stop-start]"
   ]
  },
  {
   "cell_type": "code",
   "execution_count": null,
   "metadata": {},
   "outputs": [
    {
     "name": "stdout",
     "output_type": "stream",
     "text": [
      "~~~~~~~~ Iteration 1 ~~~~~~~~ \n",
      "\n",
      "(12500, 2)\n",
      "Size: 2000 Bits - FPR: 0.002240 - Time Taken to create filter(sec): 7.811951 \n",
      "\n",
      "\n",
      "\n",
      "Size: 4000 Bits - FPR: 0.000960 - Time Taken to create filter(sec): 6.968901 \n",
      "\n",
      "\n",
      "\n"
     ]
    }
   ],
   "source": [
    "num_of_iterations = 3 #Increase to make graph smoother\n",
    "\n",
    "fpr_values = []\n",
    "size_values = []\n",
    "times = []\n",
    "\n",
    "for i in range(0,num_of_iterations):\n",
    "    print(\"~~~~~~~~ Iteration %d ~~~~~~~~ \\n\" %(i+1))\n",
    "    get_data_points_Projection(x_train,x_test,y_train,2000,2000,250,100,fpr_values,size_values,times)"
   ]
  },
  {
   "cell_type": "code",
   "execution_count": null,
   "metadata": {},
   "outputs": [],
   "source": [
    "total_fprs = len(fpr_values)\n",
    "average_fprs = []\n",
    "for i in range(0,total_fprs//num_of_iterations):\n",
    "    temp = 0\n",
    "    for j in range(0,num_of_iterations):\n",
    "        temp += fpr_values[i+j*(total_fprs//num_of_iterations)]\n",
    "    temp /= num_of_iterations\n",
    "    average_fprs += [temp]\n",
    "print(len(average_fprs))"
   ]
  },
  {
   "cell_type": "code",
   "execution_count": null,
   "metadata": {},
   "outputs": [],
   "source": [
    "total_times = len(times)\n",
    "average_times = []\n",
    "for i in range(0,total_fprs//num_of_iterations):\n",
    "    temp = 0\n",
    "    for j in range(0,num_of_iterations):\n",
    "        temp += times[i+j*(total_fprs//num_of_iterations)]\n",
    "    temp /= num_of_iterations\n",
    "    average_times += [temp]\n",
    "print(len(average_times))"
   ]
  },
  {
   "cell_type": "markdown",
   "metadata": {},
   "source": [
    "# Normal Bloom Filter Values"
   ]
  },
  {
   "cell_type": "code",
   "execution_count": null,
   "metadata": {},
   "outputs": [],
   "source": [
    "def ideal_fpr(m,n):\n",
    "    k = eff_k(m,n,1)\n",
    "    return (1-(1-(1/m))**(n*k))**k"
   ]
  },
  {
   "cell_type": "code",
   "execution_count": null,
   "metadata": {},
   "outputs": [],
   "source": [
    "n = sum(y_train)\n",
    "y_ideal=[]\n",
    "for x in size_values:\n",
    "    y_ideal+=[float(ideal_fpr(x,n))]\n",
    "print(len(y_ideal))\n",
    "print(n)"
   ]
  },
  {
   "cell_type": "markdown",
   "metadata": {},
   "source": [
    "# FPR Comparison between Projection Model and Normal Bloom Filter"
   ]
  },
  {
   "cell_type": "code",
   "execution_count": null,
   "metadata": {},
   "outputs": [],
   "source": [
    "sns.set(rc={'figure.figsize':(11.7,8.27)},style=\"whitegrid\")\n",
    "sns.lineplot(x=size_values, y=fpr_values, err_style=\"band\",label = \"Projection\",linewidth = 1.5,color=\"g\")\n",
    "sns.lineplot(x=size_values, y=y_ideal, err_style=\"band\",label = \"Ideal\",linewidth = 1.5,color=\"r\")\n",
    "plt.title('FPRs')\n",
    "plt.xlabel(\"Size\", fontsize = 15)\n",
    "plt.ylabel(\"FPR\", fontsize = 15)\n",
    "#plt.figure(figsize = (5000,5000))\n",
    "plt.show()"
   ]
  },
  {
   "cell_type": "code",
   "execution_count": null,
   "metadata": {},
   "outputs": [],
   "source": [
    "average_fprs = num_of_iterations*average_fprs\n",
    "print(len(average_fprs))"
   ]
  },
  {
   "cell_type": "code",
   "execution_count": null,
   "metadata": {},
   "outputs": [],
   "source": [
    "average_times = num_of_iterations*average_times\n",
    "print(len(average_times))"
   ]
  },
  {
   "cell_type": "code",
   "execution_count": null,
   "metadata": {},
   "outputs": [],
   "source": [
    "print(average_fprs)"
   ]
  },
  {
   "cell_type": "code",
   "execution_count": null,
   "metadata": {},
   "outputs": [],
   "source": [
    "saved_data = list(zip(size_values, y_ideal, fpr_values, average_fprs, times, average_times))\n",
    "df = pd.DataFrame(saved_data,columns = ['Size of filter(bits)','Ideal FPR', 'Projection FPR for iteration', 'Average Projection FPR', 'Projection Filter Total Creation Time(sec)', 'Average Projection Filter Total Creation Time(sec)'])\n",
    "df.head()"
   ]
  },
  {
   "cell_type": "code",
   "execution_count": null,
   "metadata": {},
   "outputs": [],
   "source": [
    "df.to_csv('/Users/aditijain/Desktop/NewFolderWithItems/SURA/2D_rerun_epochs_100.csv')"
   ]
  },
  {
   "cell_type": "code",
   "execution_count": null,
   "metadata": {},
   "outputs": [],
   "source": []
  }
 ],
 "metadata": {
  "kernelspec": {
   "display_name": "Python 3",
   "language": "python",
   "name": "python3"
  },
  "language_info": {
   "codemirror_mode": {
    "name": "ipython",
    "version": 3
   },
   "file_extension": ".py",
   "mimetype": "text/x-python",
   "name": "python",
   "nbconvert_exporter": "python",
   "pygments_lexer": "ipython3",
   "version": "3.7.6"
  }
 },
 "nbformat": 4,
 "nbformat_minor": 5
}
