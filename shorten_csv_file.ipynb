{
 "cells": [
  {
   "cell_type": "code",
   "execution_count": 1,
   "metadata": {
    "scrolled": true
   },
   "outputs": [],
   "source": [
    "import pandas as pd"
   ]
  },
  {
   "cell_type": "code",
   "execution_count": 28,
   "metadata": {},
   "outputs": [
    {
     "data": {
      "text/html": [
       "<div>\n",
       "<style scoped>\n",
       "    .dataframe tbody tr th:only-of-type {\n",
       "        vertical-align: middle;\n",
       "    }\n",
       "\n",
       "    .dataframe tbody tr th {\n",
       "        vertical-align: top;\n",
       "    }\n",
       "\n",
       "    .dataframe thead th {\n",
       "        text-align: right;\n",
       "    }\n",
       "</style>\n",
       "<table border=\"1\" class=\"dataframe\">\n",
       "  <thead>\n",
       "    <tr style=\"text-align: right;\">\n",
       "      <th></th>\n",
       "      <th>Unnamed: 0</th>\n",
       "      <th>Size of filter(bits)</th>\n",
       "      <th>Ideal FPR</th>\n",
       "      <th>Projection FPR for iteration</th>\n",
       "      <th>Average Projection FPR</th>\n",
       "      <th>Projection Filter Total Creation Time(sec)</th>\n",
       "      <th>Average Projection Filter Total Creation Time(sec)</th>\n",
       "    </tr>\n",
       "  </thead>\n",
       "  <tbody>\n",
       "    <tr>\n",
       "      <th>0</th>\n",
       "      <td>0</td>\n",
       "      <td>10</td>\n",
       "      <td>1.0</td>\n",
       "      <td>0.953390</td>\n",
       "      <td>0.901695</td>\n",
       "      <td>0.448403</td>\n",
       "      <td>0.702927</td>\n",
       "    </tr>\n",
       "    <tr>\n",
       "      <th>1</th>\n",
       "      <td>1</td>\n",
       "      <td>20</td>\n",
       "      <td>1.0</td>\n",
       "      <td>0.775424</td>\n",
       "      <td>0.872246</td>\n",
       "      <td>0.397285</td>\n",
       "      <td>0.696358</td>\n",
       "    </tr>\n",
       "    <tr>\n",
       "      <th>2</th>\n",
       "      <td>2</td>\n",
       "      <td>30</td>\n",
       "      <td>1.0</td>\n",
       "      <td>0.877119</td>\n",
       "      <td>0.847246</td>\n",
       "      <td>0.403805</td>\n",
       "      <td>0.694455</td>\n",
       "    </tr>\n",
       "    <tr>\n",
       "      <th>3</th>\n",
       "      <td>3</td>\n",
       "      <td>40</td>\n",
       "      <td>1.0</td>\n",
       "      <td>0.817797</td>\n",
       "      <td>0.853814</td>\n",
       "      <td>0.407437</td>\n",
       "      <td>0.704039</td>\n",
       "    </tr>\n",
       "    <tr>\n",
       "      <th>4</th>\n",
       "      <td>4</td>\n",
       "      <td>50</td>\n",
       "      <td>1.0</td>\n",
       "      <td>0.779661</td>\n",
       "      <td>0.834746</td>\n",
       "      <td>0.502101</td>\n",
       "      <td>0.706029</td>\n",
       "    </tr>\n",
       "  </tbody>\n",
       "</table>\n",
       "</div>"
      ],
      "text/plain": [
       "   Unnamed: 0  Size of filter(bits)  Ideal FPR  Projection FPR for iteration  \\\n",
       "0           0                    10        1.0                      0.953390   \n",
       "1           1                    20        1.0                      0.775424   \n",
       "2           2                    30        1.0                      0.877119   \n",
       "3           3                    40        1.0                      0.817797   \n",
       "4           4                    50        1.0                      0.779661   \n",
       "\n",
       "   Average Projection FPR  Projection Filter Total Creation Time(sec)  \\\n",
       "0                0.901695                                    0.448403   \n",
       "1                0.872246                                    0.397285   \n",
       "2                0.847246                                    0.403805   \n",
       "3                0.853814                                    0.407437   \n",
       "4                0.834746                                    0.502101   \n",
       "\n",
       "   Average Projection Filter Total Creation Time(sec)  \n",
       "0                                           0.702927   \n",
       "1                                           0.696358   \n",
       "2                                           0.694455   \n",
       "3                                           0.704039   \n",
       "4                                           0.706029   "
      ]
     },
     "execution_count": 28,
     "metadata": {},
     "output_type": "execute_result"
    }
   ],
   "source": [
    "df = pd.read_csv('/Users/aditijain/Desktop/NewFolderWithItems/SURA/Cardio_rerun_epochs_100.csv')\n",
    "df.head()"
   ]
  },
  {
   "cell_type": "code",
   "execution_count": 29,
   "metadata": {},
   "outputs": [
    {
     "name": "stdout",
     "output_type": "stream",
     "text": [
      "20.0\n",
      "20.0\n",
      "20.0\n",
      "20.0\n"
     ]
    }
   ],
   "source": [
    "ideal_fpr = df['Ideal FPR'].tolist()\n",
    "avg_proj_fpr = df['Average Projection FPR'].tolist()\n",
    "avg_proj_time = df['Average Projection Filter Total Creation Time(sec)'].tolist()\n",
    "size = df['Size of filter(bits)'].tolist()\n",
    "print(len(ideal_fpr)/300)\n",
    "print(len(avg_proj_fpr)/300)\n",
    "print(len(avg_proj_time)/300)\n",
    "print(len(size)/300)"
   ]
  },
  {
   "cell_type": "code",
   "execution_count": 30,
   "metadata": {},
   "outputs": [
    {
     "name": "stdout",
     "output_type": "stream",
     "text": [
      "50\n",
      "50\n",
      "50\n",
      "[60, 120, 180, 240, 300, 360, 420, 480, 540, 600, 660, 720, 780, 840, 900, 960, 1020, 1080, 1140, 1200, 1260, 1320, 1380, 1440, 1500, 1560, 1620, 1680, 1740, 1800, 1860, 1920, 1980, 2040, 2100, 2160, 2220, 2280, 2340, 2400, 2460, 2520, 2580, 2640, 2700, 2760, 2820, 2880, 2940, 3000]\n"
     ]
    }
   ],
   "source": [
    "new_ideal_fpr = []\n",
    "new_avg_proj_fpr = []\n",
    "new_avg_proj_time = []\n",
    "new_size = []\n",
    "\n",
    "for i in range(0,50):\n",
    "    new_ideal_fpr += [ideal_fpr[6*i+5]]\n",
    "    new_avg_proj_fpr += [avg_proj_fpr[6*i+5]]    \n",
    "    new_avg_proj_time += [avg_proj_fpr[6*i+5]]    \n",
    "    new_size += [size[6*i+5]]\n",
    "print(len(new_ideal_fpr))\n",
    "print(len(new_avg_proj_time))\n",
    "print(len(new_avg_proj_fpr))\n",
    "print(new_size)"
   ]
  },
  {
   "cell_type": "code",
   "execution_count": 31,
   "metadata": {},
   "outputs": [
    {
     "data": {
      "text/html": [
       "<div>\n",
       "<style scoped>\n",
       "    .dataframe tbody tr th:only-of-type {\n",
       "        vertical-align: middle;\n",
       "    }\n",
       "\n",
       "    .dataframe tbody tr th {\n",
       "        vertical-align: top;\n",
       "    }\n",
       "\n",
       "    .dataframe thead th {\n",
       "        text-align: right;\n",
       "    }\n",
       "</style>\n",
       "<table border=\"1\" class=\"dataframe\">\n",
       "  <thead>\n",
       "    <tr style=\"text-align: right;\">\n",
       "      <th></th>\n",
       "      <th>Size of filter(bits)</th>\n",
       "      <th>Ideal FPR</th>\n",
       "      <th>Average Projection FPR</th>\n",
       "      <th>Average Projection Filter Total Creation Time(sec)</th>\n",
       "    </tr>\n",
       "  </thead>\n",
       "  <tbody>\n",
       "    <tr>\n",
       "      <th>0</th>\n",
       "      <td>60</td>\n",
       "      <td>1.000000</td>\n",
       "      <td>0.827754</td>\n",
       "      <td>0.827754</td>\n",
       "    </tr>\n",
       "    <tr>\n",
       "      <th>1</th>\n",
       "      <td>120</td>\n",
       "      <td>0.999999</td>\n",
       "      <td>0.790466</td>\n",
       "      <td>0.790466</td>\n",
       "    </tr>\n",
       "    <tr>\n",
       "      <th>2</th>\n",
       "      <td>180</td>\n",
       "      <td>0.999901</td>\n",
       "      <td>0.741102</td>\n",
       "      <td>0.741102</td>\n",
       "    </tr>\n",
       "    <tr>\n",
       "      <th>3</th>\n",
       "      <td>240</td>\n",
       "      <td>0.999002</td>\n",
       "      <td>0.673305</td>\n",
       "      <td>0.673305</td>\n",
       "    </tr>\n",
       "    <tr>\n",
       "      <th>4</th>\n",
       "      <td>300</td>\n",
       "      <td>0.996018</td>\n",
       "      <td>0.665466</td>\n",
       "      <td>0.665466</td>\n",
       "    </tr>\n",
       "  </tbody>\n",
       "</table>\n",
       "</div>"
      ],
      "text/plain": [
       "   Size of filter(bits)  Ideal FPR  Average Projection FPR  \\\n",
       "0                    60   1.000000                0.827754   \n",
       "1                   120   0.999999                0.790466   \n",
       "2                   180   0.999901                0.741102   \n",
       "3                   240   0.999002                0.673305   \n",
       "4                   300   0.996018                0.665466   \n",
       "\n",
       "   Average Projection Filter Total Creation Time(sec)  \n",
       "0                                           0.827754   \n",
       "1                                           0.790466   \n",
       "2                                           0.741102   \n",
       "3                                           0.673305   \n",
       "4                                           0.665466   "
      ]
     },
     "execution_count": 31,
     "metadata": {},
     "output_type": "execute_result"
    }
   ],
   "source": [
    "saved_data = list(zip(new_size, new_ideal_fpr, new_avg_proj_fpr, new_avg_proj_time))\n",
    "df = pd.DataFrame(saved_data,columns = ['Size of filter(bits)','Ideal FPR', 'Average Projection FPR', 'Average Projection Filter Total Creation Time(sec)'])\n",
    "df.head()"
   ]
  },
  {
   "cell_type": "code",
   "execution_count": 32,
   "metadata": {},
   "outputs": [],
   "source": [
    "df.to_csv('/Users/aditijain/Desktop/NewFolderWithItems/SURA/Shortened_Cardio_rerun_epochs_100.csv')"
   ]
  },
  {
   "cell_type": "code",
   "execution_count": null,
   "metadata": {},
   "outputs": [],
   "source": []
  }
 ],
 "metadata": {
  "kernelspec": {
   "display_name": "Python 3",
   "language": "python",
   "name": "python3"
  },
  "language_info": {
   "codemirror_mode": {
    "name": "ipython",
    "version": 3
   },
   "file_extension": ".py",
   "mimetype": "text/x-python",
   "name": "python",
   "nbconvert_exporter": "python",
   "pygments_lexer": "ipython3",
   "version": "3.7.6"
  }
 },
 "nbformat": 4,
 "nbformat_minor": 5
}
