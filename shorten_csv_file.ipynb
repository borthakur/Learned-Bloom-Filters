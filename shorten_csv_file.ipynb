{
 "cells": [
  {
   "cell_type": "code",
   "execution_count": 2,
   "id": "90d85b35",
   "metadata": {
    "scrolled": true
   },
   "outputs": [],
   "source": [
    "import pandas as pd"
   ]
  },
  {
   "cell_type": "code",
   "execution_count": 3,
   "id": "71bb24bb",
   "metadata": {},
   "outputs": [
    {
     "data": {
      "text/html": [
       "<div>\n",
       "<style scoped>\n",
       "    .dataframe tbody tr th:only-of-type {\n",
       "        vertical-align: middle;\n",
       "    }\n",
       "\n",
       "    .dataframe tbody tr th {\n",
       "        vertical-align: top;\n",
       "    }\n",
       "\n",
       "    .dataframe thead th {\n",
       "        text-align: right;\n",
       "    }\n",
       "</style>\n",
       "<table border=\"1\" class=\"dataframe\">\n",
       "  <thead>\n",
       "    <tr style=\"text-align: right;\">\n",
       "      <th></th>\n",
       "      <th>Unnamed: 0</th>\n",
       "      <th>Size of filter(bits)</th>\n",
       "      <th>Ideal FPR</th>\n",
       "      <th>Projection FPR for iteration</th>\n",
       "      <th>Average Projection FPR</th>\n",
       "      <th>Projection Filter Total Creation Time(sec)</th>\n",
       "      <th>Average Projection Filter Total Creation Time(sec)</th>\n",
       "    </tr>\n",
       "  </thead>\n",
       "  <tbody>\n",
       "    <tr>\n",
       "      <th>0</th>\n",
       "      <td>0</td>\n",
       "      <td>10</td>\n",
       "      <td>1.000000</td>\n",
       "      <td>0.396226</td>\n",
       "      <td>0.397736</td>\n",
       "      <td>0.102308</td>\n",
       "      <td>0.108913</td>\n",
       "    </tr>\n",
       "    <tr>\n",
       "      <th>1</th>\n",
       "      <td>1</td>\n",
       "      <td>20</td>\n",
       "      <td>1.000000</td>\n",
       "      <td>0.330189</td>\n",
       "      <td>0.372264</td>\n",
       "      <td>0.092280</td>\n",
       "      <td>0.106854</td>\n",
       "    </tr>\n",
       "    <tr>\n",
       "      <th>2</th>\n",
       "      <td>2</td>\n",
       "      <td>30</td>\n",
       "      <td>0.999994</td>\n",
       "      <td>0.226415</td>\n",
       "      <td>0.324717</td>\n",
       "      <td>0.095095</td>\n",
       "      <td>0.108138</td>\n",
       "    </tr>\n",
       "    <tr>\n",
       "      <th>3</th>\n",
       "      <td>3</td>\n",
       "      <td>40</td>\n",
       "      <td>0.999881</td>\n",
       "      <td>0.264151</td>\n",
       "      <td>0.292075</td>\n",
       "      <td>0.113087</td>\n",
       "      <td>0.107110</td>\n",
       "    </tr>\n",
       "    <tr>\n",
       "      <th>4</th>\n",
       "      <td>4</td>\n",
       "      <td>50</td>\n",
       "      <td>0.999263</td>\n",
       "      <td>0.349057</td>\n",
       "      <td>0.268868</td>\n",
       "      <td>0.104781</td>\n",
       "      <td>0.105650</td>\n",
       "    </tr>\n",
       "  </tbody>\n",
       "</table>\n",
       "</div>"
      ],
      "text/plain": [
       "   Unnamed: 0  Size of filter(bits)  Ideal FPR  Projection FPR for iteration  \\\n",
       "0           0                    10   1.000000                      0.396226   \n",
       "1           1                    20   1.000000                      0.330189   \n",
       "2           2                    30   0.999994                      0.226415   \n",
       "3           3                    40   0.999881                      0.264151   \n",
       "4           4                    50   0.999263                      0.349057   \n",
       "\n",
       "   Average Projection FPR  Projection Filter Total Creation Time(sec)  \\\n",
       "0                0.397736                                    0.102308   \n",
       "1                0.372264                                    0.092280   \n",
       "2                0.324717                                    0.095095   \n",
       "3                0.292075                                    0.113087   \n",
       "4                0.268868                                    0.104781   \n",
       "\n",
       "   Average Projection Filter Total Creation Time(sec)  \n",
       "0                                           0.108913   \n",
       "1                                           0.106854   \n",
       "2                                           0.108138   \n",
       "3                                           0.107110   \n",
       "4                                           0.105650   "
      ]
     },
     "execution_count": 3,
     "metadata": {},
     "output_type": "execute_result"
    }
   ],
   "source": [
    "df = pd.read_csv('E:\\SURA Data\\BreastCancer_rerun_epochs_100.csv')\n",
    "df.head()"
   ]
  },
  {
   "cell_type": "code",
   "execution_count": 14,
   "id": "5fbb1b57",
   "metadata": {},
   "outputs": [
    {
     "name": "stdout",
     "output_type": "stream",
     "text": [
      "50.0\n",
      "50.0\n",
      "50.0\n",
      "50.0\n"
     ]
    }
   ],
   "source": [
    "ideal_fpr = df['Ideal FPR'].tolist()\n",
    "avg_proj_fpr = df['Average Projection FPR'].tolist()\n",
    "avg_proj_time = df['Average Projection Filter Total Creation Time(sec)'].tolist()\n",
    "size = df['Size of filter(bits)'].tolist()\n",
    "print(len(ideal_fpr)/300)\n",
    "print(len(avg_proj_fpr)/300)\n",
    "print(len(avg_proj_time)/300)\n",
    "print(len(size)/300)"
   ]
  },
  {
   "cell_type": "code",
   "execution_count": 17,
   "id": "b67df07f",
   "metadata": {},
   "outputs": [
    {
     "name": "stdout",
     "output_type": "stream",
     "text": [
      "50\n",
      "50\n",
      "50\n",
      "[60, 120, 180, 240, 300, 360, 420, 480, 540, 600, 660, 720, 780, 840, 900, 960, 1020, 1080, 1140, 1200, 1260, 1320, 1380, 1440, 1500, 1560, 1620, 1680, 1740, 1800, 1860, 1920, 1980, 2040, 2100, 2160, 2220, 2280, 2340, 2400, 2460, 2520, 2580, 2640, 2700, 2760, 2820, 2880, 2940, 3000]\n"
     ]
    }
   ],
   "source": [
    "new_ideal_fpr = []\n",
    "new_avg_proj_fpr = []\n",
    "new_avg_proj_time = []\n",
    "new_size = []\n",
    "\n",
    "for i in range(0,50):\n",
    "    new_ideal_fpr += [ideal_fpr[6*i+5]]\n",
    "    new_avg_proj_fpr += [avg_proj_fpr[6*i+5]]    \n",
    "    new_avg_proj_time += [avg_proj_fpr[6*i+5]]    \n",
    "    new_size += [size[6*i+5]]\n",
    "print(len(new_ideal_fpr))\n",
    "print(len(new_avg_proj_time))\n",
    "print(len(new_avg_proj_fpr))\n",
    "print(new_size)"
   ]
  },
  {
   "cell_type": "code",
   "execution_count": 18,
   "id": "2578ce1c",
   "metadata": {},
   "outputs": [
    {
     "data": {
      "text/html": [
       "<div>\n",
       "<style scoped>\n",
       "    .dataframe tbody tr th:only-of-type {\n",
       "        vertical-align: middle;\n",
       "    }\n",
       "\n",
       "    .dataframe tbody tr th {\n",
       "        vertical-align: top;\n",
       "    }\n",
       "\n",
       "    .dataframe thead th {\n",
       "        text-align: right;\n",
       "    }\n",
       "</style>\n",
       "<table border=\"1\" class=\"dataframe\">\n",
       "  <thead>\n",
       "    <tr style=\"text-align: right;\">\n",
       "      <th></th>\n",
       "      <th>Size of filter(bits)</th>\n",
       "      <th>Ideal FPR</th>\n",
       "      <th>Average Projection FPR</th>\n",
       "      <th>Average Projection Filter Total Creation Time(sec)</th>\n",
       "    </tr>\n",
       "  </thead>\n",
       "  <tbody>\n",
       "    <tr>\n",
       "      <th>0</th>\n",
       "      <td>60</td>\n",
       "      <td>0.997522</td>\n",
       "      <td>0.260377</td>\n",
       "      <td>0.260377</td>\n",
       "    </tr>\n",
       "    <tr>\n",
       "      <th>1</th>\n",
       "      <td>120</td>\n",
       "      <td>0.949585</td>\n",
       "      <td>0.193585</td>\n",
       "      <td>0.193585</td>\n",
       "    </tr>\n",
       "    <tr>\n",
       "      <th>2</th>\n",
       "      <td>180</td>\n",
       "      <td>0.863149</td>\n",
       "      <td>0.173774</td>\n",
       "      <td>0.173774</td>\n",
       "    </tr>\n",
       "    <tr>\n",
       "      <th>3</th>\n",
       "      <td>240</td>\n",
       "      <td>0.774764</td>\n",
       "      <td>0.154906</td>\n",
       "      <td>0.154906</td>\n",
       "    </tr>\n",
       "    <tr>\n",
       "      <th>4</th>\n",
       "      <td>300</td>\n",
       "      <td>0.696383</td>\n",
       "      <td>0.130000</td>\n",
       "      <td>0.130000</td>\n",
       "    </tr>\n",
       "  </tbody>\n",
       "</table>\n",
       "</div>"
      ],
      "text/plain": [
       "   Size of filter(bits)  Ideal FPR  Average Projection FPR  \\\n",
       "0                    60   0.997522                0.260377   \n",
       "1                   120   0.949585                0.193585   \n",
       "2                   180   0.863149                0.173774   \n",
       "3                   240   0.774764                0.154906   \n",
       "4                   300   0.696383                0.130000   \n",
       "\n",
       "   Average Projection Filter Total Creation Time(sec)  \n",
       "0                                           0.260377   \n",
       "1                                           0.193585   \n",
       "2                                           0.173774   \n",
       "3                                           0.154906   \n",
       "4                                           0.130000   "
      ]
     },
     "execution_count": 18,
     "metadata": {},
     "output_type": "execute_result"
    }
   ],
   "source": [
    "saved_data = list(zip(new_size, new_ideal_fpr, new_avg_proj_fpr, new_avg_proj_time))\n",
    "df = pd.DataFrame(saved_data,columns = ['Size of filter(bits)','Ideal FPR', 'Average Projection FPR', 'Average Projection Filter Total Creation Time(sec)'])\n",
    "df.head()"
   ]
  },
  {
   "cell_type": "code",
   "execution_count": 19,
   "id": "e98c2bd1",
   "metadata": {},
   "outputs": [],
   "source": [
    "df.to_csv('E:\\SURA Data\\shortened_BreastCancer_rerun_epochs_100.csv')"
   ]
  },
  {
   "cell_type": "code",
   "execution_count": null,
   "id": "de14caaf",
   "metadata": {},
   "outputs": [],
   "source": []
  }
 ],
 "metadata": {
  "kernelspec": {
   "display_name": "Python 3",
   "language": "python",
   "name": "python3"
  },
  "language_info": {
   "codemirror_mode": {
    "name": "ipython",
    "version": 3
   },
   "file_extension": ".py",
   "mimetype": "text/x-python",
   "name": "python",
   "nbconvert_exporter": "python",
   "pygments_lexer": "ipython3",
   "version": "3.8.7rc1"
  }
 },
 "nbformat": 4,
 "nbformat_minor": 5
}
