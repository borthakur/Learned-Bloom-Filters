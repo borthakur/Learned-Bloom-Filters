{
 "cells": [
  {
   "cell_type": "code",
   "execution_count": 1,
   "metadata": {},
   "outputs": [],
   "source": [
    "from bitarray import bitarray\n",
    "import random\n",
    "import numpy as np\n",
    "import math\n",
    "import timeit"
   ]
  },
  {
   "cell_type": "code",
   "execution_count": 2,
   "metadata": {},
   "outputs": [
    {
     "name": "stderr",
     "output_type": "stream",
     "text": [
      "/Users/aditijain/opt/anaconda3/lib/python3.7/site-packages/tensorflow/python/framework/dtypes.py:516: FutureWarning: Passing (type, 1) or '1type' as a synonym of type is deprecated; in a future version of numpy, it will be understood as (type, (1,)) / '(1,)type'.\n",
      "  _np_qint8 = np.dtype([(\"qint8\", np.int8, 1)])\n",
      "/Users/aditijain/opt/anaconda3/lib/python3.7/site-packages/tensorflow/python/framework/dtypes.py:517: FutureWarning: Passing (type, 1) or '1type' as a synonym of type is deprecated; in a future version of numpy, it will be understood as (type, (1,)) / '(1,)type'.\n",
      "  _np_quint8 = np.dtype([(\"quint8\", np.uint8, 1)])\n",
      "/Users/aditijain/opt/anaconda3/lib/python3.7/site-packages/tensorflow/python/framework/dtypes.py:518: FutureWarning: Passing (type, 1) or '1type' as a synonym of type is deprecated; in a future version of numpy, it will be understood as (type, (1,)) / '(1,)type'.\n",
      "  _np_qint16 = np.dtype([(\"qint16\", np.int16, 1)])\n",
      "/Users/aditijain/opt/anaconda3/lib/python3.7/site-packages/tensorflow/python/framework/dtypes.py:519: FutureWarning: Passing (type, 1) or '1type' as a synonym of type is deprecated; in a future version of numpy, it will be understood as (type, (1,)) / '(1,)type'.\n",
      "  _np_quint16 = np.dtype([(\"quint16\", np.uint16, 1)])\n",
      "/Users/aditijain/opt/anaconda3/lib/python3.7/site-packages/tensorflow/python/framework/dtypes.py:520: FutureWarning: Passing (type, 1) or '1type' as a synonym of type is deprecated; in a future version of numpy, it will be understood as (type, (1,)) / '(1,)type'.\n",
      "  _np_qint32 = np.dtype([(\"qint32\", np.int32, 1)])\n",
      "/Users/aditijain/opt/anaconda3/lib/python3.7/site-packages/tensorflow/python/framework/dtypes.py:525: FutureWarning: Passing (type, 1) or '1type' as a synonym of type is deprecated; in a future version of numpy, it will be understood as (type, (1,)) / '(1,)type'.\n",
      "  np_resource = np.dtype([(\"resource\", np.ubyte, 1)])\n",
      "/Users/aditijain/opt/anaconda3/lib/python3.7/site-packages/tensorboard/compat/tensorflow_stub/dtypes.py:541: FutureWarning: Passing (type, 1) or '1type' as a synonym of type is deprecated; in a future version of numpy, it will be understood as (type, (1,)) / '(1,)type'.\n",
      "  _np_qint8 = np.dtype([(\"qint8\", np.int8, 1)])\n",
      "/Users/aditijain/opt/anaconda3/lib/python3.7/site-packages/tensorboard/compat/tensorflow_stub/dtypes.py:542: FutureWarning: Passing (type, 1) or '1type' as a synonym of type is deprecated; in a future version of numpy, it will be understood as (type, (1,)) / '(1,)type'.\n",
      "  _np_quint8 = np.dtype([(\"quint8\", np.uint8, 1)])\n",
      "/Users/aditijain/opt/anaconda3/lib/python3.7/site-packages/tensorboard/compat/tensorflow_stub/dtypes.py:543: FutureWarning: Passing (type, 1) or '1type' as a synonym of type is deprecated; in a future version of numpy, it will be understood as (type, (1,)) / '(1,)type'.\n",
      "  _np_qint16 = np.dtype([(\"qint16\", np.int16, 1)])\n",
      "/Users/aditijain/opt/anaconda3/lib/python3.7/site-packages/tensorboard/compat/tensorflow_stub/dtypes.py:544: FutureWarning: Passing (type, 1) or '1type' as a synonym of type is deprecated; in a future version of numpy, it will be understood as (type, (1,)) / '(1,)type'.\n",
      "  _np_quint16 = np.dtype([(\"quint16\", np.uint16, 1)])\n",
      "/Users/aditijain/opt/anaconda3/lib/python3.7/site-packages/tensorboard/compat/tensorflow_stub/dtypes.py:545: FutureWarning: Passing (type, 1) or '1type' as a synonym of type is deprecated; in a future version of numpy, it will be understood as (type, (1,)) / '(1,)type'.\n",
      "  _np_qint32 = np.dtype([(\"qint32\", np.int32, 1)])\n",
      "/Users/aditijain/opt/anaconda3/lib/python3.7/site-packages/tensorboard/compat/tensorflow_stub/dtypes.py:550: FutureWarning: Passing (type, 1) or '1type' as a synonym of type is deprecated; in a future version of numpy, it will be understood as (type, (1,)) / '(1,)type'.\n",
      "  np_resource = np.dtype([(\"resource\", np.ubyte, 1)])\n"
     ]
    }
   ],
   "source": [
    "import tensorflow as tf\n",
    "from tensorflow.keras.layers import Dense\n",
    "from tensorflow.keras.losses import BinaryCrossentropy\n",
    "from tensorflow.keras.models import Sequential\n",
    "from tensorflow.keras.optimizers import Adam\n",
    "import tensorflow.keras.backend as K"
   ]
  },
  {
   "cell_type": "code",
   "execution_count": 3,
   "metadata": {},
   "outputs": [],
   "source": [
    "import matplotlib.pyplot as plt\n",
    "import seaborn as sns\n",
    "from sklearn.preprocessing import StandardScaler\n",
    "from sklearn.metrics import confusion_matrix"
   ]
  },
  {
   "cell_type": "code",
   "execution_count": 4,
   "metadata": {},
   "outputs": [],
   "source": [
    "import pandas as pd\n",
    "import os"
   ]
  },
  {
   "cell_type": "code",
   "execution_count": 5,
   "metadata": {},
   "outputs": [],
   "source": [
    "import sklearn.datasets as skds\n",
    "from sklearn.datasets import fetch_openml"
   ]
  },
  {
   "cell_type": "code",
   "execution_count": 6,
   "metadata": {},
   "outputs": [],
   "source": [
    "x, y = skds.fetch_openml(\"MiniBooNE\", return_X_y=True)\n",
    "x = StandardScaler().fit_transform(x)\n"
   ]
  },
  {
   "cell_type": "code",
   "execution_count": 7,
   "metadata": {},
   "outputs": [],
   "source": [
    "x_neg=x[y=='False']\n",
    "x_pos=x[y=='True' ]"
   ]
  },
  {
   "cell_type": "code",
   "execution_count": 8,
   "metadata": {},
   "outputs": [],
   "source": [
    "np.random.shuffle(x_neg)\n",
    "x_test=x_neg[0:46782]\n",
    "x_train=x_neg[46782:130064]\n",
    "x_train=np.concatenate((x_train,x_pos))\n",
    "y_train=np.concatenate((np.zeros(46783),np.ones(36499)))\n",
    "y_test=np.zeros(46782)"
   ]
  },
  {
   "cell_type": "markdown",
   "metadata": {},
   "source": [
    "# Standard Bloom Filter"
   ]
  },
  {
   "cell_type": "code",
   "execution_count": 9,
   "metadata": {},
   "outputs": [],
   "source": [
    "from bitarray import bitarray\n",
    "import mmh3\n",
    "import random\n",
    "import numpy as np\n",
    "import math"
   ]
  },
  {
   "cell_type": "code",
   "execution_count": 10,
   "metadata": {},
   "outputs": [],
   "source": [
    "class BloomFilter:\n",
    "    \n",
    "    def __init__(self, size, hash_count):\n",
    "        self.size = size\n",
    "        self.hash_count = hash_count\n",
    "        self.bit_array = bitarray(size)\n",
    "        self.bit_array.setall(0)\n",
    "        \n",
    "    def add(self, num):\n",
    "        for seed in range(1,self.hash_count+1):\n",
    "            result = mmh3.hash(str(num), seed) % self.size\n",
    "            self.bit_array[result] = 1\n",
    "            \n",
    "    def lookup(self, num):\n",
    "        for seed in range(1,self.hash_count+1):\n",
    "            result = mmh3.hash(str(num), seed) % self.size\n",
    "            if self.bit_array[result] == 0:\n",
    "                return False\n",
    "        return True"
   ]
  },
  {
   "cell_type": "markdown",
   "metadata": {},
   "source": [
    "# Projection model"
   ]
  },
  {
   "cell_type": "code",
   "execution_count": 14,
   "metadata": {},
   "outputs": [],
   "source": [
    "class Projection_BloomFilter:\n",
    "    def __init__(self, size, hash_count, dim):\n",
    "        vectors = np.random.normal(0,5,size=(hash_count,dim)) ### Changed Standard Deviation to 5\n",
    "        i=0\n",
    "        while(i<hash_count):\n",
    "            if(vectors[i][0]<0):\n",
    "                vectors[i][0] *= -1\n",
    "               # print(\"initial v\", vectors[i])\n",
    "                #vectors[i]=np.random.normal(0,1,size=(1,dim))\n",
    "                #print(\"changed v\", vectors[i])\n",
    "            i = i+1\n",
    "       # print(vectors)        \n",
    "        self.unit_vectors = np.transpose(vectors) ### Not Unit Vectors\n",
    "        self.size = size\n",
    "        self.hash_count = hash_count\n",
    "        self.bit_array = bitarray(size)\n",
    "        self.bit_array.setall(0)\n",
    "\n",
    "    def give_hash_values(self,X):\n",
    "        projections = np.dot(X,self.unit_vectors) #Projections of datapoints on unit vectors\n",
    "        norm_proj = 1/(1+np.exp(-projections)) #Sigmoid on each value so that they are in the range (0,1)\n",
    "        hash_values = (norm_proj*(self.size-1)).astype(int) #All values are integers in the range [0,size-1]\n",
    "        return hash_values                        #Each row contains hash values of that datapoint\n",
    "\n",
    "    def add(self,x):\n",
    "        hash_values = self.give_hash_values(x)\n",
    "        for i in hash_values:\n",
    "            self.bit_array[i] = 1\n",
    "        \n",
    "    def bulk_add(self, X):\n",
    "        hash_values = self.give_hash_values(X)\n",
    "        for i in hash_values:\n",
    "            for j in i:\n",
    "                self.bit_array[j] = 1\n",
    "            \n",
    "    def lookup(self, x):\n",
    "        hash_values = self.give_hash_values(x)\n",
    "        for i in hash_values:\n",
    "            if(self.bit_array[i]==0):\n",
    "                return False\n",
    "        return True\n",
    "\n",
    "    \n",
    "#(Input:bloom filter,normalized positive data,normalized negative data; Output:(-1) for false negative, otherwise fpr)\n",
    "def find_fpr(bf,x_pos,x_neg):\n",
    "    fp = 0\n",
    "    tn = 0\n",
    "    pos_hash_values = bf.give_hash_values(x_pos)\n",
    "    neg_hash_values = bf.give_hash_values(x_neg)\n",
    "    for i in pos_hash_values:\n",
    "        for j in i:\n",
    "            if(bf.bit_array[j]==0):\n",
    "                return -1\n",
    "    for i in neg_hash_values:\n",
    "        flag = 0\n",
    "        for j in i:\n",
    "            if(bf.bit_array[j]==0):\n",
    "                tn += 1 \n",
    "                flag = 1           \n",
    "                break\n",
    "        if(flag==0):\n",
    "            fp += 1\n",
    "    return fp/(fp+tn)\n",
    "\n",
    "def find_fpr2(bf,x_neg):\n",
    "    fp = 0\n",
    "    tn = 0\n",
    "    neg_hash_values = bf.give_hash_values(x_neg)\n",
    "    for i in neg_hash_values:\n",
    "        flag = 0\n",
    "        for j in i:\n",
    "            if(bf.bit_array[j]==0):\n",
    "                tn += 1 \n",
    "                flag = 1           \n",
    "                break\n",
    "        if(flag==0):\n",
    "            fp += 1\n",
    "    return fp/(fp+tn)\n",
    "def eff_k(m,n,r):\n",
    "    k=int(m/(int(n*r))*math.log(2))\n",
    "    if(k==0):\n",
    "        return 1\n",
    "    return k"
   ]
  },
  {
   "cell_type": "code",
   "execution_count": null,
   "metadata": {},
   "outputs": [],
   "source": []
  },
  {
   "cell_type": "code",
   "execution_count": 15,
   "metadata": {},
   "outputs": [],
   "source": [
    "def get_data_points_Projection(x_train,x_test,y_train,init_size,diff,num,epochs,fpr_values,size_values,times,standard_times):\n",
    "    input_dim = x_train.shape[1]\n",
    "    n = sum(y_train)\n",
    "    x_pos = x_train[(y_train==1).reshape(-1)]\n",
    "    print(x_pos.shape)\n",
    "    x_neg = x_train[(y_train==0).reshape(-1)]\n",
    "    for i in range(0,num):\n",
    "        m = init_size + i*diff\n",
    "        k = eff_k(m,n,1)\n",
    "        fpr = 1\n",
    "        start1 = timeit.default_timer()\n",
    "        \n",
    "        stanbf = BloomFilter(m,k)\n",
    "        for x_pos_i in x_pos:\n",
    "            stanbf.add(sum(x_pos_i))\n",
    "        \n",
    "        stop1 = timeit.default_timer()\n",
    "        \n",
    "        start = timeit.default_timer()\n",
    "        tempbf = Projection_BloomFilter(m,k,input_dim)\n",
    "        for j in range(0,epochs):\n",
    "            bf = Projection_BloomFilter(m,k,input_dim)\n",
    "            bf.bulk_add(x_pos)\n",
    "            temp = find_fpr(bf,x_pos,x_neg)\n",
    "            if(fpr>=temp):\n",
    "                fpr = temp\n",
    "                tempbf=bf\n",
    "        stop = timeit.default_timer()\n",
    "        fpr_test=find_fpr2(tempbf,x_test)\n",
    "        print(\"Size: %d Bits - FPR: %f - Time Taken to create Standard: %f - Time Taken to create Projecion: %f \\n\\n\\n\" % (m,fpr_test,stop1-start1,stop-start))\n",
    "        fpr_values += [fpr_test]\n",
    "        size_values += [m]\n",
    "        times += [stop-start]\n",
    "        standard_times += [stop1-start1]"
   ]
  },
  {
   "cell_type": "code",
   "execution_count": null,
   "metadata": {},
   "outputs": [
    {
     "name": "stdout",
     "output_type": "stream",
     "text": [
      "~~~~~~~~ Iteration 1 ~~~~~~~~ \n",
      "\n",
      "(36499, 50)\n"
     ]
    },
    {
     "name": "stderr",
     "output_type": "stream",
     "text": [
      "/Users/aditijain/opt/anaconda3/lib/python3.7/site-packages/ipykernel_launcher.py:21: RuntimeWarning: overflow encountered in exp\n"
     ]
    },
    {
     "name": "stdout",
     "output_type": "stream",
     "text": [
      "Size: 6000 Bits - FPR: 0.848938 - Time Taken to create Standard: 0.478636 - Time Taken to create Projecion: 24.501707 \n",
      "\n",
      "\n",
      "\n",
      "Size: 18000 Bits - FPR: 0.658458 - Time Taken to create Standard: 1.043722 - Time Taken to create Projecion: 28.481044 \n",
      "\n",
      "\n",
      "\n",
      "Size: 30000 Bits - FPR: 0.481339 - Time Taken to create Standard: 0.443576 - Time Taken to create Projecion: 25.611626 \n",
      "\n",
      "\n",
      "\n",
      "Size: 42000 Bits - FPR: 0.493716 - Time Taken to create Standard: 1.965503 - Time Taken to create Projecion: 42.507003 \n",
      "\n",
      "\n",
      "\n",
      "Size: 54000 Bits - FPR: 0.514963 - Time Taken to create Standard: 0.571678 - Time Taken to create Projecion: 18.247896 \n",
      "\n",
      "\n",
      "\n",
      "Size: 66000 Bits - FPR: 0.409752 - Time Taken to create Standard: 0.387288 - Time Taken to create Projecion: 17.941197 \n",
      "\n",
      "\n",
      "\n",
      "Size: 78000 Bits - FPR: 0.343658 - Time Taken to create Standard: 0.428483 - Time Taken to create Projecion: 18.035889 \n",
      "\n",
      "\n",
      "\n",
      "Size: 90000 Bits - FPR: 0.406738 - Time Taken to create Standard: 0.379189 - Time Taken to create Projecion: 18.276109 \n",
      "\n",
      "\n",
      "\n",
      "Size: 102000 Bits - FPR: 0.306485 - Time Taken to create Standard: 0.436401 - Time Taken to create Projecion: 22.416659 \n",
      "\n",
      "\n",
      "\n",
      "Size: 114000 Bits - FPR: 0.244282 - Time Taken to create Standard: 0.549815 - Time Taken to create Projecion: 33.429627 \n",
      "\n",
      "\n",
      "\n",
      "Size: 126000 Bits - FPR: 0.273631 - Time Taken to create Standard: 0.833501 - Time Taken to create Projecion: 29.259266 \n",
      "\n",
      "\n",
      "\n",
      "Size: 138000 Bits - FPR: 0.273032 - Time Taken to create Standard: 0.453019 - Time Taken to create Projecion: 20.481833 \n",
      "\n",
      "\n",
      "\n",
      "Size: 150000 Bits - FPR: 0.231328 - Time Taken to create Standard: 0.416905 - Time Taken to create Projecion: 22.526976 \n",
      "\n",
      "\n",
      "\n",
      "Size: 162000 Bits - FPR: 0.180133 - Time Taken to create Standard: 0.558746 - Time Taken to create Projecion: 25.072459 \n",
      "\n",
      "\n",
      "\n",
      "Size: 174000 Bits - FPR: 0.186738 - Time Taken to create Standard: 0.501844 - Time Taken to create Projecion: 21.360317 \n",
      "\n",
      "\n",
      "\n",
      "Size: 186000 Bits - FPR: 0.162007 - Time Taken to create Standard: 0.464580 - Time Taken to create Projecion: 21.906119 \n",
      "\n",
      "\n",
      "\n",
      "Size: 198000 Bits - FPR: 0.148711 - Time Taken to create Standard: 0.457625 - Time Taken to create Projecion: 21.957789 \n",
      "\n",
      "\n",
      "\n"
     ]
    }
   ],
   "source": [
    "num_of_iterations = 3#Increase to make graph smoother\n",
    "\n",
    "fpr_values = []\n",
    "size_values = []\n",
    "times = []\n",
    "standard_times = []\n",
    "\n",
    "for i in range(0,num_of_iterations):\n",
    "    print(\"~~~~~~~~ Iteration %d ~~~~~~~~ \\n\" %(i+1))\n",
    "    get_data_points_Projection(x_train,x_test,y_train,6000,12000,20,100,fpr_values,size_values,times,standard_times)"
   ]
  },
  {
   "cell_type": "code",
   "execution_count": 14,
   "metadata": {},
   "outputs": [
    {
     "name": "stdout",
     "output_type": "stream",
     "text": [
      "20\n"
     ]
    }
   ],
   "source": [
    "total_fprs = len(fpr_values)\n",
    "average_fprs = []\n",
    "for i in range(0,total_fprs//num_of_iterations):\n",
    "    temp = 0\n",
    "    for j in range(0,num_of_iterations):\n",
    "        temp += fpr_values[i+j*(total_fprs//num_of_iterations)]\n",
    "    temp /= num_of_iterations\n",
    "    average_fprs += [temp]\n",
    "print(len(average_fprs))"
   ]
  },
  {
   "cell_type": "code",
   "execution_count": 15,
   "metadata": {},
   "outputs": [
    {
     "name": "stdout",
     "output_type": "stream",
     "text": [
      "20\n"
     ]
    }
   ],
   "source": [
    "total_times = len(times)\n",
    "average_times = []\n",
    "for i in range(0,total_fprs//num_of_iterations):\n",
    "    temp = 0\n",
    "    for j in range(0,num_of_iterations):\n",
    "        temp += times[i+j*(total_fprs//num_of_iterations)]\n",
    "    temp /= num_of_iterations\n",
    "    average_times += [temp]\n",
    "print(len(average_times))"
   ]
  },
  {
   "cell_type": "code",
   "execution_count": 16,
   "metadata": {},
   "outputs": [
    {
     "name": "stdout",
     "output_type": "stream",
     "text": [
      "20\n"
     ]
    }
   ],
   "source": [
    "total_standard_times = len(standard_times)\n",
    "average_standard_times = []\n",
    "for i in range(0,total_fprs//num_of_iterations):\n",
    "    temp = 0\n",
    "    for j in range(0,num_of_iterations):\n",
    "        temp += standard_times[i+j*(total_fprs//num_of_iterations)]\n",
    "    temp /= num_of_iterations\n",
    "    average_standard_times += [temp]\n",
    "print(len(average_standard_times))"
   ]
  },
  {
   "cell_type": "markdown",
   "metadata": {},
   "source": [
    "# Normal Bloom Filter Values"
   ]
  },
  {
   "cell_type": "code",
   "execution_count": 17,
   "metadata": {},
   "outputs": [],
   "source": [
    "def ideal_fpr(m,n):\n",
    "    k = eff_k(m,n,1)\n",
    "    return (1-(1-(1/m))**(n*k))**k"
   ]
  },
  {
   "cell_type": "code",
   "execution_count": 18,
   "metadata": {},
   "outputs": [
    {
     "name": "stdout",
     "output_type": "stream",
     "text": [
      "60\n",
      "36499.0\n"
     ]
    }
   ],
   "source": [
    "n = sum(y_train)\n",
    "y_ideal=[]\n",
    "for x in size_values:\n",
    "    y_ideal+=[float(ideal_fpr(x,n))]\n",
    "print(len(y_ideal))\n",
    "print(n)"
   ]
  },
  {
   "cell_type": "markdown",
   "metadata": {},
   "source": [
    "# FPR Comparison between Projection Model and Normal Bloom Filter"
   ]
  },
  {
   "cell_type": "code",
   "execution_count": 39,
   "metadata": {},
   "outputs": [
    {
     "data": {
      "image/png": "[encoded data removed]",
      "text/plain": [
       "<Figure size 842.4x595.44 with 1 Axes>"
      ]
     },
     "metadata": {},
     "output_type": "display_data"
    }
   ],
   "source": [
    "sns.set(rc={'figure.figsize':(11.7,8.27)},style=\"whitegrid\")\n",
    "sns.lineplot(x=size_values, y=fpr_values, err_style=\"band\",label = \"Projection\",linewidth = 1.5,color=\"g\")\n",
    "sns.lineplot(x=size_values, y=y_ideal, err_style=\"band\",label = \"Ideal\",linewidth = 1.5,color=\"r\")\n",
    "plt.title('FPRs')\n",
    "plt.xlabel(\"Size\", fontsize = 15)\n",
    "plt.ylabel(\"FPR\", fontsize = 15)\n",
    "#plt.figure(figsize = (5000,5000))\n",
    "plt.show()"
   ]
  },
  {
   "cell_type": "code",
   "execution_count": 40,
   "metadata": {},
   "outputs": [
    {
     "name": "stdout",
     "output_type": "stream",
     "text": [
      "150\n"
     ]
    }
   ],
   "source": [
    "average_fprs = num_of_iterations*average_fprs\n",
    "print(len(average_fprs))"
   ]
  },
  {
   "cell_type": "code",
   "execution_count": 41,
   "metadata": {},
   "outputs": [
    {
     "name": "stdout",
     "output_type": "stream",
     "text": [
      "150\n"
     ]
    }
   ],
   "source": [
    "average_times = num_of_iterations*average_times\n",
    "print(len(average_times))"
   ]
  },
  {
   "cell_type": "code",
   "execution_count": 42,
   "metadata": {},
   "outputs": [
    {
     "name": "stdout",
     "output_type": "stream",
     "text": [
      "[0.8409145967822381, 0.7350191669160503, 0.6615863651261881, 0.5715517364228406, 0.5413976885696777, 0.5678679834124236, 0.4495033702421159, 0.45449104356376385, 0.45531044703803464, 0.430856597266755, 0.4279352457497898, 0.39337779487837204, 0.39631339689054196, 0.3717669189004318, 0.3609436677924558, 0.3852051358784718, 0.3521439870035484, 0.27752839411169533, 0.32597295256010145, 0.25702193151212005, 0.29110911604178247, 0.260662933036923, 0.2315491713337038, 0.23084377182107077, 0.2275447821811808, 0.22610548216550527, 0.18949595998460947, 0.16403745030139796, 0.17463269348609864, 0.1746255682384963, 0.1676499508357915, 0.1792783549228336, 0.1909067590098756, 0.15704758240348854, 0.15502401208441993, 0.13793054308637223, 0.14402262978638508, 0.13804454704800992, 0.11438159976059169, 0.11370470123836803, 0.11102560813988287, 0.12018867655651033, 0.10293845211121085, 0.10930842346771551, 0.08295925783420974, 0.08738403659527168, 0.09314123665797386, 0.08045117067818107, 0.08446981032590883, 0.08404942071736993, 0.8409145967822381, 0.7350191669160503, 0.6615863651261881, 0.5715517364228406, 0.5413976885696777, 0.5678679834124236, 0.4495033702421159, 0.45449104356376385, 0.45531044703803464, 0.430856597266755, 0.4279352457497898, 0.39337779487837204, 0.39631339689054196, 0.3717669189004318, 0.3609436677924558, 0.3852051358784718, 0.3521439870035484, 0.27752839411169533, 0.32597295256010145, 0.25702193151212005, 0.29110911604178247, 0.260662933036923, 0.2315491713337038, 0.23084377182107077, 0.2275447821811808, 0.22610548216550527, 0.18949595998460947, 0.16403745030139796, 0.17463269348609864, 0.1746255682384963, 0.1676499508357915, 0.1792783549228336, 0.1909067590098756, 0.15704758240348854, 0.15502401208441993, 0.13793054308637223, 0.14402262978638508, 0.13804454704800992, 0.11438159976059169, 0.11370470123836803, 0.11102560813988287, 0.12018867655651033, 0.10293845211121085, 0.10930842346771551, 0.08295925783420974, 0.08738403659527168, 0.09314123665797386, 0.08045117067818107, 0.08446981032590883, 0.08404942071736993, 0.8409145967822381, 0.7350191669160503, 0.6615863651261881, 0.5715517364228406, 0.5413976885696777, 0.5678679834124236, 0.4495033702421159, 0.45449104356376385, 0.45531044703803464, 0.430856597266755, 0.4279352457497898, 0.39337779487837204, 0.39631339689054196, 0.3717669189004318, 0.3609436677924558, 0.3852051358784718, 0.3521439870035484, 0.27752839411169533, 0.32597295256010145, 0.25702193151212005, 0.29110911604178247, 0.260662933036923, 0.2315491713337038, 0.23084377182107077, 0.2275447821811808, 0.22610548216550527, 0.18949595998460947, 0.16403745030139796, 0.17463269348609864, 0.1746255682384963, 0.1676499508357915, 0.1792783549228336, 0.1909067590098756, 0.15704758240348854, 0.15502401208441993, 0.13793054308637223, 0.14402262978638508, 0.13804454704800992, 0.11438159976059169, 0.11370470123836803, 0.11102560813988287, 0.12018867655651033, 0.10293845211121085, 0.10930842346771551, 0.08295925783420974, 0.08738403659527168, 0.09314123665797386, 0.08045117067818107, 0.08446981032590883, 0.08404942071736993]\n"
     ]
    }
   ],
   "source": [
    "print(average_fprs)"
   ]
  },
  {
   "cell_type": "code",
   "execution_count": 20,
   "metadata": {},
   "outputs": [
    {
     "data": {
      "text/html": [
       "<div>\n",
       "<style scoped>\n",
       "    .dataframe tbody tr th:only-of-type {\n",
       "        vertical-align: middle;\n",
       "    }\n",
       "\n",
       "    .dataframe tbody tr th {\n",
       "        vertical-align: top;\n",
       "    }\n",
       "\n",
       "    .dataframe thead th {\n",
       "        text-align: right;\n",
       "    }\n",
       "</style>\n",
       "<table border=\"1\" class=\"dataframe\">\n",
       "  <thead>\n",
       "    <tr style=\"text-align: right;\">\n",
       "      <th></th>\n",
       "      <th>Size of filter(bits)</th>\n",
       "      <th>Ideal FPR</th>\n",
       "      <th>Standard Filter Total Creation Time(sec)</th>\n",
       "      <th>Average Standard Filter Total Creation Time(sec)</th>\n",
       "      <th>Projection FPR for iteration</th>\n",
       "      <th>Average Projection FPR</th>\n",
       "      <th>Projection Filter Total Creation Time(sec)</th>\n",
       "      <th>Average Projection Filter Total Creation Time(sec)</th>\n",
       "    </tr>\n",
       "  </thead>\n",
       "  <tbody>\n",
       "    <tr>\n",
       "      <th>0</th>\n",
       "      <td>6000</td>\n",
       "      <td>0.997720</td>\n",
       "      <td>0.356464</td>\n",
       "      <td>0.358590</td>\n",
       "      <td>0.960840</td>\n",
       "      <td>0.954071</td>\n",
       "      <td>17.548451</td>\n",
       "      <td>16.579198</td>\n",
       "    </tr>\n",
       "    <tr>\n",
       "      <th>1</th>\n",
       "      <td>18000</td>\n",
       "      <td>0.868372</td>\n",
       "      <td>0.367915</td>\n",
       "      <td>0.397648</td>\n",
       "      <td>0.877731</td>\n",
       "      <td>0.873463</td>\n",
       "      <td>17.944085</td>\n",
       "      <td>17.008422</td>\n",
       "    </tr>\n",
       "    <tr>\n",
       "      <th>2</th>\n",
       "      <td>30000</td>\n",
       "      <td>0.703780</td>\n",
       "      <td>0.372756</td>\n",
       "      <td>0.365904</td>\n",
       "      <td>0.786777</td>\n",
       "      <td>0.752690</td>\n",
       "      <td>18.448659</td>\n",
       "      <td>18.381199</td>\n",
       "    </tr>\n",
       "    <tr>\n",
       "      <th>3</th>\n",
       "      <td>42000</td>\n",
       "      <td>0.580644</td>\n",
       "      <td>0.354137</td>\n",
       "      <td>0.435943</td>\n",
       "      <td>0.700804</td>\n",
       "      <td>0.707038</td>\n",
       "      <td>15.009579</td>\n",
       "      <td>16.561317</td>\n",
       "    </tr>\n",
       "    <tr>\n",
       "      <th>4</th>\n",
       "      <td>54000</td>\n",
       "      <td>0.491309</td>\n",
       "      <td>0.346950</td>\n",
       "      <td>0.341839</td>\n",
       "      <td>0.673592</td>\n",
       "      <td>0.661950</td>\n",
       "      <td>14.889757</td>\n",
       "      <td>15.520112</td>\n",
       "    </tr>\n",
       "  </tbody>\n",
       "</table>\n",
       "</div>"
      ],
      "text/plain": [
       "   Size of filter(bits)  Ideal FPR  Standard Filter Total Creation Time(sec)  \\\n",
       "0                  6000   0.997720                                  0.356464   \n",
       "1                 18000   0.868372                                  0.367915   \n",
       "2                 30000   0.703780                                  0.372756   \n",
       "3                 42000   0.580644                                  0.354137   \n",
       "4                 54000   0.491309                                  0.346950   \n",
       "\n",
       "   Average Standard Filter Total Creation Time(sec)  \\\n",
       "0                                          0.358590   \n",
       "1                                          0.397648   \n",
       "2                                          0.365904   \n",
       "3                                          0.435943   \n",
       "4                                          0.341839   \n",
       "\n",
       "   Projection FPR for iteration  Average Projection FPR  \\\n",
       "0                      0.960840                0.954071   \n",
       "1                      0.877731                0.873463   \n",
       "2                      0.786777                0.752690   \n",
       "3                      0.700804                0.707038   \n",
       "4                      0.673592                0.661950   \n",
       "\n",
       "   Projection Filter Total Creation Time(sec)  \\\n",
       "0                                   17.548451   \n",
       "1                                   17.944085   \n",
       "2                                   18.448659   \n",
       "3                                   15.009579   \n",
       "4                                   14.889757   \n",
       "\n",
       "   Average Projection Filter Total Creation Time(sec)  \n",
       "0                                          16.579198   \n",
       "1                                          17.008422   \n",
       "2                                          18.381199   \n",
       "3                                          16.561317   \n",
       "4                                          15.520112   "
      ]
     },
     "execution_count": 20,
     "metadata": {},
     "output_type": "execute_result"
    }
   ],
   "source": [
    "saved_data = list(zip(size_values, y_ideal, standard_times, average_standard_times, fpr_values, average_fprs, times, average_times))\n",
    "df = pd.DataFrame(saved_data,columns = ['Size of filter(bits)','Ideal FPR','Standard Filter Total Creation Time(sec)', 'Average Standard Filter Total Creation Time(sec)', 'Projection FPR for iteration', 'Average Projection FPR', 'Projection Filter Total Creation Time(sec)', 'Average Projection Filter Total Creation Time(sec)'])\n",
    "df.head()"
   ]
  },
  {
   "cell_type": "code",
   "execution_count": 21,
   "metadata": {},
   "outputs": [],
   "source": [
    "df.to_csv('/Users/aditijain/Desktop/NewFolderWithItems/SURA/MiniBooNe_rerun_epochs_100.csv')"
   ]
  },
  {
   "cell_type": "code",
   "execution_count": null,
   "metadata": {},
   "outputs": [],
   "source": []
  }
 ],
 "metadata": {
  "kernelspec": {
   "display_name": "Python 3",
   "language": "python",
   "name": "python3"
  },
  "language_info": {
   "codemirror_mode": {
    "name": "ipython",
    "version": 3
   },
   "file_extension": ".py",
   "mimetype": "text/x-python",
   "name": "python",
   "nbconvert_exporter": "python",
   "pygments_lexer": "ipython3",
   "version": "3.7.6"
  }
 },
 "nbformat": 4,
 "nbformat_minor": 5
}
