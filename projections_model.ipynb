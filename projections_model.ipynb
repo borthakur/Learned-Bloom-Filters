{
 "cells": [
  {
   "cell_type": "code",
   "execution_count": 1,
   "metadata": {},
   "outputs": [],
   "source": [
    "import numpy as np\n",
    "from sklearn.preprocessing import StandardScaler\n",
    "from bitarray import bitarray"
   ]
  },
  {
   "cell_type": "code",
   "execution_count": 2,
   "metadata": {},
   "outputs": [],
   "source": [
    "from sklearn import datasets\n",
    "from sklearn.datasets import load_breast_cancer"
   ]
  },
  {
   "cell_type": "code",
   "execution_count": 3,
   "metadata": {},
   "outputs": [],
   "source": [
    "class BloomFilter:\n",
    "    def __init__(self, size, hash_count, dim):\n",
    "        vectors = np.random.normal(0,1,size=(k,input_dim)) #random vectors(each row) from normal distribution, not unit vectors\n",
    "        self.unit_vectors = np.transpose(vectors/np.sqrt(np.transpose([np.sum(np.multiply(vectors,vectors),1)]))) #Matrix where each column is a unit vector, used as hash\n",
    "        self.size = size\n",
    "        self.hash_count = hash_count\n",
    "        self.bit_array = bitarray(size)\n",
    "        self.bit_array.setall(0)\n",
    "\n",
    "    def give_hash_values(self,X):\n",
    "        projections = np.dot(X,self.unit_vectors) #Projections of datapoints on unit vectors\n",
    "        norm_proj = 1/(1+np.exp(-projections)) #Sigmoid on each value so that they are in the range (0,1)\n",
    "        hash_values = (norm_proj*self.size).astype(int) #All values are integers in the range [0,size-1]\n",
    "        return hash_values #Each row contains hash values of that datapoint\n",
    "\n",
    "    def add(self,x):\n",
    "        hash_values = self.give_hash_values(x)\n",
    "        for i in hash_values:\n",
    "            self.bit_array[i] = 1\n",
    "        \n",
    "    def bulk_add(self, X):\n",
    "        hash_values = self.give_hash_values(X)\n",
    "        for i in hash_values:\n",
    "            for j in i:\n",
    "                self.bit_array[j] = 1\n",
    "            \n",
    "    def lookup(self, x):\n",
    "        hash_values = self.give_hash_values(x)\n",
    "        for i in hash_values:\n",
    "            if(self.bit_array[i]==0):\n",
    "                return False\n",
    "        return True\n",
    "\n",
    "    \n",
    "#(Input:bloom filter,normalized positive data,normalized negative data; Output:(-1) for false negative, otherwise fpr)\n",
    "def fpr(bf,x_pos,x_neg):\n",
    "    fp = 0\n",
    "    tn = 0\n",
    "    pos_hash_values = bf.give_hash_values(x_pos)\n",
    "    neg_hash_values = bf.give_hash_values(x_neg)\n",
    "    for i in pos_hash_values:\n",
    "        for j in i:\n",
    "            if(bf.bit_array[j]==0):\n",
    "                return -1\n",
    "    for i in neg_hash_values:\n",
    "        flag = 0\n",
    "        for j in i:\n",
    "            if(bf.bit_array[j]==0):\n",
    "                tn += 1 \n",
    "                flag = 1           \n",
    "                break\n",
    "        if(flag==0):\n",
    "            fp += 1\n",
    "    return fp/(fp+tn)"
   ]
  },
  {
   "cell_type": "code",
   "execution_count": 4,
   "metadata": {},
   "outputs": [],
   "source": [
    "bcancer = datasets.load_breast_cancer()\n",
    "X = bcancer.data  \n",
    "y = bcancer.target"
   ]
  },
  {
   "cell_type": "code",
   "execution_count": 5,
   "metadata": {},
   "outputs": [
    {
     "name": "stdout",
     "output_type": "stream",
     "text": [
      "(569, 30)\n",
      "(569,)\n"
     ]
    }
   ],
   "source": [
    "print(X.shape)\n",
    "print(y.shape)"
   ]
  },
  {
   "cell_type": "code",
   "execution_count": 6,
   "metadata": {},
   "outputs": [],
   "source": [
    "input_dim = X.shape[1]\n",
    "k = 10"
   ]
  },
  {
   "cell_type": "code",
   "execution_count": 7,
   "metadata": {},
   "outputs": [],
   "source": [
    "m = 3000"
   ]
  },
  {
   "cell_type": "code",
   "execution_count": 8,
   "metadata": {},
   "outputs": [],
   "source": [
    "bf = BloomFilter(m,k,input_dim)"
   ]
  },
  {
   "cell_type": "code",
   "execution_count": 9,
   "metadata": {},
   "outputs": [],
   "source": [
    "X = StandardScaler().fit_transform(X)"
   ]
  },
  {
   "cell_type": "code",
   "execution_count": 10,
   "metadata": {},
   "outputs": [],
   "source": [
    "x_pos = X[y==1]\n",
    "x_neg = X[y==0]"
   ]
  },
  {
   "cell_type": "code",
   "execution_count": 11,
   "metadata": {},
   "outputs": [],
   "source": [
    "bf.bulk_add(x_pos)"
   ]
  },
  {
   "cell_type": "code",
   "execution_count": 12,
   "metadata": {},
   "outputs": [
    {
     "name": "stdout",
     "output_type": "stream",
     "text": [
      "0.05188679245283019\n"
     ]
    }
   ],
   "source": [
    "print(fpr(bf,x_pos,x_neg))"
   ]
  },
  {
   "cell_type": "code",
   "execution_count": null,
   "metadata": {},
   "outputs": [],
   "source": []
  }
 ],
 "metadata": {
  "kernelspec": {
   "display_name": "Python 3",
   "language": "python",
   "name": "python3"
  },
  "language_info": {
   "codemirror_mode": {
    "name": "ipython",
    "version": 3
   },
   "file_extension": ".py",
   "mimetype": "text/x-python",
   "name": "python",
   "nbconvert_exporter": "python",
   "pygments_lexer": "ipython3",
   "version": "3.7.6"
  }
 },
 "nbformat": 4,
 "nbformat_minor": 2
}
