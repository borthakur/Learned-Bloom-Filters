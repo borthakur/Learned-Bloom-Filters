{
 "cells": [
  {
   "cell_type": "code",
   "execution_count": 52,
   "metadata": {},
   "outputs": [],
   "source": [
    "from bitarray import bitarray\n",
    "import random\n",
    "import numpy as np\n",
    "import math"
   ]
  },
  {
   "cell_type": "code",
   "execution_count": 53,
   "metadata": {},
   "outputs": [],
   "source": [
    "import tensorflow as tf\n",
    "from tensorflow.keras.layers import Dense\n",
    "from tensorflow.keras.losses import BinaryCrossentropy\n",
    "from tensorflow.keras.models import Sequential\n",
    "from tensorflow.keras.optimizers import Adam\n",
    "import tensorflow.keras.backend as K"
   ]
  },
  {
   "cell_type": "code",
   "execution_count": 54,
   "metadata": {},
   "outputs": [],
   "source": [
    "import matplotlib.pyplot as plt\n",
    "import seaborn as sns\n",
    "from sklearn.preprocessing import StandardScaler\n",
    "from sklearn.metrics import confusion_matrix\n",
    "import sklearn.datasets as skds"
   ]
  },
  {
   "cell_type": "code",
   "execution_count": 55,
   "metadata": {},
   "outputs": [],
   "source": [
    "import pandas as pd\n",
    "import os"
   ]
  },
  {
   "cell_type": "code",
   "execution_count": 56,
   "metadata": {},
   "outputs": [],
   "source": [
    "from sklearn.datasets import fetch_openml"
   ]
  },
  {
   "cell_type": "code",
   "execution_count": 57,
   "metadata": {},
   "outputs": [],
   "source": [
    "images, labels = skds.fetch_openml(\"mnist_784\", return_X_y=True)\n",
    " "
   ]
  },
  {
   "cell_type": "code",
   "execution_count": 58,
   "metadata": {},
   "outputs": [
    {
     "data": {
      "text/plain": [
       "(70000, 784)"
      ]
     },
     "execution_count": 58,
     "metadata": {},
     "output_type": "execute_result"
    }
   ],
   "source": [
    "images.shape"
   ]
  },
  {
   "cell_type": "code",
   "execution_count": 59,
   "metadata": {},
   "outputs": [
    {
     "data": {
      "text/plain": [
       "array(['0', '1', '2', '3', '4', '5', '6', '7', '8', '9'], dtype=object)"
      ]
     },
     "execution_count": 59,
     "metadata": {},
     "output_type": "execute_result"
    }
   ],
   "source": [
    "np.unique(labels)"
   ]
  },
  {
   "cell_type": "code",
   "execution_count": 60,
   "metadata": {},
   "outputs": [],
   "source": [
    "X=images\n",
    "X = StandardScaler().fit_transform(X)\n"
   ]
  },
  {
   "cell_type": "code",
   "execution_count": 61,
   "metadata": {},
   "outputs": [],
   "source": [
    "labels[labels=='4']=0\n",
    "labels[labels=='6']=0\n",
    "labels[labels=='8']=0\n",
    "labels[labels=='9']=0\n",
    "\n",
    "labels[labels=='2']=1\n",
    "labels[labels=='3']=1\n",
    "labels[labels=='5']=1\n",
    "labels[labels=='7']=1\n"
   ]
  },
  {
   "cell_type": "code",
   "execution_count": 62,
   "metadata": {},
   "outputs": [
    {
     "data": {
      "text/plain": [
       "array([1, '0', 0, ..., 0, 1, 0], dtype=object)"
      ]
     },
     "execution_count": 62,
     "metadata": {},
     "output_type": "execute_result"
    }
   ],
   "source": [
    "labels"
   ]
  },
  {
   "cell_type": "code",
   "execution_count": 63,
   "metadata": {},
   "outputs": [],
   "source": [
    "x_neg=X[labels==0]\n",
    "x_pos=X[labels==1]"
   ]
  },
  {
   "cell_type": "code",
   "execution_count": 64,
   "metadata": {},
   "outputs": [
    {
     "data": {
      "text/plain": [
       "27483"
      ]
     },
     "execution_count": 64,
     "metadata": {},
     "output_type": "execute_result"
    }
   ],
   "source": [
    "len(x_neg)"
   ]
  },
  {
   "cell_type": "code",
   "execution_count": 65,
   "metadata": {},
   "outputs": [
    {
     "data": {
      "text/plain": [
       "27737"
      ]
     },
     "execution_count": 65,
     "metadata": {},
     "output_type": "execute_result"
    }
   ],
   "source": [
    "len(x_pos)"
   ]
  },
  {
   "cell_type": "code",
   "execution_count": 66,
   "metadata": {},
   "outputs": [],
   "source": [
    "np.random.shuffle(x_neg)\n",
    "x_test=x_neg[0:13741]\n",
    "x_train=x_neg[13741:27483]\n",
    "x_train=np.concatenate((x_train,x_pos))"
   ]
  },
  {
   "cell_type": "code",
   "execution_count": 67,
   "metadata": {},
   "outputs": [],
   "source": [
    "y_train=np.concatenate((np.zeros(13742),np.ones(27737)))\n",
    "y_test=np.zeros(13741)"
   ]
  },
  {
   "cell_type": "markdown",
   "metadata": {},
   "source": [
    "# Kraska Hash Model"
   ]
  },
  {
   "cell_type": "code",
   "execution_count": 69,
   "metadata": {},
   "outputs": [],
   "source": [
    "class Kraska_Hash_BloomFilter:\n",
    "    \n",
    "    def __init__(self, size, model): #hash count is 1\n",
    "        self.size = size\n",
    "      #  self.hash_count = hash_count\n",
    "        self.bit_array = bitarray(size)\n",
    "        self.bit_array.setall(0)\n",
    "        self.model=model #classifier model associated as hash function\n",
    "        \n",
    "    def add(self, num):\n",
    "        #for seed in range(1,self.hash_count+1):\n",
    "            #result = mmh3.hash(str(num), seed) % self.size\n",
    "        result=math.floor(model.predict(num)[0]*(self.size-1))    \n",
    "        self.bit_array[result] = 1\n",
    "            \n",
    "    def lookup(self, num):\n",
    "        #for seed in range(1,self.hash_count+1):\n",
    "            #result = mmh3.hash(str(num), seed) % self.size\n",
    "        result=math.floor(self.model.predict(num)[0]*(self.size-1))    \n",
    "        if self.bit_array[result] == 0:\n",
    "                return False\n",
    "        return True\n",
    "\n",
    "    def add_init(self,x_train,y_train):\n",
    "        pred = self.model.predict(x_train)\n",
    "        for i in range(len(pred)):\n",
    "            if(y_train[i]==1):\n",
    "                result = math.floor(pred[i][0]*(self.size-1))\n",
    "                self.bit_array[result] = 1\n",
    "\n",
    "    def predict(self,x):\n",
    "        initpred = self.model.predict(x)\n",
    "        indexes = []\n",
    "        for i in range(len(initpred)):\n",
    "            indexes += [math.floor(initpred[i][0]*(self.size-1))]\n",
    "        pred = []\n",
    "        for i in indexes:\n",
    "            pred += [self.bit_array[i]]\n",
    "        return np.array(pred)\n",
    "\n",
    "#adds ratio r of an array of random integers of size n to bloom filter bf(input : bf,size,ratio; output: data array)\n",
    "def addrandom(bf,n,r):\n",
    "    data=np.empty(n,dtype=int)\n",
    "    for i in range(0,n):\n",
    "        data[i]=random.randint(0, 100000000)\n",
    "    for j in range(0,int(n*r)):\n",
    "        bf.add(data[j])\n",
    "    return data\n",
    "\n",
    "#(Input:bloom filter,number array,ratio of positives; Output:(-1) for false negative, otherwise fpr)\n",
    "def fpr_kraska_hash(bf,x_test,y_test):\n",
    "    pred = bf.predict(x_test)\n",
    "    tn, fp, fn, tp = confusion_matrix(y_test,pred,labels=[False,True]).ravel() \n",
    "    return fp/(fp+tn)\n",
    "\n",
    "#(Input:bloom filter size, total random numbers, ratio of number inserted; Output:efficient number of hash functions)\n",
    "def eff_k(m,n,r):\n",
    "    k=int(m/(int(n*r))*math.log(2))\n",
    "    if(k==0):\n",
    "        return 1\n",
    "    return k\n",
    "\n",
    "#(Input:size of bloom filter, number of hash functions, total numbers, ratio of numbers inserted; Output: fpr)\n",
    "def find_fpr(m,model,n,r):\n",
    "    bf=Kraska_Hash_BloomFilter(model,m)\n",
    "    data=addrandom(bf,n,r)\n",
    "    return fpr(bf,data,r)\n",
    "\n",
    "#(Input:size of bloom filter, total numbers, ratio of numbers inserted; Output: prints inputs and fpr)\n",
    "def outputs(m,n,r):\n",
    "    find_fpr(m,model,n,r)\n",
    "    #print(\"For m=%d, k=%d, n=%d, r=%.3f: fpr=%.3f\"%(m,k,n,r,find_fpr(m,k,n,r)))"
   ]
  },
  {
   "cell_type": "code",
   "execution_count": 70,
   "metadata": {},
   "outputs": [],
   "source": [
    "def get_data_points_Kraska(x_train,y_train,x_test,y_test,init_size,diff,num,epochs,fpr_values_kraska,size_values_kraska):\n",
    "    batch_size = len(x_train)\n",
    "    input_dim = x_train.shape[1]\n",
    "    additional_metrics = ['acc']\n",
    "    loss_function = BinaryCrossentropy()\n",
    "    optimizer = Adam()\n",
    "    verbosity_mode = 0\n",
    "    for i in range(0,num):\n",
    "        layer_size = init_size + (diff*i)\n",
    "        number_of_epochs = epochs\n",
    "        model = Sequential()\n",
    "        model.add(Dense(layer_size,input_dim=input_dim,activation='relu'))\n",
    "        model.add(Dense(1,activation='sigmoid'))\n",
    "        model.compile(optimizer=optimizer, loss=loss_function, metrics=additional_metrics)\n",
    "        history = model.fit(x_train, y_train, batch_size = batch_size, epochs=number_of_epochs, verbose=verbosity_mode)\n",
    "\n",
    "        print(\"Number of nodes: %d\" %(init_size + (diff*i)))\n",
    "        plt.plot(history.history['acc'])\n",
    "        plt.title('model accuracy')\n",
    "        plt.ylabel('accuracy')\n",
    "        plt.xlabel('epoch')\n",
    "        plt.show()\n",
    "        plt.plot(history.history['loss'])\n",
    "        plt.title('model loss')\n",
    "        plt.ylabel('loss')\n",
    "        plt.xlabel('epoch')\n",
    "        plt.show()\n",
    "\n",
    "        model_size = ((input_dim+1)*layer_size + (layer_size+1))*32\n",
    "\n",
    "        m = int(model_size/10) + 1\n",
    "        net_size = model_size + m\n",
    "\n",
    "        bf=Kraska_Hash_BloomFilter(m,model)\n",
    "        bf.add_init(x_train,y_train)\n",
    "        fpr = fpr_kraska_hash(bf,x_test,y_test)\n",
    "\n",
    "        print(\"Size: %f bits - FPR: %f \\n\\n\\n\" % (net_size,fpr))\n",
    "        fpr_values_kraska += [fpr]\n",
    "        size_values_kraska += [net_size]"
   ]
  },
  {
   "cell_type": "code",
   "execution_count": null,
   "metadata": {},
   "outputs": [],
   "source": [
    "num_of_iterations = 3 #Increase to make graph smoother\n",
    "\n",
    "fpr_values_kraska = []\n",
    "size_values_kraska = []\n",
    "\n",
    "for i in range(0,num_of_iterations):\n",
    "    print(\"~~~~~~~~ Iteration %d ~~~~~~~~ \\n\" %(i+1))\n",
    "    get_data_points_Kraska(x_train,y_train,x_test,y_test,1,1,20,3000,fpr_values_kraska,size_values_kraska)"
   ]
  },
  {
   "cell_type": "code",
   "execution_count": null,
   "metadata": {},
   "outputs": [],
   "source": [
    "sns.set(rc={'figure.figsize':(11.7,8.27)},style=\"whitegrid\")\n",
    "sns.lineplot(x=size_values_kraska, y=fpr_values_kraska, err_style=\"band\",label = \"Kraska\",linewidth = 1.5,marker=\"o\")\n",
    "plt.title('FPRs')\n",
    "plt.xlabel(\"Size\", fontsize = 15)\n",
    "plt.ylabel(\"FPR\", fontsize = 15)\n",
    "#plt.figure(figsize = (5000,5000))\n",
    "plt.show()"
   ]
  },
  {
   "cell_type": "markdown",
   "metadata": {},
   "source": [
    "# Projection Model"
   ]
  },
  {
   "cell_type": "code",
   "execution_count": null,
   "metadata": {},
   "outputs": [],
   "source": [
    "class Projection_BloomFilter:\n",
    "    def __init__(self, size, hash_count, dim):\n",
    "        vectors = np.random.normal(0,1,size=(hash_count,dim)) #random vectors(each row) from normal distribution, not unit vectors\n",
    "        i=0\n",
    "        while(i<hash_count):\n",
    "            if(vectors[i][0]<0):\n",
    "                vectors[i][0] *= -1\n",
    "               # print(\"initial v\", vectors[i])\n",
    "                #vectors[i]=np.random.normal(0,1,size=(1,dim))\n",
    "                #print(\"changed v\", vectors[i])\n",
    "            i = i+1\n",
    "       # print(vectors)        \n",
    "        self.unit_vectors = np.transpose(vectors/np.sqrt(np.transpose([np.sum(np.multiply(vectors,vectors),1)]))) #Matrix where each column is a unit vector, used as hash\n",
    "        self.size = size\n",
    "        self.hash_count = hash_count\n",
    "        self.bit_array = bitarray(size)\n",
    "        self.bit_array.setall(0)\n",
    "\n",
    "    def give_hash_values(self,X):\n",
    "        projections = np.dot(X,self.unit_vectors) #Projections of datapoints on unit vectors\n",
    "        norm_proj = 1/(1+np.exp(-projections)) #Sigmoid on each value so that they are in the range (0,1)\n",
    "        hash_values = (norm_proj*(self.size-1)).astype(int) #All values are integers in the range [0,size-1]\n",
    "        return hash_values                        #Each row contains hash values of that datapoint\n",
    "\n",
    "    def add(self,x):\n",
    "        hash_values = self.give_hash_values(x)\n",
    "        for i in hash_values:\n",
    "            self.bit_array[i] = 1\n",
    "        \n",
    "    def bulk_add(self, X):\n",
    "        hash_values = self.give_hash_values(X)\n",
    "        for i in hash_values:\n",
    "            for j in i:\n",
    "                self.bit_array[j] = 1\n",
    "            \n",
    "    def lookup(self, x):\n",
    "        hash_values = self.give_hash_values(x)\n",
    "        for i in hash_values:\n",
    "            if(self.bit_array[i]==0):\n",
    "                return False\n",
    "        return True\n",
    "\n",
    "    \n",
    "#(Input:bloom filter,normalized positive data,normalized negative data; Output:(-1) for false negative, otherwise fpr)\n",
    "def find_fpr(bf,x_pos,x_neg):\n",
    "    fp = 0\n",
    "    tn = 0\n",
    "    pos_hash_values = bf.give_hash_values(x_pos)\n",
    "    neg_hash_values = bf.give_hash_values(x_neg)\n",
    "    for i in pos_hash_values:\n",
    "        for j in i:\n",
    "            if(bf.bit_array[j]==0):\n",
    "                return -1\n",
    "    for i in neg_hash_values:\n",
    "        flag = 0\n",
    "        for j in i:\n",
    "            if(bf.bit_array[j]==0):\n",
    "                tn += 1 \n",
    "                flag = 1           \n",
    "                break\n",
    "        if(flag==0):\n",
    "            fp += 1\n",
    "    return fp/(fp+tn)\n",
    "\n",
    "def find_fpr2(bf,x_neg):\n",
    "    fp = 0\n",
    "    tn = 0\n",
    "    neg_hash_values = bf.give_hash_values(x_neg)\n",
    "    for i in neg_hash_values:\n",
    "        flag = 0\n",
    "        for j in i:\n",
    "            if(bf.bit_array[j]==0):\n",
    "                tn += 1 \n",
    "                flag = 1           \n",
    "                break\n",
    "        if(flag==0):\n",
    "            fp += 1\n",
    "    return fp/(fp+tn)"
   ]
  },
  {
   "cell_type": "code",
   "execution_count": null,
   "metadata": {},
   "outputs": [],
   "source": [
    "def get_data_points_Projection(x_train,x_test,y_train,init_size,diff,num,epochs,fpr_values,size_values):\n",
    "    input_dim = x_train.shape[1]\n",
    "    n = sum(y_train)\n",
    "    x_pos = x_train[(y_train==1).reshape(-1)]\n",
    "    print(x_pos.shape)\n",
    "    x_neg = x_train[(y_train==0).reshape(-1)]\n",
    "    for i in range(0,num):\n",
    "        m = init_size + i*diff\n",
    "        k = eff_k(m,n,1)\n",
    "        fpr = 1\n",
    "        tempbf = Projection_BloomFilter(m,k,input_dim)\n",
    "        for j in range(0,epochs):\n",
    "            bf = Projection_BloomFilter(m,k,input_dim)\n",
    "            bf.bulk_add(x_pos)\n",
    "            temp = find_fpr(bf,x_pos,x_neg)\n",
    "            if(fpr>temp):\n",
    "                fpr = temp\n",
    "                tempbf=bf\n",
    "        fpr_test=find_fpr2(tempbf,x_test)\n",
    "        print(\"Size: %d Bits - FPR: %f \\n\\n\\n\" % (m,fpr_test))\n",
    "        fpr_values += [fpr_test]\n",
    "        size_values += [m]"
   ]
  },
  {
   "cell_type": "code",
   "execution_count": null,
   "metadata": {},
   "outputs": [],
   "source": [
    "num_of_iterations = 3 #Increase to make graph smoother\n",
    "\n",
    "fpr_values = []\n",
    "size_values = []\n",
    "\n",
    "for i in range(0,num_of_iterations):\n",
    "    print(\"~~~~~~~~ Iteration %d ~~~~~~~~ \\n\" %(i+1))\n",
    "    get_data_points_Projection(x_train,x_test,y_train,5,10,200,100,fpr_values,size_values)"
   ]
  },
  {
   "cell_type": "code",
   "execution_count": null,
   "metadata": {},
   "outputs": [],
   "source": [
    "sns.set(rc={'figure.figsize':(11.7,8.27)},style=\"whitegrid\")\n",
    "sns.lineplot(x=size_values, y=fpr_values, err_style=\"band\",label = \"Projection\",linewidth = 1.5,color=\"g\")\n",
    "plt.title('FPRs')\n",
    "plt.xlabel(\"Size\", fontsize = 15)\n",
    "plt.ylabel(\"FPR\", fontsize = 15)\n",
    "#plt.figure(figsize = (5000,5000))\n",
    "plt.show()"
   ]
  },
  {
   "cell_type": "markdown",
   "metadata": {},
   "source": [
    "# Normal Bloom Filter Values"
   ]
  },
  {
   "cell_type": "code",
   "execution_count": null,
   "metadata": {},
   "outputs": [],
   "source": [
    "def ideal_fpr(m,n):\n",
    "    k = eff_k(m,n,1)\n",
    "    return (1-(1-(1/m))**(n*k))**k"
   ]
  },
  {
   "cell_type": "code",
   "execution_count": null,
   "metadata": {},
   "outputs": [],
   "source": [
    "print(sum(y_train))\n",
    "print(len(y_train))"
   ]
  },
  {
   "cell_type": "code",
   "execution_count": null,
   "metadata": {},
   "outputs": [],
   "source": [
    "n = sum(y_train)\n",
    "y_ideal=[]\n",
    "for x in size_values:\n",
    "    y_ideal+=[float(ideal_fpr(x,n))]\n",
    "print(len(y_ideal))\n",
    "print(n)"
   ]
  },
  {
   "cell_type": "code",
   "execution_count": null,
   "metadata": {},
   "outputs": [],
   "source": [
    "sns.set(rc={'figure.figsize':(11.7,8.27)},style=\"whitegrid\")\n",
    "sns.lineplot(x=size_values, y=y_ideal, err_style=\"band\",label = \"Ideal\",linewidth = 1.5,color=\"r\")\n",
    "plt.title('FPRs')\n",
    "plt.xlabel(\"Size\", fontsize = 15)\n",
    "plt.ylabel(\"FPR\", fontsize = 15)\n",
    "#plt.figure(figsize = (5000,5000))\n",
    "plt.show()"
   ]
  },
  {
   "cell_type": "markdown",
   "metadata": {},
   "source": [
    " # FPR Comparison between Projection Model and Normal Bloom Filter"
   ]
  },
  {
   "cell_type": "code",
   "execution_count": null,
   "metadata": {},
   "outputs": [],
   "source": [
    "sns.set(rc={'figure.figsize':(11.7,8.27)},style=\"whitegrid\")\n",
    "sns.lineplot(x=size_values, y=fpr_values, err_style=\"band\",label = \"Projection\",linewidth = 1.5,color=\"g\")\n",
    "sns.lineplot(x=size_values, y=y_ideal, err_style=\"band\",label = \"Ideal\",linewidth = 1.5,color=\"r\")\n",
    "plt.title('FPRs')\n",
    "plt.xlabel(\"Size\", fontsize = 15)\n",
    "plt.ylabel(\"FPR\", fontsize = 15)\n",
    "#plt.figure(figsize = (5000,5000))\n",
    "plt.show()"
   ]
  },
  {
   "cell_type": "markdown",
   "metadata": {},
   "source": [
    "# FPR Comparison between all 3 models"
   ]
  },
  {
   "cell_type": "code",
   "execution_count": null,
   "metadata": {},
   "outputs": [],
   "source": [
    "def get_data_points_Projection2(x_train,x_test,y_train,epochs,fpr_values,size_values_kraska):\n",
    "    input_dim = x_train.shape[1]\n",
    "    n = sum(y_train)\n",
    "    x_pos = x_train[(y_train==1).reshape(-1)]\n",
    "    print(x_pos.shape)\n",
    "    x_neg = x_train[(y_train==0).reshape(-1)]\n",
    "    for i in size_values_kraska:\n",
    "        m = i\n",
    "        k = eff_k(m,n,1)\n",
    "        fpr = 1\n",
    "        tempbf = Projection_BloomFilter(m,k,input_dim)\n",
    "        for j in range(0,epochs):\n",
    "            bf = Projection_BloomFilter(m,k,input_dim)\n",
    "            bf.bulk_add(x_pos)\n",
    "            temp = find_fpr(bf,x_pos,x_neg)\n",
    "            if(fpr>temp):\n",
    "                fpr = temp\n",
    "                tempbf=bf\n",
    "        fpr_test=find_fpr2(tempbf,x_test)\n",
    "        print(\"Size: %d Bits - FPR: %f \\n\\n\\n\" % (m,fpr_test))\n",
    "        fpr_values += [fpr_test]"
   ]
  },
  {
   "cell_type": "code",
   "execution_count": null,
   "metadata": {},
   "outputs": [],
   "source": [
    "# Ran only once instead of thrice as size_values_kraska already has triple length\n",
    "fpr_values_projection = []\n",
    "get_data_points_Projection2(x_train,x_test,y_train,100,fpr_values_projection,size_values_kraska)"
   ]
  },
  {
   "cell_type": "code",
   "execution_count": null,
   "metadata": {},
   "outputs": [],
   "source": [
    "n = sum(y_train)\n",
    "y_ideal_k=[]\n",
    "for x in size_values_kraska:\n",
    "    y_ideal_k+=[float(ideal_fpr(x,n))]\n",
    "print(len(y_ideal_k))\n",
    "print(n)"
   ]
  },
  {
   "cell_type": "code",
   "execution_count": null,
   "metadata": {},
   "outputs": [],
   "source": [
    "sns.set(rc={'figure.figsize':(11.7,8.27)},style=\"whitegrid\")\n",
    "sns.lineplot(x=size_values_kraska, y=fpr_values_kraska, err_style=\"band\",marker=\"o\",label = \"Kraska\",linestyle= \"--\",markersize=10)\n",
    "sns.lineplot(x=size_values_kraska, y=y_ideal_k, err_style=\"band\",marker='>',label = \"Ideal\",linestyle= \":\",markersize = 10)\n",
    "sns.lineplot(x=size_values_kraska, y=fpr_values_projection, err_style=\"band\",marker='<',label = \"Projection\",linestyle= \"-.\",markersize = 10)\n",
    "plt.title('FPRs')\n",
    "plt.xlabel(\"Size\", fontsize = 15)\n",
    "plt.ylabel(\"FPR\", fontsize = 15)\n",
    "#plt.figure(figsize = (5000,5000))\n",
    "plt.show()"
   ]
  },
  {
   "cell_type": "markdown",
   "metadata": {},
   "source": [
    "# Projection Model with only 1 Hash Function"
   ]
  },
  {
   "cell_type": "code",
   "execution_count": null,
   "metadata": {},
   "outputs": [],
   "source": [
    "def get_data_points_Projection(x_train,x_test,y_train,init_size,diff,num,epochs,fpr_values,size_values):\n",
    "    input_dim = x_train.shape[1]\n",
    "    n = sum(y_train)\n",
    "    x_pos = x_train[(y_train==1).reshape(-1)]\n",
    "    print(x_pos.shape)\n",
    "    x_neg = x_train[(y_train==0).reshape(-1)]\n",
    "    for i in range(0,num):\n",
    "        m = init_size + i*diff\n",
    "        k = 1  #Setting k as 1\n",
    "        fpr = 1\n",
    "        tempbf = Projection_BloomFilter(m,k,input_dim)\n",
    "        for j in range(0,epochs):\n",
    "            bf = Projection_BloomFilter(m,k,input_dim)\n",
    "            bf.bulk_add(x_pos)\n",
    "            temp = find_fpr(bf,x_pos,x_neg)\n",
    "            if(fpr>temp):\n",
    "                fpr = temp\n",
    "                tempbf=bf\n",
    "        fpr_test=find_fpr2(tempbf,x_test)\n",
    "        print(\"Size: %d Bits - FPR: %f \\n\\n\\n\" % (m,fpr_test))\n",
    "        fpr_values += [fpr_test]\n",
    "        size_values += [m]"
   ]
  },
  {
   "cell_type": "code",
   "execution_count": null,
   "metadata": {},
   "outputs": [],
   "source": [
    "num_of_iterations = 3 #Increase to make graph smoother\n",
    "\n",
    "fpr_values = []\n",
    "size_values = []\n",
    "\n",
    "for i in range(0,num_of_iterations):\n",
    "    print(\"~~~~~~~~ Iteration %d ~~~~~~~~ \\n\" %(i+1))\n",
    "    get_data_points_Projection(x_train,x_test,y_train,5,10,200,100,fpr_values,size_values)"
   ]
  },
  {
   "cell_type": "code",
   "execution_count": null,
   "metadata": {},
   "outputs": [],
   "source": [
    "n = sum(y_train)\n",
    "y_ideal=[]\n",
    "for x in size_values:\n",
    "    y_ideal+=[float(ideal_fpr(x,n))]\n",
    "print(len(y_ideal))\n",
    "print(n)"
   ]
  },
  {
   "cell_type": "code",
   "execution_count": null,
   "metadata": {},
   "outputs": [],
   "source": [
    "sns.set(rc={'figure.figsize':(11.7,8.27)},style=\"whitegrid\")\n",
    "sns.lineplot(x=size_values, y=fpr_values, err_style=\"band\",label = \"Projection\",linewidth = 1.5,color=\"g\")\n",
    "sns.lineplot(x=size_values, y=y_ideal, err_style=\"band\",label = \"Ideal\",linewidth = 1.5,color=\"r\")\n",
    "plt.title('FPRs')\n",
    "plt.xlabel(\"Size\", fontsize = 15)\n",
    "plt.ylabel(\"FPR\", fontsize = 15)\n",
    "#plt.figure(figsize = (5000,5000))\n",
    "plt.show()"
   ]
  },
  {
   "cell_type": "code",
   "execution_count": null,
   "metadata": {},
   "outputs": [],
   "source": []
  },
  {
   "cell_type": "code",
   "execution_count": null,
   "metadata": {},
   "outputs": [],
   "source": []
  },
  {
   "cell_type": "code",
   "execution_count": null,
   "metadata": {},
   "outputs": [],
   "source": []
  },
  {
   "cell_type": "code",
   "execution_count": null,
   "metadata": {},
   "outputs": [],
   "source": []
  },
  {
   "cell_type": "code",
   "execution_count": null,
   "metadata": {},
   "outputs": [],
   "source": []
  },
  {
   "cell_type": "code",
   "execution_count": null,
   "metadata": {},
   "outputs": [],
   "source": []
  },
  {
   "cell_type": "code",
   "execution_count": null,
   "metadata": {},
   "outputs": [],
   "source": []
  },
  {
   "cell_type": "code",
   "execution_count": null,
   "metadata": {},
   "outputs": [],
   "source": []
  },
  {
   "cell_type": "code",
   "execution_count": null,
   "metadata": {},
   "outputs": [],
   "source": []
  }
 ],
 "metadata": {
  "kernelspec": {
   "display_name": "Python 3",
   "language": "python",
   "name": "python3"
  },
  "language_info": {
   "codemirror_mode": {
    "name": "ipython",
    "version": 3
   },
   "file_extension": ".py",
   "mimetype": "text/x-python",
   "name": "python",
   "nbconvert_exporter": "python",
   "pygments_lexer": "ipython3",
   "version": "3.7.6"
  }
 },
 "nbformat": 4,
 "nbformat_minor": 4
}
