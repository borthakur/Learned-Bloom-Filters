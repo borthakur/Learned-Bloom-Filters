{
 "metadata": {
  "language_info": {
   "codemirror_mode": {
    "name": "ipython",
    "version": 3
   },
   "file_extension": ".py",
   "mimetype": "text/x-python",
   "name": "python",
   "nbconvert_exporter": "python",
   "pygments_lexer": "ipython3",
   "version": "3.7.6"
  },
  "orig_nbformat": 4,
  "kernelspec": {
   "name": "python3",
   "display_name": "Python 3.7.6 64-bit ('base': conda)"
  },
  "interpreter": {
   "hash": "bfe330a1663cffbb25ea462cfa24b2cf724478f0fc8d158d8d536bd81b025399"
  }
 },
 "nbformat": 4,
 "nbformat_minor": 2,
 "cells": [
  {
   "cell_type": "code",
   "execution_count": 1,
   "metadata": {},
   "outputs": [],
   "source": [
    "from bitarray import bitarray\n",
    "import random\n",
    "import numpy as np\n",
    "import math"
   ]
  },
  {
   "cell_type": "code",
   "execution_count": 2,
   "metadata": {},
   "outputs": [],
   "source": [
    "import tensorflow as tf\n",
    "from tensorflow.keras.layers import Dense\n",
    "from tensorflow.keras.losses import BinaryCrossentropy\n",
    "from tensorflow.keras.models import Sequential\n",
    "from tensorflow.keras.optimizers import Adam\n",
    "import tensorflow.keras.backend as K"
   ]
  },
  {
   "cell_type": "code",
   "execution_count": 3,
   "metadata": {},
   "outputs": [],
   "source": [
    "import matplotlib.pyplot as plt\n",
    "import seaborn as sns\n",
    "from sklearn.preprocessing import StandardScaler\n",
    "from sklearn.metrics import confusion_matrix"
   ]
  },
  {
   "cell_type": "code",
   "execution_count": 4,
   "metadata": {},
   "outputs": [],
   "source": [
    "import pandas as pd\n",
    "import sklearn.datasets as skds\n",
    "from sklearn.datasets import fetch_openml"
   ]
  },
  {
   "cell_type": "code",
   "execution_count": 5,
   "metadata": {},
   "outputs": [],
   "source": [
    "x, y = skds.fetch_openml(\"vehicleNorm\", return_X_y=True)"
   ]
  },
  {
   "cell_type": "code",
   "execution_count": 17,
   "metadata": {},
   "outputs": [
    {
     "output_type": "stream",
     "name": "stdout",
     "text": [
      "(98528, 100)\n(98528,)\n"
     ]
    }
   ],
   "source": [
    "print(x.shape)\n",
    "print(y.shape)"
   ]
  },
  {
   "cell_type": "code",
   "execution_count": 12,
   "metadata": {},
   "outputs": [
    {
     "output_type": "stream",
     "name": "stdout",
     "text": [
      "-1\n['1']\n"
     ]
    }
   ],
   "source": [
    "print(y[0])\n",
    "print([y[1000]])"
   ]
  },
  {
   "cell_type": "code",
   "execution_count": 13,
   "metadata": {},
   "outputs": [],
   "source": [
    "y[y==['1']] = 1\n",
    "y[y==['-1']] = 0"
   ]
  },
  {
   "cell_type": "code",
   "execution_count": 14,
   "metadata": {},
   "outputs": [
    {
     "output_type": "stream",
     "name": "stdout",
     "text": [
      "0\n[1]\n"
     ]
    }
   ],
   "source": [
    "print(y[0])\n",
    "print([y[1000]])"
   ]
  },
  {
   "cell_type": "code",
   "execution_count": 18,
   "metadata": {},
   "outputs": [
    {
     "output_type": "execute_result",
     "data": {
      "text/plain": [
       "<98528x100 sparse matrix of type '<class 'numpy.float64'>'\n",
       "\twith 9852800 stored elements in Compressed Sparse Row format>"
      ]
     },
     "metadata": {},
     "execution_count": 18
    }
   ],
   "source": [
    "x"
   ]
  },
  {
   "cell_type": "code",
   "execution_count": 19,
   "metadata": {},
   "outputs": [
    {
     "output_type": "execute_result",
     "data": {
      "text/plain": [
       "array([[ 0.67581 ,  2.5457  ,  0.144774, ..., -1.56049 , -0.400346,\n",
       "        -0.396814],\n",
       "       [ 0.032446,  0.049989, -0.015732, ..., -0.335038, -0.312752,\n",
       "        -0.338297],\n",
       "       [-0.078382, -0.068645, -0.0887  , ...,  0.344021,  0.271653,\n",
       "        -0.589291],\n",
       "       ...,\n",
       "       [-0.303516, -0.244235, -0.261544, ..., -0.283664, -0.281754,\n",
       "        -0.278929],\n",
       "       [ 0.168386,  1.464081,  0.755141, ..., -0.475031, -0.455487,\n",
       "        -0.592988],\n",
       "       [ 2.048979,  2.5457  ,  1.361916, ..., -0.374222,  0.517196,\n",
       "        -0.431849]])"
      ]
     },
     "metadata": {},
     "execution_count": 19
    }
   ],
   "source": [
    "x = x.toarray()\n",
    "x"
   ]
  },
  {
   "cell_type": "code",
   "execution_count": 20,
   "metadata": {},
   "outputs": [
    {
     "output_type": "stream",
     "name": "stdout",
     "text": [
      "[[ 0.27076886  1.91647923 -0.38236881 ... -1.29247669 -0.13316891\n  -0.13255143]\n [-0.37259841 -0.57924436 -0.54287562 ... -0.06701849 -0.04557447\n  -0.07403413]\n [-0.48342698 -0.69787896 -0.61584399 ...  0.61204395  0.53883348\n  -0.3250294 ]\n ...\n [-0.70856212 -0.87346984 -0.78868887 ... -0.01564423 -0.01457631\n  -0.01466583]\n [-0.23665772  0.83485477  0.22800129 ... -0.2070122  -0.18831019\n  -0.32872642]\n [ 1.64394484  1.91647923  0.83477936 ... -0.10620269  0.78437773\n  -0.16758661]]\n"
     ]
    }
   ],
   "source": [
    "X = StandardScaler().fit_transform(x)\n",
    "print(X)"
   ]
  },
  {
   "cell_type": "code",
   "execution_count": 21,
   "metadata": {},
   "outputs": [
    {
     "output_type": "stream",
     "name": "stdout",
     "text": [
      "98528\n49264\n49264\n"
     ]
    }
   ],
   "source": [
    "print(len(y))\n",
    "print(sum(y))\n",
    "print(len(y)-sum(y))\n",
    "# 49264 positives and 24632 negatives for train, 24632 negatives for test"
   ]
  },
  {
   "cell_type": "code",
   "execution_count": 22,
   "metadata": {},
   "outputs": [],
   "source": [
    "x_neg=X[y==0]\n",
    "x_pos=X[y==1]"
   ]
  },
  {
   "cell_type": "code",
   "execution_count": 23,
   "metadata": {},
   "outputs": [
    {
     "output_type": "stream",
     "name": "stdout",
     "text": [
      "(49264, 100)\n(49264, 100)\n"
     ]
    }
   ],
   "source": [
    "print(x_neg.shape)\n",
    "print(x_pos.shape)"
   ]
  },
  {
   "cell_type": "code",
   "execution_count": 25,
   "metadata": {},
   "outputs": [],
   "source": [
    "np.random.shuffle(x_neg)\n",
    "x_test=x_neg[0:24632]\n",
    "x_train=x_neg[24632:49264]\n",
    "x_train=np.concatenate((x_train,x_pos))"
   ]
  },
  {
   "cell_type": "code",
   "execution_count": 26,
   "metadata": {},
   "outputs": [],
   "source": [
    "y_train=np.concatenate((np.zeros(24632),np.ones(49264)))\n",
    "y_test=np.zeros(24632)"
   ]
  },
  {
   "cell_type": "code",
   "execution_count": null,
   "metadata": {},
   "outputs": [],
   "source": []
  }
 ]
}